{
 "cells": [
  {
   "cell_type": "markdown",
   "metadata": {
    "id": "J1tOS7oWba4s"
   },
   "source": [
    "# Large language models (LLMs): Part II\n",
    "\n",
    "Author: Archit Vasan , including materials on LLMs by Varuni Sastri, and discussion/editorial work by Taylor Childers, Carlo Graziani, Bethany Lusch, and Venkat Vishwanath (Argonne)\n",
    "\n",
    "Inspiration from the blog posts \"The Illustrated Transformer\" and \"The Illustrated GPT2\" by Jay Alammar, highly recommended reading.\n",
    "\n",
    "Before you begin, make sure that you have your environment set up and your repo refreshed, as described in previous lessons, and reviewed in the accompanying 'Readme.md' file. Make sure that you select the kernel 'datascience/conda-2023-01-10' at the top-left of the Jupyter notebook."
   ]
  },
  {
   "cell_type": "markdown",
   "metadata": {},
   "source": [
    "## Overview\n",
    "1. Training and inference using Hugging Face\n",
    "2. Elements of an LLM\n",
    "3. Attention mechanisms\n",
    "4. Positional encoding\n",
    "5. Output layers\n",
    "6. Training loops"
   ]
  },
  {
   "cell_type": "code",
   "execution_count": 1,
   "metadata": {},
   "outputs": [],
   "source": [
    "import os\n",
    "os.environ[\"HTTP_PROXY\"]=\"http://proxy-01.pub.alcf.anl.gov:3128\"\n",
    "os.environ[\"HTTPS_PROXY\"]=\"http://proxy-01.pub.alcf.anl.gov:3128\"\n",
    "os.environ[\"http_proxy\"]=\"http://proxy-01.pub.alcf.anl.gov:3128\"\n",
    "os.environ[\"https_proxy\"]=\"http://proxy-01.pub.alcf.anl.gov:3128\"\n",
    "os.environ[\"ftp_proxy\"]=\"http://proxy-01.pub.alcf.anl.gov:3128\" "
   ]
  },
  {
   "cell_type": "markdown",
   "metadata": {},
   "source": [
    "## LLM training and inference using HuggingFace"
   ]
  },
  {
   "cell_type": "markdown",
   "metadata": {},
   "source": [
    "<img src=\"images/hf-logo-with-title.png\" alt=\"Drawing\" style=\"width: 300px;\"/>\n",
    "HuggingFace is a platform and community that provides open-source library tools and resources like pre-trained models and datasets.\n",
    "Refer to the following links for more information :\n",
    "\n",
    "https://huggingface.co/docs/hub/index\n",
    "\n",
    "https://huggingface.co/docs/transformers/en/index"
   ]
  },
  {
   "cell_type": "markdown",
   "metadata": {},
   "source": [
    "Warning: _Large Language Models are only as good as their training data. They have no ethics, no judgement, or editing ability. We will be using some pretrained models from Hugging Face which used wide samples of internet hosted text. The datasets have not been strictly filtered to restrict all malign content so the generated text may be surprisingly dark or questionable. They do not reflect our core values and are only used for demonstration purposes._"
   ]
  },
  {
   "cell_type": "markdown",
   "metadata": {},
   "source": [
    "### Inference\n",
    "\n",
    "We can use the Huggingface pipeline with a pretrained GPT2 model to generate text given a prompt."
   ]
  },
  {
   "cell_type": "code",
   "execution_count": 2,
   "metadata": {
    "scrolled": true
   },
   "outputs": [
    {
     "name": "stderr",
     "output_type": "stream",
     "text": [
      "/soft/datascience/conda/2023-10-04/mconda3/lib/python3.10/site-packages/h5py/__init__.py:36: UserWarning: h5py is running against HDF5 1.12.2 when it was built against 1.12.1, this may cause problems\n",
      "  _warn((\"h5py is running against HDF5 {0} when it was built against {1}, \"\n"
     ]
    },
    {
     "data": {
      "application/vnd.jupyter.widget-view+json": {
       "model_id": "32cbb0707b394699ba8551ce202a7f8b",
       "version_major": 2,
       "version_minor": 0
      },
      "text/plain": [
       "Downloading config.json:   0%|          | 0.00/665 [00:00<?, ?B/s]"
      ]
     },
     "metadata": {},
     "output_type": "display_data"
    },
    {
     "data": {
      "application/vnd.jupyter.widget-view+json": {
       "model_id": "ca554b0c969b461e91ce5f4c45fe95c4",
       "version_major": 2,
       "version_minor": 0
      },
      "text/plain": [
       "Downloading model.safetensors:   0%|          | 0.00/548M [00:00<?, ?B/s]"
      ]
     },
     "metadata": {},
     "output_type": "display_data"
    },
    {
     "data": {
      "application/vnd.jupyter.widget-view+json": {
       "model_id": "12c0b73531664694840f8df9b0752392",
       "version_major": 2,
       "version_minor": 0
      },
      "text/plain": [
       "Downloading generation_config.json:   0%|          | 0.00/124 [00:00<?, ?B/s]"
      ]
     },
     "metadata": {},
     "output_type": "display_data"
    },
    {
     "data": {
      "application/vnd.jupyter.widget-view+json": {
       "model_id": "0c85115d9900438496ce7b57c710ead7",
       "version_major": 2,
       "version_minor": 0
      },
      "text/plain": [
       "Downloading tokenizer_config.json:   0%|          | 0.00/26.0 [00:00<?, ?B/s]"
      ]
     },
     "metadata": {},
     "output_type": "display_data"
    },
    {
     "data": {
      "application/vnd.jupyter.widget-view+json": {
       "model_id": "e814303dfb7d42c4b928450ef2ac3dfa",
       "version_major": 2,
       "version_minor": 0
      },
      "text/plain": [
       "Downloading vocab.json:   0%|          | 0.00/1.04M [00:00<?, ?B/s]"
      ]
     },
     "metadata": {},
     "output_type": "display_data"
    },
    {
     "data": {
      "application/vnd.jupyter.widget-view+json": {
       "model_id": "9cd6ac3e53614363af619397d96c5d02",
       "version_major": 2,
       "version_minor": 0
      },
      "text/plain": [
       "Downloading merges.txt:   0%|          | 0.00/456k [00:00<?, ?B/s]"
      ]
     },
     "metadata": {},
     "output_type": "display_data"
    },
    {
     "data": {
      "application/vnd.jupyter.widget-view+json": {
       "model_id": "8ee0e2321fb64dd683da14a48945071a",
       "version_major": 2,
       "version_minor": 0
      },
      "text/plain": [
       "Downloading tokenizer.json:   0%|          | 0.00/1.36M [00:00<?, ?B/s]"
      ]
     },
     "metadata": {},
     "output_type": "display_data"
    },
    {
     "name": "stderr",
     "output_type": "stream",
     "text": [
      "Setting `pad_token_id` to `eos_token_id`:50256 for open-end generation.\n"
     ]
    },
    {
     "data": {
      "text/plain": [
       "[{'generated_text': \"My dog really wanted to see what I could get her into, something we wanted. She's very\"},\n",
       " {'generated_text': 'My dog really wanted to get in his van and walk us the entire length of the city, but'},\n",
       " {'generated_text': 'My dog really wanted to be with me. She loves coming home to me when she gets home alone'},\n",
       " {'generated_text': 'My dog really wanted to go home. So she had to stay at the vet and help us come'},\n",
       " {'generated_text': 'My dog really wanted to know more about my little guy,\" said Pizzolatto, 29.'}]"
      ]
     },
     "execution_count": 2,
     "metadata": {},
     "output_type": "execute_result"
    }
   ],
   "source": [
    "from transformers import AutoTokenizer,AutoModelForCausalLM, AutoConfig\n",
    "input_text = \"My dog really wanted to\"\n",
    "from transformers import pipeline\n",
    "generator = pipeline(\"text-generation\", model=\"openai-community/gpt2\")\n",
    "generator(input_text, max_length=20, num_return_sequences=5)"
   ]
  },
  {
   "cell_type": "markdown",
   "metadata": {},
   "source": [
    "We will cover  evaluation metrics,as well as safe and responsibilities practices when using LLMs in **Session 8**."
   ]
  },
  {
   "cell_type": "markdown",
   "metadata": {},
   "source": [
    "### Training"
   ]
  },
  {
   "cell_type": "markdown",
   "metadata": {},
   "source": [
    "We can also load in our own dataset and train a model with this data as follows:"
   ]
  },
  {
   "cell_type": "code",
   "execution_count": 3,
   "metadata": {
    "scrolled": true
   },
   "outputs": [
    {
     "name": "stderr",
     "output_type": "stream",
     "text": [
      "huggingface/tokenizers: The current process just got forked, after parallelism has already been used. Disabling parallelism to avoid deadlocks...\n",
      "To disable this warning, you can either:\n",
      "\t- Avoid using `tokenizers` before the fork if possible\n",
      "\t- Explicitly set the environment variable TOKENIZERS_PARALLELISM=(true | false)\n"
     ]
    },
    {
     "name": "stdout",
     "output_type": "stream",
     "text": [
      "Defaulting to user installation because normal site-packages is not writeable\n",
      "Requirement already satisfied: accelerate in /soft/datascience/conda/2023-10-04/mconda3/lib/python3.10/site-packages (0.23.0)\n",
      "Collecting accelerate\n",
      "  Obtaining dependency information for accelerate from https://files.pythonhosted.org/packages/a0/11/9bfcf765e71a2c84bbf715719ba520aeacb2ad84113f14803ff1947ddf69/accelerate-0.28.0-py3-none-any.whl.metadata\n",
      "  Downloading accelerate-0.28.0-py3-none-any.whl.metadata (18 kB)\n",
      "Requirement already satisfied: numpy>=1.17 in /soft/datascience/conda/2023-10-04/mconda3/lib/python3.10/site-packages (from accelerate) (1.24.3)\n",
      "Requirement already satisfied: packaging>=20.0 in /soft/datascience/conda/2023-10-04/mconda3/lib/python3.10/site-packages (from accelerate) (23.2)\n",
      "Requirement already satisfied: psutil in /soft/datascience/conda/2023-10-04/mconda3/lib/python3.10/site-packages (from accelerate) (5.9.5)\n",
      "Requirement already satisfied: pyyaml in /soft/datascience/conda/2023-10-04/mconda3/lib/python3.10/site-packages (from accelerate) (6.0.1)\n",
      "Requirement already satisfied: torch>=1.10.0 in /soft/datascience/conda/2023-10-04/mconda3/lib/python3.10/site-packages (from accelerate) (2.0.1)\n",
      "Requirement already satisfied: huggingface-hub in /soft/datascience/conda/2023-10-04/mconda3/lib/python3.10/site-packages (from accelerate) (0.16.4)\n",
      "Requirement already satisfied: safetensors>=0.3.1 in /soft/datascience/conda/2023-10-04/mconda3/lib/python3.10/site-packages (from accelerate) (0.3.3)\n",
      "Requirement already satisfied: filelock in /soft/datascience/conda/2023-10-04/mconda3/lib/python3.10/site-packages (from torch>=1.10.0->accelerate) (3.9.0)\n",
      "Requirement already satisfied: typing-extensions in /soft/datascience/conda/2023-10-04/mconda3/lib/python3.10/site-packages (from torch>=1.10.0->accelerate) (4.5.0)\n",
      "Requirement already satisfied: sympy in /soft/datascience/conda/2023-10-04/mconda3/lib/python3.10/site-packages (from torch>=1.10.0->accelerate) (1.12)\n",
      "Requirement already satisfied: networkx in /soft/datascience/conda/2023-10-04/mconda3/lib/python3.10/site-packages (from torch>=1.10.0->accelerate) (3.1)\n",
      "Requirement already satisfied: jinja2 in /soft/datascience/conda/2023-10-04/mconda3/lib/python3.10/site-packages (from torch>=1.10.0->accelerate) (3.0.3)\n",
      "Requirement already satisfied: fsspec in /soft/datascience/conda/2023-10-04/mconda3/lib/python3.10/site-packages (from huggingface-hub->accelerate) (2023.6.0)\n",
      "Requirement already satisfied: requests in /soft/datascience/conda/2023-10-04/mconda3/lib/python3.10/site-packages (from huggingface-hub->accelerate) (2.31.0)\n",
      "Requirement already satisfied: tqdm>=4.42.1 in /soft/datascience/conda/2023-10-04/mconda3/lib/python3.10/site-packages (from huggingface-hub->accelerate) (4.65.0)\n",
      "Requirement already satisfied: MarkupSafe>=2.0 in /soft/datascience/conda/2023-10-04/mconda3/lib/python3.10/site-packages (from jinja2->torch>=1.10.0->accelerate) (2.1.1)\n",
      "Requirement already satisfied: charset-normalizer<4,>=2 in /soft/datascience/conda/2023-10-04/mconda3/lib/python3.10/site-packages (from requests->huggingface-hub->accelerate) (2.0.4)\n",
      "Requirement already satisfied: idna<4,>=2.5 in /soft/datascience/conda/2023-10-04/mconda3/lib/python3.10/site-packages (from requests->huggingface-hub->accelerate) (3.4)\n",
      "Requirement already satisfied: urllib3<3,>=1.21.1 in /soft/datascience/conda/2023-10-04/mconda3/lib/python3.10/site-packages (from requests->huggingface-hub->accelerate) (1.26.16)\n",
      "Requirement already satisfied: certifi>=2017.4.17 in /soft/datascience/conda/2023-10-04/mconda3/lib/python3.10/site-packages (from requests->huggingface-hub->accelerate) (2023.7.22)\n",
      "Requirement already satisfied: mpmath>=0.19 in /soft/datascience/conda/2023-10-04/mconda3/lib/python3.10/site-packages (from sympy->torch>=1.10.0->accelerate) (1.3.0)\n",
      "Downloading accelerate-0.28.0-py3-none-any.whl (290 kB)\n",
      "\u001b[2K   \u001b[90m━━━━━━━━━━━━━━━━━━━━━━━━━━━━━━━━━━━━━━━━\u001b[0m \u001b[32m290.1/290.1 kB\u001b[0m \u001b[31m3.4 MB/s\u001b[0m eta \u001b[36m0:00:00\u001b[0ma \u001b[36m0:00:01\u001b[0m\n",
      "\u001b[?25hInstalling collected packages: accelerate\n",
      "\u001b[33m  WARNING: The scripts accelerate, accelerate-config, accelerate-estimate-memory and accelerate-launch are installed in '/home/iklein/.local/bin' which is not on PATH.\n",
      "  Consider adding this directory to PATH or, if you prefer to suppress this warning, use --no-warn-script-location.\u001b[0m\u001b[33m\n",
      "\u001b[0mSuccessfully installed accelerate-0.28.0\n"
     ]
    }
   ],
   "source": [
    "!pip install accelerate -U"
   ]
  },
  {
   "cell_type": "code",
   "execution_count": 4,
   "metadata": {},
   "outputs": [],
   "source": [
    "from transformers import TextDataset,DataCollatorForLanguageModeling\n",
    "\n",
    "def load_dataset(train_path,test_path,tokenizer):\n",
    "    train_dataset = TextDataset(\n",
    "          tokenizer=tokenizer,\n",
    "          file_path=train_path,\n",
    "          block_size=128) \n",
    "    test_dataset = TextDataset(\n",
    "          tokenizer=tokenizer,\n",
    "          file_path=test_path,\n",
    "          block_size=128)   \n",
    "    data_collator = DataCollatorForLanguageModeling(\n",
    "        tokenizer=tokenizer, mlm=False,\n",
    "    )\n",
    "    return train_dataset,test_dataset,data_collator"
   ]
  },
  {
   "cell_type": "code",
   "execution_count": 5,
   "metadata": {},
   "outputs": [
    {
     "name": "stderr",
     "output_type": "stream",
     "text": [
      "/soft/datascience/conda/2023-10-04/mconda3/lib/python3.10/site-packages/transformers/data/datasets/language_modeling.py:53: FutureWarning: This dataset will be removed from the library soon, preprocessing should be handled with the 🤗 Datasets library. You can have a look at this example script for pointers: https://github.com/huggingface/transformers/blob/main/examples/pytorch/language-modeling/run_mlm.py\n",
      "  warnings.warn(\n",
      "Token indices sequence length is longer than the specified maximum sequence length for this model (272065 > 1024). Running this sequence through the model will result in indexing errors\n"
     ]
    }
   ],
   "source": [
    "from transformers import AutoTokenizer,AutoModelForCausalLM\n",
    "\n",
    "tokenizer = AutoTokenizer.from_pretrained(\"openai-community/gpt2\")\n",
    "model = AutoModelForCausalLM.from_pretrained(\"openai-community/gpt2\")\n",
    "\n",
    "train_dataset,test_dataset,data_collator = load_dataset('dataset/train_input.txt','dataset/test_input.txt', tokenizer)\n",
    "\n",
    "from transformers import Trainer, TrainingArguments\n",
    "\n",
    "training_args = TrainingArguments(\n",
    "    output_dir=\"./gpt2\", #The output directory\n",
    "    overwrite_output_dir=True, #overwrite the content of the output directory\n",
    "    num_train_epochs=3, # number of training epochs\n",
    "    per_device_train_batch_size=32, # batch size for training\n",
    "    per_device_eval_batch_size=64,  # batch size for evaluation\n",
    "    eval_steps = 40, # Number of update steps between two evaluations.\n",
    "    save_steps=80, # after # steps model is saved \n",
    "    warmup_steps=50,# number of warmup steps for learning rate scheduler\n",
    "    prediction_loss_only=True,\n",
    "    )\n",
    "\n",
    "trainer = Trainer(\n",
    "    model=model,\n",
    "    args=training_args,\n",
    "    data_collator=data_collator,\n",
    "    train_dataset=train_dataset,\n",
    "    eval_dataset=test_dataset,\n",
    ")"
   ]
  },
  {
   "cell_type": "markdown",
   "metadata": {},
   "source": [
    "## What is going on below the hood?"
   ]
  },
  {
   "cell_type": "markdown",
   "metadata": {},
   "source": [
    "There are two components that are \"black-boxes\" here:\n",
    "1. The method for tokenization\n",
    "2. The model that generates novel text.\n",
    "\n",
    "Carlo Graziani already gave a great explanation of tokenization last week and how this affects embeddings (https://github.com/argonne-lcf/ai-science-training-series/blob/main/04_intro_to_llms/Sequential_Data_Models.ipynb)"
   ]
  },
  {
   "cell_type": "markdown",
   "metadata": {},
   "source": [
    "Today we will take a closer look at how the model is designed to deal with language."
   ]
  },
  {
   "cell_type": "markdown",
   "metadata": {},
   "source": [
    "Let's look inside GPT2! GPT2 incorporates the `GPT2LMHeadModel` architecture so let's inspect this more closely."
   ]
  },
  {
   "cell_type": "code",
   "execution_count": 6,
   "metadata": {
    "scrolled": true
   },
   "outputs": [
    {
     "ename": "OSError",
     "evalue": "gpt2 does not appear to have a file named config.json. Checkout 'https://huggingface.co/gpt2/main' for available files.",
     "output_type": "error",
     "traceback": [
      "\u001b[0;31m---------------------------------------------------------------------------\u001b[0m",
      "\u001b[0;31mOSError\u001b[0m                                   Traceback (most recent call last)",
      "Cell \u001b[0;32mIn[6], line 2\u001b[0m\n\u001b[1;32m      1\u001b[0m \u001b[38;5;28;01mfrom\u001b[39;00m \u001b[38;5;21;01mtransformers\u001b[39;00m \u001b[38;5;28;01mimport\u001b[39;00m GPT2Tokenizer, GPT2LMHeadModel\n\u001b[0;32m----> 2\u001b[0m model \u001b[38;5;241m=\u001b[39m \u001b[43mGPT2LMHeadModel\u001b[49m\u001b[38;5;241;43m.\u001b[39;49m\u001b[43mfrom_pretrained\u001b[49m\u001b[43m(\u001b[49m\u001b[38;5;124;43m'\u001b[39;49m\u001b[38;5;124;43mgpt2\u001b[39;49m\u001b[38;5;124;43m'\u001b[39;49m\u001b[43m)\u001b[49m\n\u001b[1;32m      3\u001b[0m \u001b[38;5;28mprint\u001b[39m(model)\n",
      "File \u001b[0;32m/soft/datascience/conda/2023-10-04/mconda3/lib/python3.10/site-packages/transformers/modeling_utils.py:2662\u001b[0m, in \u001b[0;36mPreTrainedModel.from_pretrained\u001b[0;34m(cls, pretrained_model_name_or_path, config, cache_dir, ignore_mismatched_sizes, force_download, local_files_only, token, revision, use_safetensors, *model_args, **kwargs)\u001b[0m\n\u001b[1;32m   2660\u001b[0m \u001b[38;5;28;01mif\u001b[39;00m \u001b[38;5;129;01mnot\u001b[39;00m \u001b[38;5;28misinstance\u001b[39m(config, PretrainedConfig):\n\u001b[1;32m   2661\u001b[0m     config_path \u001b[38;5;241m=\u001b[39m config \u001b[38;5;28;01mif\u001b[39;00m config \u001b[38;5;129;01mis\u001b[39;00m \u001b[38;5;129;01mnot\u001b[39;00m \u001b[38;5;28;01mNone\u001b[39;00m \u001b[38;5;28;01melse\u001b[39;00m pretrained_model_name_or_path\n\u001b[0;32m-> 2662\u001b[0m     config, model_kwargs \u001b[38;5;241m=\u001b[39m \u001b[38;5;28;43mcls\u001b[39;49m\u001b[38;5;241;43m.\u001b[39;49m\u001b[43mconfig_class\u001b[49m\u001b[38;5;241;43m.\u001b[39;49m\u001b[43mfrom_pretrained\u001b[49m\u001b[43m(\u001b[49m\n\u001b[1;32m   2663\u001b[0m \u001b[43m        \u001b[49m\u001b[43mconfig_path\u001b[49m\u001b[43m,\u001b[49m\n\u001b[1;32m   2664\u001b[0m \u001b[43m        \u001b[49m\u001b[43mcache_dir\u001b[49m\u001b[38;5;241;43m=\u001b[39;49m\u001b[43mcache_dir\u001b[49m\u001b[43m,\u001b[49m\n\u001b[1;32m   2665\u001b[0m \u001b[43m        \u001b[49m\u001b[43mreturn_unused_kwargs\u001b[49m\u001b[38;5;241;43m=\u001b[39;49m\u001b[38;5;28;43;01mTrue\u001b[39;49;00m\u001b[43m,\u001b[49m\n\u001b[1;32m   2666\u001b[0m \u001b[43m        \u001b[49m\u001b[43mforce_download\u001b[49m\u001b[38;5;241;43m=\u001b[39;49m\u001b[43mforce_download\u001b[49m\u001b[43m,\u001b[49m\n\u001b[1;32m   2667\u001b[0m \u001b[43m        \u001b[49m\u001b[43mresume_download\u001b[49m\u001b[38;5;241;43m=\u001b[39;49m\u001b[43mresume_download\u001b[49m\u001b[43m,\u001b[49m\n\u001b[1;32m   2668\u001b[0m \u001b[43m        \u001b[49m\u001b[43mproxies\u001b[49m\u001b[38;5;241;43m=\u001b[39;49m\u001b[43mproxies\u001b[49m\u001b[43m,\u001b[49m\n\u001b[1;32m   2669\u001b[0m \u001b[43m        \u001b[49m\u001b[43mlocal_files_only\u001b[49m\u001b[38;5;241;43m=\u001b[39;49m\u001b[43mlocal_files_only\u001b[49m\u001b[43m,\u001b[49m\n\u001b[1;32m   2670\u001b[0m \u001b[43m        \u001b[49m\u001b[43mtoken\u001b[49m\u001b[38;5;241;43m=\u001b[39;49m\u001b[43mtoken\u001b[49m\u001b[43m,\u001b[49m\n\u001b[1;32m   2671\u001b[0m \u001b[43m        \u001b[49m\u001b[43mrevision\u001b[49m\u001b[38;5;241;43m=\u001b[39;49m\u001b[43mrevision\u001b[49m\u001b[43m,\u001b[49m\n\u001b[1;32m   2672\u001b[0m \u001b[43m        \u001b[49m\u001b[43msubfolder\u001b[49m\u001b[38;5;241;43m=\u001b[39;49m\u001b[43msubfolder\u001b[49m\u001b[43m,\u001b[49m\n\u001b[1;32m   2673\u001b[0m \u001b[43m        \u001b[49m\u001b[43m_from_auto\u001b[49m\u001b[38;5;241;43m=\u001b[39;49m\u001b[43mfrom_auto_class\u001b[49m\u001b[43m,\u001b[49m\n\u001b[1;32m   2674\u001b[0m \u001b[43m        \u001b[49m\u001b[43m_from_pipeline\u001b[49m\u001b[38;5;241;43m=\u001b[39;49m\u001b[43mfrom_pipeline\u001b[49m\u001b[43m,\u001b[49m\n\u001b[1;32m   2675\u001b[0m \u001b[43m        \u001b[49m\u001b[38;5;241;43m*\u001b[39;49m\u001b[38;5;241;43m*\u001b[39;49m\u001b[43mkwargs\u001b[49m\u001b[43m,\u001b[49m\n\u001b[1;32m   2676\u001b[0m \u001b[43m    \u001b[49m\u001b[43m)\u001b[49m\n\u001b[1;32m   2677\u001b[0m \u001b[38;5;28;01melse\u001b[39;00m:\n\u001b[1;32m   2678\u001b[0m     model_kwargs \u001b[38;5;241m=\u001b[39m kwargs\n",
      "File \u001b[0;32m/soft/datascience/conda/2023-10-04/mconda3/lib/python3.10/site-packages/transformers/configuration_utils.py:591\u001b[0m, in \u001b[0;36mPretrainedConfig.from_pretrained\u001b[0;34m(cls, pretrained_model_name_or_path, cache_dir, force_download, local_files_only, token, revision, **kwargs)\u001b[0m\n\u001b[1;32m    587\u001b[0m kwargs[\u001b[38;5;124m\"\u001b[39m\u001b[38;5;124mrevision\u001b[39m\u001b[38;5;124m\"\u001b[39m] \u001b[38;5;241m=\u001b[39m revision\n\u001b[1;32m    589\u001b[0m \u001b[38;5;28mcls\u001b[39m\u001b[38;5;241m.\u001b[39m_set_token_in_kwargs(kwargs, token)\n\u001b[0;32m--> 591\u001b[0m config_dict, kwargs \u001b[38;5;241m=\u001b[39m \u001b[38;5;28;43mcls\u001b[39;49m\u001b[38;5;241;43m.\u001b[39;49m\u001b[43mget_config_dict\u001b[49m\u001b[43m(\u001b[49m\u001b[43mpretrained_model_name_or_path\u001b[49m\u001b[43m,\u001b[49m\u001b[43m \u001b[49m\u001b[38;5;241;43m*\u001b[39;49m\u001b[38;5;241;43m*\u001b[39;49m\u001b[43mkwargs\u001b[49m\u001b[43m)\u001b[49m\n\u001b[1;32m    592\u001b[0m \u001b[38;5;28;01mif\u001b[39;00m \u001b[38;5;124m\"\u001b[39m\u001b[38;5;124mmodel_type\u001b[39m\u001b[38;5;124m\"\u001b[39m \u001b[38;5;129;01min\u001b[39;00m config_dict \u001b[38;5;129;01mand\u001b[39;00m \u001b[38;5;28mhasattr\u001b[39m(\u001b[38;5;28mcls\u001b[39m, \u001b[38;5;124m\"\u001b[39m\u001b[38;5;124mmodel_type\u001b[39m\u001b[38;5;124m\"\u001b[39m) \u001b[38;5;129;01mand\u001b[39;00m config_dict[\u001b[38;5;124m\"\u001b[39m\u001b[38;5;124mmodel_type\u001b[39m\u001b[38;5;124m\"\u001b[39m] \u001b[38;5;241m!=\u001b[39m \u001b[38;5;28mcls\u001b[39m\u001b[38;5;241m.\u001b[39mmodel_type:\n\u001b[1;32m    593\u001b[0m     logger\u001b[38;5;241m.\u001b[39mwarning(\n\u001b[1;32m    594\u001b[0m         \u001b[38;5;124mf\u001b[39m\u001b[38;5;124m\"\u001b[39m\u001b[38;5;124mYou are using a model of type \u001b[39m\u001b[38;5;132;01m{\u001b[39;00mconfig_dict[\u001b[38;5;124m'\u001b[39m\u001b[38;5;124mmodel_type\u001b[39m\u001b[38;5;124m'\u001b[39m]\u001b[38;5;132;01m}\u001b[39;00m\u001b[38;5;124m to instantiate a model of type \u001b[39m\u001b[38;5;124m\"\u001b[39m\n\u001b[1;32m    595\u001b[0m         \u001b[38;5;124mf\u001b[39m\u001b[38;5;124m\"\u001b[39m\u001b[38;5;132;01m{\u001b[39;00m\u001b[38;5;28mcls\u001b[39m\u001b[38;5;241m.\u001b[39mmodel_type\u001b[38;5;132;01m}\u001b[39;00m\u001b[38;5;124m. This is not supported for all configurations of models and can yield errors.\u001b[39m\u001b[38;5;124m\"\u001b[39m\n\u001b[1;32m    596\u001b[0m     )\n",
      "File \u001b[0;32m/soft/datascience/conda/2023-10-04/mconda3/lib/python3.10/site-packages/transformers/configuration_utils.py:620\u001b[0m, in \u001b[0;36mPretrainedConfig.get_config_dict\u001b[0;34m(cls, pretrained_model_name_or_path, **kwargs)\u001b[0m\n\u001b[1;32m    618\u001b[0m original_kwargs \u001b[38;5;241m=\u001b[39m copy\u001b[38;5;241m.\u001b[39mdeepcopy(kwargs)\n\u001b[1;32m    619\u001b[0m \u001b[38;5;66;03m# Get config dict associated with the base config file\u001b[39;00m\n\u001b[0;32m--> 620\u001b[0m config_dict, kwargs \u001b[38;5;241m=\u001b[39m \u001b[38;5;28;43mcls\u001b[39;49m\u001b[38;5;241;43m.\u001b[39;49m\u001b[43m_get_config_dict\u001b[49m\u001b[43m(\u001b[49m\u001b[43mpretrained_model_name_or_path\u001b[49m\u001b[43m,\u001b[49m\u001b[43m \u001b[49m\u001b[38;5;241;43m*\u001b[39;49m\u001b[38;5;241;43m*\u001b[39;49m\u001b[43mkwargs\u001b[49m\u001b[43m)\u001b[49m\n\u001b[1;32m    621\u001b[0m \u001b[38;5;28;01mif\u001b[39;00m \u001b[38;5;124m\"\u001b[39m\u001b[38;5;124m_commit_hash\u001b[39m\u001b[38;5;124m\"\u001b[39m \u001b[38;5;129;01min\u001b[39;00m config_dict:\n\u001b[1;32m    622\u001b[0m     original_kwargs[\u001b[38;5;124m\"\u001b[39m\u001b[38;5;124m_commit_hash\u001b[39m\u001b[38;5;124m\"\u001b[39m] \u001b[38;5;241m=\u001b[39m config_dict[\u001b[38;5;124m\"\u001b[39m\u001b[38;5;124m_commit_hash\u001b[39m\u001b[38;5;124m\"\u001b[39m]\n",
      "File \u001b[0;32m/soft/datascience/conda/2023-10-04/mconda3/lib/python3.10/site-packages/transformers/configuration_utils.py:675\u001b[0m, in \u001b[0;36mPretrainedConfig._get_config_dict\u001b[0;34m(cls, pretrained_model_name_or_path, **kwargs)\u001b[0m\n\u001b[1;32m    671\u001b[0m configuration_file \u001b[38;5;241m=\u001b[39m kwargs\u001b[38;5;241m.\u001b[39mpop(\u001b[38;5;124m\"\u001b[39m\u001b[38;5;124m_configuration_file\u001b[39m\u001b[38;5;124m\"\u001b[39m, CONFIG_NAME)\n\u001b[1;32m    673\u001b[0m \u001b[38;5;28;01mtry\u001b[39;00m:\n\u001b[1;32m    674\u001b[0m     \u001b[38;5;66;03m# Load from local folder or from cache or download from model Hub and cache\u001b[39;00m\n\u001b[0;32m--> 675\u001b[0m     resolved_config_file \u001b[38;5;241m=\u001b[39m \u001b[43mcached_file\u001b[49m\u001b[43m(\u001b[49m\n\u001b[1;32m    676\u001b[0m \u001b[43m        \u001b[49m\u001b[43mpretrained_model_name_or_path\u001b[49m\u001b[43m,\u001b[49m\n\u001b[1;32m    677\u001b[0m \u001b[43m        \u001b[49m\u001b[43mconfiguration_file\u001b[49m\u001b[43m,\u001b[49m\n\u001b[1;32m    678\u001b[0m \u001b[43m        \u001b[49m\u001b[43mcache_dir\u001b[49m\u001b[38;5;241;43m=\u001b[39;49m\u001b[43mcache_dir\u001b[49m\u001b[43m,\u001b[49m\n\u001b[1;32m    679\u001b[0m \u001b[43m        \u001b[49m\u001b[43mforce_download\u001b[49m\u001b[38;5;241;43m=\u001b[39;49m\u001b[43mforce_download\u001b[49m\u001b[43m,\u001b[49m\n\u001b[1;32m    680\u001b[0m \u001b[43m        \u001b[49m\u001b[43mproxies\u001b[49m\u001b[38;5;241;43m=\u001b[39;49m\u001b[43mproxies\u001b[49m\u001b[43m,\u001b[49m\n\u001b[1;32m    681\u001b[0m \u001b[43m        \u001b[49m\u001b[43mresume_download\u001b[49m\u001b[38;5;241;43m=\u001b[39;49m\u001b[43mresume_download\u001b[49m\u001b[43m,\u001b[49m\n\u001b[1;32m    682\u001b[0m \u001b[43m        \u001b[49m\u001b[43mlocal_files_only\u001b[49m\u001b[38;5;241;43m=\u001b[39;49m\u001b[43mlocal_files_only\u001b[49m\u001b[43m,\u001b[49m\n\u001b[1;32m    683\u001b[0m \u001b[43m        \u001b[49m\u001b[43mtoken\u001b[49m\u001b[38;5;241;43m=\u001b[39;49m\u001b[43mtoken\u001b[49m\u001b[43m,\u001b[49m\n\u001b[1;32m    684\u001b[0m \u001b[43m        \u001b[49m\u001b[43muser_agent\u001b[49m\u001b[38;5;241;43m=\u001b[39;49m\u001b[43muser_agent\u001b[49m\u001b[43m,\u001b[49m\n\u001b[1;32m    685\u001b[0m \u001b[43m        \u001b[49m\u001b[43mrevision\u001b[49m\u001b[38;5;241;43m=\u001b[39;49m\u001b[43mrevision\u001b[49m\u001b[43m,\u001b[49m\n\u001b[1;32m    686\u001b[0m \u001b[43m        \u001b[49m\u001b[43msubfolder\u001b[49m\u001b[38;5;241;43m=\u001b[39;49m\u001b[43msubfolder\u001b[49m\u001b[43m,\u001b[49m\n\u001b[1;32m    687\u001b[0m \u001b[43m        \u001b[49m\u001b[43m_commit_hash\u001b[49m\u001b[38;5;241;43m=\u001b[39;49m\u001b[43mcommit_hash\u001b[49m\u001b[43m,\u001b[49m\n\u001b[1;32m    688\u001b[0m \u001b[43m    \u001b[49m\u001b[43m)\u001b[49m\n\u001b[1;32m    689\u001b[0m     commit_hash \u001b[38;5;241m=\u001b[39m extract_commit_hash(resolved_config_file, commit_hash)\n\u001b[1;32m    690\u001b[0m \u001b[38;5;28;01mexcept\u001b[39;00m \u001b[38;5;167;01mEnvironmentError\u001b[39;00m:\n\u001b[1;32m    691\u001b[0m     \u001b[38;5;66;03m# Raise any environment error raise by `cached_file`. It will have a helpful error message adapted to\u001b[39;00m\n\u001b[1;32m    692\u001b[0m     \u001b[38;5;66;03m# the original exception.\u001b[39;00m\n",
      "File \u001b[0;32m/soft/datascience/conda/2023-10-04/mconda3/lib/python3.10/site-packages/transformers/utils/hub.py:400\u001b[0m, in \u001b[0;36mcached_file\u001b[0;34m(path_or_repo_id, filename, cache_dir, force_download, resume_download, proxies, token, revision, local_files_only, subfolder, repo_type, user_agent, _raise_exceptions_for_missing_entries, _raise_exceptions_for_connection_errors, _commit_hash, **deprecated_kwargs)\u001b[0m\n\u001b[1;32m    398\u001b[0m \u001b[38;5;28;01mif\u001b[39;00m \u001b[38;5;129;01mnot\u001b[39;00m os\u001b[38;5;241m.\u001b[39mpath\u001b[38;5;241m.\u001b[39misfile(resolved_file):\n\u001b[1;32m    399\u001b[0m     \u001b[38;5;28;01mif\u001b[39;00m _raise_exceptions_for_missing_entries:\n\u001b[0;32m--> 400\u001b[0m         \u001b[38;5;28;01mraise\u001b[39;00m \u001b[38;5;167;01mEnvironmentError\u001b[39;00m(\n\u001b[1;32m    401\u001b[0m             \u001b[38;5;124mf\u001b[39m\u001b[38;5;124m\"\u001b[39m\u001b[38;5;132;01m{\u001b[39;00mpath_or_repo_id\u001b[38;5;132;01m}\u001b[39;00m\u001b[38;5;124m does not appear to have a file named \u001b[39m\u001b[38;5;132;01m{\u001b[39;00mfull_filename\u001b[38;5;132;01m}\u001b[39;00m\u001b[38;5;124m. Checkout \u001b[39m\u001b[38;5;124m\"\u001b[39m\n\u001b[1;32m    402\u001b[0m             \u001b[38;5;124mf\u001b[39m\u001b[38;5;124m\"\u001b[39m\u001b[38;5;124m'\u001b[39m\u001b[38;5;124mhttps://huggingface.co/\u001b[39m\u001b[38;5;132;01m{\u001b[39;00mpath_or_repo_id\u001b[38;5;132;01m}\u001b[39;00m\u001b[38;5;124m/\u001b[39m\u001b[38;5;132;01m{\u001b[39;00mrevision\u001b[38;5;132;01m}\u001b[39;00m\u001b[38;5;124m'\u001b[39m\u001b[38;5;124m for available files.\u001b[39m\u001b[38;5;124m\"\u001b[39m\n\u001b[1;32m    403\u001b[0m         )\n\u001b[1;32m    404\u001b[0m     \u001b[38;5;28;01melse\u001b[39;00m:\n\u001b[1;32m    405\u001b[0m         \u001b[38;5;28;01mreturn\u001b[39;00m \u001b[38;5;28;01mNone\u001b[39;00m\n",
      "\u001b[0;31mOSError\u001b[0m: gpt2 does not appear to have a file named config.json. Checkout 'https://huggingface.co/gpt2/main' for available files."
     ]
    }
   ],
   "source": [
    "from transformers import GPT2Tokenizer, GPT2LMHeadModel\n",
    "model = GPT2LMHeadModel.from_pretrained('gpt2')\n",
    "print(model)"
   ]
  },
  {
   "cell_type": "markdown",
   "metadata": {},
   "source": [
    "## General elements of an LLM"
   ]
  },
  {
   "cell_type": "markdown",
   "metadata": {},
   "source": [
    "GPT-2 is an example of the popular Transformer architecture. \n"
   ]
  },
  {
   "cell_type": "markdown",
   "metadata": {
    "id": "cig2mvfguetQ"
   },
   "source": [
    "<img src=\"images/decoder_only_block.png\" alt=\"Drawing\" style=\"width: 200px;\"/>\n",
    "Image credit: https://arxiv.org/pdf/1706.03762.pdf"
   ]
  },
  {
   "cell_type": "markdown",
   "metadata": {},
   "source": [
    "The gray section in this figure is the Transfomer Decoder and it is the main mechanism GPT2 uses to encode context of language into its predictions.\n",
    "\n",
    "<img src=\"images/transformer-decoder-intro.png\" alt=\"Drawing\" style=\"width: 600px;\"/>\n",
    "Image credit: https://jalammar.github.io/illustrated-gpt2/"
   ]
  },
  {
   "cell_type": "markdown",
   "metadata": {},
   "source": [
    "The Transformer-Decoder is composed of Decoder blocks stacked ontop of each other where each contains two types of layers: \n",
    "1. Masked Self-Attention and \n",
    "2. Feed Forward Neural Networks."
   ]
  },
  {
   "cell_type": "markdown",
   "metadata": {},
   "source": [
    "You have already discussed Feed Forward Neural Networks in detail in the other lectures in this series. To review this, please look at https://github.com/argonne-lcf/ai-science-training-series/blob/main/02_intro_neural_networks/01_introduction_mnist.ipynb"
   ]
  },
  {
   "cell_type": "markdown",
   "metadata": {},
   "source": [
    "In this lecture, we will \n",
    "* First, discuss attention mechanisms at length as this is arguably the greatest contribution by Transformers.\n",
    "* Second, extend the discussion from last week (https://github.com/argonne-lcf/ai-science-training-series/blob/main/04_intro_to_llms/Sequential_Data_Models.ipynb) on embedding input data while taking into account position.\n",
    "* Third, discuss outputting real text/sequences from the models.\n",
    "* Fourth, build a training loop for a mini-LLM."
   ]
  },
  {
   "cell_type": "markdown",
   "metadata": {},
   "source": [
    "**Let's set up all the imports we will need**"
   ]
  },
  {
   "cell_type": "code",
   "execution_count": 7,
   "metadata": {
    "scrolled": true
   },
   "outputs": [
    {
     "data": {
      "text/plain": [
       "<torch._C.Generator at 0x14ad58b1d810>"
      ]
     },
     "execution_count": 7,
     "metadata": {},
     "output_type": "execute_result"
    }
   ],
   "source": [
    "## IMPORTS\n",
    "\n",
    "import torch\n",
    "import torch.nn as nn\n",
    "from torch.nn import functional as F\n",
    "torch.manual_seed(1337)\n",
    "# hyperparameters\n",
    "batch_size = 16 # how many independent sequences will we process in parallel?\n",
    "block_size = 32 # what is the maximum context length for predictions?\n",
    "max_iters = 5000\n",
    "eval_interval = 100\n",
    "learning_rate = 1e-3\n",
    "device = 'cuda' if torch.cuda.is_available() else 'cpu'\n",
    "eval_iters = 200\n",
    "n_embd = 64\n",
    "n_head = 4 ## so head_size = 16\n",
    "n_layer = 4\n",
    "dropout = 0.0\n",
    "# ------------\n",
    "\n",
    "torch.manual_seed(1337)"
   ]
  },
  {
   "cell_type": "markdown",
   "metadata": {
    "id": "BowLYFlCrDrr"
   },
   "source": [
    "## Attention mechanisms\n",
    "\n",
    "Suppose the following sentence is an input sentence we want to translate using an LLM:\n",
    "\n",
    "`”The animal didn't cross the street because it was too tired”`\n",
    "\n",
    "Last week, Carlo mentioned that the Transformer learns an embedding of all words allowing interpretation of meanings of words.\n",
    "\n",
    "<img src=\"images/viz-bert-voc-verbs.png\" alt=\"Drawing\" style=\"width: 400px;\"/>\n",
    "\n",
    "So, if the model did a good job in token embedding, it will \"know\" what all the words in this sentence mean. "
   ]
  },
  {
   "cell_type": "markdown",
   "metadata": {},
   "source": [
    "But to understand a full sentence, the model also need to understand what each word means in relation to other words.\n",
    "\n",
    "For example, when we read the sentence:\n",
    "`”The animal didn't cross the street because it was too tired”`\n",
    "we know intuitively that the word `\"it\"` refers to `\"animal\"`, the state for `\"it\"` is `\"tired\"`, and the associated action is `\"didn't cross\"`.\n",
    "\n",
    "However, the model needs a way to learn all of this information in a simple yet generalizable way.\n",
    "What makes Transformers particularly powerful compared to earlier sequential architectures is how it encodes context with the **self-attention mechanism**.\n",
    "\n",
    "As the model processes each word in the input sequence, attention looks at other positions in the input sequence for clues to a better understanding for this word."
   ]
  },
  {
   "cell_type": "markdown",
   "metadata": {},
   "source": [
    "<img src=\"images/transformer_self-attention_visualization.png\" alt=\"Drawing\" style=\"width: 300px;\"/>"
   ]
  },
  {
   "cell_type": "markdown",
   "metadata": {
    "id": "UGbAi0cJ7x3a"
   },
   "source": [
    "Image credit: https://jalammar.github.io/illustrated-transformer/"
   ]
  },
  {
   "cell_type": "markdown",
   "metadata": {},
   "source": [
    "Self-attention mechanisms use 3 vectors to encode the context of a word in a sequence with another word:\n",
    "1. Query: the word representation we score other words against using the other word's keys\n",
    "2. Key: labels for the words in a sequence that we match against the query\n",
    "3. Value: actual word representation. We will use the queries and keys to score the word's relevance to the query, and multiply this by the value. \n",
    "\n",
    "An analogy provided by Jay Alammar is thinking about attention as choosing a file from a file cabinet according to information on a post-it note. You can use the post-it note (query) to identify the folder (key) that most matches the topic you are looking up. Then you access the contents of the file (value) according to its relevance to your query."
   ]
  },
  {
   "cell_type": "markdown",
   "metadata": {},
   "source": [
    "<img src=\"images/self-attention-example-folders-3.png\" alt=\"Drawing\" style=\"width: 500px;\"/>\n",
    "Image credit: https://jalammar.github.io/illustrated-gpt2/"
   ]
  },
  {
   "cell_type": "markdown",
   "metadata": {},
   "source": [
    "In our models, we can encode queries, keys, and values using simple linear layers with the same size (`sequence length, head_size`). During the training process, these layers will be updated to best encode context."
   ]
  },
  {
   "cell_type": "code",
   "execution_count": 8,
   "metadata": {},
   "outputs": [],
   "source": [
    "C = 32 # channels\n",
    "head_size = 16\n",
    "\n",
    "key = nn.Linear(C, head_size, bias=False)\n",
    "query = nn.Linear(C, head_size, bias=False)\n",
    "value = nn.Linear(C, head_size, bias=False)"
   ]
  },
  {
   "cell_type": "markdown",
   "metadata": {
    "id": "Jzf9VE_AqWeR"
   },
   "source": [
    "The algorithm for self-attention is as follows:\n",
    "\n",
    "1. Generate query, key and value vectors for each word\n",
    "2. Calculate a score for each word in the input sentence against each other.\n",
    "3. Divide the scores by the square root of the dimension of the key vectors to stabilize the gradients. This is then passed through a softmax operation.\n",
    "4. Multiply each value vector by the softmax score.\n",
    "5. Sum up the weighted value vectors to produce the output.\n"
   ]
  },
  {
   "cell_type": "markdown",
   "metadata": {},
   "source": [
    "<img src=\"images/self-attention-output.png\" alt=\"Drawing\" style=\"width: 450px;\"/>"
   ]
  },
  {
   "cell_type": "markdown",
   "metadata": {
    "id": "yOwm-NkXA8U3"
   },
   "source": [
    "Image credit: https://jalammar.github.io/illustrated-transformer/"
   ]
  },
  {
   "cell_type": "markdown",
   "metadata": {},
   "source": [
    "Let's see how attention is performed in the code."
   ]
  },
  {
   "cell_type": "code",
   "execution_count": 10,
   "metadata": {},
   "outputs": [],
   "source": [
    "import torch\n",
    "import torch.nn as nn\n",
    "from torch.nn import functional as F\n",
    "torch.manual_seed(1337)\n",
    "B,T,C = 4,8,32 # batch, time, channels\n",
    "x = torch.randn(B,T,C)\n",
    "\n",
    "# Here we want the wei to be data dependent - ie gather info from the past but in a data dependant way\n",
    "\n",
    "head_size = 16\n",
    "key = nn.Linear(C, head_size, bias=False)\n",
    "query = nn.Linear(C, head_size, bias=False)\n",
    "value = nn.Linear(C, head_size, bias=False)\n",
    "k = key(x)   # (B, T, 16) # each token here (totally B*T) produce a key and query in parallel and independently\n",
    "q = query(x) # (B, T, 16)\n",
    "v = value(x)\n",
    "\n",
    "wei =  q @ k.transpose(-2, -1) * head_size**-0.5 # (B, T, 16) @ (B, 16, T) ---> (B, T, T). #\n",
    "wei = F.softmax(wei, dim=-1) # exponentiate and normalize giving a nice distibution that sums to 1 and\n",
    "                             # now it tells us that in a data dependent manner how much of info to aggregate from\n",
    "\n",
    "out = wei @ v # aggregate the attention scores and value vector.\n"
   ]
  },
  {
   "cell_type": "code",
   "execution_count": 11,
   "metadata": {},
   "outputs": [
    {
     "name": "stdout",
     "output_type": "stream",
     "text": [
      "tensor([[ 0.0618, -0.0091, -0.3488,  0.3208,  0.2971, -0.1573, -0.0561,  0.1068,\n",
      "          0.0368,  0.0139, -0.0017,  0.3110,  0.1404, -0.0158,  0.1853,  0.4290],\n",
      "        [ 0.1578, -0.0971, -0.4256,  0.3538,  0.3621, -0.2392, -0.0536,  0.1759,\n",
      "          0.1115,  0.0282, -0.0649,  0.3641,  0.1928,  0.0261,  0.2162,  0.3758],\n",
      "        [ 0.1293,  0.0759, -0.2946,  0.2292,  0.2215, -0.0710, -0.0107,  0.1616,\n",
      "         -0.0930, -0.0877,  0.0567,  0.1899,  0.0311, -0.0894,  0.0309,  0.5471],\n",
      "        [ 0.1247,  0.1400, -0.2436,  0.1819,  0.1976,  0.0338, -0.0028,  0.1124,\n",
      "         -0.1477, -0.0748,  0.0650,  0.1392, -0.0314, -0.0989,  0.0613,  0.5433],\n",
      "        [ 0.0667,  0.1845, -0.2135,  0.2813,  0.2064,  0.0873,  0.0084,  0.2055,\n",
      "         -0.1130, -0.1466,  0.0459,  0.1923, -0.0275, -0.1107,  0.0065,  0.4674],\n",
      "        [ 0.1924,  0.1693, -0.1568,  0.2284,  0.1620,  0.0737,  0.0443,  0.2519,\n",
      "         -0.1912, -0.1979,  0.0832,  0.0713, -0.0826, -0.0848, -0.1047,  0.6089],\n",
      "        [ 0.1184,  0.0884, -0.2652,  0.2560,  0.1840,  0.0284, -0.0621,  0.1181,\n",
      "         -0.0880,  0.0104,  0.1123,  0.1850,  0.0369, -0.0730,  0.0663,  0.5242],\n",
      "        [ 0.1243,  0.0453, -0.3412,  0.2709,  0.2335, -0.0948, -0.0421,  0.2143,\n",
      "         -0.0330, -0.0313,  0.0520,  0.2378,  0.1084, -0.0959,  0.0300,  0.4707]],\n",
      "       grad_fn=<SelectBackward0>)\n"
     ]
    }
   ],
   "source": [
    "print(out[0])"
   ]
  },
  {
   "cell_type": "markdown",
   "metadata": {
    "id": "4lwyFlxKW6oA"
   },
   "source": [
    "### Multi-head attention\n",
    "\n",
    "In practice, multiple attention heads are used which\n",
    "1. Expands the model’s ability to focus on different positions and prevent the attention to be dominated by the word itself.\n",
    "2. Have multiple “representation subspaces”. Have multiple sets of Query/Key/Value weight matrices"
   ]
  },
  {
   "cell_type": "markdown",
   "metadata": {},
   "source": [
    "<img src=\"images/transformer_multi-headed_self-attention-recap.png\" alt=\"Drawing\" style=\"width: 700px;\"/>"
   ]
  },
  {
   "cell_type": "markdown",
   "metadata": {
    "id": "6oHsezdVBIaf"
   },
   "source": [
    "Image credit: https://jalammar.github.io/illustrated-transformer/"
   ]
  },
  {
   "cell_type": "markdown",
   "metadata": {},
   "source": [
    "### Let's see attention mechanisms in action!"
   ]
  },
  {
   "cell_type": "markdown",
   "metadata": {},
   "source": [
    "We are going to use the powerful visualization tool bertviz, which allows an interactive experience of the attention mechanisms. Normally these mechanisms are abstracted away but this will allow us to inspect our model in more detail."
   ]
  },
  {
   "cell_type": "code",
   "execution_count": 12,
   "metadata": {
    "scrolled": true
   },
   "outputs": [
    {
     "name": "stderr",
     "output_type": "stream",
     "text": [
      "huggingface/tokenizers: The current process just got forked, after parallelism has already been used. Disabling parallelism to avoid deadlocks...\n",
      "To disable this warning, you can either:\n",
      "\t- Avoid using `tokenizers` before the fork if possible\n",
      "\t- Explicitly set the environment variable TOKENIZERS_PARALLELISM=(true | false)\n"
     ]
    },
    {
     "name": "stdout",
     "output_type": "stream",
     "text": [
      "Defaulting to user installation because normal site-packages is not writeable\n",
      "Collecting bertviz\n",
      "  Obtaining dependency information for bertviz from https://files.pythonhosted.org/packages/66/07/cce3d29605a3011d3685b2041fb94fcad25565b80bd2f22f3dcd75b2eee9/bertviz-1.4.0-py3-none-any.whl.metadata\n",
      "  Downloading bertviz-1.4.0-py3-none-any.whl.metadata (19 kB)\n",
      "Requirement already satisfied: transformers>=2.0 in /soft/datascience/conda/2023-10-04/mconda3/lib/python3.10/site-packages (from bertviz) (4.34.0)\n",
      "Requirement already satisfied: torch>=1.0 in /soft/datascience/conda/2023-10-04/mconda3/lib/python3.10/site-packages (from bertviz) (2.0.1)\n",
      "Requirement already satisfied: tqdm in /soft/datascience/conda/2023-10-04/mconda3/lib/python3.10/site-packages (from bertviz) (4.65.0)\n",
      "Requirement already satisfied: boto3 in /soft/datascience/conda/2023-10-04/mconda3/lib/python3.10/site-packages (from bertviz) (1.28.60)\n",
      "Requirement already satisfied: requests in /soft/datascience/conda/2023-10-04/mconda3/lib/python3.10/site-packages (from bertviz) (2.31.0)\n",
      "Requirement already satisfied: regex in /soft/datascience/conda/2023-10-04/mconda3/lib/python3.10/site-packages (from bertviz) (2023.10.3)\n",
      "Collecting sentencepiece (from bertviz)\n",
      "  Obtaining dependency information for sentencepiece from https://files.pythonhosted.org/packages/a6/27/33019685023221ca8ed98e8ceb7ae5e166032686fa3662c68f1f1edf334e/sentencepiece-0.2.0-cp310-cp310-manylinux_2_17_x86_64.manylinux2014_x86_64.whl.metadata\n",
      "  Downloading sentencepiece-0.2.0-cp310-cp310-manylinux_2_17_x86_64.manylinux2014_x86_64.whl.metadata (7.7 kB)\n",
      "Requirement already satisfied: filelock in /soft/datascience/conda/2023-10-04/mconda3/lib/python3.10/site-packages (from torch>=1.0->bertviz) (3.9.0)\n",
      "Requirement already satisfied: typing-extensions in /soft/datascience/conda/2023-10-04/mconda3/lib/python3.10/site-packages (from torch>=1.0->bertviz) (4.5.0)\n",
      "Requirement already satisfied: sympy in /soft/datascience/conda/2023-10-04/mconda3/lib/python3.10/site-packages (from torch>=1.0->bertviz) (1.12)\n",
      "Requirement already satisfied: networkx in /soft/datascience/conda/2023-10-04/mconda3/lib/python3.10/site-packages (from torch>=1.0->bertviz) (3.1)\n",
      "Requirement already satisfied: jinja2 in /soft/datascience/conda/2023-10-04/mconda3/lib/python3.10/site-packages (from torch>=1.0->bertviz) (3.0.3)\n",
      "Requirement already satisfied: huggingface-hub<1.0,>=0.16.4 in /soft/datascience/conda/2023-10-04/mconda3/lib/python3.10/site-packages (from transformers>=2.0->bertviz) (0.16.4)\n",
      "Requirement already satisfied: numpy>=1.17 in /soft/datascience/conda/2023-10-04/mconda3/lib/python3.10/site-packages (from transformers>=2.0->bertviz) (1.24.3)\n",
      "Requirement already satisfied: packaging>=20.0 in /soft/datascience/conda/2023-10-04/mconda3/lib/python3.10/site-packages (from transformers>=2.0->bertviz) (23.2)\n",
      "Requirement already satisfied: pyyaml>=5.1 in /soft/datascience/conda/2023-10-04/mconda3/lib/python3.10/site-packages (from transformers>=2.0->bertviz) (6.0.1)\n",
      "Requirement already satisfied: tokenizers<0.15,>=0.14 in /soft/datascience/conda/2023-10-04/mconda3/lib/python3.10/site-packages (from transformers>=2.0->bertviz) (0.14.0)\n",
      "Requirement already satisfied: safetensors>=0.3.1 in /soft/datascience/conda/2023-10-04/mconda3/lib/python3.10/site-packages (from transformers>=2.0->bertviz) (0.3.3)\n",
      "Requirement already satisfied: botocore<1.32.0,>=1.31.60 in /soft/datascience/conda/2023-10-04/mconda3/lib/python3.10/site-packages (from boto3->bertviz) (1.31.60)\n",
      "Requirement already satisfied: jmespath<2.0.0,>=0.7.1 in /soft/datascience/conda/2023-10-04/mconda3/lib/python3.10/site-packages (from boto3->bertviz) (1.0.1)\n",
      "Requirement already satisfied: s3transfer<0.8.0,>=0.7.0 in /soft/datascience/conda/2023-10-04/mconda3/lib/python3.10/site-packages (from boto3->bertviz) (0.7.0)\n",
      "Requirement already satisfied: charset-normalizer<4,>=2 in /soft/datascience/conda/2023-10-04/mconda3/lib/python3.10/site-packages (from requests->bertviz) (2.0.4)\n",
      "Requirement already satisfied: idna<4,>=2.5 in /soft/datascience/conda/2023-10-04/mconda3/lib/python3.10/site-packages (from requests->bertviz) (3.4)\n",
      "Requirement already satisfied: urllib3<3,>=1.21.1 in /soft/datascience/conda/2023-10-04/mconda3/lib/python3.10/site-packages (from requests->bertviz) (1.26.16)\n",
      "Requirement already satisfied: certifi>=2017.4.17 in /soft/datascience/conda/2023-10-04/mconda3/lib/python3.10/site-packages (from requests->bertviz) (2023.7.22)\n",
      "Requirement already satisfied: python-dateutil<3.0.0,>=2.1 in /soft/datascience/conda/2023-10-04/mconda3/lib/python3.10/site-packages (from botocore<1.32.0,>=1.31.60->boto3->bertviz) (2.8.2)\n",
      "Requirement already satisfied: fsspec in /soft/datascience/conda/2023-10-04/mconda3/lib/python3.10/site-packages (from huggingface-hub<1.0,>=0.16.4->transformers>=2.0->bertviz) (2023.6.0)\n",
      "Requirement already satisfied: MarkupSafe>=2.0 in /soft/datascience/conda/2023-10-04/mconda3/lib/python3.10/site-packages (from jinja2->torch>=1.0->bertviz) (2.1.1)\n",
      "Requirement already satisfied: mpmath>=0.19 in /soft/datascience/conda/2023-10-04/mconda3/lib/python3.10/site-packages (from sympy->torch>=1.0->bertviz) (1.3.0)\n",
      "Requirement already satisfied: six>=1.5 in /soft/datascience/conda/2023-10-04/mconda3/lib/python3.10/site-packages (from python-dateutil<3.0.0,>=2.1->botocore<1.32.0,>=1.31.60->boto3->bertviz) (1.16.0)\n",
      "Downloading bertviz-1.4.0-py3-none-any.whl (157 kB)\n",
      "\u001b[2K   \u001b[90m━━━━━━━━━━━━━━━━━━━━━━━━━━━━━━━━━━━━━━━━\u001b[0m \u001b[32m157.6/157.6 kB\u001b[0m \u001b[31m4.8 MB/s\u001b[0m eta \u001b[36m0:00:00\u001b[0m\n",
      "\u001b[?25hDownloading sentencepiece-0.2.0-cp310-cp310-manylinux_2_17_x86_64.manylinux2014_x86_64.whl (1.3 MB)\n",
      "\u001b[2K   \u001b[90m━━━━━━━━━━━━━━━━━━━━━━━━━━━━━━━━━━━━━━━━\u001b[0m \u001b[32m1.3/1.3 MB\u001b[0m \u001b[31m33.4 MB/s\u001b[0m eta \u001b[36m0:00:00\u001b[0m00:01\u001b[0m\n",
      "\u001b[?25hInstalling collected packages: sentencepiece, bertviz\n",
      "Successfully installed bertviz-1.4.0 sentencepiece-0.2.0\n"
     ]
    }
   ],
   "source": [
    "!pip install bertviz"
   ]
  },
  {
   "cell_type": "markdown",
   "metadata": {},
   "source": [
    "Let's load in the model, GPT2 and look at the attention mechanisms. \n",
    "\n",
    "**Hint... click on the different blocks in the visualization to see the attention**"
   ]
  },
  {
   "cell_type": "code",
   "execution_count": 16,
   "metadata": {},
   "outputs": [
    {
     "data": {
      "text/html": [
       "<script src=\"https://cdnjs.cloudflare.com/ajax/libs/require.js/2.3.6/require.min.js\"></script>"
      ],
      "text/plain": [
       "<IPython.core.display.HTML object>"
      ]
     },
     "metadata": {},
     "output_type": "display_data"
    },
    {
     "data": {
      "text/html": [
       "      \n",
       "        <div id=\"bertviz-4125815df8934f2f95ad1ff4c0a06b98\" style=\"font-family:'Helvetica Neue', Helvetica, Arial, sans-serif;\">\n",
       "            <span style=\"user-select:none\">\n",
       "                \n",
       "            </span>\n",
       "            <div id='vis'></div>\n",
       "        </div>\n",
       "    "
      ],
      "text/plain": [
       "<IPython.core.display.HTML object>"
      ]
     },
     "metadata": {},
     "output_type": "display_data"
    },
    {
     "data": {
      "application/javascript": [
       "/**\n",
       " * @fileoverview Transformer Visualization D3 javascript code.\n",
       " *\n",
       " * Based on: https://github.com/tensorflow/tensor2tensor/blob/master/tensor2tensor/visualization/attention.js\n",
       " *\n",
       " * Change log:\n",
       " *\n",
       " * 02/01/19  Jesse Vig   Initial implementation\n",
       " * 12/31/20  Jesse Vig   Support multiple visualizations in single notebook.\n",
       " * 01/19/21  Jesse Vig   Support light/dark modes\n",
       " * 02/06/21  Jesse Vig   Move require config from separate jupyter notebook step\n",
       " * 05/03/21  Jesse Vig   Adjust visualization height dynamically\n",
       " * 03/23/22  Daniel SC   Update requirement URLs for d3 and jQuery (source of bug not allowing end result to be displayed on browsers)\n",
       " **/\n",
       "\n",
       "require.config({\n",
       "  paths: {\n",
       "      d3: 'https://cdnjs.cloudflare.com/ajax/libs/d3/5.7.0/d3.min',\n",
       "    jquery: 'https://cdnjs.cloudflare.com/ajax/libs/jquery/2.0.0/jquery.min',\n",
       "  }\n",
       "});\n",
       "\n",
       "requirejs(['jquery', 'd3'], function($, d3) {\n",
       "\n",
       "        const params = {\"attention\": [{\"name\": null, \"attn\": [[[[1.0, 0.0, 0.0, 0.0, 0.0, 0.0, 0.0, 0.0], [0.3617079257965088, 0.6382920742034912, 0.0, 0.0, 0.0, 0.0, 0.0, 0.0], [0.5247875452041626, 0.2970535457134247, 0.1781589388847351, 0.0, 0.0, 0.0, 0.0, 0.0], [0.3211629092693329, 0.40990394353866577, 0.2213660031557083, 0.04756717011332512, 0.0, 0.0, 0.0, 0.0], [0.13701142370700836, 0.5299050211906433, 0.0821780264377594, 0.050177183002233505, 0.2007283866405487, 0.0, 0.0, 0.0], [0.28071850538253784, 0.3012051284313202, 0.12015018612146378, 0.06309599429368973, 0.16949479281902313, 0.06533536314964294, 0.0, 0.0], [0.30167675018310547, 0.27159354090690613, 0.07802703231573105, 0.06738417595624924, 0.11389388889074326, 0.09124362468719482, 0.07618102431297302, 0.0], [0.3683430552482605, 0.1731179654598236, 0.08220019191503525, 0.04753196984529495, 0.07412482798099518, 0.09475632011890411, 0.10072819143533707, 0.059197474271059036]], [[1.0, 0.0, 0.0, 0.0, 0.0, 0.0, 0.0, 0.0], [0.00015908351633697748, 0.9998408555984497, 0.0, 0.0, 0.0, 0.0, 0.0, 0.0], [0.0006059957086108625, 0.25846511125564575, 0.7409288883209229, 0.0, 0.0, 0.0, 0.0, 0.0], [0.0010622893460094929, 0.0012314383639022708, 0.0005321873468346894, 0.9971741437911987, 0.0, 0.0, 0.0, 0.0], [0.0006589768454432487, 0.007687119767069817, 0.00010904431837843731, 0.0027857408858835697, 0.9887590408325195, 0.0, 0.0, 0.0], [0.00038039524224586785, 0.0008259566966444254, 0.0002599104482214898, 0.0039028141181916, 0.004724632948637009, 0.989906370639801, 0.0, 0.0], [0.0005554408999159932, 0.002479720860719681, 0.0009319554665125906, 0.006468041799962521, 0.0011436588829383254, 0.003629590617492795, 0.9847915172576904, 0.0], [0.0012416335521265864, 0.00020051463798154145, 0.0004895536112599075, 0.003687581978738308, 0.0005172366509214044, 0.005332683213055134, 0.0013075046008452773, 0.9872232675552368]], [[1.0, 0.0, 0.0, 0.0, 0.0, 0.0, 0.0, 0.0], [0.7458636164665222, 0.25413641333580017, 0.0, 0.0, 0.0, 0.0, 0.0, 0.0], [0.4412945508956909, 0.20889480412006378, 0.34981057047843933, 0.0, 0.0, 0.0, 0.0, 0.0], [0.20832055807113647, 0.11401300877332687, 0.03664347901940346, 0.6410229206085205, 0.0, 0.0, 0.0, 0.0], [0.313981294631958, 0.15093791484832764, 0.09687583148479462, 0.19964243471622467, 0.23856256902217865, 0.0, 0.0, 0.0], [0.28176650404930115, 0.13164333999156952, 0.0955033078789711, 0.21561264991760254, 0.19742369651794434, 0.07805055379867554, 0.0, 0.0], [0.3136371076107025, 0.12669572234153748, 0.057813555002212524, 0.12955763936042786, 0.14850474894046783, 0.11600086838006973, 0.10779042541980743, 0.0], [0.16544444859027863, 0.1356387883424759, 0.06693170964717865, 0.16460339725017548, 0.1648665964603424, 0.06475332379341125, 0.18134266138076782, 0.05641915649175644]], [[1.0, 0.0, 0.0, 0.0, 0.0, 0.0, 0.0, 0.0], [0.04245975241065025, 0.9575402736663818, 0.0, 0.0, 0.0, 0.0, 0.0, 0.0], [0.047642771154642105, 0.07039511948823929, 0.8819621205329895, 0.0, 0.0, 0.0, 0.0, 0.0], [0.05205220729112625, 0.08629431575536728, 0.10930176079273224, 0.7523516416549683, 0.0, 0.0, 0.0, 0.0], [0.007882152684032917, 0.04131282493472099, 0.004957931116223335, 0.009122501127421856, 0.9367245435714722, 0.0, 0.0, 0.0], [0.0013226695591583848, 0.0010227292077615857, 0.00021112033573444933, 0.0022420305758714676, 0.524852991104126, 0.47034844756126404, 0.0, 0.0], [0.005457368679344654, 0.002786749042570591, 0.0012682246742770076, 0.005137795116752386, 0.05014761537313461, 0.07640347629785538, 0.8587988615036011, 0.0], [0.007024410180747509, 0.000994743313640356, 0.0007379864691756666, 0.0028397536370903254, 0.01335075031965971, 0.017479486763477325, 0.029431480914354324, 0.9281414151191711]], [[1.0, 0.0, 0.0, 0.0, 0.0, 0.0, 0.0, 0.0], [0.36315983533859253, 0.6368401646614075, 0.0, 0.0, 0.0, 0.0, 0.0, 0.0], [0.12126103043556213, 0.22703267633914948, 0.651706337928772, 0.0, 0.0, 0.0, 0.0, 0.0], [0.10825470834970474, 0.4830237627029419, 0.2286422848701477, 0.18007920682430267, 0.0, 0.0, 0.0, 0.0], [0.13805069029331207, 0.19414280354976654, 0.09205293655395508, 0.1622159332036972, 0.4135376214981079, 0.0, 0.0, 0.0], [0.01719888672232628, 0.03457755967974663, 0.014946689829230309, 0.030233005061745644, 0.7668347954750061, 0.1362091451883316, 0.0, 0.0], [0.05826043710112572, 0.1289101392030716, 0.09013140201568604, 0.048592645674943924, 0.2657810151576996, 0.14963845908641815, 0.2586858868598938, 0.0], [0.10758845508098602, 0.04240046441555023, 0.034550637006759644, 0.0514216385781765, 0.1858488768339157, 0.15777082741260529, 0.16946296393871307, 0.25095608830451965]], [[1.0, 0.0, 0.0, 0.0, 0.0, 0.0, 0.0, 0.0], [0.003630247199907899, 0.9963697195053101, 0.0, 0.0, 0.0, 0.0, 0.0, 0.0], [0.018098806962370872, 0.06029435992240906, 0.9216067790985107, 0.0, 0.0, 0.0, 0.0, 0.0], [0.1539894938468933, 0.032081764191389084, 0.06385640054941177, 0.7500723600387573, 0.0, 0.0, 0.0, 0.0], [0.03145374357700348, 0.009248653426766396, 0.00012443891318980604, 0.0005978468107059598, 0.9585753679275513, 0.0, 0.0, 0.0], [0.017928078770637512, 0.0004312295641284436, 0.0004146562423557043, 0.001221695332787931, 0.0022130736615508795, 0.9777912497520447, 0.0, 0.0], [0.016586806625127792, 0.0034302028361707926, 0.0006281856331042945, 0.004695368465036154, 0.0004632103373296559, 0.0002358268975513056, 0.9739603996276855, 0.0], [0.03498481586575508, 0.003007884370163083, 0.01517155859619379, 0.0033197212032973766, 0.014887389726936817, 0.024588938802480698, 0.0049028643406927586, 0.8991367816925049]], [[1.0, 0.0, 0.0, 0.0, 0.0, 0.0, 0.0, 0.0], [0.7345098257064819, 0.26549020409584045, 0.0, 0.0, 0.0, 0.0, 0.0, 0.0], [0.4313082993030548, 0.26788151264190674, 0.3008102476596832, 0.0, 0.0, 0.0, 0.0, 0.0], [0.45207807421684265, 0.25312483310699463, 0.2749553322792053, 0.0198417529463768, 0.0, 0.0, 0.0, 0.0], [0.44305750727653503, 0.2047175168991089, 0.21089255809783936, 0.05823618546128273, 0.08309628069400787, 0.0, 0.0, 0.0], [0.30567070841789246, 0.22593656182289124, 0.15148010849952698, 0.035953082144260406, 0.1762952357530594, 0.10466431826353073, 0.0, 0.0], [0.2204960733652115, 0.23302426934242249, 0.2691529095172882, 0.0365581177175045, 0.08908519148826599, 0.08050279319286346, 0.07118064165115356, 0.0], [0.33096399903297424, 0.2144414782524109, 0.1978740096092224, 0.01962859369814396, 0.08502904325723648, 0.06263189017772675, 0.06917189806699753, 0.020259132608771324]], [[1.0, 0.0, 0.0, 0.0, 0.0, 0.0, 0.0, 0.0], [0.9104468822479248, 0.08955315500497818, 0.0, 0.0, 0.0, 0.0, 0.0, 0.0], [0.2781533896923065, 0.606468141078949, 0.11537842452526093, 0.0, 0.0, 0.0, 0.0, 0.0], [0.21134239435195923, 0.1952686905860901, 0.26347237825393677, 0.3299165368080139, 0.0, 0.0, 0.0, 0.0], [0.15289171040058136, 0.1350957602262497, 0.10862767696380615, 0.34192824363708496, 0.26145657896995544, 0.0, 0.0, 0.0], [0.08685480058193207, 0.12499680370092392, 0.08642403036355972, 0.2076198309659958, 0.2780531942844391, 0.21605132520198822, 0.0, 0.0], [0.04933745414018631, 0.04561517760157585, 0.04089413210749626, 0.11151716113090515, 0.16308479011058807, 0.41121360659599304, 0.1783377230167389, 0.0], [0.056647785007953644, 0.032992735505104065, 0.03578280657529831, 0.08481825888156891, 0.12216763943433762, 0.18270806968212128, 0.20724189281463623, 0.27764075994491577]], [[1.0, 0.0, 0.0, 0.0, 0.0, 0.0, 0.0, 0.0], [0.8629981875419617, 0.13700179755687714, 0.0, 0.0, 0.0, 0.0, 0.0, 0.0], [0.4960414171218872, 0.28045567870140076, 0.22350293397903442, 0.0, 0.0, 0.0, 0.0, 0.0], [0.10706837475299835, 0.06610486656427383, 0.09859135746955872, 0.7282354235649109, 0.0, 0.0, 0.0, 0.0], [0.1587894707918167, 0.10146220028400421, 0.12094315886497498, 0.4847168028354645, 0.13408830761909485, 0.0, 0.0, 0.0], [0.0658748671412468, 0.07460492104291916, 0.057606182992458344, 0.4470113515853882, 0.23328779637813568, 0.12161480635404587, 0.0, 0.0], [0.07579092681407928, 0.06912362575531006, 0.08716025203466415, 0.294062077999115, 0.20479662716388702, 0.16822487115859985, 0.10084161162376404, 0.0], [0.048766378313302994, 0.05305879935622215, 0.04839002341032028, 0.25769513845443726, 0.11163080483675003, 0.06528133153915405, 0.08702833205461502, 0.3281492590904236]], [[1.0, 0.0, 0.0, 0.0, 0.0, 0.0, 0.0, 0.0], [0.8557285666465759, 0.1442713737487793, 0.0, 0.0, 0.0, 0.0, 0.0, 0.0], [0.8150333166122437, 0.12862756848335266, 0.05633915588259697, 0.0, 0.0, 0.0, 0.0, 0.0], [0.42881202697753906, 0.15531693398952484, 0.11429645121097565, 0.30157455801963806, 0.0, 0.0, 0.0, 0.0], [0.30465176701545715, 0.1492372751235962, 0.11573876440525055, 0.2518543601036072, 0.17851780354976654, 0.0, 0.0, 0.0], [0.28681373596191406, 0.122480608522892, 0.09691726416349411, 0.21430063247680664, 0.14310625195503235, 0.13638144731521606, 0.0, 0.0], [0.22144943475723267, 0.10931259393692017, 0.08735598623752594, 0.17712058126926422, 0.1315416544675827, 0.1239907518029213, 0.1492289900779724, 0.0], [0.19417516887187958, 0.0986839011311531, 0.07863108068704605, 0.15252654254436493, 0.112245574593544, 0.10789411514997482, 0.13763073086738586, 0.11821291595697403]], [[1.0, 0.0, 0.0, 0.0, 0.0, 0.0, 0.0, 0.0], [0.5719724297523499, 0.42802757024765015, 0.0, 0.0, 0.0, 0.0, 0.0, 0.0], [0.34783968329429626, 0.2740505039691925, 0.37810981273651123, 0.0, 0.0, 0.0, 0.0, 0.0], [0.45668482780456543, 0.14626185595989227, 0.11809007823467255, 0.278963178396225, 0.0, 0.0, 0.0, 0.0], [0.2795095145702362, 0.12994085252285004, 0.05921752750873566, 0.18157383799552917, 0.3497582674026489, 0.0, 0.0, 0.0], [0.20503538846969604, 0.07379473745822906, 0.06930238753557205, 0.17862389981746674, 0.11930622160434723, 0.3539373278617859, 0.0, 0.0], [0.19527336955070496, 0.09274466335773468, 0.0934944897890091, 0.15665528178215027, 0.08527743071317673, 0.09515329450368881, 0.28140151500701904, 0.0], [0.1704292893409729, 0.06121419370174408, 0.07155445963144302, 0.13102251291275024, 0.08244489133358002, 0.10055171698331833, 0.0668112188577652, 0.3159716725349426]], [[1.0, 0.0, 0.0, 0.0, 0.0, 0.0, 0.0, 0.0], [0.5706607699394226, 0.4293392300605774, 0.0, 0.0, 0.0, 0.0, 0.0, 0.0], [0.44862690567970276, 0.3078085482120514, 0.24356456100940704, 0.0, 0.0, 0.0, 0.0, 0.0], [0.3790181279182434, 0.12912899255752563, 0.13581916689872742, 0.3560337722301483, 0.0, 0.0, 0.0, 0.0], [0.3644261062145233, 0.13015981018543243, 0.14537903666496277, 0.25491029024124146, 0.10512468218803406, 0.0, 0.0, 0.0], [0.3509112298488617, 0.0935923159122467, 0.07770204544067383, 0.2243635058403015, 0.1081966683268547, 0.14523424208164215, 0.0, 0.0], [0.2988237142562866, 0.07906582206487656, 0.08234230428934097, 0.13560165464878082, 0.07574184238910675, 0.12990260124206543, 0.19852212071418762, 0.0], [0.2552602291107178, 0.07128572463989258, 0.0731678381562233, 0.1218848004937172, 0.07786550372838974, 0.1214742511510849, 0.1663598269224167, 0.11270182579755783]]], [[[1.0, 0.0, 0.0, 0.0, 0.0, 0.0, 0.0, 0.0], [0.9597181081771851, 0.04028189182281494, 0.0, 0.0, 0.0, 0.0, 0.0, 0.0], [0.6849157214164734, 0.23978766798973083, 0.07529662549495697, 0.0, 0.0, 0.0, 0.0, 0.0], [0.39062705636024475, 0.3427595794200897, 0.1173764243721962, 0.14923696219921112, 0.0, 0.0, 0.0, 0.0], [0.45084694027900696, 0.15584246814250946, 0.035919222980737686, 0.26523831486701965, 0.09215299785137177, 0.0, 0.0, 0.0], [0.132688507437706, 0.042404208332300186, 0.010188963264226913, 0.09760736674070358, 0.6552655100822449, 0.06184541434049606, 0.0, 0.0], [0.07020391523838043, 0.030377734452486038, 0.011132561601698399, 0.05213593691587448, 0.38592609763145447, 0.4071102738380432, 0.04311347007751465, 0.0], [0.09894900768995285, 0.07029127329587936, 0.016965040937066078, 0.05982990190386772, 0.24415864050388336, 0.14275826513767242, 0.2930144965648651, 0.07403344660997391]], [[1.0, 0.0, 0.0, 0.0, 0.0, 0.0, 0.0, 0.0], [0.915147066116333, 0.08485287427902222, 0.0, 0.0, 0.0, 0.0, 0.0, 0.0], [0.654582142829895, 0.22447176277637482, 0.12094610184431076, 0.0, 0.0, 0.0, 0.0, 0.0], [0.49272972345352173, 0.19438700377941132, 0.10666811466217041, 0.20621515810489655, 0.0, 0.0, 0.0, 0.0], [0.3744392693042755, 0.0672682598233223, 0.06837787479162216, 0.3611604571342468, 0.12875407934188843, 0.0, 0.0, 0.0], [0.34601515531539917, 0.08485394716262817, 0.07586795836687088, 0.2815993130207062, 0.11711990833282471, 0.09454367309808731, 0.0, 0.0], [0.21918827295303345, 0.07850287854671478, 0.09664542973041534, 0.1894771158695221, 0.11337501555681229, 0.16965287923812866, 0.1331583857536316, 0.0], [0.21801964938640594, 0.051004890352487564, 0.055466536432504654, 0.1638977974653244, 0.06596174836158752, 0.1137072741985321, 0.19712994992733002, 0.1348121166229248]], [[1.0, 0.0, 0.0, 0.0, 0.0, 0.0, 0.0, 0.0], [0.9569822549819946, 0.04301774501800537, 0.0, 0.0, 0.0, 0.0, 0.0, 0.0], [0.7983514070510864, 0.08019332587718964, 0.12145528942346573, 0.0, 0.0, 0.0, 0.0, 0.0], [0.47510388493537903, 0.0609469898045063, 0.08567197620868683, 0.37827715277671814, 0.0, 0.0, 0.0, 0.0], [0.34591472148895264, 0.05860695615410805, 0.07575415819883347, 0.3065948784351349, 0.21312926709651947, 0.0, 0.0, 0.0], [0.29321324825286865, 0.049032289534807205, 0.06522077322006226, 0.2511456608772278, 0.16568757593631744, 0.17570042610168457, 0.0, 0.0], [0.20610840618610382, 0.04174431040883064, 0.05628944933414459, 0.20936742424964905, 0.13809967041015625, 0.14721018075942993, 0.201180562376976, 0.0], [0.18405625224113464, 0.03730038180947304, 0.05112582445144653, 0.16981880366802216, 0.11156105250120163, 0.1169385015964508, 0.1621687263250351, 0.16703054308891296]], [[1.0, 0.0, 0.0, 0.0, 0.0, 0.0, 0.0, 0.0], [0.6069729924201965, 0.3930269777774811, 0.0, 0.0, 0.0, 0.0, 0.0, 0.0], [0.5651569962501526, 0.22149480879306793, 0.2133481502532959, 0.0, 0.0, 0.0, 0.0, 0.0], [0.5456883907318115, 0.1499703973531723, 0.15013831853866577, 0.15420296788215637, 0.0, 0.0, 0.0, 0.0], [0.4957427680492401, 0.11742730438709259, 0.11995817720890045, 0.12468823790550232, 0.1421835869550705, 0.0, 0.0, 0.0], [0.48692581057548523, 0.09439392387866974, 0.09963850677013397, 0.10436798632144928, 0.10895143449306488, 0.10572228580713272, 0.0, 0.0], [0.5051624178886414, 0.06671284139156342, 0.07271947711706161, 0.08218023180961609, 0.08986193686723709, 0.08091731369495392, 0.10244579613208771, 0.0], [0.4928716719150543, 0.0582878440618515, 0.06437626481056213, 0.06955400109291077, 0.07342986017465591, 0.06757549941539764, 0.08435723930597305, 0.08954756706953049]], [[1.0, 0.0, 0.0, 0.0, 0.0, 0.0, 0.0, 0.0], [0.8926227688789368, 0.10737724602222443, 0.0, 0.0, 0.0, 0.0, 0.0, 0.0], [0.756112813949585, 0.12415871024131775, 0.11972852051258087, 0.0, 0.0, 0.0, 0.0, 0.0], [0.6683961153030396, 0.11575331538915634, 0.11503539234399796, 0.10081513226032257, 0.0, 0.0, 0.0, 0.0], [0.6304655075073242, 0.10557186603546143, 0.08557744324207306, 0.07610109448432922, 0.1022840365767479, 0.0, 0.0, 0.0], [0.542506217956543, 0.10497220605611801, 0.09569564461708069, 0.07078098505735397, 0.09743204712867737, 0.08861289918422699, 0.0, 0.0], [0.5057597160339355, 0.08400748670101166, 0.07819034904241562, 0.060094669461250305, 0.08366172015666962, 0.07614210993051529, 0.11214394122362137, 0.0], [0.4594062864780426, 0.07367897778749466, 0.07185261696577072, 0.05649113655090332, 0.06964012235403061, 0.06827559322118759, 0.09746396541595459, 0.10319127887487411]], [[1.0, 0.0, 0.0, 0.0, 0.0, 0.0, 0.0, 0.0], [0.8134506940841675, 0.18654924631118774, 0.0, 0.0, 0.0, 0.0, 0.0, 0.0], [0.5902400612831116, 0.23748981952667236, 0.17227013409137726, 0.0, 0.0, 0.0, 0.0, 0.0], [0.5965981483459473, 0.018515827134251595, 0.00733424536883831, 0.377551794052124, 0.0, 0.0, 0.0, 0.0], [0.4815633296966553, 0.13399681448936462, 0.011434592306613922, 0.22197461128234863, 0.1510305404663086, 0.0, 0.0, 0.0], [0.493351012468338, 0.03151718154549599, 0.0038852959405630827, 0.1654243916273117, 0.04745551198720932, 0.2583666145801544, 0.0, 0.0], [0.35423773527145386, 0.031657081097364426, 0.01178912166506052, 0.14005815982818604, 0.04647194594144821, 0.21920354664325714, 0.19658243656158447, 0.0], [0.5148596167564392, 0.019879698753356934, 0.004752988927066326, 0.08944594115018845, 0.013753833249211311, 0.050079096108675, 0.03681120276451111, 0.27041763067245483]], [[1.0, 0.0, 0.0, 0.0, 0.0, 0.0, 0.0, 0.0], [0.8197692036628723, 0.1802307516336441, 0.0, 0.0, 0.0, 0.0, 0.0, 0.0], [0.48025986552238464, 0.47082462906837463, 0.04891549423336983, 0.0, 0.0, 0.0, 0.0, 0.0], [0.8013120889663696, 0.07887934893369675, 0.051598332822322845, 0.06821022927761078, 0.0, 0.0, 0.0, 0.0], [0.6562161445617676, 0.16990219056606293, 0.04960162937641144, 0.08214259892702103, 0.04213736206293106, 0.0, 0.0, 0.0], [0.5824936628341675, 0.1260821521282196, 0.016265904530882835, 0.07359851896762848, 0.10891050100326538, 0.09264925867319107, 0.0, 0.0], [0.4193045198917389, 0.1010560467839241, 0.14927071332931519, 0.06398220360279083, 0.08162333071231842, 0.0837859958410263, 0.10097721964120865, 0.0], [0.6480715274810791, 0.06642065942287445, 0.042123980820178986, 0.054942384362220764, 0.04536793753504753, 0.07794378697872162, 0.03858211264014244, 0.02654760144650936]], [[1.0, 0.0, 0.0, 0.0, 0.0, 0.0, 0.0, 0.0], [0.9202795624732971, 0.0797203853726387, 0.0, 0.0, 0.0, 0.0, 0.0, 0.0], [0.8460916876792908, 0.12456202507019043, 0.029346324503421783, 0.0, 0.0, 0.0, 0.0, 0.0], [0.6436076164245605, 0.1553608924150467, 0.0761837586760521, 0.12484770268201828, 0.0, 0.0, 0.0, 0.0], [0.515745997428894, 0.19637690484523773, 0.09537537395954132, 0.08652012795209885, 0.10598155111074448, 0.0, 0.0, 0.0], [0.4918058216571808, 0.15466821193695068, 0.06152987852692604, 0.07965249568223953, 0.09657368063926697, 0.11576990783214569, 0.0, 0.0], [0.4921351969242096, 0.12513989210128784, 0.05969579890370369, 0.058924660086631775, 0.0895049050450325, 0.08908302336931229, 0.08551646023988724, 0.0], [0.5130759477615356, 0.0910414457321167, 0.06255932152271271, 0.07566999644041061, 0.07179532945156097, 0.07012814283370972, 0.07444839924573898, 0.041281428188085556]], [[1.0, 0.0, 0.0, 0.0, 0.0, 0.0, 0.0, 0.0], [0.939264178276062, 0.060735806822776794, 0.0, 0.0, 0.0, 0.0, 0.0, 0.0], [0.8231185674667358, 0.09455446898937225, 0.08232694864273071, 0.0, 0.0, 0.0, 0.0, 0.0], [0.6712532043457031, 0.08613532036542892, 0.07508184015750885, 0.16752971708774567, 0.0, 0.0, 0.0, 0.0], [0.5721132755279541, 0.07526625692844391, 0.07784485071897507, 0.1641983836889267, 0.11057725548744202, 0.0, 0.0, 0.0], [0.5068334937095642, 0.07146202772855759, 0.0775008425116539, 0.12704916298389435, 0.08624200522899628, 0.13091252744197845, 0.0, 0.0], [0.4362346827983856, 0.06447921693325043, 0.06907275319099426, 0.11689954996109009, 0.09029649943113327, 0.12680545449256897, 0.09621183574199677, 0.0], [0.4070397913455963, 0.06083497777581215, 0.05362045019865036, 0.1203712522983551, 0.08692704886198044, 0.09807253628969193, 0.08177730441093445, 0.09135657548904419]], [[1.0, 0.0, 0.0, 0.0, 0.0, 0.0, 0.0, 0.0], [0.9899584650993347, 0.010041488334536552, 0.0, 0.0, 0.0, 0.0, 0.0, 0.0], [0.9344381093978882, 0.018197905272245407, 0.04736395925283432, 0.0, 0.0, 0.0, 0.0, 0.0], [0.7748087644577026, 0.039781566709280014, 0.05556017905473709, 0.12984952330589294, 0.0, 0.0, 0.0, 0.0], [0.679531991481781, 0.0625411793589592, 0.06570561975240707, 0.12414144724607468, 0.06807978451251984, 0.0, 0.0, 0.0], [0.6485739350318909, 0.03764529898762703, 0.039683617651462555, 0.09600651264190674, 0.05979180708527565, 0.11829882115125656, 0.0, 0.0], [0.546914279460907, 0.030746696516871452, 0.04556483402848244, 0.09141430258750916, 0.057107631117105484, 0.13067269325256348, 0.09757953882217407, 0.0], [0.4329543709754944, 0.033352646976709366, 0.03535565733909607, 0.07713622599840164, 0.06066622585058212, 0.11774525046348572, 0.10259822756052017, 0.14019139111042023]], [[1.0, 0.0, 0.0, 0.0, 0.0, 0.0, 0.0, 0.0], [0.0003785642620641738, 0.9996213912963867, 0.0, 0.0, 0.0, 0.0, 0.0, 0.0], [0.000508508353959769, 0.5896092653274536, 0.40988218784332275, 0.0, 0.0, 0.0, 0.0, 0.0], [0.0009731835452839732, 0.4020562767982483, 0.3158170282840729, 0.2811535894870758, 0.0, 0.0, 0.0, 0.0], [0.0008934586658142507, 0.28910472989082336, 0.22678692638874054, 0.2000763714313507, 0.2831385135650635, 0.0, 0.0, 0.0], [0.0011245297500863671, 0.23135419189929962, 0.19029240310192108, 0.16532009840011597, 0.21972613036632538, 0.19218258559703827, 0.0, 0.0], [0.0016968915006145835, 0.16915152966976166, 0.1486276239156723, 0.13008911907672882, 0.1807648092508316, 0.1491921842098236, 0.22047773003578186, 0.0], [0.0017921858234331012, 0.1363527625799179, 0.12634238600730896, 0.10917609184980392, 0.1429114192724228, 0.12466137856245041, 0.18414060771465302, 0.17462316155433655]], [[1.0, 0.0, 0.0, 0.0, 0.0, 0.0, 0.0, 0.0], [0.37699705362319946, 0.6230030059814453, 0.0, 0.0, 0.0, 0.0, 0.0, 0.0], [0.2651657462120056, 0.16578863561153412, 0.5690456032752991, 0.0, 0.0, 0.0, 0.0, 0.0], [0.3602209985256195, 0.008802776224911213, 0.005424376577138901, 0.6255518198013306, 0.0, 0.0, 0.0, 0.0], [0.0774526372551918, 0.009001383557915688, 0.0010315005201846361, 0.05598410591483116, 0.8565303087234497, 0.0, 0.0, 0.0], [0.09234102070331573, 0.001304433448240161, 0.0006880902219563723, 0.055534251034259796, 0.005051915533840656, 0.8450803160667419, 0.0, 0.0], [0.042731836438179016, 0.014063687063753605, 0.002419601660221815, 0.08025208860635757, 0.004204303026199341, 0.01696442998945713, 0.8393639922142029, 0.0], [0.12895944714546204, 0.0012167413951829076, 0.0007852813578210771, 0.04691193625330925, 0.006097897887229919, 0.006983704399317503, 0.0038099398370832205, 0.8052350878715515]]], [[[1.0, 0.0, 0.0, 0.0, 0.0, 0.0, 0.0, 0.0], [0.919196367263794, 0.08080361783504486, 0.0, 0.0, 0.0, 0.0, 0.0, 0.0], [0.7315279245376587, 0.2370336502790451, 0.0314384400844574, 0.0, 0.0, 0.0, 0.0, 0.0], [0.540569007396698, 0.20964814722537994, 0.05135854333639145, 0.19842429459095, 0.0, 0.0, 0.0, 0.0], [0.43967753648757935, 0.12940923869609833, 0.04272911697626114, 0.3183296322822571, 0.06985452026128769, 0.0, 0.0, 0.0], [0.4017946720123291, 0.10870422422885895, 0.02874702773988247, 0.2870592176914215, 0.11003484576940536, 0.06366005539894104, 0.0, 0.0], [0.3293260633945465, 0.09787658601999283, 0.03200244903564453, 0.2048587054014206, 0.1187184676527977, 0.096306212246418, 0.12091147899627686, 0.0], [0.26211777329444885, 0.0640285462141037, 0.035014744848012924, 0.11873475462198257, 0.0733550637960434, 0.13594846427440643, 0.26259464025497437, 0.04820609465241432]], [[1.0, 0.0, 0.0, 0.0, 0.0, 0.0, 0.0, 0.0], [0.9288749098777771, 0.0711250975728035, 0.0, 0.0, 0.0, 0.0, 0.0, 0.0], [0.9660932421684265, 0.021919695660471916, 0.011987045407295227, 0.0, 0.0, 0.0, 0.0, 0.0], [0.8879779577255249, 0.049009110778570175, 0.020205402746796608, 0.042807456105947495, 0.0, 0.0, 0.0, 0.0], [0.9090718030929565, 0.030806101858615875, 0.009837549179792404, 0.023902595043182373, 0.02638196013867855, 0.0, 0.0, 0.0], [0.8573563694953918, 0.029708590358495712, 0.004054269753396511, 0.03252311423420906, 0.038332801312208176, 0.03802475333213806, 0.0, 0.0], [0.8734438419342041, 0.025393586605787277, 0.018281228840351105, 0.026980480179190636, 0.014668388292193413, 0.01876249723136425, 0.022470014169812202, 0.0], [0.8406179547309875, 0.050776273012161255, 0.024375393986701965, 0.024647222831845284, 0.01503850519657135, 0.014305584132671356, 0.0207133200019598, 0.009525694884359837]], [[1.0, 0.0, 0.0, 0.0, 0.0, 0.0, 0.0, 0.0], [0.9870490431785583, 0.012950939126312733, 0.0, 0.0, 0.0, 0.0, 0.0, 0.0], [0.49802035093307495, 0.32699182629585266, 0.17498779296875, 0.0, 0.0, 0.0, 0.0, 0.0], [0.125816211104393, 0.15545299649238586, 0.6305517554283142, 0.08817916363477707, 0.0, 0.0, 0.0, 0.0], [0.09270364046096802, 0.023881899192929268, 0.08574008196592331, 0.7102387547492981, 0.08743562549352646, 0.0, 0.0, 0.0], [0.005100965965539217, 0.0012785414000973105, 0.002014322904869914, 0.06208518519997597, 0.9205710291862488, 0.008949997834861279, 0.0, 0.0], [0.011103295721113682, 0.00177006796002388, 0.0038077253848314285, 0.07436372339725494, 0.7350938320159912, 0.14786256849765778, 0.025998767465353012, 0.0], [0.005343915894627571, 0.0006303043337538838, 0.0010128014255315065, 0.00737379165366292, 0.12155286967754364, 0.042649947106838226, 0.7985019683837891, 0.022934358566999435]], [[1.0, 0.0, 0.0, 0.0, 0.0, 0.0, 0.0, 0.0], [0.9801091551780701, 0.019890891388058662, 0.0, 0.0, 0.0, 0.0, 0.0, 0.0], [0.6836222410202026, 0.23377220332622528, 0.08260558545589447, 0.0, 0.0, 0.0, 0.0, 0.0], [0.43558621406555176, 0.27633097767829895, 0.16407907009124756, 0.12400373816490173, 0.0, 0.0, 0.0, 0.0], [0.4762362837791443, 0.10101105272769928, 0.08828499168157578, 0.22829362750053406, 0.10617401450872421, 0.0, 0.0, 0.0], [0.3634745478630066, 0.12634608149528503, 0.0847490131855011, 0.20115484297275543, 0.08428358286619186, 0.1399919092655182, 0.0, 0.0], [0.2537403404712677, 0.03469765558838844, 0.035788923501968384, 0.08620891720056534, 0.1298036426305771, 0.2157052457332611, 0.24405530095100403, 0.0], [0.09336385875940323, 0.015947123989462852, 0.016492465510964394, 0.03977642208337784, 0.053298551589250565, 0.12802858650684357, 0.49529778957366943, 0.15779519081115723]], [[1.0, 0.0, 0.0, 0.0, 0.0, 0.0, 0.0, 0.0], [0.9858729839324951, 0.014126981608569622, 0.0, 0.0, 0.0, 0.0, 0.0, 0.0], [0.7736838459968567, 0.1887415200471878, 0.037574704736471176, 0.0, 0.0, 0.0, 0.0, 0.0], [0.7135138511657715, 0.05029890686273575, 0.05929435044527054, 0.1768929809331894, 0.0, 0.0, 0.0, 0.0], [0.2774173319339752, 0.011485212482511997, 0.008298392407596111, 0.5853467583656311, 0.11745227128267288, 0.0, 0.0, 0.0], [0.1864708811044693, 0.00873295683413744, 0.003310363506898284, 0.4684295356273651, 0.318472295999527, 0.014583918265998363, 0.0, 0.0], [0.3055756688117981, 0.009036245755851269, 0.005718729458749294, 0.22331564128398895, 0.3043202757835388, 0.10736864805221558, 0.04466481879353523, 0.0], [0.3098744750022888, 0.009168794378638268, 0.0041290950030088425, 0.15701034665107727, 0.042278140783309937, 0.06899335235357285, 0.3751859962940216, 0.03335990011692047]], [[1.0, 0.0, 0.0, 0.0, 0.0, 0.0, 0.0, 0.0], [0.9530206918716431, 0.04697934910655022, 0.0, 0.0, 0.0, 0.0, 0.0, 0.0], [0.6549946069717407, 0.2327396422624588, 0.11226582527160645, 0.0, 0.0, 0.0, 0.0, 0.0], [0.3027471601963043, 0.14265844225883484, 0.2287537157535553, 0.32584062218666077, 0.0, 0.0, 0.0, 0.0], [0.13069234788417816, 0.02419726550579071, 0.05689864978194237, 0.675859808921814, 0.11235182732343674, 0.0, 0.0, 0.0], [0.13765975832939148, 0.013354357331991196, 0.031063521280884743, 0.5521853566169739, 0.19425305724143982, 0.07148396223783493, 0.0, 0.0], [0.0948295146226883, 0.005918694194406271, 0.01427406258881092, 0.42458218336105347, 0.13386739790439606, 0.23351097106933594, 0.0930170789361, 0.0], [0.0748179480433464, 0.004616731312125921, 0.010800124146044254, 0.2022927701473236, 0.07013256847858429, 0.10918740183115005, 0.38652360439300537, 0.1416289210319519]], [[1.0, 0.0, 0.0, 0.0, 0.0, 0.0, 0.0, 0.0], [0.9784841537475586, 0.021515876054763794, 0.0, 0.0, 0.0, 0.0, 0.0, 0.0], [0.9366821646690369, 0.032014504075050354, 0.03130336478352547, 0.0, 0.0, 0.0, 0.0, 0.0], [0.8525521755218506, 0.021114913746714592, 0.01790740340948105, 0.10842553526163101, 0.0, 0.0, 0.0, 0.0], [0.7909563183784485, 0.01960584707558155, 0.017441825941205025, 0.10213283449411392, 0.06986325234174728, 0.0, 0.0, 0.0], [0.6852565407752991, 0.023523148149251938, 0.021973764523863792, 0.1358441561460495, 0.06973087787628174, 0.06367149949073792, 0.0, 0.0], [0.7123144268989563, 0.01600773259997368, 0.01805024780333042, 0.11662387102842331, 0.048971276730298996, 0.035105615854263306, 0.052926771342754364, 0.0], [0.6993016004562378, 0.009607981890439987, 0.010285362601280212, 0.09180983901023865, 0.04143626615405083, 0.0380864180624485, 0.04330451041460037, 0.06616797298192978]], [[1.0, 0.0, 0.0, 0.0, 0.0, 0.0, 0.0, 0.0], [0.7613192200660706, 0.23868076503276825, 0.0, 0.0, 0.0, 0.0, 0.0, 0.0], [0.4588944911956787, 0.15391600131988525, 0.38718944787979126, 0.0, 0.0, 0.0, 0.0, 0.0], [0.4092707335948944, 0.08272849023342133, 0.25249770283699036, 0.2555031180381775, 0.0, 0.0, 0.0, 0.0], [0.2497752457857132, 0.054685939103364944, 0.14174781739711761, 0.15607424080371857, 0.39771682024002075, 0.0, 0.0, 0.0], [0.22032663226127625, 0.035226140171289444, 0.09332077205181122, 0.1134440153837204, 0.2829965651035309, 0.2546858787536621, 0.0, 0.0], [0.19485267996788025, 0.02347434125840664, 0.0675935447216034, 0.08823347836732864, 0.20033060014247894, 0.17332196235656738, 0.2521933615207672, 0.0], [0.15162193775177002, 0.02204814739525318, 0.05338125675916672, 0.06372450292110443, 0.1457732915878296, 0.11776416003704071, 0.17481254041194916, 0.27087414264678955]], [[1.0, 0.0, 0.0, 0.0, 0.0, 0.0, 0.0, 0.0], [0.8861830830574036, 0.11381697654724121, 0.0, 0.0, 0.0, 0.0, 0.0, 0.0], [0.35326096415519714, 0.6157654523849487, 0.030973535031080246, 0.0, 0.0, 0.0, 0.0, 0.0], [0.32284048199653625, 0.5401706099510193, 0.05066683888435364, 0.08632197976112366, 0.0, 0.0, 0.0, 0.0], [0.3115001320838928, 0.22944912314414978, 0.05166715756058693, 0.25952818989753723, 0.14785538613796234, 0.0, 0.0, 0.0], [0.09776083379983902, 0.053309179842472076, 0.013064873404800892, 0.12479209899902344, 0.6340728998184204, 0.07700004428625107, 0.0, 0.0], [0.14145448803901672, 0.10289089381694794, 0.020270787179470062, 0.17328457534313202, 0.16772620379924774, 0.18451835215091705, 0.20985473692417145, 0.0], [0.03513592854142189, 0.015131414867937565, 0.005890187341719866, 0.02389449067413807, 0.12043345719575882, 0.07576553523540497, 0.6981229186058044, 0.025626014918088913]], [[1.0, 0.0, 0.0, 0.0, 0.0, 0.0, 0.0, 0.0], [0.9818841218948364, 0.018115853890776634, 0.0, 0.0, 0.0, 0.0, 0.0, 0.0], [0.6942635178565979, 0.1572144627571106, 0.14852210879325867, 0.0, 0.0, 0.0, 0.0, 0.0], [0.20037081837654114, 0.13506585359573364, 0.6304873824119568, 0.0340760163962841, 0.0, 0.0, 0.0, 0.0], [0.16240455210208893, 0.2774105966091156, 0.3289298415184021, 0.11947392672300339, 0.11178111284971237, 0.0, 0.0, 0.0], [0.15095579624176025, 0.17715229094028473, 0.27156034111976624, 0.093013696372509, 0.23469829559326172, 0.07261953502893448, 0.0, 0.0], [0.13727624714374542, 0.06721559911966324, 0.18333347141742706, 0.07021180540323257, 0.18087764084339142, 0.1353161484003067, 0.22576911747455597, 0.0], [0.05877740681171417, 0.029660172760486603, 0.12086477130651474, 0.026133965700864792, 0.07011840492486954, 0.08110214024782181, 0.34592658281326294, 0.2674165368080139]], [[1.0, 0.0, 0.0, 0.0, 0.0, 0.0, 0.0, 0.0], [0.8348661065101624, 0.16513381898403168, 0.0, 0.0, 0.0, 0.0, 0.0, 0.0], [0.6485315561294556, 0.13567936420440674, 0.2157890647649765, 0.0, 0.0, 0.0, 0.0, 0.0], [0.56194007396698, 0.14715133607387543, 0.20164676010608673, 0.08926176279783249, 0.0, 0.0, 0.0, 0.0], [0.45100897550582886, 0.12109335511922836, 0.14240549504756927, 0.07055870443582535, 0.21493346989154816, 0.0, 0.0, 0.0], [0.3646514415740967, 0.10267322510480881, 0.1131395697593689, 0.06510595977306366, 0.1835775375366211, 0.17085227370262146, 0.0, 0.0], [0.29448020458221436, 0.07156841456890106, 0.10003187507390976, 0.05698466673493385, 0.1532752513885498, 0.1277346909046173, 0.19592495262622833, 0.0], [0.24691540002822876, 0.059694841504096985, 0.07614177465438843, 0.04753211885690689, 0.1208554282784462, 0.0997898280620575, 0.1605439931154251, 0.18852658569812775]], [[1.0, 0.0, 0.0, 0.0, 0.0, 0.0, 0.0, 0.0], [0.9388585090637207, 0.061141472309827805, 0.0, 0.0, 0.0, 0.0, 0.0, 0.0], [0.8354513049125671, 0.052696339786052704, 0.11185234040021896, 0.0, 0.0, 0.0, 0.0, 0.0], [0.8082860112190247, 0.04825183376669884, 0.08718155324459076, 0.05628068000078201, 0.0, 0.0, 0.0, 0.0], [0.7752597332000732, 0.03866061195731163, 0.062350865453481674, 0.03810843452811241, 0.08562034368515015, 0.0, 0.0, 0.0], [0.7211295366287231, 0.038937270641326904, 0.048621345311403275, 0.035367418080568314, 0.0739215686917305, 0.08202282339334488, 0.0, 0.0], [0.7071878910064697, 0.024893226101994514, 0.03719724714756012, 0.02791370265185833, 0.06195205822587013, 0.057784948498010635, 0.0830710306763649, 0.0], [0.6666287183761597, 0.021407123655080795, 0.031051993370056152, 0.024239515885710716, 0.048206496983766556, 0.04663652926683426, 0.06710522621870041, 0.09472434967756271]]], [[[1.0, 0.0, 0.0, 0.0, 0.0, 0.0, 0.0, 0.0], [0.953302264213562, 0.04669777303934097, 0.0, 0.0, 0.0, 0.0, 0.0, 0.0], [0.9224206805229187, 0.03472170606255531, 0.042857617139816284, 0.0, 0.0, 0.0, 0.0, 0.0], [0.9930166006088257, 0.004262689035385847, 0.0007465436938218772, 0.0019740969873964787, 0.0, 0.0, 0.0, 0.0], [0.9445956349372864, 0.007345202844589949, 0.0010362486355006695, 0.0015758948866277933, 0.045447010546922684, 0.0, 0.0, 0.0], [0.9480430483818054, 0.0017702984623610973, 0.0005310434498824179, 0.0017839703941717744, 0.0027118271682411432, 0.04515979066491127, 0.0, 0.0], [0.8273091912269592, 0.0018879292765632272, 0.0005020229145884514, 0.0025308874901384115, 0.00021758975344710052, 0.0005368519341573119, 0.16701556742191315, 0.0], [0.9457334280014038, 0.0015615759184584022, 0.0005164915346540511, 0.0023932873737066984, 0.00020565390877891332, 0.00021473542437888682, 0.0005300129996612668, 0.048844899982213974]], [[1.0, 0.0, 0.0, 0.0, 0.0, 0.0, 0.0, 0.0], [0.9216241240501404, 0.07837583869695663, 0.0, 0.0, 0.0, 0.0, 0.0, 0.0], [0.890324592590332, 0.07457626610994339, 0.03509911894798279, 0.0, 0.0, 0.0, 0.0, 0.0], [0.8923196792602539, 0.054459575563669205, 0.007046006619930267, 0.04617476835846901, 0.0, 0.0, 0.0, 0.0], [0.7534672617912292, 0.032868582755327225, 0.008766230195760727, 0.15473447740077972, 0.05016345530748367, 0.0, 0.0, 0.0], [0.6973878741264343, 0.028287718072533607, 0.004633898381143808, 0.1682382971048355, 0.07182919234037399, 0.029623014852404594, 0.0, 0.0], [0.6473815441131592, 0.015762295573949814, 0.006139710079878569, 0.176380917429924, 0.09646864980459213, 0.037425972521305084, 0.02044091373682022, 0.0], [0.5076044797897339, 0.0159041378647089, 0.004805741831660271, 0.16223843395709991, 0.06375513970851898, 0.15249644219875336, 0.04074382036924362, 0.05245175585150719]], [[1.0, 0.0, 0.0, 0.0, 0.0, 0.0, 0.0, 0.0], [0.8699756264686584, 0.13002438843250275, 0.0, 0.0, 0.0, 0.0, 0.0, 0.0], [0.19353370368480682, 0.6873717904090881, 0.11909458041191101, 0.0, 0.0, 0.0, 0.0, 0.0], [0.13259011507034302, 0.4988051652908325, 0.31132301688194275, 0.057281654328107834, 0.0, 0.0, 0.0, 0.0], [0.4655393660068512, 0.04141510650515556, 0.07637699693441391, 0.326154500246048, 0.09051396697759628, 0.0, 0.0, 0.0], [0.2461458295583725, 0.07291815429925919, 0.045289296656847, 0.21073122322559357, 0.3707658350467682, 0.05414968356490135, 0.0, 0.0], [0.02829192951321602, 0.006515172775834799, 0.005745881237089634, 0.02039412595331669, 0.12062804400920868, 0.7950578927993774, 0.02336699143052101, 0.0], [0.12516804039478302, 0.013966700062155724, 0.007936767302453518, 0.016853492707014084, 0.08139582723379135, 0.42068326473236084, 0.2768571972846985, 0.0571385994553566]], [[1.0, 0.0, 0.0, 0.0, 0.0, 0.0, 0.0, 0.0], [0.9664912819862366, 0.03350865840911865, 0.0, 0.0, 0.0, 0.0, 0.0, 0.0], [0.6618359684944153, 0.315849244594574, 0.02231484092772007, 0.0, 0.0, 0.0, 0.0, 0.0], [0.34651654958724976, 0.06062083691358566, 0.5383423566818237, 0.05452021211385727, 0.0, 0.0, 0.0, 0.0], [0.5239720940589905, 0.005993366707116365, 0.0039426228031516075, 0.44636934995651245, 0.019722526893019676, 0.0, 0.0, 0.0], [0.5248752236366272, 0.013011789880692959, 0.0015539091546088457, 0.2011232227087021, 0.18558137118816376, 0.07385452091693878, 0.0, 0.0], [0.24210865795612335, 0.005608581937849522, 0.00046796450624242425, 0.045047324150800705, 0.05464066192507744, 0.6312715411186218, 0.020855341106653214, 0.0], [0.034697212278842926, 0.000889812596142292, 3.757109880098142e-05, 0.002171429106965661, 0.02431419864296913, 0.047292616218328476, 0.8893142938613892, 0.0012829538900405169]], [[1.0, 0.0, 0.0, 0.0, 0.0, 0.0, 0.0, 0.0], [0.9919358491897583, 0.008064115419983864, 0.0, 0.0, 0.0, 0.0, 0.0, 0.0], [0.9732311367988586, 0.014515303075313568, 0.01225355640053749, 0.0, 0.0, 0.0, 0.0, 0.0], [0.9533407092094421, 0.010729686357080936, 0.007471241056919098, 0.028458332642912865, 0.0, 0.0, 0.0, 0.0], [0.9397611618041992, 0.021738776937127113, 0.0096574816852808, 0.024561362341046333, 0.004281108733266592, 0.0, 0.0, 0.0], [0.9412775635719299, 0.014047414995729923, 0.0030318002682179213, 0.015339410863816738, 0.019796142354607582, 0.006507754325866699, 0.0, 0.0], [0.9325107336044312, 0.023294443264603615, 0.005900087766349316, 0.01189811434596777, 0.011710512451827526, 0.00978147704154253, 0.004904570523649454, 0.0], [0.9383639693260193, 0.008217576891183853, 0.012600385583937168, 0.01658204197883606, 0.015624593943357468, 0.002839375287294388, 0.0015830943593755364, 0.004188945982605219]], [[1.0, 0.0, 0.0, 0.0, 0.0, 0.0, 0.0, 0.0], [0.9530370235443115, 0.04696296527981758, 0.0, 0.0, 0.0, 0.0, 0.0, 0.0], [0.7210528254508972, 0.19541679322719574, 0.08353045582771301, 0.0, 0.0, 0.0, 0.0, 0.0], [0.6731977462768555, 0.21298298239707947, 0.08311594277620316, 0.030703332275152206, 0.0, 0.0, 0.0, 0.0], [0.5769672989845276, 0.3448112905025482, 0.04593627527356148, 0.014741730876266956, 0.017543494701385498, 0.0, 0.0, 0.0], [0.6009917259216309, 0.21284130215644836, 0.08258061856031418, 0.053023628890514374, 0.030485067516565323, 0.020077688619494438, 0.0, 0.0], [0.6582984924316406, 0.15332598984241486, 0.08538064360618591, 0.03232213854789734, 0.038370005786418915, 0.007871989160776138, 0.024430813267827034, 0.0], [0.6201592087745667, 0.07024196535348892, 0.15587672591209412, 0.04478644207119942, 0.02705341950058937, 0.012229948304593563, 0.04004383832216263, 0.029608557000756264]], [[1.0, 0.0, 0.0, 0.0, 0.0, 0.0, 0.0, 0.0], [0.9764825105667114, 0.023517493158578873, 0.0, 0.0, 0.0, 0.0, 0.0, 0.0], [0.5742917060852051, 0.2452772557735443, 0.18043096363544464, 0.0, 0.0, 0.0, 0.0, 0.0], [0.3472044765949249, 0.12388046830892563, 0.46290066838264465, 0.06601446866989136, 0.0, 0.0, 0.0, 0.0], [0.3748561441898346, 0.11566610634326935, 0.08742734789848328, 0.28470954298973083, 0.13734085857868195, 0.0, 0.0, 0.0], [0.38238340616226196, 0.0434391014277935, 0.018530603498220444, 0.23659749329090118, 0.28403785824775696, 0.03501148149371147, 0.0, 0.0], [0.49594005942344666, 0.022205568850040436, 0.008228838443756104, 0.18255023658275604, 0.14767198264598846, 0.11517558991909027, 0.028227604925632477, 0.0], [0.34847885370254517, 0.0253228098154068, 0.014714286662638187, 0.07470618188381195, 0.14978629350662231, 0.14568360149860382, 0.09100650250911713, 0.1503015011548996]], [[1.0, 0.0, 0.0, 0.0, 0.0, 0.0, 0.0, 0.0], [0.9664741158485413, 0.03352580592036247, 0.0, 0.0, 0.0, 0.0, 0.0, 0.0], [0.5461530089378357, 0.34498679637908936, 0.10886017233133316, 0.0, 0.0, 0.0, 0.0, 0.0], [0.13305620849132538, 0.05860156565904617, 0.7642888426780701, 0.04405335709452629, 0.0, 0.0, 0.0, 0.0], [0.4083670675754547, 0.0721593052148819, 0.1215982437133789, 0.2483043074607849, 0.149571031332016, 0.0, 0.0, 0.0], [0.5573304295539856, 0.08220651745796204, 0.06760859489440918, 0.13861076533794403, 0.08146781474351883, 0.07277591526508331, 0.0, 0.0], [0.29739102721214294, 0.038442835211753845, 0.03396543860435486, 0.14206917583942413, 0.09778156876564026, 0.07426279038190842, 0.3160872161388397, 0.0], [0.14042529463768005, 0.00985977053642273, 0.009715289808809757, 0.009336503222584724, 0.028075380250811577, 0.08692048490047455, 0.6358401775360107, 0.07982717454433441]], [[1.0, 0.0, 0.0, 0.0, 0.0, 0.0, 0.0, 0.0], [0.944777250289917, 0.0552227683365345, 0.0, 0.0, 0.0, 0.0, 0.0, 0.0], [0.49904826283454895, 0.4709066152572632, 0.03004521317780018, 0.0, 0.0, 0.0, 0.0, 0.0], [0.43191197514533997, 0.25518301129341125, 0.05795671418309212, 0.25494828820228577, 0.0, 0.0, 0.0, 0.0], [0.14164461195468903, 0.013019310310482979, 0.02202964946627617, 0.80408775806427, 0.01921870931982994, 0.0, 0.0, 0.0], [0.33250534534454346, 0.016646549105644226, 0.006747704464942217, 0.5646237134933472, 0.0475517176091671, 0.031924955546855927, 0.0, 0.0], [0.19189654290676117, 0.013779915869235992, 0.0004077106714248657, 0.29127201437950134, 0.17410029470920563, 0.21105530858039856, 0.11748828738927841, 0.0], [0.18251028656959534, 0.008126313798129559, 0.0026464113034307957, 0.08856906741857529, 0.023270202800631523, 0.17534668743610382, 0.4949261248111725, 0.024604815989732742]], [[1.0, 0.0, 0.0, 0.0, 0.0, 0.0, 0.0, 0.0], [0.9726026058197021, 0.027397383004426956, 0.0, 0.0, 0.0, 0.0, 0.0, 0.0], [0.38688957691192627, 0.5718056559562683, 0.04130474850535393, 0.0, 0.0, 0.0, 0.0, 0.0], [0.5816926956176758, 0.35375815629959106, 0.016667747870087624, 0.04788147658109665, 0.0, 0.0, 0.0, 0.0], [0.8866695761680603, 0.00735733425244689, 0.002696432638913393, 0.08389542251825333, 0.019381215795874596, 0.0, 0.0, 0.0], [0.7090068459510803, 0.005666674580425024, 0.0036249493714421988, 0.06353822350502014, 0.18334029614925385, 0.034822992980480194, 0.0, 0.0], [0.19683243334293365, 0.0655386745929718, 0.0023931374307721853, 0.018177974969148636, 0.3758915364742279, 0.3135240375995636, 0.02764224074780941, 0.0], [0.3721686899662018, 0.04991783946752548, 0.00642484612762928, 0.03176547959446907, 0.16244836151599884, 0.11373060196638107, 0.24266399443149567, 0.020880145952105522]], [[1.0, 0.0, 0.0, 0.0, 0.0, 0.0, 0.0, 0.0], [0.9879427552223206, 0.01205726619809866, 0.0, 0.0, 0.0, 0.0, 0.0, 0.0], [0.8744112253189087, 0.017371512949466705, 0.10821721702814102, 0.0, 0.0, 0.0, 0.0, 0.0], [0.7558255791664124, 0.04432344809174538, 0.1132812425494194, 0.0865696594119072, 0.0, 0.0, 0.0, 0.0], [0.6882330179214478, 0.01445035357028246, 0.03187534213066101, 0.16276922821998596, 0.10267209261655807, 0.0, 0.0, 0.0], [0.7662914395332336, 0.01979801058769226, 0.02437383309006691, 0.10471966117620468, 0.024811698123812675, 0.060005299746990204, 0.0, 0.0], [0.6996569633483887, 0.015435902401804924, 0.011536062695086002, 0.036501139402389526, 0.02110259234905243, 0.07103720307350159, 0.1447300910949707, 0.0], [0.6770274043083191, 0.009501636028289795, 0.019020669162273407, 0.023014768958091736, 0.014888915233314037, 0.06887408345937729, 0.06810493767261505, 0.11956758797168732]], [[1.0, 0.0, 0.0, 0.0, 0.0, 0.0, 0.0, 0.0], [0.9540113210678101, 0.04598873853683472, 0.0, 0.0, 0.0, 0.0, 0.0, 0.0], [0.593965470790863, 0.3316550552845001, 0.07437951117753983, 0.0, 0.0, 0.0, 0.0, 0.0], [0.3869321942329407, 0.2810198962688446, 0.22952356934547424, 0.10252431035041809, 0.0, 0.0, 0.0, 0.0], [0.7422409057617188, 0.05627468228340149, 0.041782379150390625, 0.11306644976139069, 0.046635597944259644, 0.0, 0.0, 0.0], [0.6206879019737244, 0.0612458698451519, 0.019827913492918015, 0.17489053308963776, 0.05451630800962448, 0.0688314288854599, 0.0, 0.0], [0.4954150915145874, 0.012620731256902218, 0.042485617101192474, 0.12022274732589722, 0.022884074598550797, 0.19938869774341583, 0.10698310285806656, 0.0], [0.20588429272174835, 0.012867835350334644, 0.006665696389973164, 0.025154517963528633, 0.018169578164815903, 0.1995905637741089, 0.5069725513458252, 0.024694934487342834]]], [[[1.0, 0.0, 0.0, 0.0, 0.0, 0.0, 0.0, 0.0], [0.950227677822113, 0.04977237060666084, 0.0, 0.0, 0.0, 0.0, 0.0, 0.0], [0.11715763807296753, 0.8787174820899963, 0.004124910105019808, 0.0, 0.0, 0.0, 0.0, 0.0], [0.19187620282173157, 0.7753656506538391, 0.010405176319181919, 0.02235301211476326, 0.0, 0.0, 0.0, 0.0], [0.804071307182312, 0.018371999263763428, 0.0014793555019423366, 0.1496744602918625, 0.026402806863188744, 0.0, 0.0, 0.0], [0.7054584622383118, 0.01721174828708172, 0.0007191270706243813, 0.12278683483600616, 0.054354917258024216, 0.09946900606155396, 0.0, 0.0], [0.4565969407558441, 0.049200575798749924, 0.0003985945659223944, 0.020572086796164513, 0.08210252970457077, 0.3483736515045166, 0.04275565966963768, 0.0], [0.019939616322517395, 0.005314703565090895, 0.00016892379790078849, 0.0020268575754016638, 0.0154814338311553, 0.02028188295662403, 0.9332133531570435, 0.00357325142249465]], [[1.0, 0.0, 0.0, 0.0, 0.0, 0.0, 0.0, 0.0], [0.9842066764831543, 0.015793349593877792, 0.0, 0.0, 0.0, 0.0, 0.0, 0.0], [0.7385416030883789, 0.2084820568561554, 0.052976373583078384, 0.0, 0.0, 0.0, 0.0, 0.0], [0.6633180975914001, 0.14866800606250763, 0.04005572572350502, 0.14795814454555511, 0.0, 0.0, 0.0, 0.0], [0.36129385232925415, 0.004226097837090492, 0.002718291012570262, 0.6290271282196045, 0.002734620124101639, 0.0, 0.0, 0.0], [0.32448968291282654, 0.006444623693823814, 0.00689838407561183, 0.6235154867172241, 0.01871589757502079, 0.01993584632873535, 0.0, 0.0], [0.4629456102848053, 0.0032510687597095966, 0.014064027927815914, 0.4026210904121399, 0.02085249312222004, 0.09097586572170258, 0.005289798602461815, 0.0], [0.3320491313934326, 0.013050862587988377, 0.005245376378297806, 0.18377892673015594, 0.1272207498550415, 0.23113471269607544, 0.04794900491833687, 0.05957120656967163]], [[1.0, 0.0, 0.0, 0.0, 0.0, 0.0, 0.0, 0.0], [0.9729976654052734, 0.027002355083823204, 0.0, 0.0, 0.0, 0.0, 0.0, 0.0], [0.9305701851844788, 0.0595872662961483, 0.009842591360211372, 0.0, 0.0, 0.0, 0.0, 0.0], [0.9153701663017273, 0.04403388127684593, 0.008137526921927929, 0.03245836868882179, 0.0, 0.0, 0.0, 0.0], [0.9490233063697815, 0.019628671929240227, 0.0026408671401441097, 0.021453022956848145, 0.007254200056195259, 0.0, 0.0, 0.0], [0.9200422167778015, 0.020097173750400543, 0.0018466300098225474, 0.021635627374053, 0.00808488205075264, 0.028293514624238014, 0.0, 0.0], [0.8227663636207581, 0.03375893086194992, 0.008701895363628864, 0.03174757584929466, 0.015381206758320332, 0.04214820638298988, 0.04549584537744522, 0.0], [0.8884838819503784, 0.031302276998758316, 0.005660207010805607, 0.01897059753537178, 0.01171648409217596, 0.016720179468393326, 0.017277788370847702, 0.009868573397397995]], [[1.0, 0.0, 0.0, 0.0, 0.0, 0.0, 0.0, 0.0], [0.891133725643158, 0.10886623710393906, 0.0, 0.0, 0.0, 0.0, 0.0, 0.0], [0.7140336036682129, 0.23790572583675385, 0.04806068539619446, 0.0, 0.0, 0.0, 0.0, 0.0], [0.45898327231407166, 0.19144202768802643, 0.29041728377342224, 0.059157442301511765, 0.0, 0.0, 0.0, 0.0], [0.6632300615310669, 0.25232169032096863, 0.0075718010775744915, 0.01309129036962986, 0.06378516554832458, 0.0, 0.0, 0.0], [0.69748455286026, 0.1901291459798813, 0.007171248085796833, 0.013948558829724789, 0.0711437240242958, 0.020122746005654335, 0.0, 0.0], [0.4157925546169281, 0.2904658317565918, 0.012996450997889042, 0.05355415865778923, 0.10717353224754333, 0.08650475740432739, 0.03351278975605965, 0.0], [0.17759239673614502, 0.02187083475291729, 0.6958509087562561, 0.018836764618754387, 0.02337930165231228, 0.0030999905429780483, 0.017763033509254456, 0.04160672798752785]], [[1.0, 0.0, 0.0, 0.0, 0.0, 0.0, 0.0, 0.0], [0.9791968464851379, 0.02080315537750721, 0.0, 0.0, 0.0, 0.0, 0.0, 0.0], [0.5159242153167725, 0.36716553568840027, 0.11691029369831085, 0.0, 0.0, 0.0, 0.0, 0.0], [0.6128412485122681, 0.20632536709308624, 0.11974319815635681, 0.06109021604061127, 0.0, 0.0, 0.0, 0.0], [0.8678417801856995, 0.05134591460227966, 0.01245882362127304, 0.0316455215215683, 0.036707907915115356, 0.0, 0.0, 0.0], [0.7926083207130432, 0.02737288363277912, 0.007415274158120155, 0.025354202836751938, 0.10921568423509598, 0.03803364187479019, 0.0, 0.0], [0.829631507396698, 0.010627051815390587, 0.0018869354389607906, 0.00783711951225996, 0.04277432709932327, 0.07105452567338943, 0.03618853539228439, 0.0], [0.7960485219955444, 0.018910866230726242, 0.014876540750265121, 0.01695641689002514, 0.008687383495271206, 0.029238229617476463, 0.055055711418390274, 0.06022632494568825]], [[1.0, 0.0, 0.0, 0.0, 0.0, 0.0, 0.0, 0.0], [0.9475740790367126, 0.052425965666770935, 0.0, 0.0, 0.0, 0.0, 0.0, 0.0], [0.677277684211731, 0.18936441838741302, 0.13335780799388885, 0.0, 0.0, 0.0, 0.0, 0.0], [0.5650413036346436, 0.12364561855792999, 0.2665845453739166, 0.04472850635647774, 0.0, 0.0, 0.0, 0.0], [0.9191775918006897, 0.02348998561501503, 0.016390550881624222, 0.01857117749750614, 0.02237067185342312, 0.0, 0.0, 0.0], [0.9367244243621826, 0.020318152382969856, 0.003639310598373413, 0.013577871024608612, 0.02265012450516224, 0.003090046811848879, 0.0, 0.0], [0.780555009841919, 0.018162721768021584, 0.011788653209805489, 0.03376112878322601, 0.07159312814474106, 0.05590282753109932, 0.0282365120947361, 0.0], [0.846634030342102, 0.006198509130626917, 0.0027569637168198824, 0.030920658260583878, 0.00851867999881506, 0.010256094858050346, 0.07245088368654251, 0.02226424403488636]], [[1.0, 0.0, 0.0, 0.0, 0.0, 0.0, 0.0, 0.0], [0.9777981042861938, 0.022201882675290108, 0.0, 0.0, 0.0, 0.0, 0.0, 0.0], [0.8721441030502319, 0.09745345264673233, 0.030402449890971184, 0.0, 0.0, 0.0, 0.0, 0.0], [0.6411840319633484, 0.1259807050228119, 0.12590128183364868, 0.10693399608135223, 0.0, 0.0, 0.0, 0.0], [0.42268213629722595, 0.15926258265972137, 0.1899481564760208, 0.17574089765548706, 0.05236627534031868, 0.0, 0.0, 0.0], [0.6474716067314148, 0.10207198560237885, 0.06220265105366707, 0.13294072449207306, 0.039020199328660965, 0.016292789950966835, 0.0, 0.0], [0.5555832386016846, 0.11707755923271179, 0.05075614154338837, 0.08819358795881271, 0.06251667439937592, 0.05131236091256142, 0.07456042617559433, 0.0], [0.5966725945472717, 0.04164198040962219, 0.03975535184144974, 0.04236158728599548, 0.04539664462208748, 0.056791823357343674, 0.14764949679374695, 0.02973056212067604]], [[1.0, 0.0, 0.0, 0.0, 0.0, 0.0, 0.0, 0.0], [0.9702153205871582, 0.029784630984067917, 0.0, 0.0, 0.0, 0.0, 0.0, 0.0], [0.6516075730323792, 0.09371355921030045, 0.2546789348125458, 0.0, 0.0, 0.0, 0.0, 0.0], [0.19949398934841156, 0.053170233964920044, 0.10489218682050705, 0.6424435973167419, 0.0, 0.0, 0.0, 0.0], [0.25761207938194275, 0.018617086112499237, 0.0058077238500118256, 0.1732167750597, 0.5447463393211365, 0.0, 0.0, 0.0], [0.2691156566143036, 0.025508416816592216, 0.012009807862341404, 0.07597175985574722, 0.1060006394982338, 0.5113937258720398, 0.0, 0.0], [0.2480330914258957, 0.022265182808041573, 0.004142228979617357, 0.028531963005661964, 0.020961808040738106, 0.11121466010808945, 0.5648510456085205, 0.0], [0.3446885943412781, 0.01431314554065466, 0.04782629385590553, 0.012607228010892868, 0.009165830910205841, 0.025451669469475746, 0.20889084041118622, 0.33705639839172363]], [[1.0, 0.0, 0.0, 0.0, 0.0, 0.0, 0.0, 0.0], [0.9870781898498535, 0.012921811081469059, 0.0, 0.0, 0.0, 0.0, 0.0, 0.0], [0.9477061033248901, 0.008221552707254887, 0.044072363525629044, 0.0, 0.0, 0.0, 0.0, 0.0], [0.8624253869056702, 0.014113463461399078, 0.04821327328681946, 0.07524792850017548, 0.0, 0.0, 0.0, 0.0], [0.8729094862937927, 0.020710758864879608, 0.03326801955699921, 0.06654413044452667, 0.006567607168108225, 0.0, 0.0, 0.0], [0.7614678740501404, 0.03884067386388779, 0.056159086525440216, 0.09071479737758636, 0.014821167103946209, 0.03799643740057945, 0.0, 0.0], [0.7877408266067505, 0.02376985363662243, 0.03212110325694084, 0.06988495588302612, 0.010035226121544838, 0.026130948215723038, 0.05031702667474747, 0.0], [0.8271820545196533, 0.010995276272296906, 0.015343808569014072, 0.03197966888546944, 0.01410586666315794, 0.042834244668483734, 0.0445915162563324, 0.012967622838914394]], [[1.0, 0.0, 0.0, 0.0, 0.0, 0.0, 0.0, 0.0], [0.9388473629951477, 0.061152614653110504, 0.0, 0.0, 0.0, 0.0, 0.0, 0.0], [0.7354770302772522, 0.23320887982845306, 0.0313141755759716, 0.0, 0.0, 0.0, 0.0, 0.0], [0.33589109778404236, 0.565418004989624, 0.08349381387233734, 0.015197018161416054, 0.0, 0.0, 0.0, 0.0], [0.29237499833106995, 0.5924487113952637, 0.08197003602981567, 0.027534447610378265, 0.005671793594956398, 0.0, 0.0, 0.0], [0.6241764426231384, 0.21203859150409698, 0.035078246146440506, 0.03485671803355217, 0.05239684507250786, 0.041453227400779724, 0.0, 0.0], [0.3556337058544159, 0.13186275959014893, 0.024532996118068695, 0.03706054016947746, 0.07083496451377869, 0.2601863741874695, 0.11988861858844757, 0.0], [0.4087008237838745, 0.0764600858092308, 0.015928182750940323, 0.016389770433306694, 0.041302863508462906, 0.12875862419605255, 0.2841080129146576, 0.028351621702313423]], [[1.0, 0.0, 0.0, 0.0, 0.0, 0.0, 0.0, 0.0], [0.983817458152771, 0.01618250645697117, 0.0, 0.0, 0.0, 0.0, 0.0, 0.0], [0.960272490978241, 0.010869638994336128, 0.028857924044132233, 0.0, 0.0, 0.0, 0.0, 0.0], [0.9326755404472351, 0.01600460708141327, 0.006135862786322832, 0.045183952897787094, 0.0, 0.0, 0.0, 0.0], [0.9409830570220947, 0.007373312022536993, 0.011392086744308472, 0.028006695210933685, 0.012244878336787224, 0.0, 0.0, 0.0], [0.9001497626304626, 0.0182413961738348, 0.011314669623970985, 0.03033301793038845, 0.013483182527124882, 0.026477985084056854, 0.0, 0.0], [0.9017692804336548, 0.013384283520281315, 0.024499954655766487, 0.02371932938694954, 0.010242648422718048, 0.010313546285033226, 0.016070900484919548, 0.0], [0.9219683408737183, 0.007698684465140104, 0.003314448520541191, 0.013879031874239445, 0.008455479517579079, 0.00854224432259798, 0.018909450620412827, 0.01723230443894863]], [[1.0, 0.0, 0.0, 0.0, 0.0, 0.0, 0.0, 0.0], [0.9999998807907104, 1.329784851122895e-07, 0.0, 0.0, 0.0, 0.0, 0.0, 0.0], [1.929259997268673e-05, 0.999920129776001, 6.054246114217676e-05, 0.0, 0.0, 0.0, 0.0, 0.0], [6.807487351601083e-10, 1.4141352266960894e-07, 0.9999984502792358, 1.386545932291483e-06, 0.0, 0.0, 0.0, 0.0], [2.407492445399839e-07, 5.711294067886619e-13, 3.538156096230538e-13, 0.9999977350234985, 2.011411652347306e-06, 0.0, 0.0, 0.0], [7.925937239861014e-09, 2.15147366589008e-09, 8.916384883032868e-13, 1.4665160961158108e-05, 0.999962329864502, 2.3031372620607726e-05, 0.0, 0.0], [4.281814486306601e-12, 3.3839355877965036e-14, 1.2921395586521205e-18, 1.8720717684383992e-11, 4.976745458407095e-06, 0.9999876022338867, 7.44182489142986e-06, 0.0], [4.553872001711312e-10, 2.853318969986418e-10, 3.562823864058928e-14, 1.0165179245222311e-12, 6.016149356469214e-09, 1.6452274564926483e-07, 0.9998238682746887, 0.00017599925922695547]]], [[[1.0, 0.0, 0.0, 0.0, 0.0, 0.0, 0.0, 0.0], [0.9883437156677246, 0.011656222864985466, 0.0, 0.0, 0.0, 0.0, 0.0, 0.0], [0.9119867086410522, 0.0028738793917000294, 0.0851394534111023, 0.0, 0.0, 0.0, 0.0, 0.0], [0.8209803700447083, 0.005354344844818115, 0.044940266758203506, 0.1287250816822052, 0.0, 0.0, 0.0, 0.0], [0.7614665627479553, 0.007693235296756029, 0.14257588982582092, 0.07973798364400864, 0.00852633360773325, 0.0, 0.0, 0.0], [0.7439278960227966, 0.008215097710490227, 0.12457064539194107, 0.0910068228840828, 0.002742173383012414, 0.029537400230765343, 0.0, 0.0], [0.7579426765441895, 0.0014706635847687721, 0.13147644698619843, 0.06317874044179916, 0.0005722896312363446, 0.005093939136713743, 0.040265146642923355, 0.0], [0.7774293422698975, 0.002610066207125783, 0.0038088245783001184, 0.07140160351991653, 0.0038254093378782272, 0.002277418738231063, 0.09944591671228409, 0.03920139744877815]], [[1.0, 0.0, 0.0, 0.0, 0.0, 0.0, 0.0, 0.0], [0.9999773502349854, 2.2693940991302952e-05, 0.0, 0.0, 0.0, 0.0, 0.0, 0.0], [0.9981936812400818, 3.4487154607631965e-06, 0.0018029320053756237, 0.0, 0.0, 0.0, 0.0, 0.0], [0.9995645880699158, 1.092713137040846e-05, 9.183424845105037e-05, 0.0003326550649944693, 0.0, 0.0, 0.0, 0.0], [0.9986602067947388, 1.7521304471301846e-05, 0.0005147684132680297, 6.309528998826863e-06, 0.000801224319729954, 0.0, 0.0, 0.0], [0.9991064667701721, 2.8297861717874184e-05, 3.447447625148925e-06, 7.169580129584574e-08, 7.835463293304201e-06, 0.0008538709953427315, 0.0, 0.0], [0.9997428059577942, 2.3613149551238166e-06, 6.0838108765892684e-05, 8.508304460974614e-08, 1.0729529549280414e-06, 7.766110684315208e-06, 0.00018505685147829354, 0.0], [0.9975985884666443, 0.0001898801128845662, 1.2909064025734551e-05, 0.0008740080520510674, 3.82093003281625e-06, 3.844916591333458e-06, 7.828254456399009e-05, 0.0012387172318995]], [[1.0, 0.0, 0.0, 0.0, 0.0, 0.0, 0.0, 0.0], [0.8400338292121887, 0.15996617078781128, 0.0, 0.0, 0.0, 0.0, 0.0, 0.0], [0.5289528965950012, 0.4047304689884186, 0.06631659716367722, 0.0, 0.0, 0.0, 0.0, 0.0], [0.3074357807636261, 0.36432260274887085, 0.3107866644859314, 0.017454935237765312, 0.0, 0.0, 0.0, 0.0], [0.20445260405540466, 0.7488086223602295, 0.03382385894656181, 0.00754028744995594, 0.005374663043767214, 0.0, 0.0, 0.0], [0.3430209457874298, 0.4415092170238495, 0.032327018678188324, 0.019367201253771782, 0.1187283843755722, 0.045047327876091, 0.0, 0.0], [0.4931681752204895, 0.13462841510772705, 0.04188676178455353, 0.040362399071455, 0.07123357057571411, 0.20269864797592163, 0.016022032126784325, 0.0], [0.6657036542892456, 0.06926295161247253, 0.015865912660956383, 0.011990438215434551, 0.04426278918981552, 0.07456684112548828, 0.10031461715698242, 0.018032830208539963]], [[1.0, 0.0, 0.0, 0.0, 0.0, 0.0, 0.0, 0.0], [0.9224395155906677, 0.07756049931049347, 0.0, 0.0, 0.0, 0.0, 0.0, 0.0], [0.6016652584075928, 0.34982365369796753, 0.04851110279560089, 0.0, 0.0, 0.0, 0.0, 0.0], [0.6225685477256775, 0.29266056418418884, 0.05587733909487724, 0.028893547132611275, 0.0, 0.0, 0.0, 0.0], [0.5790672302246094, 0.1782020777463913, 0.0599210262298584, 0.13675960898399353, 0.04604994133114815, 0.0, 0.0, 0.0], [0.6070881485939026, 0.1107318252325058, 0.0735432356595993, 0.1101936623454094, 0.07173746079206467, 0.02670564316213131, 0.0, 0.0], [0.47060951590538025, 0.08303359150886536, 0.06620854884386063, 0.13626739382743835, 0.12947653234004974, 0.0806996300816536, 0.033704739063978195, 0.0], [0.4410495460033417, 0.08325690031051636, 0.02522868663072586, 0.03425629436969757, 0.11759847402572632, 0.1874174326658249, 0.09542492777109146, 0.015767740085721016]], [[1.0, 0.0, 0.0, 0.0, 0.0, 0.0, 0.0, 0.0], [0.9084139466285706, 0.09158598631620407, 0.0, 0.0, 0.0, 0.0, 0.0, 0.0], [0.4954010546207428, 0.42516255378723145, 0.07943636178970337, 0.0, 0.0, 0.0, 0.0, 0.0], [0.48049959540367126, 0.16227389872074127, 0.30730533599853516, 0.049921195954084396, 0.0, 0.0, 0.0, 0.0], [0.5387548804283142, 0.09908083826303482, 0.0953504741191864, 0.1603156477212906, 0.10649816691875458, 0.0, 0.0, 0.0], [0.48848533630371094, 0.0802927166223526, 0.08455121517181396, 0.14770153164863586, 0.16281935572624207, 0.03614988178014755, 0.0, 0.0], [0.5087634325027466, 0.026597291231155396, 0.04003056511282921, 0.16065523028373718, 0.07445155829191208, 0.13013513386249542, 0.05936682969331741, 0.0], [0.29289403557777405, 0.03837529942393303, 0.017627660185098648, 0.03849855810403824, 0.05026603490114212, 0.06300988048315048, 0.4592422842979431, 0.04008623957633972]], [[1.0, 0.0, 0.0, 0.0, 0.0, 0.0, 0.0, 0.0], [0.9963020086288452, 0.003698002314195037, 0.0, 0.0, 0.0, 0.0, 0.0, 0.0], [0.8685659170150757, 0.002024857560172677, 0.12940925359725952, 0.0, 0.0, 0.0, 0.0, 0.0], [0.9393293261528015, 0.010149803012609482, 0.025791751220822334, 0.024729179218411446, 0.0, 0.0, 0.0, 0.0], [0.8926799297332764, 0.04050666093826294, 0.04719933867454529, 0.0035757815930992365, 0.016038376837968826, 0.0, 0.0, 0.0], [0.9346873760223389, 0.035320527851581573, 0.006974455900490284, 0.0011772452853620052, 0.008044620975852013, 0.01379572693258524, 0.0, 0.0], [0.9791498780250549, 0.0026645103935152292, 0.010215266607701778, 0.0003546247025951743, 0.002438488183543086, 0.0014385934919118881, 0.0037386941257864237, 0.0], [0.8774856328964233, 0.014467567205429077, 0.0122459027916193, 0.04342211037874222, 0.0361890010535717, 0.006083665415644646, 0.0032847237307578325, 0.006821512244641781]], [[1.0, 0.0, 0.0, 0.0, 0.0, 0.0, 0.0, 0.0], [0.9402899742126465, 0.05971004068851471, 0.0, 0.0, 0.0, 0.0, 0.0, 0.0], [0.7357557415962219, 0.22901394963264465, 0.03523034229874611, 0.0, 0.0, 0.0, 0.0, 0.0], [0.2272084504365921, 0.013569344766438007, 0.7349735498428345, 0.024248629808425903, 0.0, 0.0, 0.0, 0.0], [0.8108817338943481, 0.015943458303809166, 0.017375953495502472, 0.1510319709777832, 0.004766886588186026, 0.0, 0.0, 0.0], [0.7018921375274658, 0.034486323595047, 0.01069268025457859, 0.0405755415558815, 0.14510804414749146, 0.0672452375292778, 0.0, 0.0], [0.8883737921714783, 0.005905179772526026, 0.0002745221136137843, 0.0015122464392334223, 0.008057910948991776, 0.08467187732458115, 0.011204427108168602, 0.0], [0.7165874242782593, 0.015458502806723118, 0.003025394631549716, 0.003217581193894148, 0.0006379677797667682, 0.006698140408843756, 0.17242491245269775, 0.08195009082555771]], [[1.0, 0.0, 0.0, 0.0, 0.0, 0.0, 0.0, 0.0], [0.9253801703453064, 0.0746198296546936, 0.0, 0.0, 0.0, 0.0, 0.0, 0.0], [0.8582033514976501, 0.12105057388544083, 0.02074609324336052, 0.0, 0.0, 0.0, 0.0, 0.0], [0.8826674818992615, 0.05504665896296501, 0.043740611523389816, 0.01854521594941616, 0.0, 0.0, 0.0, 0.0], [0.9583739638328552, 0.014343331567943096, 0.008008517324924469, 0.013013167306780815, 0.006261093076318502, 0.0, 0.0, 0.0], [0.9468095898628235, 0.008036020211875439, 0.004326500464230776, 0.013821713626384735, 0.009243009611964226, 0.0177631638944149, 0.0, 0.0], [0.7067810893058777, 0.024107467383146286, 0.012309376150369644, 0.05088311806321144, 0.015538688749074936, 0.06706813722848892, 0.12331213057041168, 0.0], [0.22738918662071228, 0.03320244699716568, 0.013736112974584103, 0.018348123878240585, 0.05355042591691017, 0.11274673044681549, 0.500715970993042, 0.04031100869178772]], [[1.0, 0.0, 0.0, 0.0, 0.0, 0.0, 0.0, 0.0], [0.9915755391120911, 0.008424485102295876, 0.0, 0.0, 0.0, 0.0, 0.0, 0.0], [0.7673806548118591, 0.010226819664239883, 0.22239257395267487, 0.0, 0.0, 0.0, 0.0, 0.0], [0.7466697692871094, 0.05335025116801262, 0.1610352247953415, 0.038944702595472336, 0.0, 0.0, 0.0, 0.0], [0.4884016513824463, 0.06709366291761398, 0.4113425016403198, 0.02031610533595085, 0.012846030294895172, 0.0, 0.0, 0.0], [0.5403395891189575, 0.14853321015834808, 0.24197159707546234, 0.05833747610449791, 0.005247184075415134, 0.005570921115577221, 0.0, 0.0], [0.8044437766075134, 0.009702573530375957, 0.1083325669169426, 0.05488624423742294, 0.0031352131627500057, 0.006560798734426498, 0.012938781641423702, 0.0], [0.6426627039909363, 0.023571614176034927, 0.040681079030036926, 0.2034585028886795, 0.038082532584667206, 0.021882465109229088, 0.017425719648599625, 0.012235439382493496]], [[1.0, 0.0, 0.0, 0.0, 0.0, 0.0, 0.0, 0.0], [0.9908885955810547, 0.009111415594816208, 0.0, 0.0, 0.0, 0.0, 0.0, 0.0], [0.9763392210006714, 0.017139151692390442, 0.006521634291857481, 0.0, 0.0, 0.0, 0.0, 0.0], [0.9597461819648743, 0.01655951328575611, 0.01101119164377451, 0.012683028355240822, 0.0, 0.0, 0.0, 0.0], [0.8410684466362, 0.060785818845033646, 0.03391743451356888, 0.023741163313388824, 0.04048716649413109, 0.0, 0.0, 0.0], [0.8311489224433899, 0.06445494294166565, 0.021276982501149178, 0.014697795733809471, 0.05037599802017212, 0.01804540492594242, 0.0, 0.0], [0.8911536931991577, 0.02188354730606079, 0.014662845060229301, 0.011642009019851685, 0.03862375393509865, 0.02011374570429325, 0.001920465612784028, 0.0], [0.829716145992279, 0.05936424806714058, 0.03628974035382271, 0.027040846645832062, 0.024319574236869812, 0.005010673776268959, 0.016795756295323372, 0.001463010790757835]], [[1.0, 0.0, 0.0, 0.0, 0.0, 0.0, 0.0, 0.0], [0.9563316106796265, 0.043668340891599655, 0.0, 0.0, 0.0, 0.0, 0.0, 0.0], [0.8798208832740784, 0.07231359928846359, 0.04786556959152222, 0.0, 0.0, 0.0, 0.0, 0.0], [0.7317049503326416, 0.11369161307811737, 0.11401776224374771, 0.040585681796073914, 0.0, 0.0, 0.0, 0.0], [0.5351675748825073, 0.3348637819290161, 0.02298450469970703, 0.011481010355055332, 0.09550314396619797, 0.0, 0.0, 0.0], [0.5425176024436951, 0.2421845644712448, 0.03667188808321953, 0.009253758005797863, 0.13936655223369598, 0.03000570274889469, 0.0, 0.0], [0.5351633429527283, 0.2492457628250122, 0.03049904853105545, 0.014986149035394192, 0.06994584947824478, 0.03707066923379898, 0.06308919936418533, 0.0], [0.238247349858284, 0.028658946976065636, 0.4287353754043579, 0.20004326105117798, 0.006618883460760117, 0.006127403117716312, 0.0023573676589876413, 0.08921143412590027]], [[1.0, 0.0, 0.0, 0.0, 0.0, 0.0, 0.0, 0.0], [0.9558066129684448, 0.04419337213039398, 0.0, 0.0, 0.0, 0.0, 0.0, 0.0], [0.6687332391738892, 0.21796204149723053, 0.11330468952655792, 0.0, 0.0, 0.0, 0.0, 0.0], [0.6904460787773132, 0.037849001586437225, 0.06500594317913055, 0.20669898390769958, 0.0, 0.0, 0.0, 0.0], [0.7169848084449768, 0.04370959475636482, 0.020362427458167076, 0.08813043683767319, 0.13081282377243042, 0.0, 0.0, 0.0], [0.7118615508079529, 0.04251299053430557, 0.011426839977502823, 0.061014749109745026, 0.0362904891371727, 0.1368934065103531, 0.0, 0.0], [0.8618237376213074, 0.017801690846681595, 0.010211629793047905, 0.058216746896505356, 0.016276530921459198, 0.010518042370676994, 0.025151710957288742, 0.0], [0.7108434438705444, 0.013306733220815659, 0.02191443368792534, 0.01997801475226879, 0.007216534111648798, 0.007216747384518385, 0.0313703790307045, 0.1881537288427353]]], [[[1.0, 0.0, 0.0, 0.0, 0.0, 0.0, 0.0, 0.0], [0.9013723134994507, 0.09862764179706573, 0.0, 0.0, 0.0, 0.0, 0.0, 0.0], [0.41562071442604065, 0.5078044533729553, 0.07657483220100403, 0.0, 0.0, 0.0, 0.0, 0.0], [0.3310224413871765, 0.6200457215309143, 0.0455002523958683, 0.0034316221717745066, 0.0, 0.0, 0.0, 0.0], [0.6025620698928833, 0.3682132065296173, 0.006236365530639887, 0.0045359013602137566, 0.018452471122145653, 0.0, 0.0, 0.0], [0.19172970950603485, 0.6951732635498047, 0.004372097551822662, 0.0022914609871804714, 0.09969370067119598, 0.006739745382219553, 0.0, 0.0], [0.32024842500686646, 0.22926445305347443, 0.014350960962474346, 0.021803615614771843, 0.2277681976556778, 0.1436741054058075, 0.042890168726444244, 0.0], [0.4872216284275055, 0.034782856702804565, 0.3400900661945343, 0.05565503239631653, 0.01131302397698164, 0.008408484980463982, 0.01999708078801632, 0.04253176227211952]], [[1.0, 0.0, 0.0, 0.0, 0.0, 0.0, 0.0, 0.0], [0.9714844822883606, 0.028515534475445747, 0.0, 0.0, 0.0, 0.0, 0.0, 0.0], [0.9113733768463135, 0.029379678890109062, 0.05924687162041664, 0.0, 0.0, 0.0, 0.0, 0.0], [0.05034125968813896, 0.2848122715950012, 0.6386025547981262, 0.026243897154927254, 0.0, 0.0, 0.0, 0.0], [0.650482714176178, 0.24994690716266632, 0.06912588328123093, 0.024896372109651566, 0.005548110231757164, 0.0, 0.0, 0.0], [0.5375129580497742, 0.366278737783432, 0.03870526701211929, 0.024316318333148956, 0.02226923406124115, 0.01091750431805849, 0.0, 0.0], [0.800559937953949, 0.033439286053180695, 0.09177709370851517, 0.02686643972992897, 0.002245616400614381, 0.015723401680588722, 0.02938818372786045, 0.0], [0.9562320709228516, 0.013226649723947048, 0.009205416776239872, 0.008037787862122059, 0.0015022766310721636, 0.00415021600201726, 0.004057684913277626, 0.003587934421375394]], [[1.0, 0.0, 0.0, 0.0, 0.0, 0.0, 0.0, 0.0], [0.9794714450836182, 0.02052849717438221, 0.0, 0.0, 0.0, 0.0, 0.0, 0.0], [0.948935866355896, 0.02682548575103283, 0.024238690733909607, 0.0, 0.0, 0.0, 0.0, 0.0], [0.9046460390090942, 0.01767750456929207, 0.012348917312920094, 0.06532754749059677, 0.0, 0.0, 0.0, 0.0], [0.8385328650474548, 0.019759351387619972, 0.01683567650616169, 0.08508295565843582, 0.03978913277387619, 0.0, 0.0, 0.0], [0.8375669121742249, 0.018971586599946022, 0.02044042758643627, 0.0637369453907013, 0.031386300921440125, 0.027897769585251808, 0.0, 0.0], [0.6743947863578796, 0.05932344123721123, 0.015811819583177567, 0.1080387681722641, 0.07406406849622726, 0.054214660078287125, 0.014152430929243565, 0.0], [0.7737107872962952, 0.03161616623401642, 0.01836533658206463, 0.07112730294466019, 0.054876163601875305, 0.03361927345395088, 0.01179961021989584, 0.0048853387124836445]], [[1.0, 0.0, 0.0, 0.0, 0.0, 0.0, 0.0, 0.0], [0.9543253779411316, 0.04567456617951393, 0.0, 0.0, 0.0, 0.0, 0.0, 0.0], [0.8698403239250183, 0.1016959622502327, 0.028463780879974365, 0.0, 0.0, 0.0, 0.0, 0.0], [0.6239690184593201, 0.19767528772354126, 0.11184746772050858, 0.06650827825069427, 0.0, 0.0, 0.0, 0.0], [0.6570802330970764, 0.07558216899633408, 0.1261281669139862, 0.11574669927358627, 0.025462722405791283, 0.0, 0.0, 0.0], [0.544683039188385, 0.07955441623926163, 0.124031662940979, 0.1935974806547165, 0.040297120809555054, 0.01783628948032856, 0.0, 0.0], [0.5821008086204529, 0.045671164989471436, 0.0930393785238266, 0.20989003777503967, 0.020289402455091476, 0.011752582155168056, 0.0372566357254982, 0.0], [0.6406988501548767, 0.054128751158714294, 0.04824194684624672, 0.11689561605453491, 0.056284498423337936, 0.015232556499540806, 0.03929013013839722, 0.02922758273780346]], [[1.0, 0.0, 0.0, 0.0, 0.0, 0.0, 0.0, 0.0], [0.8840867877006531, 0.11591321229934692, 0.0, 0.0, 0.0, 0.0, 0.0, 0.0], [0.8831420540809631, 0.07143481820821762, 0.04542311653494835, 0.0, 0.0, 0.0, 0.0, 0.0], [0.8490735292434692, 0.05218948796391487, 0.04656269773840904, 0.05217433720827103, 0.0, 0.0, 0.0, 0.0], [0.6565245389938354, 0.09288205206394196, 0.10473279654979706, 0.0991349145770073, 0.046725668013095856, 0.0, 0.0, 0.0], [0.5897371768951416, 0.10915561020374298, 0.07569355517625809, 0.0966869592666626, 0.048611368983983994, 0.08011524379253387, 0.0, 0.0], [0.2844923436641693, 0.19088643789291382, 0.1286245882511139, 0.11387297511100769, 0.06794480979442596, 0.09622292220592499, 0.1179560050368309, 0.0], [0.5213983654975891, 0.07665388286113739, 0.060194022953510284, 0.039509452879428864, 0.04083778336644173, 0.036247916519641876, 0.1662827581167221, 0.058875828981399536]], [[1.0, 0.0, 0.0, 0.0, 0.0, 0.0, 0.0, 0.0], [0.9742199778556824, 0.025779951363801956, 0.0, 0.0, 0.0, 0.0, 0.0, 0.0], [0.8854314088821411, 0.04513942822813988, 0.06942907720804214, 0.0, 0.0, 0.0, 0.0, 0.0], [0.7981809973716736, 0.054304879158735275, 0.08834006637334824, 0.05917404592037201, 0.0, 0.0, 0.0, 0.0], [0.8470652103424072, 0.03151238337159157, 0.03519769385457039, 0.04166242852807045, 0.044562168419361115, 0.0, 0.0, 0.0], [0.799831748008728, 0.038990650326013565, 0.03254362568259239, 0.03747406229376793, 0.041777558624744415, 0.049382369965314865, 0.0, 0.0], [0.7625577449798584, 0.015090933069586754, 0.03114367090165615, 0.03418188542127609, 0.03844642639160156, 0.05319869518280029, 0.06538064777851105, 0.0], [0.710949718952179, 0.009575216099619865, 0.013298924081027508, 0.03682669624686241, 0.044702786952257156, 0.06987886130809784, 0.07685648649930954, 0.037911366671323776]], [[1.0, 0.0, 0.0, 0.0, 0.0, 0.0, 0.0, 0.0], [0.9631091952323914, 0.03689078241586685, 0.0, 0.0, 0.0, 0.0, 0.0, 0.0], [0.9128815531730652, 0.03653562813997269, 0.05058295279741287, 0.0, 0.0, 0.0, 0.0, 0.0], [0.8711621165275574, 0.035645101219415665, 0.0408388189971447, 0.05235398933291435, 0.0, 0.0, 0.0, 0.0], [0.8430333733558655, 0.03381653130054474, 0.013478972017765045, 0.009292001836001873, 0.10037898272275925, 0.0, 0.0, 0.0], [0.8452622294425964, 0.018199175596237183, 0.008318858221173286, 0.010215244255959988, 0.04265252873301506, 0.07535195350646973, 0.0, 0.0], [0.890339732170105, 0.019706018269062042, 0.0061640129424631596, 0.005735861603170633, 0.02176627330482006, 0.013942551799118519, 0.04234560579061508, 0.0], [0.8909978270530701, 0.007218940649181604, 0.008958172053098679, 0.003943840507417917, 0.0064274161122739315, 0.008011585101485252, 0.009240913204848766, 0.06520132720470428]], [[1.0, 0.0, 0.0, 0.0, 0.0, 0.0, 0.0, 0.0], [0.8661651015281677, 0.1338348686695099, 0.0, 0.0, 0.0, 0.0, 0.0, 0.0], [0.7132275104522705, 0.1552363634109497, 0.1315361112356186, 0.0, 0.0, 0.0, 0.0, 0.0], [0.5635513067245483, 0.09130647778511047, 0.2835524380207062, 0.061589743942022324, 0.0, 0.0, 0.0, 0.0], [0.4376671016216278, 0.07165642827749252, 0.3374312222003937, 0.13653478026390076, 0.016710489988327026, 0.0, 0.0, 0.0], [0.32152611017227173, 0.10156908631324768, 0.32223063707351685, 0.2060648649930954, 0.037469133734703064, 0.011140137910842896, 0.0, 0.0], [0.3494108319282532, 0.08909706026315689, 0.3395617604255676, 0.10615753382444382, 0.02653244324028492, 0.03613210842013359, 0.053108248859643936, 0.0], [0.6218814253807068, 0.057433973997831345, 0.13655011355876923, 0.07039504498243332, 0.021069277077913284, 0.007985682226717472, 0.05344294011592865, 0.031241632997989655]], [[1.0, 0.0, 0.0, 0.0, 0.0, 0.0, 0.0, 0.0], [0.9836993217468262, 0.016300728544592857, 0.0, 0.0, 0.0, 0.0, 0.0, 0.0], [0.7724723815917969, 0.16284117102622986, 0.06468646228313446, 0.0, 0.0, 0.0, 0.0, 0.0], [0.3057810664176941, 0.09111221879720688, 0.5796824097633362, 0.023424329236149788, 0.0, 0.0, 0.0, 0.0], [0.7256165742874146, 0.04716753587126732, 0.06541669368743896, 0.1439894139766693, 0.01780977100133896, 0.0, 0.0, 0.0], [0.3559515178203583, 0.06608744710683823, 0.028975622728466988, 0.1938515603542328, 0.33410951495170593, 0.021024391055107117, 0.0, 0.0], [0.2880226671695709, 0.029364073649048805, 0.018230298534035683, 0.08224307000637054, 0.3322671949863434, 0.2242964655160904, 0.025576213374733925, 0.0], [0.16358813643455505, 0.01674528978765011, 0.004477217793464661, 0.019782908260822296, 0.15661928057670593, 0.06713713705539703, 0.5632641315460205, 0.008385838009417057]], [[1.0, 0.0, 0.0, 0.0, 0.0, 0.0, 0.0, 0.0], [0.9996968507766724, 0.00030317335040308535, 0.0, 0.0, 0.0, 0.0, 0.0, 0.0], [0.9779346585273743, 0.0006166329840198159, 0.021448800340294838, 0.0, 0.0, 0.0, 0.0, 0.0], [0.991321861743927, 0.0006477460847236216, 0.003838462056592107, 0.004192007705569267, 0.0, 0.0, 0.0, 0.0], [0.9918482303619385, 0.0010005710646510124, 0.0070303999818861485, 4.386938030620513e-07, 0.00012041121226502582, 0.0, 0.0, 0.0], [0.9962722063064575, 0.001974880462512374, 0.00053027318790555, 2.0075121938134544e-06, 4.6538822061847895e-05, 0.0011740924092009664, 0.0, 0.0], [0.99062180519104, 0.0003504921915009618, 0.007289049681276083, 9.789749810806825e-07, 7.124667899915949e-05, 0.00017800046771299094, 0.001488415291532874, 0.0], [0.9906132221221924, 0.0012632961152121425, 0.0008772275177761912, 0.0011361027136445045, 5.6495078752050176e-05, 0.0007868780521675944, 0.0027273783925920725, 0.002539475215598941]], [[1.0, 0.0, 0.0, 0.0, 0.0, 0.0, 0.0, 0.0], [0.9827073216438293, 0.017292670905590057, 0.0, 0.0, 0.0, 0.0, 0.0, 0.0], [0.8888439536094666, 0.01106918603181839, 0.10008686780929565, 0.0, 0.0, 0.0, 0.0, 0.0], [0.9141993522644043, 0.00888584740459919, 0.04377470910549164, 0.03314003720879555, 0.0, 0.0, 0.0, 0.0], [0.8821272253990173, 0.0065300422720611095, 0.04700540006160736, 0.026455236598849297, 0.037882085889577866, 0.0, 0.0, 0.0], [0.8886630535125732, 0.005467607174068689, 0.03972434997558594, 0.02995145507156849, 0.015889430418610573, 0.020304065197706223, 0.0, 0.0], [0.8012141585350037, 0.008981219492852688, 0.03319486603140831, 0.0650944709777832, 0.032353565096855164, 0.01675749011337757, 0.04240413382649422, 0.0], [0.934139609336853, 0.004399494733661413, 0.006521643605083227, 0.012002061121165752, 0.00974254310131073, 0.005398991517722607, 0.011553381569683552, 0.016242381185293198]], [[1.0, 0.0, 0.0, 0.0, 0.0, 0.0, 0.0, 0.0], [0.9582817554473877, 0.04171822965145111, 0.0, 0.0, 0.0, 0.0, 0.0, 0.0], [0.534665584564209, 0.3647664785385132, 0.10056792199611664, 0.0, 0.0, 0.0, 0.0, 0.0], [0.665575385093689, 0.2214512825012207, 0.10195408016443253, 0.011019205674529076, 0.0, 0.0, 0.0, 0.0], [0.8224150538444519, 0.012640120461583138, 0.04343947023153305, 0.10018318146467209, 0.021322187036275864, 0.0, 0.0, 0.0], [0.724458634853363, 0.04011235758662224, 0.06591170281171799, 0.09519758820533752, 0.049674008041620255, 0.024645671248435974, 0.0, 0.0], [0.6897352337837219, 0.03642672672867775, 0.026788786053657532, 0.050274744629859924, 0.033480651676654816, 0.10915917158126831, 0.054134659469127655, 0.0], [0.3837150037288666, 0.0614139549434185, 0.028359906747937202, 0.028271380811929703, 0.04823416471481323, 0.14510153234004974, 0.2709546685218811, 0.033949341624975204]]], [[[1.0, 0.0, 0.0, 0.0, 0.0, 0.0, 0.0, 0.0], [0.9368640780448914, 0.06313589960336685, 0.0, 0.0, 0.0, 0.0, 0.0, 0.0], [0.5672319531440735, 0.3984616994857788, 0.03430634364485741, 0.0, 0.0, 0.0, 0.0, 0.0], [0.2795417606830597, 0.0654270127415657, 0.6435873508453369, 0.0114439083263278, 0.0, 0.0, 0.0, 0.0], [0.8180686235427856, 0.009663576260209084, 0.05952509492635727, 0.09730270504951477, 0.015439980663359165, 0.0, 0.0, 0.0], [0.6962770819664001, 0.023150090128183365, 0.016691718250513077, 0.07326562702655792, 0.15794076025485992, 0.03267462179064751, 0.0, 0.0], [0.7411640882492065, 0.004038778133690357, 0.002790516009554267, 0.027316037565469742, 0.03020429238677025, 0.13623954355716705, 0.05824678763747215, 0.0], [0.638133704662323, 0.01142201665788889, 0.0005814249743707478, 0.0035739669110625982, 0.011232448741793633, 0.018276503309607506, 0.3058408200740814, 0.010939092375338078]], [[1.0, 0.0, 0.0, 0.0, 0.0, 0.0, 0.0, 0.0], [0.9885522127151489, 0.01144774816930294, 0.0, 0.0, 0.0, 0.0, 0.0, 0.0], [0.9711111783981323, 0.006029515992850065, 0.022859252989292145, 0.0, 0.0, 0.0, 0.0, 0.0], [0.7813068628311157, 0.01359588373452425, 0.12555885314941406, 0.07953843474388123, 0.0, 0.0, 0.0, 0.0], [0.7821028232574463, 0.08979954570531845, 0.0836273804306984, 0.02135278470814228, 0.023117469623684883, 0.0, 0.0, 0.0], [0.7809401154518127, 0.11178769171237946, 0.03849319741129875, 0.014854064211249352, 0.03754549100995064, 0.016379324719309807, 0.0, 0.0], [0.9270771741867065, 0.005684218369424343, 0.03941979631781578, 0.0044805132783949375, 0.0027972126845270395, 0.0006282894755713642, 0.019912855699658394, 0.0], [0.9016523361206055, 0.005672060884535313, 0.012565076351165771, 0.005804687738418579, 0.001209931098856032, 0.0007122157840058208, 0.004761422984302044, 0.06762225180864334]], [[1.0, 0.0, 0.0, 0.0, 0.0, 0.0, 0.0, 0.0], [0.9986141920089722, 0.0013858242891728878, 0.0, 0.0, 0.0, 0.0, 0.0, 0.0], [0.9807064533233643, 0.0003148032119497657, 0.01897868886590004, 0.0, 0.0, 0.0, 0.0, 0.0], [0.9859876036643982, 0.00045898373355157673, 0.011676352471113205, 0.0018770582973957062, 0.0, 0.0, 0.0, 0.0], [0.9165164828300476, 0.0013473067665472627, 0.07834797352552414, 0.0002650091191753745, 0.0035232261288911104, 0.0, 0.0, 0.0], [0.9844356179237366, 0.0014720014296472073, 0.0038583013229072094, 6.948956433916464e-05, 0.0031746088061481714, 0.006989959627389908, 0.0, 0.0], [0.9885410666465759, 9.527607471682131e-05, 0.006907080300152302, 2.154926914954558e-05, 4.9586604291107506e-05, 0.00021265647956170142, 0.004172733053565025, 0.0], [0.9930100440979004, 0.00047306856140494347, 0.0007172542973421514, 0.0016884268261492252, 0.00012264538963790983, 0.0007328583742491901, 0.0017464645206928253, 0.0015092648100107908]], [[1.0, 0.0, 0.0, 0.0, 0.0, 0.0, 0.0, 0.0], [0.9107965230941772, 0.08920349180698395, 0.0, 0.0, 0.0, 0.0, 0.0, 0.0], [0.833954393863678, 0.10611247271299362, 0.05993308126926422, 0.0, 0.0, 0.0, 0.0, 0.0], [0.5843328237533569, 0.17683637142181396, 0.1737099140882492, 0.06512093544006348, 0.0, 0.0, 0.0, 0.0], [0.7277174592018127, 0.07802153378725052, 0.07506855577230453, 0.09599356353282928, 0.023198867216706276, 0.0, 0.0, 0.0], [0.48494479060173035, 0.1647895723581314, 0.1005580723285675, 0.13191047310829163, 0.06800122559070587, 0.049795880913734436, 0.0, 0.0], [0.6001531481742859, 0.06819487363100052, 0.03278963640332222, 0.06966444104909897, 0.06529991328716278, 0.09814848005771637, 0.06574956327676773, 0.0], [0.3822448253631592, 0.05279384180903435, 0.041859906166791916, 0.10964017361402512, 0.08864254504442215, 0.11040067672729492, 0.14794933795928955, 0.06646863371133804]], [[1.0, 0.0, 0.0, 0.0, 0.0, 0.0, 0.0, 0.0], [0.9756990671157837, 0.024300912395119667, 0.0, 0.0, 0.0, 0.0, 0.0, 0.0], [0.8560820817947388, 0.11937249451875687, 0.024545425549149513, 0.0, 0.0, 0.0, 0.0, 0.0], [0.696365237236023, 0.2283799946308136, 0.05847669020295143, 0.016778048127889633, 0.0, 0.0, 0.0, 0.0], [0.8666763305664062, 0.03814687952399254, 0.030868133530020714, 0.05217728763818741, 0.012131307274103165, 0.0, 0.0, 0.0], [0.8448078036308289, 0.057251449674367905, 0.03308502584695816, 0.03225639462471008, 0.024605469778180122, 0.007993804290890694, 0.0, 0.0], [0.6933677196502686, 0.06307438015937805, 0.06640728563070297, 0.10157228261232376, 0.029940418899059296, 0.03143830969929695, 0.014199630357325077, 0.0], [0.434859037399292, 0.12458529323339462, 0.033869389444589615, 0.15210087597370148, 0.05881866440176964, 0.07800668478012085, 0.10468120872974396, 0.013078788295388222]], [[1.0, 0.0, 0.0, 0.0, 0.0, 0.0, 0.0, 0.0], [0.8969604969024658, 0.10303949564695358, 0.0, 0.0, 0.0, 0.0, 0.0, 0.0], [0.8439676761627197, 0.12766170501708984, 0.02837064117193222, 0.0, 0.0, 0.0, 0.0, 0.0], [0.5725346803665161, 0.25692522525787354, 0.08505736291408539, 0.08548275381326675, 0.0, 0.0, 0.0, 0.0], [0.6956275701522827, 0.07153023034334183, 0.020415594801306725, 0.1852809637784958, 0.027145639061927795, 0.0, 0.0, 0.0], [0.7112306952476501, 0.07232450693845749, 0.004510422702878714, 0.11697643250226974, 0.04743068665266037, 0.047527313232421875, 0.0, 0.0], [0.7192625403404236, 0.02862464264035225, 0.009790929034352303, 0.13356399536132812, 0.013885043561458588, 0.0223710760474205, 0.07250180095434189, 0.0], [0.8401608467102051, 0.012636031024158001, 0.004061003215610981, 0.023161936551332474, 0.01141578983515501, 0.018833745270967484, 0.06814336031675339, 0.021587282419204712]], [[1.0, 0.0, 0.0, 0.0, 0.0, 0.0, 0.0, 0.0], [0.9668612480163574, 0.03313880041241646, 0.0, 0.0, 0.0, 0.0, 0.0, 0.0], [0.9079772233963013, 0.03459787741303444, 0.05742495879530907, 0.0, 0.0, 0.0, 0.0, 0.0], [0.7559472918510437, 0.04887048900127411, 0.1164146214723587, 0.07876760512590408, 0.0, 0.0, 0.0, 0.0], [0.6715904474258423, 0.04333893582224846, 0.16874854266643524, 0.07091230154037476, 0.04540965333580971, 0.0, 0.0, 0.0], [0.6524932384490967, 0.05111364275217056, 0.12581707537174225, 0.06306630373001099, 0.05071571469306946, 0.05679405480623245, 0.0, 0.0], [0.7888692021369934, 0.013037112541496754, 0.0729089081287384, 0.05678563937544823, 0.017318062484264374, 0.024648377671837807, 0.026432666927576065, 0.0], [0.8781368136405945, 0.010492355562746525, 0.032802339643239975, 0.03309353068470955, 0.005670234095305204, 0.01567150093615055, 0.016531256958842278, 0.007601974066346884]], [[1.0, 0.0, 0.0, 0.0, 0.0, 0.0, 0.0, 0.0], [0.9514630436897278, 0.048536933958530426, 0.0, 0.0, 0.0, 0.0, 0.0, 0.0], [0.9173341393470764, 0.0415954664349556, 0.04107034578919411, 0.0, 0.0, 0.0, 0.0, 0.0], [0.4987598955631256, 0.0742151290178299, 0.2518995702266693, 0.1751253455877304, 0.0, 0.0, 0.0, 0.0], [0.452404648065567, 0.027639377862215042, 0.23939146101474762, 0.23657077550888062, 0.043993864208459854, 0.0, 0.0, 0.0], [0.4042694866657257, 0.023117640987038612, 0.23524974286556244, 0.2233045995235443, 0.051299840211868286, 0.06275859475135803, 0.0, 0.0], [0.7563169002532959, 0.015928028151392937, 0.07169562578201294, 0.10872311890125275, 0.018420735374093056, 0.018580462783575058, 0.010335082188248634, 0.0], [0.9451975226402283, 0.008156955242156982, 0.004907858557999134, 0.0028866673819720745, 0.008542829193174839, 0.007623280398547649, 0.01244030985981226, 0.010244582779705524]], [[1.0, 0.0, 0.0, 0.0, 0.0, 0.0, 0.0, 0.0], [0.9576159119606018, 0.04238412529230118, 0.0, 0.0, 0.0, 0.0, 0.0, 0.0], [0.7935709357261658, 0.15532124042510986, 0.05110786855220795, 0.0, 0.0, 0.0, 0.0, 0.0], [0.7214205265045166, 0.15787526965141296, 0.1111367866396904, 0.00956735946238041, 0.0, 0.0, 0.0, 0.0], [0.7656949162483215, 0.0984148234128952, 0.03907028213143349, 0.05684930831193924, 0.03997074440121651, 0.0, 0.0, 0.0], [0.46396419405937195, 0.16845455765724182, 0.06691482663154602, 0.07078887522220612, 0.17347151041030884, 0.05640605092048645, 0.0, 0.0], [0.5233627557754517, 0.032006360590457916, 0.10958921164274216, 0.19310680031776428, 0.04388437792658806, 0.0664600059390068, 0.03159051761031151, 0.0], [0.3442308008670807, 0.038416922092437744, 0.37760594487190247, 0.07959751039743423, 0.02793310396373272, 0.004252456594258547, 0.07800855487585068, 0.049954768270254135]], [[1.0, 0.0, 0.0, 0.0, 0.0, 0.0, 0.0, 0.0], [0.9647418856620789, 0.03525818511843681, 0.0, 0.0, 0.0, 0.0, 0.0, 0.0], [0.8673158884048462, 0.10553143918514252, 0.027152687311172485, 0.0, 0.0, 0.0, 0.0, 0.0], [0.6952553391456604, 0.12465473264455795, 0.13480566442012787, 0.04528422653675079, 0.0, 0.0, 0.0, 0.0], [0.5454502701759338, 0.03883805125951767, 0.09557665884494781, 0.2840256094932556, 0.036109473556280136, 0.0, 0.0, 0.0], [0.5682093501091003, 0.07665812969207764, 0.08508611470460892, 0.15271799266338348, 0.09119504690170288, 0.026133352890610695, 0.0, 0.0], [0.4765779674053192, 0.026401445269584656, 0.06742159277200699, 0.22959642112255096, 0.06787649542093277, 0.08039659261703491, 0.051729582250118256, 0.0], [0.2654644548892975, 0.032624244689941406, 0.0118367038667202, 0.14474578201770782, 0.1126519963145256, 0.21804489195346832, 0.17459797859191895, 0.04003392904996872]], [[1.0, 0.0, 0.0, 0.0, 0.0, 0.0, 0.0, 0.0], [0.9975960850715637, 0.002403915161266923, 0.0, 0.0, 0.0, 0.0, 0.0, 0.0], [0.9697934985160828, 0.0010721635771915317, 0.029134340584278107, 0.0, 0.0, 0.0, 0.0, 0.0], [0.9625771045684814, 0.004421762656420469, 0.025471139699220657, 0.00753001170232892, 0.0, 0.0, 0.0, 0.0], [0.9315828084945679, 0.027705397456884384, 0.0349971279501915, 0.0019232099875807762, 0.003791449824348092, 0.0, 0.0, 0.0], [0.8680787682533264, 0.08648853749036789, 0.011556541547179222, 0.002187934471294284, 0.01039965357631445, 0.021288597956299782, 0.0, 0.0], [0.9313873052597046, 0.0020949470344930887, 0.05469192937016487, 0.00011086252925451845, 0.0006164961960166693, 0.002382464474067092, 0.008715844713151455, 0.0], [0.9492007493972778, 0.0037896130234003067, 0.020524052903056145, 0.006647655274719, 0.0003649730351753533, 0.00293127098120749, 0.001830215915106237, 0.014711493626236916]], [[1.0, 0.0, 0.0, 0.0, 0.0, 0.0, 0.0, 0.0], [0.9881420731544495, 0.011857947334647179, 0.0, 0.0, 0.0, 0.0, 0.0, 0.0], [0.946743369102478, 0.025449279695749283, 0.027807345613837242, 0.0, 0.0, 0.0, 0.0, 0.0], [0.9552509784698486, 0.015778755769133568, 0.025943893939256668, 0.0030264658853411674, 0.0, 0.0, 0.0, 0.0], [0.870208203792572, 0.016153432428836823, 0.10347428917884827, 0.006823564413934946, 0.003340529976412654, 0.0, 0.0, 0.0], [0.9290491938591003, 0.023922372609376907, 0.02652302198112011, 0.0017625386826694012, 0.0030578337609767914, 0.01568501628935337, 0.0, 0.0], [0.9009867310523987, 0.005626649595797062, 0.07041224837303162, 0.004300933796912432, 0.004727252293378115, 0.008074559271335602, 0.0058716838248074055, 0.0], [0.9129599928855896, 0.010950860567390919, 0.008912713266909122, 0.03564611077308655, 0.001136109814979136, 0.01716112717986107, 0.011128404177725315, 0.0021046765614300966]]], [[[1.0, 0.0, 0.0, 0.0, 0.0, 0.0, 0.0, 0.0], [0.9537515044212341, 0.04624848812818527, 0.0, 0.0, 0.0, 0.0, 0.0, 0.0], [0.9241613745689392, 0.045274797827005386, 0.030563825741410255, 0.0, 0.0, 0.0, 0.0, 0.0], [0.8570243120193481, 0.052748147398233414, 0.030744148418307304, 0.05948339030146599, 0.0, 0.0, 0.0, 0.0], [0.8598230481147766, 0.04396028816699982, 0.02332552708685398, 0.05216524004936218, 0.020725922659039497, 0.0, 0.0, 0.0], [0.8158055543899536, 0.02125607244670391, 0.011995418928563595, 0.04761858657002449, 0.03270264342427254, 0.07062175124883652, 0.0, 0.0], [0.8002525568008423, 0.027975289151072502, 0.0067169032990932465, 0.04709572717547417, 0.017099566757678986, 0.06813117861747742, 0.03272886201739311, 0.0], [0.873010516166687, 0.020053759217262268, 0.0148940933868289, 0.024384845048189163, 0.006035767495632172, 0.020325569435954094, 0.014608098194003105, 0.02668738178908825]], [[1.0, 0.0, 0.0, 0.0, 0.0, 0.0, 0.0, 0.0], [0.9862831234931946, 0.013716894201934338, 0.0, 0.0, 0.0, 0.0, 0.0, 0.0], [0.9386304616928101, 0.01811083033680916, 0.0432586669921875, 0.0, 0.0, 0.0, 0.0, 0.0], [0.8386369943618774, 0.053226031363010406, 0.08598918467760086, 0.02214781939983368, 0.0, 0.0, 0.0, 0.0], [0.8730047345161438, 0.02239927649497986, 0.09783060103654861, 0.004337473772466183, 0.0024278315249830484, 0.0, 0.0, 0.0], [0.914254903793335, 0.03131662681698799, 0.029100285843014717, 0.004691882990300655, 0.007893088273704052, 0.012743191793560982, 0.0, 0.0], [0.8330866098403931, 0.005489058792591095, 0.13228259980678558, 0.006576817948371172, 0.003331643994897604, 0.004782052244991064, 0.014451327733695507, 0.0], [0.9082250595092773, 0.008916684426367283, 0.009065531194210052, 0.04204270616173744, 0.0010263965232297778, 0.00132273742929101, 0.005713430233299732, 0.023687494918704033]], [[1.0, 0.0, 0.0, 0.0, 0.0, 0.0, 0.0, 0.0], [0.9341225028038025, 0.06587749719619751, 0.0, 0.0, 0.0, 0.0, 0.0, 0.0], [0.9051975011825562, 0.05116879567503929, 0.04363379254937172, 0.0, 0.0, 0.0, 0.0, 0.0], [0.847299337387085, 0.05979938805103302, 0.07002166658639908, 0.02287960611283779, 0.0, 0.0, 0.0, 0.0], [0.8284323811531067, 0.04851807653903961, 0.05562658980488777, 0.04722363501787186, 0.020199300721287727, 0.0, 0.0, 0.0], [0.7699155807495117, 0.04965546727180481, 0.05760616064071655, 0.028364645317196846, 0.02230122871696949, 0.07215698063373566, 0.0, 0.0], [0.6996623873710632, 0.056831635534763336, 0.0558537021279335, 0.04884658753871918, 0.015194106847047806, 0.09254319965839386, 0.031068313866853714, 0.0], [0.7222633957862854, 0.025045273825526237, 0.031236954033374786, 0.07313413918018341, 0.007095858920365572, 0.10819686949253082, 0.01692904159426689, 0.016098523512482643]], [[1.0, 0.0, 0.0, 0.0, 0.0, 0.0, 0.0, 0.0], [0.9393409490585327, 0.06065896525979042, 0.0, 0.0, 0.0, 0.0, 0.0, 0.0], [0.9419981241226196, 0.038507044315338135, 0.019494805485010147, 0.0, 0.0, 0.0, 0.0, 0.0], [0.9005725383758545, 0.07328347861766815, 0.016902104020118713, 0.009241926483809948, 0.0, 0.0, 0.0, 0.0], [0.8401730060577393, 0.03825569152832031, 0.05439909175038338, 0.041057735681533813, 0.02611447684466839, 0.0, 0.0, 0.0], [0.894159734249115, 0.021205171942710876, 0.038565490394830704, 0.029028479009866714, 0.007667143829166889, 0.009373947978019714, 0.0, 0.0], [0.717811107635498, 0.016669830307364464, 0.1706038862466812, 0.0782085731625557, 0.01294629741460085, 0.001970569370314479, 0.0017898386577144265, 0.0], [0.642810046672821, 0.04016374424099922, 0.1494075357913971, 0.0591888353228569, 0.00923935417085886, 0.006600059103220701, 0.004435306414961815, 0.088155098259449]], [[1.0, 0.0, 0.0, 0.0, 0.0, 0.0, 0.0, 0.0], [0.8695672154426575, 0.13043281435966492, 0.0, 0.0, 0.0, 0.0, 0.0, 0.0], [0.7639128565788269, 0.1543586254119873, 0.08172857761383057, 0.0, 0.0, 0.0, 0.0, 0.0], [0.6852385401725769, 0.11830637603998184, 0.1504824459552765, 0.04597260057926178, 0.0, 0.0, 0.0, 0.0], [0.6222217082977295, 0.029084017500281334, 0.0803731307387352, 0.24752575159072876, 0.02079533413052559, 0.0, 0.0, 0.0], [0.737037181854248, 0.03062119521200657, 0.039558470249176025, 0.03742033988237381, 0.05452575162053108, 0.10083702206611633, 0.0, 0.0], [0.812035858631134, 0.008266177028417587, 0.0086811613291502, 0.03482680022716522, 0.010600856505334377, 0.08068664371967316, 0.044902555644512177, 0.0], [0.6309418678283691, 0.021453699097037315, 0.016420235857367516, 0.04376900568604469, 0.0037416163831949234, 0.03819645568728447, 0.21324695646762848, 0.032230194658041]], [[1.0, 0.0, 0.0, 0.0, 0.0, 0.0, 0.0, 0.0], [0.907505989074707, 0.09249404072761536, 0.0, 0.0, 0.0, 0.0, 0.0, 0.0], [0.6388400793075562, 0.28595006465911865, 0.07520978152751923, 0.0, 0.0, 0.0, 0.0, 0.0], [0.634235680103302, 0.23353177309036255, 0.07817165553569794, 0.05406088009476662, 0.0, 0.0, 0.0, 0.0], [0.36251142621040344, 0.059911392629146576, 0.0613931268453598, 0.4713507294654846, 0.044833406805992126, 0.0, 0.0, 0.0], [0.3216296434402466, 0.08646134287118912, 0.08552435040473938, 0.3422195315361023, 0.1390746384859085, 0.025090565904974937, 0.0, 0.0], [0.19539524614810944, 0.04262375459074974, 0.05116936191916466, 0.40188831090927124, 0.12187202274799347, 0.14544694125652313, 0.04160435497760773, 0.0], [0.2008824348449707, 0.15581180155277252, 0.08917184174060822, 0.1516774743795395, 0.08507189154624939, 0.12754157185554504, 0.16214290261268616, 0.027700064703822136]], [[1.0, 0.0, 0.0, 0.0, 0.0, 0.0, 0.0, 0.0], [0.9816117882728577, 0.01838815025985241, 0.0, 0.0, 0.0, 0.0, 0.0, 0.0], [0.9316774010658264, 0.022603506222367287, 0.04571911692619324, 0.0, 0.0, 0.0, 0.0, 0.0], [0.07236083596944809, 0.24995535612106323, 0.6266021728515625, 0.051081687211990356, 0.0, 0.0, 0.0, 0.0], [0.3954947888851166, 0.02863381803035736, 0.24678410589694977, 0.3126121163368225, 0.016475170850753784, 0.0, 0.0, 0.0], [0.44815343618392944, 0.1472562998533249, 0.1995881199836731, 0.12789243459701538, 0.02606598101556301, 0.05104363337159157, 0.0, 0.0], [0.7530325651168823, 0.005556656047701836, 0.1814010739326477, 0.0547490268945694, 0.0007297949050553143, 0.0025123152881860733, 0.00201854994520545, 0.0], [0.9552397727966309, 0.006391281262040138, 0.008169394917786121, 0.025172650814056396, 0.0003217120247427374, 0.0009776384104043245, 0.0016173210460692644, 0.0021102093160152435]], [[1.0, 0.0, 0.0, 0.0, 0.0, 0.0, 0.0, 0.0], [0.8458076119422913, 0.15419237315654755, 0.0, 0.0, 0.0, 0.0, 0.0, 0.0], [0.5911601781845093, 0.37462300062179565, 0.03421679511666298, 0.0, 0.0, 0.0, 0.0, 0.0], [0.5564975738525391, 0.16852760314941406, 0.2603685259819031, 0.014606358483433723, 0.0, 0.0, 0.0, 0.0], [0.899493396282196, 0.010824366472661495, 0.023764658719301224, 0.043218936771154404, 0.02269863709807396, 0.0, 0.0, 0.0], [0.8238192796707153, 0.024089276790618896, 0.022622613236308098, 0.037505604326725006, 0.06825011968612671, 0.023713132366538048, 0.0, 0.0], [0.7130223512649536, 0.013234010897576809, 0.0181992556899786, 0.0434456504881382, 0.024561932310461998, 0.09549251198768616, 0.09204428642988205, 0.0], [0.6114618182182312, 0.011308560147881508, 0.003912301268428564, 0.009277993813157082, 0.004777040798217058, 0.01953185722231865, 0.3002867102622986, 0.03944370150566101]], [[1.0, 0.0, 0.0, 0.0, 0.0, 0.0, 0.0, 0.0], [0.9185262322425842, 0.08147378265857697, 0.0, 0.0, 0.0, 0.0, 0.0, 0.0], [0.8256714940071106, 0.0819268450140953, 0.0924016609787941, 0.0, 0.0, 0.0, 0.0, 0.0], [0.6304340958595276, 0.08020919561386108, 0.17277081310749054, 0.11658583581447601, 0.0, 0.0, 0.0, 0.0], [0.6216297149658203, 0.037816837430000305, 0.07859577238559723, 0.2388361096382141, 0.023121578618884087, 0.0, 0.0, 0.0], [0.2784252464771271, 0.10874377936124802, 0.10595684498548508, 0.44481340050697327, 0.040537286549806595, 0.021523378789424896, 0.0, 0.0], [0.3813079595565796, 0.11300238966941833, 0.21172232925891876, 0.19540764391422272, 0.05405819043517113, 0.012772873975336552, 0.031728651374578476, 0.0], [0.380927711725235, 0.14359089732170105, 0.09823570400476456, 0.13339067995548248, 0.040645744651556015, 0.02142386883497238, 0.0648176372051239, 0.11696776747703552]], [[1.0, 0.0, 0.0, 0.0, 0.0, 0.0, 0.0, 0.0], [0.9392428398132324, 0.06075715646147728, 0.0, 0.0, 0.0, 0.0, 0.0, 0.0], [0.8143534660339355, 0.07214633375406265, 0.1135002002120018, 0.0, 0.0, 0.0, 0.0, 0.0], [0.7143165469169617, 0.05425215885043144, 0.13230499625205994, 0.09912627935409546, 0.0, 0.0, 0.0, 0.0], [0.547188937664032, 0.0436166450381279, 0.12325305491685867, 0.17371287941932678, 0.1122284010052681, 0.0, 0.0, 0.0], [0.6482568979263306, 0.04263951629400253, 0.10155567526817322, 0.0912599265575409, 0.08368293941020966, 0.03260499984025955, 0.0, 0.0], [0.783014178276062, 0.020171919837594032, 0.06601859629154205, 0.07099150121212006, 0.032673340290784836, 0.016728756949305534, 0.010401722975075245, 0.0], [0.74224853515625, 0.045653413981199265, 0.06589876860380173, 0.054851170629262924, 0.03205222636461258, 0.009418788366019726, 0.01483447290956974, 0.0350426584482193]], [[1.0, 0.0, 0.0, 0.0, 0.0, 0.0, 0.0, 0.0], [0.9462665915489197, 0.05373344197869301, 0.0, 0.0, 0.0, 0.0, 0.0, 0.0], [0.9154186248779297, 0.03576633706688881, 0.048815082758665085, 0.0, 0.0, 0.0, 0.0, 0.0], [0.6781989932060242, 0.09962484240531921, 0.14711003005504608, 0.07506616413593292, 0.0, 0.0, 0.0, 0.0], [0.6236348748207092, 0.04433373734354973, 0.16377319395542145, 0.1046614944934845, 0.0635966807603836, 0.0, 0.0, 0.0], [0.6778796911239624, 0.07783035933971405, 0.08698082715272903, 0.07330738753080368, 0.03509001061320305, 0.04891173169016838, 0.0, 0.0], [0.5996063947677612, 0.04336810111999512, 0.17980347573757172, 0.10086708515882492, 0.02436545491218567, 0.02819582261145115, 0.0237936582416296, 0.0], [0.5758775472640991, 0.03752297908067703, 0.12338171899318695, 0.0935550257563591, 0.01343372743576765, 0.03094867244362831, 0.017670350149273872, 0.10761004686355591]], [[1.0, 0.0, 0.0, 0.0, 0.0, 0.0, 0.0, 0.0], [0.9616725444793701, 0.038327477872371674, 0.0, 0.0, 0.0, 0.0, 0.0, 0.0], [0.938067615032196, 0.04314007982611656, 0.018792318180203438, 0.0, 0.0, 0.0, 0.0, 0.0], [0.9112993478775024, 0.03243820369243622, 0.04652024060487747, 0.00974215380847454, 0.0, 0.0, 0.0, 0.0], [0.8194599151611328, 0.053770266473293304, 0.06691032648086548, 0.03303668275475502, 0.026822900399565697, 0.0, 0.0, 0.0], [0.8904300332069397, 0.03967151418328285, 0.029126908630132675, 0.01311852689832449, 0.019390922039747238, 0.008262145332992077, 0.0, 0.0], [0.6748746037483215, 0.06089568883180618, 0.174126997590065, 0.024380341172218323, 0.04115760326385498, 0.014967379160225391, 0.00959740113466978, 0.0], [0.7706613540649414, 0.07993344962596893, 0.057693999260663986, 0.03107479028403759, 0.02412847988307476, 0.01516158040612936, 0.006582559086382389, 0.014763783663511276]]], [[[1.0, 0.0, 0.0, 0.0, 0.0, 0.0, 0.0, 0.0], [0.9488793611526489, 0.051120609045028687, 0.0, 0.0, 0.0, 0.0, 0.0, 0.0], [0.894203245639801, 0.08168457448482513, 0.024112192913889885, 0.0, 0.0, 0.0, 0.0, 0.0], [0.9565564393997192, 0.03575059026479721, 0.00674503855407238, 0.000947945867665112, 0.0, 0.0, 0.0, 0.0], [0.9547250866889954, 0.023334428668022156, 0.009312290698289871, 0.001953782746568322, 0.010674349963665009, 0.0, 0.0, 0.0], [0.8614906072616577, 0.04282300919294357, 0.021466130390763283, 0.003137531690299511, 0.03393281623721123, 0.03714977949857712, 0.0, 0.0], [0.7131223082542419, 0.09179014712572098, 0.14660237729549408, 0.0026871608570218086, 0.018927782773971558, 0.008439520373940468, 0.018430713564157486, 0.0], [0.803895115852356, 0.047215890139341354, 0.08977780491113663, 0.004168560728430748, 0.0037439572624862194, 0.0027534246910363436, 0.011198955588042736, 0.037246208637952805]], [[1.0, 0.0, 0.0, 0.0, 0.0, 0.0, 0.0, 0.0], [0.9905338287353516, 0.009466162882745266, 0.0, 0.0, 0.0, 0.0, 0.0, 0.0], [0.9922963976860046, 0.004872548393905163, 0.0028310774359852076, 0.0, 0.0, 0.0, 0.0, 0.0], [0.9168341755867004, 0.030756892636418343, 0.022632179781794548, 0.029776787385344505, 0.0, 0.0, 0.0, 0.0], [0.8818903565406799, 0.01454888004809618, 0.044018395245075226, 0.03952273353934288, 0.02001969888806343, 0.0, 0.0, 0.0], [0.9583665132522583, 0.013665313832461834, 0.005336335860192776, 0.0013055173913016915, 0.004458289127796888, 0.01686803810298443, 0.0, 0.0], [0.8904940485954285, 0.006380636710673571, 0.032905369997024536, 0.003748363582417369, 0.002020941348746419, 0.03021026961505413, 0.03424029424786568, 0.0], [0.9518089294433594, 0.004722115118056536, 0.0018293290631845593, 0.005058927461504936, 0.0005215106648392975, 0.008000630885362625, 0.011349305510520935, 0.01670929230749607]], [[1.0, 0.0, 0.0, 0.0, 0.0, 0.0, 0.0, 0.0], [0.9593026041984558, 0.0406973771750927, 0.0, 0.0, 0.0, 0.0, 0.0, 0.0], [0.8433597087860107, 0.0871107205748558, 0.06952963024377823, 0.0, 0.0, 0.0, 0.0, 0.0], [0.7705293893814087, 0.047264065593481064, 0.12775969505310059, 0.05444682389497757, 0.0, 0.0, 0.0, 0.0], [0.651063859462738, 0.05800251662731171, 0.1429058015346527, 0.11866044253110886, 0.029367435723543167, 0.0, 0.0, 0.0], [0.47295117378234863, 0.10696752369403839, 0.24512484669685364, 0.10395122319459915, 0.022504059597849846, 0.04850120097398758, 0.0, 0.0], [0.627666175365448, 0.03685355931520462, 0.17733654379844666, 0.11953363567590714, 0.005243096500635147, 0.01173435989767313, 0.021632591262459755, 0.0], [0.9010235667228699, 0.027076467871665955, 0.027462858706712723, 0.013754233717918396, 0.0010801038006320596, 0.002782254945486784, 0.00726615684106946, 0.019554348662495613]], [[1.0, 0.0, 0.0, 0.0, 0.0, 0.0, 0.0, 0.0], [0.9564796686172485, 0.04352026432752609, 0.0, 0.0, 0.0, 0.0, 0.0, 0.0], [0.5829522609710693, 0.31686168909072876, 0.10018599033355713, 0.0, 0.0, 0.0, 0.0, 0.0], [0.3545847237110138, 0.07486026734113693, 0.5557857155799866, 0.014769228175282478, 0.0, 0.0, 0.0, 0.0], [0.3381299078464508, 0.04136352986097336, 0.20732155442237854, 0.3819911479949951, 0.031193898990750313, 0.0, 0.0, 0.0], [0.4347638189792633, 0.058411095291376114, 0.2325727343559265, 0.12616275250911713, 0.047836244106292725, 0.10025332868099213, 0.0, 0.0], [0.2724941670894623, 0.028495488688349724, 0.0793619453907013, 0.10796710848808289, 0.03543975204229355, 0.3842824697494507, 0.09195903688669205, 0.0], [0.6932587623596191, 0.033588580787181854, 0.046078406274318695, 0.013879584148526192, 0.016981322318315506, 0.12129624933004379, 0.06214053928852081, 0.012776544317603111]], [[1.0, 0.0, 0.0, 0.0, 0.0, 0.0, 0.0, 0.0], [0.9240325689315796, 0.07596737146377563, 0.0, 0.0, 0.0, 0.0, 0.0, 0.0], [0.9326752424240112, 0.041722655296325684, 0.025602074339985847, 0.0, 0.0, 0.0, 0.0, 0.0], [0.799934983253479, 0.1103464663028717, 0.08400064706802368, 0.0057179294526577, 0.0, 0.0, 0.0, 0.0], [0.9663497805595398, 0.012535393238067627, 0.01474452018737793, 0.001978211337700486, 0.004392107017338276, 0.0, 0.0, 0.0], [0.9262912273406982, 0.02361864596605301, 0.02072112075984478, 0.004713715985417366, 0.009641076438128948, 0.015014184638857841, 0.0, 0.0], [0.7180084586143494, 0.10139236599206924, 0.13037246465682983, 0.007471900433301926, 0.004014417063444853, 0.006219201721251011, 0.03252117708325386, 0.0], [0.7029301524162292, 0.1705208420753479, 0.018303317949175835, 0.004314282443374395, 0.007382732350379229, 0.006735675036907196, 0.07611735910177231, 0.013695580884814262]], [[1.0, 0.0, 0.0, 0.0, 0.0, 0.0, 0.0, 0.0], [0.9350360035896301, 0.06496405601501465, 0.0, 0.0, 0.0, 0.0, 0.0, 0.0], [0.8815788626670837, 0.064266636967659, 0.05415456369519234, 0.0, 0.0, 0.0, 0.0, 0.0], [0.7879645228385925, 0.08113723248243332, 0.08335201442241669, 0.04754624515771866, 0.0, 0.0, 0.0, 0.0], [0.8350886106491089, 0.06692811846733093, 0.04459209367632866, 0.020919153466820717, 0.03247198835015297, 0.0, 0.0, 0.0], [0.840510904788971, 0.05476231500506401, 0.04249267280101776, 0.015204786323010921, 0.014583779498934746, 0.032445523887872696, 0.0, 0.0], [0.7055707573890686, 0.08621122688055038, 0.06724639236927032, 0.01926806941628456, 0.020728692412376404, 0.05680176243185997, 0.04417313635349274, 0.0], [0.8419461846351624, 0.019711032509803772, 0.041616521775722504, 0.025246234610676765, 0.007789209950715303, 0.01947568543255329, 0.016640761867165565, 0.027574317529797554]], [[1.0, 0.0, 0.0, 0.0, 0.0, 0.0, 0.0, 0.0], [0.9929989576339722, 0.007001023273915052, 0.0, 0.0, 0.0, 0.0, 0.0, 0.0], [0.9779242873191833, 0.007371263112872839, 0.014704480767250061, 0.0, 0.0, 0.0, 0.0, 0.0], [0.9554868340492249, 0.0074570137076079845, 0.02856290712952614, 0.008493231609463692, 0.0, 0.0, 0.0, 0.0], [0.9595440030097961, 0.010024279356002808, 0.0235051978379488, 0.0018981249304488301, 0.0050284466706216335, 0.0, 0.0, 0.0], [0.9260209202766418, 0.04761185869574547, 0.010880938731133938, 0.0019992515444755554, 0.0063111986964941025, 0.0071757473051548, 0.0, 0.0], [0.9206974506378174, 0.007586671505123377, 0.05817602202296257, 0.002130742883309722, 0.0007519663195125759, 0.002329904353246093, 0.008327268995344639, 0.0], [0.9564195871353149, 0.014024069532752037, 0.009514831937849522, 0.006262301933020353, 0.0003629070124588907, 0.002169600687921047, 0.00601226557046175, 0.005234400741755962]], [[1.0, 0.0, 0.0, 0.0, 0.0, 0.0, 0.0, 0.0], [0.9453680515289307, 0.05463190749287605, 0.0, 0.0, 0.0, 0.0, 0.0, 0.0], [0.753892719745636, 0.19597956538200378, 0.05012767016887665, 0.0, 0.0, 0.0, 0.0, 0.0], [0.39292582869529724, 0.33620214462280273, 0.2578616142272949, 0.013010422699153423, 0.0, 0.0, 0.0, 0.0], [0.6113709807395935, 0.13248036801815033, 0.22841840982437134, 0.01585027202963829, 0.01187990978360176, 0.0, 0.0, 0.0], [0.45077529549598694, 0.22397373616695404, 0.19895103573799133, 0.02817138098180294, 0.08368652313947678, 0.014442024752497673, 0.0, 0.0], [0.30295971035957336, 0.13196821510791779, 0.49540647864341736, 0.030143748968839645, 0.019937071949243546, 0.012076075188815594, 0.0075086066499352455, 0.0], [0.3761514723300934, 0.3898755609989166, 0.06315372884273529, 0.035732656717300415, 0.07565176486968994, 0.04164190590381622, 0.012149582616984844, 0.005643256474286318]], [[1.0, 0.0, 0.0, 0.0, 0.0, 0.0, 0.0, 0.0], [0.9605481028556824, 0.039451878517866135, 0.0, 0.0, 0.0, 0.0, 0.0, 0.0], [0.9501181244850159, 0.03653672710061073, 0.013345167972147465, 0.0, 0.0, 0.0, 0.0, 0.0], [0.9088496565818787, 0.04437622055411339, 0.02217642217874527, 0.024597620591521263, 0.0, 0.0, 0.0, 0.0], [0.8556289672851562, 0.02972295694053173, 0.02919711172580719, 0.07540662586688995, 0.010044306516647339, 0.0, 0.0, 0.0], [0.9248053431510925, 0.033027444034814835, 0.018461283296346664, 0.013809895142912865, 0.0042920843698084354, 0.005603966303169727, 0.0, 0.0], [0.6977169513702393, 0.11514696478843689, 0.09258152544498444, 0.027466345578432083, 0.005089333280920982, 0.01975776068866253, 0.042241115123033524, 0.0], [0.8897170424461365, 0.04324783384799957, 0.012864626944065094, 0.019322210922837257, 0.0037885704077780247, 0.011776890605688095, 0.015910709276795387, 0.0033721798099577427]], [[1.0, 0.0, 0.0, 0.0, 0.0, 0.0, 0.0, 0.0], [0.9920509457588196, 0.007949132472276688, 0.0, 0.0, 0.0, 0.0, 0.0, 0.0], [0.9634370803833008, 0.010929745621979237, 0.025633221492171288, 0.0, 0.0, 0.0, 0.0, 0.0], [0.9702152609825134, 0.007133238483220339, 0.017666436731815338, 0.004985165316611528, 0.0, 0.0, 0.0, 0.0], [0.95164954662323, 0.015474360436201096, 0.02434615232050419, 0.0015274633187800646, 0.0070023732259869576, 0.0, 0.0, 0.0], [0.9281273484230042, 0.035278335213661194, 0.010855519212782383, 0.0009274733602069318, 0.01049365196377039, 0.014317694120109081, 0.0, 0.0], [0.9014322757720947, 0.013724700547754765, 0.06569287180900574, 0.0016381441382691264, 0.0015173230785876513, 0.004721435252577066, 0.011273250915110111, 0.0], [0.9275696873664856, 0.016706980764865875, 0.011006257496774197, 0.013822255656123161, 0.0006941575556993484, 0.005706933327019215, 0.009119096212089062, 0.015374724753201008]], [[1.0, 0.0, 0.0, 0.0, 0.0, 0.0, 0.0, 0.0], [0.9389489889144897, 0.061051033437252045, 0.0, 0.0, 0.0, 0.0, 0.0, 0.0], [0.7261175513267517, 0.20577141642570496, 0.06811097264289856, 0.0, 0.0, 0.0, 0.0, 0.0], [0.734309732913971, 0.07668832689523697, 0.0958036482334137, 0.09319832921028137, 0.0, 0.0, 0.0, 0.0], [0.5197117924690247, 0.007230510003864765, 0.021886484697461128, 0.4264419376850128, 0.024729333817958832, 0.0, 0.0, 0.0], [0.7433203458786011, 0.015901848673820496, 0.01610472798347473, 0.04645795375108719, 0.023884806782007217, 0.1543302983045578, 0.0, 0.0], [0.8509596586227417, 0.004655937664210796, 0.007058875635266304, 0.0377047173678875, 0.007205125410109758, 0.05838897451758385, 0.034026626497507095, 0.0], [0.355430006980896, 0.041012607514858246, 0.036678507924079895, 0.008405234664678574, 0.01901496760547161, 0.13706086575984955, 0.37493619322776794, 0.027461539953947067]], [[1.0, 0.0, 0.0, 0.0, 0.0, 0.0, 0.0, 0.0], [0.9929713606834412, 0.007028681691735983, 0.0, 0.0, 0.0, 0.0, 0.0, 0.0], [0.979300320148468, 0.0057433112524449825, 0.014956331811845303, 0.0, 0.0, 0.0, 0.0, 0.0], [0.9712157249450684, 0.004985839128494263, 0.0186502393335104, 0.005148175172507763, 0.0, 0.0, 0.0, 0.0], [0.9862356781959534, 0.0037359779234975576, 0.006160208489745855, 0.0031038476154208183, 0.0007642843993380666, 0.0, 0.0, 0.0], [0.9867255687713623, 0.004322375636547804, 0.002487192628905177, 0.001250650966539979, 0.0006571075064130127, 0.004557167179882526, 0.0, 0.0], [0.980773389339447, 0.0019481388153508306, 0.008616223931312561, 0.003314638277515769, 0.0004073376767337322, 0.004362169653177261, 0.0005780567298643291, 0.0], [0.9776992797851562, 0.004551508463919163, 0.001941378810442984, 0.006393175106495619, 0.00048782574594952166, 0.006227503065019846, 0.0010074421297758818, 0.00169180438388139]]], [[[1.0, 0.0, 0.0, 0.0, 0.0, 0.0, 0.0, 0.0], [0.9161417484283447, 0.08385825902223587, 0.0, 0.0, 0.0, 0.0, 0.0, 0.0], [0.923988938331604, 0.04461006820201874, 0.031401049345731735, 0.0, 0.0, 0.0, 0.0, 0.0], [0.8598094582557678, 0.0636734589934349, 0.0493759848177433, 0.027141109108924866, 0.0, 0.0, 0.0, 0.0], [0.8409954905509949, 0.06338950246572495, 0.057839758694171906, 0.017138367518782616, 0.020636873319745064, 0.0, 0.0, 0.0], [0.6092883944511414, 0.12765580415725708, 0.06262759864330292, 0.05747361481189728, 0.029719656333327293, 0.11323493719100952, 0.0, 0.0], [0.7323872447013855, 0.07484040409326553, 0.07324546575546265, 0.02347867749631405, 0.010957196354866028, 0.04994151368737221, 0.03514956682920456, 0.0], [0.8527573347091675, 0.10225607454776764, 0.0273416917771101, 0.0038383775390684605, 0.00183595169801265, 0.006790314335376024, 0.002991698682308197, 0.0021885877940803766]], [[1.0, 0.0, 0.0, 0.0, 0.0, 0.0, 0.0, 0.0], [0.9778515696525574, 0.022148432210087776, 0.0, 0.0, 0.0, 0.0, 0.0, 0.0], [0.9572457671165466, 0.014047225005924702, 0.028706993907690048, 0.0, 0.0, 0.0, 0.0, 0.0], [0.8900034427642822, 0.028984634205698967, 0.06578121334314346, 0.015230702236294746, 0.0, 0.0, 0.0, 0.0], [0.8982365727424622, 0.018704243004322052, 0.06031685695052147, 0.0035423855297267437, 0.019199836999177933, 0.0, 0.0, 0.0], [0.9174734354019165, 0.03623281419277191, 0.012981675565242767, 0.006189984269440174, 0.008433625102043152, 0.018688460811972618, 0.0, 0.0], [0.8292292356491089, 0.018814919516444206, 0.11045534163713455, 0.003519801888614893, 0.0029658719431608915, 0.004112989641726017, 0.030901838093996048, 0.0], [0.9035601615905762, 0.03471262753009796, 0.019963376224040985, 0.008389455266296864, 0.002133966190740466, 0.007778411731123924, 0.010237906128168106, 0.01322415005415678]], [[1.0, 0.0, 0.0, 0.0, 0.0, 0.0, 0.0, 0.0], [0.964526891708374, 0.035473164170980453, 0.0, 0.0, 0.0, 0.0, 0.0, 0.0], [0.94557124376297, 0.025834614410996437, 0.028594182804226875, 0.0, 0.0, 0.0, 0.0, 0.0], [0.9444863796234131, 0.021024515852332115, 0.027515126392245293, 0.0069739255122840405, 0.0, 0.0, 0.0, 0.0], [0.9420247673988342, 0.011658189818263054, 0.029727844521403313, 0.005923047661781311, 0.0106660770252347, 0.0, 0.0, 0.0], [0.8871063590049744, 0.04088582843542099, 0.009358796291053295, 0.003964242059737444, 0.025736482813954353, 0.03294828534126282, 0.0, 0.0], [0.9495339393615723, 0.006808402482420206, 0.024271449074149132, 0.0035239900462329388, 0.00362129183486104, 0.006748702842742205, 0.005492316093295813, 0.0], [0.9061922430992126, 0.01980903372168541, 0.017947962507605553, 0.01952468231320381, 0.005558609031140804, 0.015465008094906807, 0.007741601672023535, 0.007760866079479456]], [[1.0, 0.0, 0.0, 0.0, 0.0, 0.0, 0.0, 0.0], [0.9550502896308899, 0.04494963213801384, 0.0, 0.0, 0.0, 0.0, 0.0, 0.0], [0.9005215167999268, 0.053841982036828995, 0.04563657566905022, 0.0, 0.0, 0.0, 0.0, 0.0], [0.9141243100166321, 0.03124847076833248, 0.027261385694146156, 0.027365833520889282, 0.0, 0.0, 0.0, 0.0], [0.8539279103279114, 0.03438215330243111, 0.08135148137807846, 0.01767806150019169, 0.012660365551710129, 0.0, 0.0, 0.0], [0.8527783155441284, 0.05368143692612648, 0.014211934059858322, 0.02076300047338009, 0.022684630006551743, 0.03588065505027771, 0.0, 0.0], [0.8727505803108215, 0.02595975436270237, 0.053068630397319794, 0.01489957980811596, 0.005818930920213461, 0.009261485189199448, 0.018240945413708687, 0.0], [0.8082550764083862, 0.06717056781053543, 0.030915120616555214, 0.03103531338274479, 0.012094561941921711, 0.031163237988948822, 0.007720930501818657, 0.011645144782960415]], [[1.0, 0.0, 0.0, 0.0, 0.0, 0.0, 0.0, 0.0], [0.9482812881469727, 0.051718682050704956, 0.0, 0.0, 0.0, 0.0, 0.0, 0.0], [0.8982752561569214, 0.06758345663547516, 0.034141309559345245, 0.0, 0.0, 0.0, 0.0, 0.0], [0.21636918187141418, 0.30689799785614014, 0.4588756859302521, 0.017857208847999573, 0.0, 0.0, 0.0, 0.0], [0.4919402301311493, 0.1529853790998459, 0.25358548760414124, 0.04238561913371086, 0.0591033399105072, 0.0, 0.0, 0.0], [0.5188828110694885, 0.22896982729434967, 0.09437109529972076, 0.025105366483330727, 0.05973997712135315, 0.07293090224266052, 0.0, 0.0], [0.5992589592933655, 0.07643728703260422, 0.1508539915084839, 0.020262569189071655, 0.02443474531173706, 0.05775173008441925, 0.07100072503089905, 0.0], [0.940980076789856, 0.026972375810146332, 0.010834632441401482, 0.008102075196802616, 0.0026326521765440702, 0.0066251689568161964, 0.0025921780616045, 0.0012608629185706377]], [[1.0, 0.0, 0.0, 0.0, 0.0, 0.0, 0.0, 0.0], [0.936421811580658, 0.06357821077108383, 0.0, 0.0, 0.0, 0.0, 0.0, 0.0], [0.831523597240448, 0.11657212674617767, 0.05190434679389, 0.0, 0.0, 0.0, 0.0, 0.0], [0.9097463488578796, 0.0388602688908577, 0.031015222892165184, 0.020378127694129944, 0.0, 0.0, 0.0, 0.0], [0.9120171666145325, 0.011987478472292423, 0.017855709418654442, 0.045356445014476776, 0.012783315032720566, 0.0, 0.0, 0.0], [0.9174680113792419, 0.014688021503388882, 0.010755321942269802, 0.013317856006324291, 0.020719140768051147, 0.023051656782627106, 0.0, 0.0], [0.9149406552314758, 0.014123938046395779, 0.0077542029321193695, 0.0061114090494811535, 0.012316574342548847, 0.03444313257932663, 0.010310088284313679, 0.0], [0.271080881357193, 0.11583905667066574, 0.11222552508115768, 0.03741332143545151, 0.05846812203526497, 0.1935662180185318, 0.171579971909523, 0.03982693701982498]], [[1.0, 0.0, 0.0, 0.0, 0.0, 0.0, 0.0, 0.0], [0.9912931323051453, 0.00870686024427414, 0.0, 0.0, 0.0, 0.0, 0.0, 0.0], [0.9669666886329651, 0.010021112859249115, 0.023012196645140648, 0.0, 0.0, 0.0, 0.0, 0.0], [0.9131983518600464, 0.02466450445353985, 0.04545575752854347, 0.016681374981999397, 0.0, 0.0, 0.0, 0.0], [0.9225157499313354, 0.011429493315517902, 0.04064575582742691, 0.004326862283051014, 0.02108224667608738, 0.0, 0.0, 0.0], [0.8641323447227478, 0.029767632484436035, 0.024162881076335907, 0.009424551390111446, 0.04628748446702957, 0.02622518129646778, 0.0, 0.0], [0.893303632736206, 0.011593328788876534, 0.06017401069402695, 0.005074448883533478, 0.005697034299373627, 0.009016270749270916, 0.015141301788389683, 0.0], [0.9422515034675598, 0.020043496042490005, 0.017396345734596252, 0.004564998671412468, 0.006945096421986818, 0.0044334651902318, 0.0026608488988131285, 0.0017041966784745455]], [[1.0, 0.0, 0.0, 0.0, 0.0, 0.0, 0.0, 0.0], [0.9354175925254822, 0.0645824447274208, 0.0, 0.0, 0.0, 0.0, 0.0, 0.0], [0.8990580439567566, 0.0469185933470726, 0.05402342975139618, 0.0, 0.0, 0.0, 0.0, 0.0], [0.31942737102508545, 0.3214791417121887, 0.335906445980072, 0.023187007755041122, 0.0, 0.0, 0.0, 0.0], [0.6013995409011841, 0.06793049722909927, 0.24345864355564117, 0.04722064360976219, 0.039990637451410294, 0.0, 0.0, 0.0], [0.504315972328186, 0.3547402024269104, 0.038127779960632324, 0.023515820503234863, 0.052609093487262726, 0.026691189035773277, 0.0, 0.0], [0.6337764263153076, 0.10579349100589752, 0.16110773384571075, 0.031170392408967018, 0.016427386552095413, 0.01104583777487278, 0.04067876562476158, 0.0], [0.7725223898887634, 0.09577983617782593, 0.024434229359030724, 0.022766759619116783, 0.013944371603429317, 0.01405798178166151, 0.026792360469698906, 0.029702147468924522]], [[1.0, 0.0, 0.0, 0.0, 0.0, 0.0, 0.0, 0.0], [0.971989631652832, 0.02801034227013588, 0.0, 0.0, 0.0, 0.0, 0.0, 0.0], [0.9779075980186462, 0.010669159702956676, 0.011423284187912941, 0.0, 0.0, 0.0, 0.0, 0.0], [0.9726606011390686, 0.0077049266546964645, 0.010335464030504227, 0.009298999793827534, 0.0, 0.0, 0.0, 0.0], [0.9749886393547058, 0.004222785588353872, 0.006629950366914272, 0.005878265481442213, 0.008280450478196144, 0.0, 0.0, 0.0], [0.9572420716285706, 0.009194739162921906, 0.0038056927733123302, 0.0033090361393988132, 0.00926950667053461, 0.017178967595100403, 0.0, 0.0], [0.9588508009910583, 0.002924407599493861, 0.00620731757953763, 0.007741278503090143, 0.005110542755573988, 0.010070725344121456, 0.00909486785531044, 0.0], [0.9239988923072815, 0.007059492636471987, 0.0022570432629436255, 0.049826882779598236, 0.0011611684458330274, 0.007346782833337784, 0.0019575031474232674, 0.006392240058630705]], [[1.0, 0.0, 0.0, 0.0, 0.0, 0.0, 0.0, 0.0], [0.9056073427200317, 0.09439264237880707, 0.0, 0.0, 0.0, 0.0, 0.0, 0.0], [0.5862946510314941, 0.2801254093647003, 0.13357993960380554, 0.0, 0.0, 0.0, 0.0, 0.0], [0.8434184789657593, 0.07967688143253326, 0.026692626997828484, 0.05021204799413681, 0.0, 0.0, 0.0, 0.0], [0.6683325171470642, 0.07361260801553726, 0.09271103143692017, 0.07816464453935623, 0.08717917650938034, 0.0, 0.0, 0.0], [0.8382673263549805, 0.028790978714823723, 0.02559112012386322, 0.028652913868427277, 0.032512418925762177, 0.046185288578271866, 0.0, 0.0], [0.6708682179450989, 0.03564945608377457, 0.18867063522338867, 0.04076297953724861, 0.01060773991048336, 0.018488958477973938, 0.03495210036635399, 0.0], [0.6841076016426086, 0.05963324010372162, 0.05933189392089844, 0.023453760892152786, 0.02878049947321415, 0.06433717161417007, 0.04973810538649559, 0.030617784708738327]], [[1.0, 0.0, 0.0, 0.0, 0.0, 0.0, 0.0, 0.0], [0.9831220507621765, 0.016877906396985054, 0.0, 0.0, 0.0, 0.0, 0.0, 0.0], [0.98105388879776, 0.010528413578867912, 0.008417767472565174, 0.0, 0.0, 0.0, 0.0, 0.0], [0.9506674408912659, 0.02390550822019577, 0.020768623799085617, 0.004658388439565897, 0.0, 0.0, 0.0, 0.0], [0.9313295483589172, 0.024901840835809708, 0.028283772990107536, 0.005853639449924231, 0.009631160646677017, 0.0, 0.0, 0.0], [0.9127002358436584, 0.03939378634095192, 0.00801172200590372, 0.007563833612948656, 0.012874609790742397, 0.01945575326681137, 0.0, 0.0], [0.9621920585632324, 0.009101388044655323, 0.01652109995484352, 0.0012066283961758018, 0.0016496626194566488, 0.0026632635854184628, 0.0066658309660851955, 0.0], [0.9151212573051453, 0.045061588287353516, 0.009913620539009571, 0.009453266859054565, 0.0032451320439577103, 0.00787064153701067, 0.004814065061509609, 0.004520390648394823]], [[1.0, 0.0, 0.0, 0.0, 0.0, 0.0, 0.0, 0.0], [0.9004510045051575, 0.09954900294542313, 0.0, 0.0, 0.0, 0.0, 0.0, 0.0], [0.8218376040458679, 0.1345416158437729, 0.04362080991268158, 0.0, 0.0, 0.0, 0.0, 0.0], [0.4129556715488434, 0.17677587270736694, 0.37827828526496887, 0.03199014440178871, 0.0, 0.0, 0.0, 0.0], [0.6462764739990234, 0.021062206476926804, 0.04931788519024849, 0.004674824886023998, 0.2786686420440674, 0.0, 0.0, 0.0], [0.8398048281669617, 0.036048151552677155, 0.014516754075884819, 0.01588158868253231, 0.06811293214559555, 0.025635723024606705, 0.0, 0.0], [0.8619558811187744, 0.009259588085114956, 0.03288925066590309, 0.004875587299466133, 0.004131574183702469, 0.021811969578266144, 0.06507608294487, 0.0], [0.9790680408477783, 0.008965936489403248, 0.003245589090511203, 0.00040185294346883893, 0.0008661046740598977, 0.0008080994011834264, 0.005141856148838997, 0.001502537401393056]]], [[[1.0, 0.0, 0.0, 0.0, 0.0, 0.0, 0.0, 0.0], [0.624366044998169, 0.37563398480415344, 0.0, 0.0, 0.0, 0.0, 0.0, 0.0], [0.5015326142311096, 0.21566976606845856, 0.282797634601593, 0.0, 0.0, 0.0, 0.0, 0.0], [0.4282151460647583, 0.23139098286628723, 0.23251226544380188, 0.10788160562515259, 0.0, 0.0, 0.0, 0.0], [0.36928385496139526, 0.18876829743385315, 0.18022388219833374, 0.14236897230148315, 0.11935493350028992, 0.0, 0.0, 0.0], [0.357663631439209, 0.16959652304649353, 0.16563187539577484, 0.09070955216884613, 0.071587473154068, 0.14481090009212494, 0.0, 0.0], [0.14011311531066895, 0.16306327283382416, 0.22405855357646942, 0.15742553770542145, 0.07606912404298782, 0.12847204506397247, 0.11079835146665573, 0.0], [0.1717762053012848, 0.1655256748199463, 0.2487884759902954, 0.0876443088054657, 0.025577671825885773, 0.17608048021793365, 0.03139522299170494, 0.09321197122335434]], [[1.0, 0.0, 0.0, 0.0, 0.0, 0.0, 0.0, 0.0], [0.9441167712211609, 0.055883172899484634, 0.0, 0.0, 0.0, 0.0, 0.0, 0.0], [0.9448627829551697, 0.04263094812631607, 0.012506234459578991, 0.0, 0.0, 0.0, 0.0, 0.0], [0.9317104816436768, 0.036162298172712326, 0.014355707913637161, 0.01777150109410286, 0.0, 0.0, 0.0, 0.0], [0.9050933718681335, 0.02453755959868431, 0.01668190024793148, 0.02776922844350338, 0.025917934253811836, 0.0, 0.0, 0.0], [0.9242986440658569, 0.031047839671373367, 0.005262397695332766, 0.01077175885438919, 0.011333062313497066, 0.017286267131567, 0.0, 0.0], [0.7946324348449707, 0.036721620708703995, 0.030861016362905502, 0.030923908576369286, 0.020257042720913887, 0.05055655911564827, 0.03604740649461746, 0.0], [0.7337627410888672, 0.06798827648162842, 0.019246414303779602, 0.04620875045657158, 0.017097238451242447, 0.08319731056690216, 0.019753998145461082, 0.01274534035474062]], [[1.0, 0.0, 0.0, 0.0, 0.0, 0.0, 0.0, 0.0], [0.924770712852478, 0.07522927969694138, 0.0, 0.0, 0.0, 0.0, 0.0, 0.0], [0.8894685506820679, 0.07784809917211533, 0.03268332779407501, 0.0, 0.0, 0.0, 0.0, 0.0], [0.8842734694480896, 0.06961610168218613, 0.03064175695180893, 0.0154686588793993, 0.0, 0.0, 0.0, 0.0], [0.8854755163192749, 0.06880571693181992, 0.029233645647764206, 0.009147696197032928, 0.007337342947721481, 0.0, 0.0, 0.0], [0.9075279235839844, 0.07136543840169907, 0.00589192658662796, 0.004631270654499531, 0.00535298977047205, 0.005230482202023268, 0.0, 0.0], [0.874818742275238, 0.05122506991028786, 0.032977309077978134, 0.008863197639584541, 0.004106982611119747, 0.006464346311986446, 0.021544311195611954, 0.0], [0.8314568996429443, 0.10397504270076752, 0.021742207929491997, 0.010203697718679905, 0.005300858058035374, 0.012184081599116325, 0.010434660129249096, 0.004702467005699873]], [[1.0, 0.0, 0.0, 0.0, 0.0, 0.0, 0.0, 0.0], [0.8774200081825256, 0.12258001416921616, 0.0, 0.0, 0.0, 0.0, 0.0, 0.0], [0.7794781923294067, 0.15356828272342682, 0.06695351749658585, 0.0, 0.0, 0.0, 0.0, 0.0], [0.7058490514755249, 0.1294313669204712, 0.0672127977013588, 0.0975068062543869, 0.0, 0.0, 0.0, 0.0], [0.6011292934417725, 0.04817008972167969, 0.046101368963718414, 0.1957739293575287, 0.10882523655891418, 0.0, 0.0, 0.0], [0.6633802652359009, 0.0753866657614708, 0.0573517307639122, 0.07816767692565918, 0.08313696086406708, 0.04257659614086151, 0.0, 0.0], [0.43138808012008667, 0.09387536346912384, 0.11490324884653091, 0.08232766389846802, 0.06571898609399796, 0.045484576374292374, 0.1663021296262741, 0.0], [0.7393844723701477, 0.054792728275060654, 0.04642868787050247, 0.03556821495294571, 0.026503346860408783, 0.018387313932180405, 0.06505557894706726, 0.013879670761525631]], [[1.0, 0.0, 0.0, 0.0, 0.0, 0.0, 0.0, 0.0], [0.8503890037536621, 0.14961093664169312, 0.0, 0.0, 0.0, 0.0, 0.0, 0.0], [0.7837322354316711, 0.17779061198234558, 0.03847719728946686, 0.0, 0.0, 0.0, 0.0, 0.0], [0.7601446509361267, 0.1592741310596466, 0.04319014772772789, 0.03739108890295029, 0.0, 0.0, 0.0, 0.0], [0.786089301109314, 0.10097841173410416, 0.03200962021946907, 0.03148460388183594, 0.04943801090121269, 0.0, 0.0, 0.0], [0.6724511981010437, 0.13972057402133942, 0.028712831437587738, 0.03796154633164406, 0.08891890197992325, 0.03223496675491333, 0.0, 0.0], [0.6106588244438171, 0.07753157615661621, 0.05729867145419121, 0.05385851860046387, 0.08111035078763962, 0.04488639160990715, 0.07465572655200958, 0.0], [0.6411225199699402, 0.11242271959781647, 0.03298615664243698, 0.07259983569383621, 0.027815554291009903, 0.049580033868551254, 0.04030824452638626, 0.023164931684732437]], [[1.0, 0.0, 0.0, 0.0, 0.0, 0.0, 0.0, 0.0], [0.9671087265014648, 0.03289130702614784, 0.0, 0.0, 0.0, 0.0, 0.0, 0.0], [0.9466164112091064, 0.028300734236836433, 0.025082867592573166, 0.0, 0.0, 0.0, 0.0, 0.0], [0.9248678684234619, 0.03515584394335747, 0.018824059516191483, 0.02115226536989212, 0.0, 0.0, 0.0, 0.0], [0.9206821918487549, 0.022735217586159706, 0.030761128291487694, 0.009083089418709278, 0.01673838123679161, 0.0, 0.0, 0.0], [0.8563274145126343, 0.03537759929895401, 0.01006845198571682, 0.018538422882556915, 0.02448510378599167, 0.05520303174853325, 0.0, 0.0], [0.8531598448753357, 0.03025342896580696, 0.033098410815000534, 0.012413686141371727, 0.024527164176106453, 0.02854393608868122, 0.018003588542342186, 0.0], [0.7776707410812378, 0.05173072591423988, 0.02270282804965973, 0.019772838801145554, 0.023032426834106445, 0.07715310901403427, 0.011950119398534298, 0.015987230464816093]], [[1.0, 0.0, 0.0, 0.0, 0.0, 0.0, 0.0, 0.0], [0.9735031127929688, 0.026496894657611847, 0.0, 0.0, 0.0, 0.0, 0.0, 0.0], [0.9709547162055969, 0.020825626328587532, 0.008219652809202671, 0.0, 0.0, 0.0, 0.0, 0.0], [0.9616153240203857, 0.020449424162507057, 0.0123274652287364, 0.0056078252382576466, 0.0, 0.0, 0.0, 0.0], [0.9492146968841553, 0.02133985608816147, 0.01651311106979847, 0.00660767313092947, 0.0063247368671, 0.0, 0.0, 0.0], [0.9478417634963989, 0.03157108649611473, 0.005209722090512514, 0.0040329149924218655, 0.006110529415309429, 0.005233974661678076, 0.0, 0.0], [0.9315301775932312, 0.023309187963604927, 0.016905007883906364, 0.004466300830245018, 0.004531164653599262, 0.005512673407793045, 0.013745522126555443, 0.0], [0.8302663564682007, 0.07760747522115707, 0.01924046501517296, 0.018293751403689384, 0.009861810132861137, 0.022427406162023544, 0.014864567667245865, 0.0074381520971655846]], [[1.0, 0.0, 0.0, 0.0, 0.0, 0.0, 0.0, 0.0], [0.881016731262207, 0.11898326128721237, 0.0, 0.0, 0.0, 0.0, 0.0, 0.0], [0.6647887825965881, 0.23741494119167328, 0.09779631346464157, 0.0, 0.0, 0.0, 0.0, 0.0], [0.8339461088180542, 0.06270884722471237, 0.07820750772953033, 0.02513755112886429, 0.0, 0.0, 0.0, 0.0], [0.7789407968521118, 0.058425139635801315, 0.07631896436214447, 0.018491124734282494, 0.06782392412424088, 0.0, 0.0, 0.0], [0.9466537833213806, 0.024439115077257156, 0.016537511721253395, 0.003286233637481928, 0.0024999810848385096, 0.006583420559763908, 0.0, 0.0], [0.6514813303947449, 0.05522323399782181, 0.15425540506839752, 0.027287252247333527, 0.013128665275871754, 0.03397897630929947, 0.06464521586894989, 0.0], [0.5334070324897766, 0.20498882234096527, 0.05211023613810539, 0.03297879174351692, 0.02188904397189617, 0.08935212343931198, 0.046158336102962494, 0.019115587696433067]], [[1.0, 0.0, 0.0, 0.0, 0.0, 0.0, 0.0, 0.0], [0.000300120678730309, 0.9996999502182007, 0.0, 0.0, 0.0, 0.0, 0.0, 0.0], [0.00014340471534524113, 0.7691034078598022, 0.23075319826602936, 0.0, 0.0, 0.0, 0.0, 0.0], [0.0001725408510537818, 0.33542999625205994, 0.24208451807498932, 0.4223129451274872, 0.0, 0.0, 0.0, 0.0], [0.0001275438698939979, 0.2245011180639267, 0.23031187057495117, 0.38371771574020386, 0.16134178638458252, 0.0, 0.0, 0.0], [0.00010079642379423603, 0.13852323591709137, 0.115373395383358, 0.2884599268436432, 0.11592242121696472, 0.3416202664375305, 0.0, 0.0], [0.00013324715837370604, 0.10479000955820084, 0.08452832698822021, 0.14569120109081268, 0.09729564189910889, 0.32889556884765625, 0.23866595327854156, 0.0], [0.00012075553240720183, 0.24642278254032135, 0.4242505729198456, 0.03780209645628929, 0.04442514851689339, 0.10405557602643967, 0.10303497314453125, 0.03988815099000931]], [[1.0, 0.0, 0.0, 0.0, 0.0, 0.0, 0.0, 0.0], [0.9805485010147095, 0.019451530650258064, 0.0, 0.0, 0.0, 0.0, 0.0, 0.0], [0.9591151475906372, 0.020274166017770767, 0.020610716193914413, 0.0, 0.0, 0.0, 0.0, 0.0], [0.945321798324585, 0.023902980610728264, 0.01688850112259388, 0.013886758126318455, 0.0, 0.0, 0.0, 0.0], [0.9453259706497192, 0.021642770618200302, 0.0196269229054451, 0.00481432257220149, 0.008589999750256538, 0.0, 0.0, 0.0], [0.9008122682571411, 0.031147118657827377, 0.005793759599328041, 0.020672116428613663, 0.011107295751571655, 0.03046748787164688, 0.0, 0.0], [0.9149129390716553, 0.02412666194140911, 0.03102910704910755, 0.0038265848997980356, 0.0030948491767048836, 0.0040676952339708805, 0.018942169845104218, 0.0], [0.8664358258247375, 0.041331298649311066, 0.033507660031318665, 0.009273186326026917, 0.003647738369181752, 0.017054352909326553, 0.01870003528892994, 0.010049973614513874]], [[1.0, 0.0, 0.0, 0.0, 0.0, 0.0, 0.0, 0.0], [0.8312188982963562, 0.168781116604805, 0.0, 0.0, 0.0, 0.0, 0.0, 0.0], [0.6319054365158081, 0.2359733283519745, 0.1321212202310562, 0.0, 0.0, 0.0, 0.0, 0.0], [0.43146222829818726, 0.2558361887931824, 0.188175231218338, 0.1245262622833252, 0.0, 0.0, 0.0, 0.0], [0.7029043436050415, 0.0901264101266861, 0.0924072414636612, 0.06804878264665604, 0.04651327058672905, 0.0, 0.0, 0.0], [0.5210747122764587, 0.14502336084842682, 0.049842264503240585, 0.0479813814163208, 0.11959175020456314, 0.11648645997047424, 0.0, 0.0], [0.5153648257255554, 0.1272713989019394, 0.10585733503103256, 0.05654183775186539, 0.029113462194800377, 0.025349127128720284, 0.14050190150737762, 0.0], [0.5305065512657166, 0.1583794355392456, 0.05518900975584984, 0.038113370537757874, 0.023767197504639626, 0.031606245785951614, 0.12283314764499664, 0.03960501775145531]], [[1.0, 0.0, 0.0, 0.0, 0.0, 0.0, 0.0, 0.0], [0.871509850025177, 0.1284901648759842, 0.0, 0.0, 0.0, 0.0, 0.0, 0.0], [0.7206234931945801, 0.23755885660648346, 0.04181765392422676, 0.0, 0.0, 0.0, 0.0, 0.0], [0.863555908203125, 0.07377757132053375, 0.022351093590259552, 0.04031549021601677, 0.0, 0.0, 0.0, 0.0], [0.8037095069885254, 0.05896950513124466, 0.05152643099427223, 0.044484201818704605, 0.041310299187898636, 0.0, 0.0, 0.0], [0.7569873332977295, 0.06652460247278214, 0.046099379658699036, 0.04067857190966606, 0.03128769248723984, 0.05842248350381851, 0.0, 0.0], [0.7081369757652283, 0.0672113448381424, 0.04539615660905838, 0.029543500393629074, 0.018354667350649834, 0.0314558744430542, 0.09990154951810837, 0.0], [0.5559120178222656, 0.10323677211999893, 0.02002236619591713, 0.05951928347349167, 0.01777849718928337, 0.0318484902381897, 0.11051154136657715, 0.1011710837483406]]]], \"left_text\": [\"Man\", \" ate\", \" food\", \" and\", \" did\", \" not\", \" like\", \" it\"], \"right_text\": [\"Man\", \" ate\", \" food\", \" and\", \" did\", \" not\", \" like\", \" it\"]}], \"default_filter\": \"0\", \"display_mode\": \"dark\", \"root_div_id\": \"bertviz-4125815df8934f2f95ad1ff4c0a06b98\", \"include_layers\": [0, 1, 2, 3, 4, 5, 6, 7, 8, 9, 10, 11], \"include_heads\": [0, 1, 2, 3, 4, 5, 6, 7, 8, 9, 10, 11], \"total_heads\": 12}; // HACK: {\"attention\": [{\"name\": null, \"attn\": [[[[1.0, 0.0, 0.0, 0.0, 0.0, 0.0, 0.0, 0.0], [0.3617079257965088, 0.6382920742034912, 0.0, 0.0, 0.0, 0.0, 0.0, 0.0], [0.5247875452041626, 0.2970535457134247, 0.1781589388847351, 0.0, 0.0, 0.0, 0.0, 0.0], [0.3211629092693329, 0.40990394353866577, 0.2213660031557083, 0.04756717011332512, 0.0, 0.0, 0.0, 0.0], [0.13701142370700836, 0.5299050211906433, 0.0821780264377594, 0.050177183002233505, 0.2007283866405487, 0.0, 0.0, 0.0], [0.28071850538253784, 0.3012051284313202, 0.12015018612146378, 0.06309599429368973, 0.16949479281902313, 0.06533536314964294, 0.0, 0.0], [0.30167675018310547, 0.27159354090690613, 0.07802703231573105, 0.06738417595624924, 0.11389388889074326, 0.09124362468719482, 0.07618102431297302, 0.0], [0.3683430552482605, 0.1731179654598236, 0.08220019191503525, 0.04753196984529495, 0.07412482798099518, 0.09475632011890411, 0.10072819143533707, 0.059197474271059036]], [[1.0, 0.0, 0.0, 0.0, 0.0, 0.0, 0.0, 0.0], [0.00015908351633697748, 0.9998408555984497, 0.0, 0.0, 0.0, 0.0, 0.0, 0.0], [0.0006059957086108625, 0.25846511125564575, 0.7409288883209229, 0.0, 0.0, 0.0, 0.0, 0.0], [0.0010622893460094929, 0.0012314383639022708, 0.0005321873468346894, 0.9971741437911987, 0.0, 0.0, 0.0, 0.0], [0.0006589768454432487, 0.007687119767069817, 0.00010904431837843731, 0.0027857408858835697, 0.9887590408325195, 0.0, 0.0, 0.0], [0.00038039524224586785, 0.0008259566966444254, 0.0002599104482214898, 0.0039028141181916, 0.004724632948637009, 0.989906370639801, 0.0, 0.0], [0.0005554408999159932, 0.002479720860719681, 0.0009319554665125906, 0.006468041799962521, 0.0011436588829383254, 0.003629590617492795, 0.9847915172576904, 0.0], [0.0012416335521265864, 0.00020051463798154145, 0.0004895536112599075, 0.003687581978738308, 0.0005172366509214044, 0.005332683213055134, 0.0013075046008452773, 0.9872232675552368]], [[1.0, 0.0, 0.0, 0.0, 0.0, 0.0, 0.0, 0.0], [0.7458636164665222, 0.25413641333580017, 0.0, 0.0, 0.0, 0.0, 0.0, 0.0], [0.4412945508956909, 0.20889480412006378, 0.34981057047843933, 0.0, 0.0, 0.0, 0.0, 0.0], [0.20832055807113647, 0.11401300877332687, 0.03664347901940346, 0.6410229206085205, 0.0, 0.0, 0.0, 0.0], [0.313981294631958, 0.15093791484832764, 0.09687583148479462, 0.19964243471622467, 0.23856256902217865, 0.0, 0.0, 0.0], [0.28176650404930115, 0.13164333999156952, 0.0955033078789711, 0.21561264991760254, 0.19742369651794434, 0.07805055379867554, 0.0, 0.0], [0.3136371076107025, 0.12669572234153748, 0.057813555002212524, 0.12955763936042786, 0.14850474894046783, 0.11600086838006973, 0.10779042541980743, 0.0], [0.16544444859027863, 0.1356387883424759, 0.06693170964717865, 0.16460339725017548, 0.1648665964603424, 0.06475332379341125, 0.18134266138076782, 0.05641915649175644]], [[1.0, 0.0, 0.0, 0.0, 0.0, 0.0, 0.0, 0.0], [0.04245975241065025, 0.9575402736663818, 0.0, 0.0, 0.0, 0.0, 0.0, 0.0], [0.047642771154642105, 0.07039511948823929, 0.8819621205329895, 0.0, 0.0, 0.0, 0.0, 0.0], [0.05205220729112625, 0.08629431575536728, 0.10930176079273224, 0.7523516416549683, 0.0, 0.0, 0.0, 0.0], [0.007882152684032917, 0.04131282493472099, 0.004957931116223335, 0.009122501127421856, 0.9367245435714722, 0.0, 0.0, 0.0], [0.0013226695591583848, 0.0010227292077615857, 0.00021112033573444933, 0.0022420305758714676, 0.524852991104126, 0.47034844756126404, 0.0, 0.0], [0.005457368679344654, 0.002786749042570591, 0.0012682246742770076, 0.005137795116752386, 0.05014761537313461, 0.07640347629785538, 0.8587988615036011, 0.0], [0.007024410180747509, 0.000994743313640356, 0.0007379864691756666, 0.0028397536370903254, 0.01335075031965971, 0.017479486763477325, 0.029431480914354324, 0.9281414151191711]], [[1.0, 0.0, 0.0, 0.0, 0.0, 0.0, 0.0, 0.0], [0.36315983533859253, 0.6368401646614075, 0.0, 0.0, 0.0, 0.0, 0.0, 0.0], [0.12126103043556213, 0.22703267633914948, 0.651706337928772, 0.0, 0.0, 0.0, 0.0, 0.0], [0.10825470834970474, 0.4830237627029419, 0.2286422848701477, 0.18007920682430267, 0.0, 0.0, 0.0, 0.0], [0.13805069029331207, 0.19414280354976654, 0.09205293655395508, 0.1622159332036972, 0.4135376214981079, 0.0, 0.0, 0.0], [0.01719888672232628, 0.03457755967974663, 0.014946689829230309, 0.030233005061745644, 0.7668347954750061, 0.1362091451883316, 0.0, 0.0], [0.05826043710112572, 0.1289101392030716, 0.09013140201568604, 0.048592645674943924, 0.2657810151576996, 0.14963845908641815, 0.2586858868598938, 0.0], [0.10758845508098602, 0.04240046441555023, 0.034550637006759644, 0.0514216385781765, 0.1858488768339157, 0.15777082741260529, 0.16946296393871307, 0.25095608830451965]], [[1.0, 0.0, 0.0, 0.0, 0.0, 0.0, 0.0, 0.0], [0.003630247199907899, 0.9963697195053101, 0.0, 0.0, 0.0, 0.0, 0.0, 0.0], [0.018098806962370872, 0.06029435992240906, 0.9216067790985107, 0.0, 0.0, 0.0, 0.0, 0.0], [0.1539894938468933, 0.032081764191389084, 0.06385640054941177, 0.7500723600387573, 0.0, 0.0, 0.0, 0.0], [0.03145374357700348, 0.009248653426766396, 0.00012443891318980604, 0.0005978468107059598, 0.9585753679275513, 0.0, 0.0, 0.0], [0.017928078770637512, 0.0004312295641284436, 0.0004146562423557043, 0.001221695332787931, 0.0022130736615508795, 0.9777912497520447, 0.0, 0.0], [0.016586806625127792, 0.0034302028361707926, 0.0006281856331042945, 0.004695368465036154, 0.0004632103373296559, 0.0002358268975513056, 0.9739603996276855, 0.0], [0.03498481586575508, 0.003007884370163083, 0.01517155859619379, 0.0033197212032973766, 0.014887389726936817, 0.024588938802480698, 0.0049028643406927586, 0.8991367816925049]], [[1.0, 0.0, 0.0, 0.0, 0.0, 0.0, 0.0, 0.0], [0.7345098257064819, 0.26549020409584045, 0.0, 0.0, 0.0, 0.0, 0.0, 0.0], [0.4313082993030548, 0.26788151264190674, 0.3008102476596832, 0.0, 0.0, 0.0, 0.0, 0.0], [0.45207807421684265, 0.25312483310699463, 0.2749553322792053, 0.0198417529463768, 0.0, 0.0, 0.0, 0.0], [0.44305750727653503, 0.2047175168991089, 0.21089255809783936, 0.05823618546128273, 0.08309628069400787, 0.0, 0.0, 0.0], [0.30567070841789246, 0.22593656182289124, 0.15148010849952698, 0.035953082144260406, 0.1762952357530594, 0.10466431826353073, 0.0, 0.0], [0.2204960733652115, 0.23302426934242249, 0.2691529095172882, 0.0365581177175045, 0.08908519148826599, 0.08050279319286346, 0.07118064165115356, 0.0], [0.33096399903297424, 0.2144414782524109, 0.1978740096092224, 0.01962859369814396, 0.08502904325723648, 0.06263189017772675, 0.06917189806699753, 0.020259132608771324]], [[1.0, 0.0, 0.0, 0.0, 0.0, 0.0, 0.0, 0.0], [0.9104468822479248, 0.08955315500497818, 0.0, 0.0, 0.0, 0.0, 0.0, 0.0], [0.2781533896923065, 0.606468141078949, 0.11537842452526093, 0.0, 0.0, 0.0, 0.0, 0.0], [0.21134239435195923, 0.1952686905860901, 0.26347237825393677, 0.3299165368080139, 0.0, 0.0, 0.0, 0.0], [0.15289171040058136, 0.1350957602262497, 0.10862767696380615, 0.34192824363708496, 0.26145657896995544, 0.0, 0.0, 0.0], [0.08685480058193207, 0.12499680370092392, 0.08642403036355972, 0.2076198309659958, 0.2780531942844391, 0.21605132520198822, 0.0, 0.0], [0.04933745414018631, 0.04561517760157585, 0.04089413210749626, 0.11151716113090515, 0.16308479011058807, 0.41121360659599304, 0.1783377230167389, 0.0], [0.056647785007953644, 0.032992735505104065, 0.03578280657529831, 0.08481825888156891, 0.12216763943433762, 0.18270806968212128, 0.20724189281463623, 0.27764075994491577]], [[1.0, 0.0, 0.0, 0.0, 0.0, 0.0, 0.0, 0.0], [0.8629981875419617, 0.13700179755687714, 0.0, 0.0, 0.0, 0.0, 0.0, 0.0], [0.4960414171218872, 0.28045567870140076, 0.22350293397903442, 0.0, 0.0, 0.0, 0.0, 0.0], [0.10706837475299835, 0.06610486656427383, 0.09859135746955872, 0.7282354235649109, 0.0, 0.0, 0.0, 0.0], [0.1587894707918167, 0.10146220028400421, 0.12094315886497498, 0.4847168028354645, 0.13408830761909485, 0.0, 0.0, 0.0], [0.0658748671412468, 0.07460492104291916, 0.057606182992458344, 0.4470113515853882, 0.23328779637813568, 0.12161480635404587, 0.0, 0.0], [0.07579092681407928, 0.06912362575531006, 0.08716025203466415, 0.294062077999115, 0.20479662716388702, 0.16822487115859985, 0.10084161162376404, 0.0], [0.048766378313302994, 0.05305879935622215, 0.04839002341032028, 0.25769513845443726, 0.11163080483675003, 0.06528133153915405, 0.08702833205461502, 0.3281492590904236]], [[1.0, 0.0, 0.0, 0.0, 0.0, 0.0, 0.0, 0.0], [0.8557285666465759, 0.1442713737487793, 0.0, 0.0, 0.0, 0.0, 0.0, 0.0], [0.8150333166122437, 0.12862756848335266, 0.05633915588259697, 0.0, 0.0, 0.0, 0.0, 0.0], [0.42881202697753906, 0.15531693398952484, 0.11429645121097565, 0.30157455801963806, 0.0, 0.0, 0.0, 0.0], [0.30465176701545715, 0.1492372751235962, 0.11573876440525055, 0.2518543601036072, 0.17851780354976654, 0.0, 0.0, 0.0], [0.28681373596191406, 0.122480608522892, 0.09691726416349411, 0.21430063247680664, 0.14310625195503235, 0.13638144731521606, 0.0, 0.0], [0.22144943475723267, 0.10931259393692017, 0.08735598623752594, 0.17712058126926422, 0.1315416544675827, 0.1239907518029213, 0.1492289900779724, 0.0], [0.19417516887187958, 0.0986839011311531, 0.07863108068704605, 0.15252654254436493, 0.112245574593544, 0.10789411514997482, 0.13763073086738586, 0.11821291595697403]], [[1.0, 0.0, 0.0, 0.0, 0.0, 0.0, 0.0, 0.0], [0.5719724297523499, 0.42802757024765015, 0.0, 0.0, 0.0, 0.0, 0.0, 0.0], [0.34783968329429626, 0.2740505039691925, 0.37810981273651123, 0.0, 0.0, 0.0, 0.0, 0.0], [0.45668482780456543, 0.14626185595989227, 0.11809007823467255, 0.278963178396225, 0.0, 0.0, 0.0, 0.0], [0.2795095145702362, 0.12994085252285004, 0.05921752750873566, 0.18157383799552917, 0.3497582674026489, 0.0, 0.0, 0.0], [0.20503538846969604, 0.07379473745822906, 0.06930238753557205, 0.17862389981746674, 0.11930622160434723, 0.3539373278617859, 0.0, 0.0], [0.19527336955070496, 0.09274466335773468, 0.0934944897890091, 0.15665528178215027, 0.08527743071317673, 0.09515329450368881, 0.28140151500701904, 0.0], [0.1704292893409729, 0.06121419370174408, 0.07155445963144302, 0.13102251291275024, 0.08244489133358002, 0.10055171698331833, 0.0668112188577652, 0.3159716725349426]], [[1.0, 0.0, 0.0, 0.0, 0.0, 0.0, 0.0, 0.0], [0.5706607699394226, 0.4293392300605774, 0.0, 0.0, 0.0, 0.0, 0.0, 0.0], [0.44862690567970276, 0.3078085482120514, 0.24356456100940704, 0.0, 0.0, 0.0, 0.0, 0.0], [0.3790181279182434, 0.12912899255752563, 0.13581916689872742, 0.3560337722301483, 0.0, 0.0, 0.0, 0.0], [0.3644261062145233, 0.13015981018543243, 0.14537903666496277, 0.25491029024124146, 0.10512468218803406, 0.0, 0.0, 0.0], [0.3509112298488617, 0.0935923159122467, 0.07770204544067383, 0.2243635058403015, 0.1081966683268547, 0.14523424208164215, 0.0, 0.0], [0.2988237142562866, 0.07906582206487656, 0.08234230428934097, 0.13560165464878082, 0.07574184238910675, 0.12990260124206543, 0.19852212071418762, 0.0], [0.2552602291107178, 0.07128572463989258, 0.0731678381562233, 0.1218848004937172, 0.07786550372838974, 0.1214742511510849, 0.1663598269224167, 0.11270182579755783]]], [[[1.0, 0.0, 0.0, 0.0, 0.0, 0.0, 0.0, 0.0], [0.9597181081771851, 0.04028189182281494, 0.0, 0.0, 0.0, 0.0, 0.0, 0.0], [0.6849157214164734, 0.23978766798973083, 0.07529662549495697, 0.0, 0.0, 0.0, 0.0, 0.0], [0.39062705636024475, 0.3427595794200897, 0.1173764243721962, 0.14923696219921112, 0.0, 0.0, 0.0, 0.0], [0.45084694027900696, 0.15584246814250946, 0.035919222980737686, 0.26523831486701965, 0.09215299785137177, 0.0, 0.0, 0.0], [0.132688507437706, 0.042404208332300186, 0.010188963264226913, 0.09760736674070358, 0.6552655100822449, 0.06184541434049606, 0.0, 0.0], [0.07020391523838043, 0.030377734452486038, 0.011132561601698399, 0.05213593691587448, 0.38592609763145447, 0.4071102738380432, 0.04311347007751465, 0.0], [0.09894900768995285, 0.07029127329587936, 0.016965040937066078, 0.05982990190386772, 0.24415864050388336, 0.14275826513767242, 0.2930144965648651, 0.07403344660997391]], [[1.0, 0.0, 0.0, 0.0, 0.0, 0.0, 0.0, 0.0], [0.915147066116333, 0.08485287427902222, 0.0, 0.0, 0.0, 0.0, 0.0, 0.0], [0.654582142829895, 0.22447176277637482, 0.12094610184431076, 0.0, 0.0, 0.0, 0.0, 0.0], [0.49272972345352173, 0.19438700377941132, 0.10666811466217041, 0.20621515810489655, 0.0, 0.0, 0.0, 0.0], [0.3744392693042755, 0.0672682598233223, 0.06837787479162216, 0.3611604571342468, 0.12875407934188843, 0.0, 0.0, 0.0], [0.34601515531539917, 0.08485394716262817, 0.07586795836687088, 0.2815993130207062, 0.11711990833282471, 0.09454367309808731, 0.0, 0.0], [0.21918827295303345, 0.07850287854671478, 0.09664542973041534, 0.1894771158695221, 0.11337501555681229, 0.16965287923812866, 0.1331583857536316, 0.0], [0.21801964938640594, 0.051004890352487564, 0.055466536432504654, 0.1638977974653244, 0.06596174836158752, 0.1137072741985321, 0.19712994992733002, 0.1348121166229248]], [[1.0, 0.0, 0.0, 0.0, 0.0, 0.0, 0.0, 0.0], [0.9569822549819946, 0.04301774501800537, 0.0, 0.0, 0.0, 0.0, 0.0, 0.0], [0.7983514070510864, 0.08019332587718964, 0.12145528942346573, 0.0, 0.0, 0.0, 0.0, 0.0], [0.47510388493537903, 0.0609469898045063, 0.08567197620868683, 0.37827715277671814, 0.0, 0.0, 0.0, 0.0], [0.34591472148895264, 0.05860695615410805, 0.07575415819883347, 0.3065948784351349, 0.21312926709651947, 0.0, 0.0, 0.0], [0.29321324825286865, 0.049032289534807205, 0.06522077322006226, 0.2511456608772278, 0.16568757593631744, 0.17570042610168457, 0.0, 0.0], [0.20610840618610382, 0.04174431040883064, 0.05628944933414459, 0.20936742424964905, 0.13809967041015625, 0.14721018075942993, 0.201180562376976, 0.0], [0.18405625224113464, 0.03730038180947304, 0.05112582445144653, 0.16981880366802216, 0.11156105250120163, 0.1169385015964508, 0.1621687263250351, 0.16703054308891296]], [[1.0, 0.0, 0.0, 0.0, 0.0, 0.0, 0.0, 0.0], [0.6069729924201965, 0.3930269777774811, 0.0, 0.0, 0.0, 0.0, 0.0, 0.0], [0.5651569962501526, 0.22149480879306793, 0.2133481502532959, 0.0, 0.0, 0.0, 0.0, 0.0], [0.5456883907318115, 0.1499703973531723, 0.15013831853866577, 0.15420296788215637, 0.0, 0.0, 0.0, 0.0], [0.4957427680492401, 0.11742730438709259, 0.11995817720890045, 0.12468823790550232, 0.1421835869550705, 0.0, 0.0, 0.0], [0.48692581057548523, 0.09439392387866974, 0.09963850677013397, 0.10436798632144928, 0.10895143449306488, 0.10572228580713272, 0.0, 0.0], [0.5051624178886414, 0.06671284139156342, 0.07271947711706161, 0.08218023180961609, 0.08986193686723709, 0.08091731369495392, 0.10244579613208771, 0.0], [0.4928716719150543, 0.0582878440618515, 0.06437626481056213, 0.06955400109291077, 0.07342986017465591, 0.06757549941539764, 0.08435723930597305, 0.08954756706953049]], [[1.0, 0.0, 0.0, 0.0, 0.0, 0.0, 0.0, 0.0], [0.8926227688789368, 0.10737724602222443, 0.0, 0.0, 0.0, 0.0, 0.0, 0.0], [0.756112813949585, 0.12415871024131775, 0.11972852051258087, 0.0, 0.0, 0.0, 0.0, 0.0], [0.6683961153030396, 0.11575331538915634, 0.11503539234399796, 0.10081513226032257, 0.0, 0.0, 0.0, 0.0], [0.6304655075073242, 0.10557186603546143, 0.08557744324207306, 0.07610109448432922, 0.1022840365767479, 0.0, 0.0, 0.0], [0.542506217956543, 0.10497220605611801, 0.09569564461708069, 0.07078098505735397, 0.09743204712867737, 0.08861289918422699, 0.0, 0.0], [0.5057597160339355, 0.08400748670101166, 0.07819034904241562, 0.060094669461250305, 0.08366172015666962, 0.07614210993051529, 0.11214394122362137, 0.0], [0.4594062864780426, 0.07367897778749466, 0.07185261696577072, 0.05649113655090332, 0.06964012235403061, 0.06827559322118759, 0.09746396541595459, 0.10319127887487411]], [[1.0, 0.0, 0.0, 0.0, 0.0, 0.0, 0.0, 0.0], [0.8134506940841675, 0.18654924631118774, 0.0, 0.0, 0.0, 0.0, 0.0, 0.0], [0.5902400612831116, 0.23748981952667236, 0.17227013409137726, 0.0, 0.0, 0.0, 0.0, 0.0], [0.5965981483459473, 0.018515827134251595, 0.00733424536883831, 0.377551794052124, 0.0, 0.0, 0.0, 0.0], [0.4815633296966553, 0.13399681448936462, 0.011434592306613922, 0.22197461128234863, 0.1510305404663086, 0.0, 0.0, 0.0], [0.493351012468338, 0.03151718154549599, 0.0038852959405630827, 0.1654243916273117, 0.04745551198720932, 0.2583666145801544, 0.0, 0.0], [0.35423773527145386, 0.031657081097364426, 0.01178912166506052, 0.14005815982818604, 0.04647194594144821, 0.21920354664325714, 0.19658243656158447, 0.0], [0.5148596167564392, 0.019879698753356934, 0.004752988927066326, 0.08944594115018845, 0.013753833249211311, 0.050079096108675, 0.03681120276451111, 0.27041763067245483]], [[1.0, 0.0, 0.0, 0.0, 0.0, 0.0, 0.0, 0.0], [0.8197692036628723, 0.1802307516336441, 0.0, 0.0, 0.0, 0.0, 0.0, 0.0], [0.48025986552238464, 0.47082462906837463, 0.04891549423336983, 0.0, 0.0, 0.0, 0.0, 0.0], [0.8013120889663696, 0.07887934893369675, 0.051598332822322845, 0.06821022927761078, 0.0, 0.0, 0.0, 0.0], [0.6562161445617676, 0.16990219056606293, 0.04960162937641144, 0.08214259892702103, 0.04213736206293106, 0.0, 0.0, 0.0], [0.5824936628341675, 0.1260821521282196, 0.016265904530882835, 0.07359851896762848, 0.10891050100326538, 0.09264925867319107, 0.0, 0.0], [0.4193045198917389, 0.1010560467839241, 0.14927071332931519, 0.06398220360279083, 0.08162333071231842, 0.0837859958410263, 0.10097721964120865, 0.0], [0.6480715274810791, 0.06642065942287445, 0.042123980820178986, 0.054942384362220764, 0.04536793753504753, 0.07794378697872162, 0.03858211264014244, 0.02654760144650936]], [[1.0, 0.0, 0.0, 0.0, 0.0, 0.0, 0.0, 0.0], [0.9202795624732971, 0.0797203853726387, 0.0, 0.0, 0.0, 0.0, 0.0, 0.0], [0.8460916876792908, 0.12456202507019043, 0.029346324503421783, 0.0, 0.0, 0.0, 0.0, 0.0], [0.6436076164245605, 0.1553608924150467, 0.0761837586760521, 0.12484770268201828, 0.0, 0.0, 0.0, 0.0], [0.515745997428894, 0.19637690484523773, 0.09537537395954132, 0.08652012795209885, 0.10598155111074448, 0.0, 0.0, 0.0], [0.4918058216571808, 0.15466821193695068, 0.06152987852692604, 0.07965249568223953, 0.09657368063926697, 0.11576990783214569, 0.0, 0.0], [0.4921351969242096, 0.12513989210128784, 0.05969579890370369, 0.058924660086631775, 0.0895049050450325, 0.08908302336931229, 0.08551646023988724, 0.0], [0.5130759477615356, 0.0910414457321167, 0.06255932152271271, 0.07566999644041061, 0.07179532945156097, 0.07012814283370972, 0.07444839924573898, 0.041281428188085556]], [[1.0, 0.0, 0.0, 0.0, 0.0, 0.0, 0.0, 0.0], [0.939264178276062, 0.060735806822776794, 0.0, 0.0, 0.0, 0.0, 0.0, 0.0], [0.8231185674667358, 0.09455446898937225, 0.08232694864273071, 0.0, 0.0, 0.0, 0.0, 0.0], [0.6712532043457031, 0.08613532036542892, 0.07508184015750885, 0.16752971708774567, 0.0, 0.0, 0.0, 0.0], [0.5721132755279541, 0.07526625692844391, 0.07784485071897507, 0.1641983836889267, 0.11057725548744202, 0.0, 0.0, 0.0], [0.5068334937095642, 0.07146202772855759, 0.0775008425116539, 0.12704916298389435, 0.08624200522899628, 0.13091252744197845, 0.0, 0.0], [0.4362346827983856, 0.06447921693325043, 0.06907275319099426, 0.11689954996109009, 0.09029649943113327, 0.12680545449256897, 0.09621183574199677, 0.0], [0.4070397913455963, 0.06083497777581215, 0.05362045019865036, 0.1203712522983551, 0.08692704886198044, 0.09807253628969193, 0.08177730441093445, 0.09135657548904419]], [[1.0, 0.0, 0.0, 0.0, 0.0, 0.0, 0.0, 0.0], [0.9899584650993347, 0.010041488334536552, 0.0, 0.0, 0.0, 0.0, 0.0, 0.0], [0.9344381093978882, 0.018197905272245407, 0.04736395925283432, 0.0, 0.0, 0.0, 0.0, 0.0], [0.7748087644577026, 0.039781566709280014, 0.05556017905473709, 0.12984952330589294, 0.0, 0.0, 0.0, 0.0], [0.679531991481781, 0.0625411793589592, 0.06570561975240707, 0.12414144724607468, 0.06807978451251984, 0.0, 0.0, 0.0], [0.6485739350318909, 0.03764529898762703, 0.039683617651462555, 0.09600651264190674, 0.05979180708527565, 0.11829882115125656, 0.0, 0.0], [0.546914279460907, 0.030746696516871452, 0.04556483402848244, 0.09141430258750916, 0.057107631117105484, 0.13067269325256348, 0.09757953882217407, 0.0], [0.4329543709754944, 0.033352646976709366, 0.03535565733909607, 0.07713622599840164, 0.06066622585058212, 0.11774525046348572, 0.10259822756052017, 0.14019139111042023]], [[1.0, 0.0, 0.0, 0.0, 0.0, 0.0, 0.0, 0.0], [0.0003785642620641738, 0.9996213912963867, 0.0, 0.0, 0.0, 0.0, 0.0, 0.0], [0.000508508353959769, 0.5896092653274536, 0.40988218784332275, 0.0, 0.0, 0.0, 0.0, 0.0], [0.0009731835452839732, 0.4020562767982483, 0.3158170282840729, 0.2811535894870758, 0.0, 0.0, 0.0, 0.0], [0.0008934586658142507, 0.28910472989082336, 0.22678692638874054, 0.2000763714313507, 0.2831385135650635, 0.0, 0.0, 0.0], [0.0011245297500863671, 0.23135419189929962, 0.19029240310192108, 0.16532009840011597, 0.21972613036632538, 0.19218258559703827, 0.0, 0.0], [0.0016968915006145835, 0.16915152966976166, 0.1486276239156723, 0.13008911907672882, 0.1807648092508316, 0.1491921842098236, 0.22047773003578186, 0.0], [0.0017921858234331012, 0.1363527625799179, 0.12634238600730896, 0.10917609184980392, 0.1429114192724228, 0.12466137856245041, 0.18414060771465302, 0.17462316155433655]], [[1.0, 0.0, 0.0, 0.0, 0.0, 0.0, 0.0, 0.0], [0.37699705362319946, 0.6230030059814453, 0.0, 0.0, 0.0, 0.0, 0.0, 0.0], [0.2651657462120056, 0.16578863561153412, 0.5690456032752991, 0.0, 0.0, 0.0, 0.0, 0.0], [0.3602209985256195, 0.008802776224911213, 0.005424376577138901, 0.6255518198013306, 0.0, 0.0, 0.0, 0.0], [0.0774526372551918, 0.009001383557915688, 0.0010315005201846361, 0.05598410591483116, 0.8565303087234497, 0.0, 0.0, 0.0], [0.09234102070331573, 0.001304433448240161, 0.0006880902219563723, 0.055534251034259796, 0.005051915533840656, 0.8450803160667419, 0.0, 0.0], [0.042731836438179016, 0.014063687063753605, 0.002419601660221815, 0.08025208860635757, 0.004204303026199341, 0.01696442998945713, 0.8393639922142029, 0.0], [0.12895944714546204, 0.0012167413951829076, 0.0007852813578210771, 0.04691193625330925, 0.006097897887229919, 0.006983704399317503, 0.0038099398370832205, 0.8052350878715515]]], [[[1.0, 0.0, 0.0, 0.0, 0.0, 0.0, 0.0, 0.0], [0.919196367263794, 0.08080361783504486, 0.0, 0.0, 0.0, 0.0, 0.0, 0.0], [0.7315279245376587, 0.2370336502790451, 0.0314384400844574, 0.0, 0.0, 0.0, 0.0, 0.0], [0.540569007396698, 0.20964814722537994, 0.05135854333639145, 0.19842429459095, 0.0, 0.0, 0.0, 0.0], [0.43967753648757935, 0.12940923869609833, 0.04272911697626114, 0.3183296322822571, 0.06985452026128769, 0.0, 0.0, 0.0], [0.4017946720123291, 0.10870422422885895, 0.02874702773988247, 0.2870592176914215, 0.11003484576940536, 0.06366005539894104, 0.0, 0.0], [0.3293260633945465, 0.09787658601999283, 0.03200244903564453, 0.2048587054014206, 0.1187184676527977, 0.096306212246418, 0.12091147899627686, 0.0], [0.26211777329444885, 0.0640285462141037, 0.035014744848012924, 0.11873475462198257, 0.0733550637960434, 0.13594846427440643, 0.26259464025497437, 0.04820609465241432]], [[1.0, 0.0, 0.0, 0.0, 0.0, 0.0, 0.0, 0.0], [0.9288749098777771, 0.0711250975728035, 0.0, 0.0, 0.0, 0.0, 0.0, 0.0], [0.9660932421684265, 0.021919695660471916, 0.011987045407295227, 0.0, 0.0, 0.0, 0.0, 0.0], [0.8879779577255249, 0.049009110778570175, 0.020205402746796608, 0.042807456105947495, 0.0, 0.0, 0.0, 0.0], [0.9090718030929565, 0.030806101858615875, 0.009837549179792404, 0.023902595043182373, 0.02638196013867855, 0.0, 0.0, 0.0], [0.8573563694953918, 0.029708590358495712, 0.004054269753396511, 0.03252311423420906, 0.038332801312208176, 0.03802475333213806, 0.0, 0.0], [0.8734438419342041, 0.025393586605787277, 0.018281228840351105, 0.026980480179190636, 0.014668388292193413, 0.01876249723136425, 0.022470014169812202, 0.0], [0.8406179547309875, 0.050776273012161255, 0.024375393986701965, 0.024647222831845284, 0.01503850519657135, 0.014305584132671356, 0.0207133200019598, 0.009525694884359837]], [[1.0, 0.0, 0.0, 0.0, 0.0, 0.0, 0.0, 0.0], [0.9870490431785583, 0.012950939126312733, 0.0, 0.0, 0.0, 0.0, 0.0, 0.0], [0.49802035093307495, 0.32699182629585266, 0.17498779296875, 0.0, 0.0, 0.0, 0.0, 0.0], [0.125816211104393, 0.15545299649238586, 0.6305517554283142, 0.08817916363477707, 0.0, 0.0, 0.0, 0.0], [0.09270364046096802, 0.023881899192929268, 0.08574008196592331, 0.7102387547492981, 0.08743562549352646, 0.0, 0.0, 0.0], [0.005100965965539217, 0.0012785414000973105, 0.002014322904869914, 0.06208518519997597, 0.9205710291862488, 0.008949997834861279, 0.0, 0.0], [0.011103295721113682, 0.00177006796002388, 0.0038077253848314285, 0.07436372339725494, 0.7350938320159912, 0.14786256849765778, 0.025998767465353012, 0.0], [0.005343915894627571, 0.0006303043337538838, 0.0010128014255315065, 0.00737379165366292, 0.12155286967754364, 0.042649947106838226, 0.7985019683837891, 0.022934358566999435]], [[1.0, 0.0, 0.0, 0.0, 0.0, 0.0, 0.0, 0.0], [0.9801091551780701, 0.019890891388058662, 0.0, 0.0, 0.0, 0.0, 0.0, 0.0], [0.6836222410202026, 0.23377220332622528, 0.08260558545589447, 0.0, 0.0, 0.0, 0.0, 0.0], [0.43558621406555176, 0.27633097767829895, 0.16407907009124756, 0.12400373816490173, 0.0, 0.0, 0.0, 0.0], [0.4762362837791443, 0.10101105272769928, 0.08828499168157578, 0.22829362750053406, 0.10617401450872421, 0.0, 0.0, 0.0], [0.3634745478630066, 0.12634608149528503, 0.0847490131855011, 0.20115484297275543, 0.08428358286619186, 0.1399919092655182, 0.0, 0.0], [0.2537403404712677, 0.03469765558838844, 0.035788923501968384, 0.08620891720056534, 0.1298036426305771, 0.2157052457332611, 0.24405530095100403, 0.0], [0.09336385875940323, 0.015947123989462852, 0.016492465510964394, 0.03977642208337784, 0.053298551589250565, 0.12802858650684357, 0.49529778957366943, 0.15779519081115723]], [[1.0, 0.0, 0.0, 0.0, 0.0, 0.0, 0.0, 0.0], [0.9858729839324951, 0.014126981608569622, 0.0, 0.0, 0.0, 0.0, 0.0, 0.0], [0.7736838459968567, 0.1887415200471878, 0.037574704736471176, 0.0, 0.0, 0.0, 0.0, 0.0], [0.7135138511657715, 0.05029890686273575, 0.05929435044527054, 0.1768929809331894, 0.0, 0.0, 0.0, 0.0], [0.2774173319339752, 0.011485212482511997, 0.008298392407596111, 0.5853467583656311, 0.11745227128267288, 0.0, 0.0, 0.0], [0.1864708811044693, 0.00873295683413744, 0.003310363506898284, 0.4684295356273651, 0.318472295999527, 0.014583918265998363, 0.0, 0.0], [0.3055756688117981, 0.009036245755851269, 0.005718729458749294, 0.22331564128398895, 0.3043202757835388, 0.10736864805221558, 0.04466481879353523, 0.0], [0.3098744750022888, 0.009168794378638268, 0.0041290950030088425, 0.15701034665107727, 0.042278140783309937, 0.06899335235357285, 0.3751859962940216, 0.03335990011692047]], [[1.0, 0.0, 0.0, 0.0, 0.0, 0.0, 0.0, 0.0], [0.9530206918716431, 0.04697934910655022, 0.0, 0.0, 0.0, 0.0, 0.0, 0.0], [0.6549946069717407, 0.2327396422624588, 0.11226582527160645, 0.0, 0.0, 0.0, 0.0, 0.0], [0.3027471601963043, 0.14265844225883484, 0.2287537157535553, 0.32584062218666077, 0.0, 0.0, 0.0, 0.0], [0.13069234788417816, 0.02419726550579071, 0.05689864978194237, 0.675859808921814, 0.11235182732343674, 0.0, 0.0, 0.0], [0.13765975832939148, 0.013354357331991196, 0.031063521280884743, 0.5521853566169739, 0.19425305724143982, 0.07148396223783493, 0.0, 0.0], [0.0948295146226883, 0.005918694194406271, 0.01427406258881092, 0.42458218336105347, 0.13386739790439606, 0.23351097106933594, 0.0930170789361, 0.0], [0.0748179480433464, 0.004616731312125921, 0.010800124146044254, 0.2022927701473236, 0.07013256847858429, 0.10918740183115005, 0.38652360439300537, 0.1416289210319519]], [[1.0, 0.0, 0.0, 0.0, 0.0, 0.0, 0.0, 0.0], [0.9784841537475586, 0.021515876054763794, 0.0, 0.0, 0.0, 0.0, 0.0, 0.0], [0.9366821646690369, 0.032014504075050354, 0.03130336478352547, 0.0, 0.0, 0.0, 0.0, 0.0], [0.8525521755218506, 0.021114913746714592, 0.01790740340948105, 0.10842553526163101, 0.0, 0.0, 0.0, 0.0], [0.7909563183784485, 0.01960584707558155, 0.017441825941205025, 0.10213283449411392, 0.06986325234174728, 0.0, 0.0, 0.0], [0.6852565407752991, 0.023523148149251938, 0.021973764523863792, 0.1358441561460495, 0.06973087787628174, 0.06367149949073792, 0.0, 0.0], [0.7123144268989563, 0.01600773259997368, 0.01805024780333042, 0.11662387102842331, 0.048971276730298996, 0.035105615854263306, 0.052926771342754364, 0.0], [0.6993016004562378, 0.009607981890439987, 0.010285362601280212, 0.09180983901023865, 0.04143626615405083, 0.0380864180624485, 0.04330451041460037, 0.06616797298192978]], [[1.0, 0.0, 0.0, 0.0, 0.0, 0.0, 0.0, 0.0], [0.7613192200660706, 0.23868076503276825, 0.0, 0.0, 0.0, 0.0, 0.0, 0.0], [0.4588944911956787, 0.15391600131988525, 0.38718944787979126, 0.0, 0.0, 0.0, 0.0, 0.0], [0.4092707335948944, 0.08272849023342133, 0.25249770283699036, 0.2555031180381775, 0.0, 0.0, 0.0, 0.0], [0.2497752457857132, 0.054685939103364944, 0.14174781739711761, 0.15607424080371857, 0.39771682024002075, 0.0, 0.0, 0.0], [0.22032663226127625, 0.035226140171289444, 0.09332077205181122, 0.1134440153837204, 0.2829965651035309, 0.2546858787536621, 0.0, 0.0], [0.19485267996788025, 0.02347434125840664, 0.0675935447216034, 0.08823347836732864, 0.20033060014247894, 0.17332196235656738, 0.2521933615207672, 0.0], [0.15162193775177002, 0.02204814739525318, 0.05338125675916672, 0.06372450292110443, 0.1457732915878296, 0.11776416003704071, 0.17481254041194916, 0.27087414264678955]], [[1.0, 0.0, 0.0, 0.0, 0.0, 0.0, 0.0, 0.0], [0.8861830830574036, 0.11381697654724121, 0.0, 0.0, 0.0, 0.0, 0.0, 0.0], [0.35326096415519714, 0.6157654523849487, 0.030973535031080246, 0.0, 0.0, 0.0, 0.0, 0.0], [0.32284048199653625, 0.5401706099510193, 0.05066683888435364, 0.08632197976112366, 0.0, 0.0, 0.0, 0.0], [0.3115001320838928, 0.22944912314414978, 0.05166715756058693, 0.25952818989753723, 0.14785538613796234, 0.0, 0.0, 0.0], [0.09776083379983902, 0.053309179842472076, 0.013064873404800892, 0.12479209899902344, 0.6340728998184204, 0.07700004428625107, 0.0, 0.0], [0.14145448803901672, 0.10289089381694794, 0.020270787179470062, 0.17328457534313202, 0.16772620379924774, 0.18451835215091705, 0.20985473692417145, 0.0], [0.03513592854142189, 0.015131414867937565, 0.005890187341719866, 0.02389449067413807, 0.12043345719575882, 0.07576553523540497, 0.6981229186058044, 0.025626014918088913]], [[1.0, 0.0, 0.0, 0.0, 0.0, 0.0, 0.0, 0.0], [0.9818841218948364, 0.018115853890776634, 0.0, 0.0, 0.0, 0.0, 0.0, 0.0], [0.6942635178565979, 0.1572144627571106, 0.14852210879325867, 0.0, 0.0, 0.0, 0.0, 0.0], [0.20037081837654114, 0.13506585359573364, 0.6304873824119568, 0.0340760163962841, 0.0, 0.0, 0.0, 0.0], [0.16240455210208893, 0.2774105966091156, 0.3289298415184021, 0.11947392672300339, 0.11178111284971237, 0.0, 0.0, 0.0], [0.15095579624176025, 0.17715229094028473, 0.27156034111976624, 0.093013696372509, 0.23469829559326172, 0.07261953502893448, 0.0, 0.0], [0.13727624714374542, 0.06721559911966324, 0.18333347141742706, 0.07021180540323257, 0.18087764084339142, 0.1353161484003067, 0.22576911747455597, 0.0], [0.05877740681171417, 0.029660172760486603, 0.12086477130651474, 0.026133965700864792, 0.07011840492486954, 0.08110214024782181, 0.34592658281326294, 0.2674165368080139]], [[1.0, 0.0, 0.0, 0.0, 0.0, 0.0, 0.0, 0.0], [0.8348661065101624, 0.16513381898403168, 0.0, 0.0, 0.0, 0.0, 0.0, 0.0], [0.6485315561294556, 0.13567936420440674, 0.2157890647649765, 0.0, 0.0, 0.0, 0.0, 0.0], [0.56194007396698, 0.14715133607387543, 0.20164676010608673, 0.08926176279783249, 0.0, 0.0, 0.0, 0.0], [0.45100897550582886, 0.12109335511922836, 0.14240549504756927, 0.07055870443582535, 0.21493346989154816, 0.0, 0.0, 0.0], [0.3646514415740967, 0.10267322510480881, 0.1131395697593689, 0.06510595977306366, 0.1835775375366211, 0.17085227370262146, 0.0, 0.0], [0.29448020458221436, 0.07156841456890106, 0.10003187507390976, 0.05698466673493385, 0.1532752513885498, 0.1277346909046173, 0.19592495262622833, 0.0], [0.24691540002822876, 0.059694841504096985, 0.07614177465438843, 0.04753211885690689, 0.1208554282784462, 0.0997898280620575, 0.1605439931154251, 0.18852658569812775]], [[1.0, 0.0, 0.0, 0.0, 0.0, 0.0, 0.0, 0.0], [0.9388585090637207, 0.061141472309827805, 0.0, 0.0, 0.0, 0.0, 0.0, 0.0], [0.8354513049125671, 0.052696339786052704, 0.11185234040021896, 0.0, 0.0, 0.0, 0.0, 0.0], [0.8082860112190247, 0.04825183376669884, 0.08718155324459076, 0.05628068000078201, 0.0, 0.0, 0.0, 0.0], [0.7752597332000732, 0.03866061195731163, 0.062350865453481674, 0.03810843452811241, 0.08562034368515015, 0.0, 0.0, 0.0], [0.7211295366287231, 0.038937270641326904, 0.048621345311403275, 0.035367418080568314, 0.0739215686917305, 0.08202282339334488, 0.0, 0.0], [0.7071878910064697, 0.024893226101994514, 0.03719724714756012, 0.02791370265185833, 0.06195205822587013, 0.057784948498010635, 0.0830710306763649, 0.0], [0.6666287183761597, 0.021407123655080795, 0.031051993370056152, 0.024239515885710716, 0.048206496983766556, 0.04663652926683426, 0.06710522621870041, 0.09472434967756271]]], [[[1.0, 0.0, 0.0, 0.0, 0.0, 0.0, 0.0, 0.0], [0.953302264213562, 0.04669777303934097, 0.0, 0.0, 0.0, 0.0, 0.0, 0.0], [0.9224206805229187, 0.03472170606255531, 0.042857617139816284, 0.0, 0.0, 0.0, 0.0, 0.0], [0.9930166006088257, 0.004262689035385847, 0.0007465436938218772, 0.0019740969873964787, 0.0, 0.0, 0.0, 0.0], [0.9445956349372864, 0.007345202844589949, 0.0010362486355006695, 0.0015758948866277933, 0.045447010546922684, 0.0, 0.0, 0.0], [0.9480430483818054, 0.0017702984623610973, 0.0005310434498824179, 0.0017839703941717744, 0.0027118271682411432, 0.04515979066491127, 0.0, 0.0], [0.8273091912269592, 0.0018879292765632272, 0.0005020229145884514, 0.0025308874901384115, 0.00021758975344710052, 0.0005368519341573119, 0.16701556742191315, 0.0], [0.9457334280014038, 0.0015615759184584022, 0.0005164915346540511, 0.0023932873737066984, 0.00020565390877891332, 0.00021473542437888682, 0.0005300129996612668, 0.048844899982213974]], [[1.0, 0.0, 0.0, 0.0, 0.0, 0.0, 0.0, 0.0], [0.9216241240501404, 0.07837583869695663, 0.0, 0.0, 0.0, 0.0, 0.0, 0.0], [0.890324592590332, 0.07457626610994339, 0.03509911894798279, 0.0, 0.0, 0.0, 0.0, 0.0], [0.8923196792602539, 0.054459575563669205, 0.007046006619930267, 0.04617476835846901, 0.0, 0.0, 0.0, 0.0], [0.7534672617912292, 0.032868582755327225, 0.008766230195760727, 0.15473447740077972, 0.05016345530748367, 0.0, 0.0, 0.0], [0.6973878741264343, 0.028287718072533607, 0.004633898381143808, 0.1682382971048355, 0.07182919234037399, 0.029623014852404594, 0.0, 0.0], [0.6473815441131592, 0.015762295573949814, 0.006139710079878569, 0.176380917429924, 0.09646864980459213, 0.037425972521305084, 0.02044091373682022, 0.0], [0.5076044797897339, 0.0159041378647089, 0.004805741831660271, 0.16223843395709991, 0.06375513970851898, 0.15249644219875336, 0.04074382036924362, 0.05245175585150719]], [[1.0, 0.0, 0.0, 0.0, 0.0, 0.0, 0.0, 0.0], [0.8699756264686584, 0.13002438843250275, 0.0, 0.0, 0.0, 0.0, 0.0, 0.0], [0.19353370368480682, 0.6873717904090881, 0.11909458041191101, 0.0, 0.0, 0.0, 0.0, 0.0], [0.13259011507034302, 0.4988051652908325, 0.31132301688194275, 0.057281654328107834, 0.0, 0.0, 0.0, 0.0], [0.4655393660068512, 0.04141510650515556, 0.07637699693441391, 0.326154500246048, 0.09051396697759628, 0.0, 0.0, 0.0], [0.2461458295583725, 0.07291815429925919, 0.045289296656847, 0.21073122322559357, 0.3707658350467682, 0.05414968356490135, 0.0, 0.0], [0.02829192951321602, 0.006515172775834799, 0.005745881237089634, 0.02039412595331669, 0.12062804400920868, 0.7950578927993774, 0.02336699143052101, 0.0], [0.12516804039478302, 0.013966700062155724, 0.007936767302453518, 0.016853492707014084, 0.08139582723379135, 0.42068326473236084, 0.2768571972846985, 0.0571385994553566]], [[1.0, 0.0, 0.0, 0.0, 0.0, 0.0, 0.0, 0.0], [0.9664912819862366, 0.03350865840911865, 0.0, 0.0, 0.0, 0.0, 0.0, 0.0], [0.6618359684944153, 0.315849244594574, 0.02231484092772007, 0.0, 0.0, 0.0, 0.0, 0.0], [0.34651654958724976, 0.06062083691358566, 0.5383423566818237, 0.05452021211385727, 0.0, 0.0, 0.0, 0.0], [0.5239720940589905, 0.005993366707116365, 0.0039426228031516075, 0.44636934995651245, 0.019722526893019676, 0.0, 0.0, 0.0], [0.5248752236366272, 0.013011789880692959, 0.0015539091546088457, 0.2011232227087021, 0.18558137118816376, 0.07385452091693878, 0.0, 0.0], [0.24210865795612335, 0.005608581937849522, 0.00046796450624242425, 0.045047324150800705, 0.05464066192507744, 0.6312715411186218, 0.020855341106653214, 0.0], [0.034697212278842926, 0.000889812596142292, 3.757109880098142e-05, 0.002171429106965661, 0.02431419864296913, 0.047292616218328476, 0.8893142938613892, 0.0012829538900405169]], [[1.0, 0.0, 0.0, 0.0, 0.0, 0.0, 0.0, 0.0], [0.9919358491897583, 0.008064115419983864, 0.0, 0.0, 0.0, 0.0, 0.0, 0.0], [0.9732311367988586, 0.014515303075313568, 0.01225355640053749, 0.0, 0.0, 0.0, 0.0, 0.0], [0.9533407092094421, 0.010729686357080936, 0.007471241056919098, 0.028458332642912865, 0.0, 0.0, 0.0, 0.0], [0.9397611618041992, 0.021738776937127113, 0.0096574816852808, 0.024561362341046333, 0.004281108733266592, 0.0, 0.0, 0.0], [0.9412775635719299, 0.014047414995729923, 0.0030318002682179213, 0.015339410863816738, 0.019796142354607582, 0.006507754325866699, 0.0, 0.0], [0.9325107336044312, 0.023294443264603615, 0.005900087766349316, 0.01189811434596777, 0.011710512451827526, 0.00978147704154253, 0.004904570523649454, 0.0], [0.9383639693260193, 0.008217576891183853, 0.012600385583937168, 0.01658204197883606, 0.015624593943357468, 0.002839375287294388, 0.0015830943593755364, 0.004188945982605219]], [[1.0, 0.0, 0.0, 0.0, 0.0, 0.0, 0.0, 0.0], [0.9530370235443115, 0.04696296527981758, 0.0, 0.0, 0.0, 0.0, 0.0, 0.0], [0.7210528254508972, 0.19541679322719574, 0.08353045582771301, 0.0, 0.0, 0.0, 0.0, 0.0], [0.6731977462768555, 0.21298298239707947, 0.08311594277620316, 0.030703332275152206, 0.0, 0.0, 0.0, 0.0], [0.5769672989845276, 0.3448112905025482, 0.04593627527356148, 0.014741730876266956, 0.017543494701385498, 0.0, 0.0, 0.0], [0.6009917259216309, 0.21284130215644836, 0.08258061856031418, 0.053023628890514374, 0.030485067516565323, 0.020077688619494438, 0.0, 0.0], [0.6582984924316406, 0.15332598984241486, 0.08538064360618591, 0.03232213854789734, 0.038370005786418915, 0.007871989160776138, 0.024430813267827034, 0.0], [0.6201592087745667, 0.07024196535348892, 0.15587672591209412, 0.04478644207119942, 0.02705341950058937, 0.012229948304593563, 0.04004383832216263, 0.029608557000756264]], [[1.0, 0.0, 0.0, 0.0, 0.0, 0.0, 0.0, 0.0], [0.9764825105667114, 0.023517493158578873, 0.0, 0.0, 0.0, 0.0, 0.0, 0.0], [0.5742917060852051, 0.2452772557735443, 0.18043096363544464, 0.0, 0.0, 0.0, 0.0, 0.0], [0.3472044765949249, 0.12388046830892563, 0.46290066838264465, 0.06601446866989136, 0.0, 0.0, 0.0, 0.0], [0.3748561441898346, 0.11566610634326935, 0.08742734789848328, 0.28470954298973083, 0.13734085857868195, 0.0, 0.0, 0.0], [0.38238340616226196, 0.0434391014277935, 0.018530603498220444, 0.23659749329090118, 0.28403785824775696, 0.03501148149371147, 0.0, 0.0], [0.49594005942344666, 0.022205568850040436, 0.008228838443756104, 0.18255023658275604, 0.14767198264598846, 0.11517558991909027, 0.028227604925632477, 0.0], [0.34847885370254517, 0.0253228098154068, 0.014714286662638187, 0.07470618188381195, 0.14978629350662231, 0.14568360149860382, 0.09100650250911713, 0.1503015011548996]], [[1.0, 0.0, 0.0, 0.0, 0.0, 0.0, 0.0, 0.0], [0.9664741158485413, 0.03352580592036247, 0.0, 0.0, 0.0, 0.0, 0.0, 0.0], [0.5461530089378357, 0.34498679637908936, 0.10886017233133316, 0.0, 0.0, 0.0, 0.0, 0.0], [0.13305620849132538, 0.05860156565904617, 0.7642888426780701, 0.04405335709452629, 0.0, 0.0, 0.0, 0.0], [0.4083670675754547, 0.0721593052148819, 0.1215982437133789, 0.2483043074607849, 0.149571031332016, 0.0, 0.0, 0.0], [0.5573304295539856, 0.08220651745796204, 0.06760859489440918, 0.13861076533794403, 0.08146781474351883, 0.07277591526508331, 0.0, 0.0], [0.29739102721214294, 0.038442835211753845, 0.03396543860435486, 0.14206917583942413, 0.09778156876564026, 0.07426279038190842, 0.3160872161388397, 0.0], [0.14042529463768005, 0.00985977053642273, 0.009715289808809757, 0.009336503222584724, 0.028075380250811577, 0.08692048490047455, 0.6358401775360107, 0.07982717454433441]], [[1.0, 0.0, 0.0, 0.0, 0.0, 0.0, 0.0, 0.0], [0.944777250289917, 0.0552227683365345, 0.0, 0.0, 0.0, 0.0, 0.0, 0.0], [0.49904826283454895, 0.4709066152572632, 0.03004521317780018, 0.0, 0.0, 0.0, 0.0, 0.0], [0.43191197514533997, 0.25518301129341125, 0.05795671418309212, 0.25494828820228577, 0.0, 0.0, 0.0, 0.0], [0.14164461195468903, 0.013019310310482979, 0.02202964946627617, 0.80408775806427, 0.01921870931982994, 0.0, 0.0, 0.0], [0.33250534534454346, 0.016646549105644226, 0.006747704464942217, 0.5646237134933472, 0.0475517176091671, 0.031924955546855927, 0.0, 0.0], [0.19189654290676117, 0.013779915869235992, 0.0004077106714248657, 0.29127201437950134, 0.17410029470920563, 0.21105530858039856, 0.11748828738927841, 0.0], [0.18251028656959534, 0.008126313798129559, 0.0026464113034307957, 0.08856906741857529, 0.023270202800631523, 0.17534668743610382, 0.4949261248111725, 0.024604815989732742]], [[1.0, 0.0, 0.0, 0.0, 0.0, 0.0, 0.0, 0.0], [0.9726026058197021, 0.027397383004426956, 0.0, 0.0, 0.0, 0.0, 0.0, 0.0], [0.38688957691192627, 0.5718056559562683, 0.04130474850535393, 0.0, 0.0, 0.0, 0.0, 0.0], [0.5816926956176758, 0.35375815629959106, 0.016667747870087624, 0.04788147658109665, 0.0, 0.0, 0.0, 0.0], [0.8866695761680603, 0.00735733425244689, 0.002696432638913393, 0.08389542251825333, 0.019381215795874596, 0.0, 0.0, 0.0], [0.7090068459510803, 0.005666674580425024, 0.0036249493714421988, 0.06353822350502014, 0.18334029614925385, 0.034822992980480194, 0.0, 0.0], [0.19683243334293365, 0.0655386745929718, 0.0023931374307721853, 0.018177974969148636, 0.3758915364742279, 0.3135240375995636, 0.02764224074780941, 0.0], [0.3721686899662018, 0.04991783946752548, 0.00642484612762928, 0.03176547959446907, 0.16244836151599884, 0.11373060196638107, 0.24266399443149567, 0.020880145952105522]], [[1.0, 0.0, 0.0, 0.0, 0.0, 0.0, 0.0, 0.0], [0.9879427552223206, 0.01205726619809866, 0.0, 0.0, 0.0, 0.0, 0.0, 0.0], [0.8744112253189087, 0.017371512949466705, 0.10821721702814102, 0.0, 0.0, 0.0, 0.0, 0.0], [0.7558255791664124, 0.04432344809174538, 0.1132812425494194, 0.0865696594119072, 0.0, 0.0, 0.0, 0.0], [0.6882330179214478, 0.01445035357028246, 0.03187534213066101, 0.16276922821998596, 0.10267209261655807, 0.0, 0.0, 0.0], [0.7662914395332336, 0.01979801058769226, 0.02437383309006691, 0.10471966117620468, 0.024811698123812675, 0.060005299746990204, 0.0, 0.0], [0.6996569633483887, 0.015435902401804924, 0.011536062695086002, 0.036501139402389526, 0.02110259234905243, 0.07103720307350159, 0.1447300910949707, 0.0], [0.6770274043083191, 0.009501636028289795, 0.019020669162273407, 0.023014768958091736, 0.014888915233314037, 0.06887408345937729, 0.06810493767261505, 0.11956758797168732]], [[1.0, 0.0, 0.0, 0.0, 0.0, 0.0, 0.0, 0.0], [0.9540113210678101, 0.04598873853683472, 0.0, 0.0, 0.0, 0.0, 0.0, 0.0], [0.593965470790863, 0.3316550552845001, 0.07437951117753983, 0.0, 0.0, 0.0, 0.0, 0.0], [0.3869321942329407, 0.2810198962688446, 0.22952356934547424, 0.10252431035041809, 0.0, 0.0, 0.0, 0.0], [0.7422409057617188, 0.05627468228340149, 0.041782379150390625, 0.11306644976139069, 0.046635597944259644, 0.0, 0.0, 0.0], [0.6206879019737244, 0.0612458698451519, 0.019827913492918015, 0.17489053308963776, 0.05451630800962448, 0.0688314288854599, 0.0, 0.0], [0.4954150915145874, 0.012620731256902218, 0.042485617101192474, 0.12022274732589722, 0.022884074598550797, 0.19938869774341583, 0.10698310285806656, 0.0], [0.20588429272174835, 0.012867835350334644, 0.006665696389973164, 0.025154517963528633, 0.018169578164815903, 0.1995905637741089, 0.5069725513458252, 0.024694934487342834]]], [[[1.0, 0.0, 0.0, 0.0, 0.0, 0.0, 0.0, 0.0], [0.950227677822113, 0.04977237060666084, 0.0, 0.0, 0.0, 0.0, 0.0, 0.0], [0.11715763807296753, 0.8787174820899963, 0.004124910105019808, 0.0, 0.0, 0.0, 0.0, 0.0], [0.19187620282173157, 0.7753656506538391, 0.010405176319181919, 0.02235301211476326, 0.0, 0.0, 0.0, 0.0], [0.804071307182312, 0.018371999263763428, 0.0014793555019423366, 0.1496744602918625, 0.026402806863188744, 0.0, 0.0, 0.0], [0.7054584622383118, 0.01721174828708172, 0.0007191270706243813, 0.12278683483600616, 0.054354917258024216, 0.09946900606155396, 0.0, 0.0], [0.4565969407558441, 0.049200575798749924, 0.0003985945659223944, 0.020572086796164513, 0.08210252970457077, 0.3483736515045166, 0.04275565966963768, 0.0], [0.019939616322517395, 0.005314703565090895, 0.00016892379790078849, 0.0020268575754016638, 0.0154814338311553, 0.02028188295662403, 0.9332133531570435, 0.00357325142249465]], [[1.0, 0.0, 0.0, 0.0, 0.0, 0.0, 0.0, 0.0], [0.9842066764831543, 0.015793349593877792, 0.0, 0.0, 0.0, 0.0, 0.0, 0.0], [0.7385416030883789, 0.2084820568561554, 0.052976373583078384, 0.0, 0.0, 0.0, 0.0, 0.0], [0.6633180975914001, 0.14866800606250763, 0.04005572572350502, 0.14795814454555511, 0.0, 0.0, 0.0, 0.0], [0.36129385232925415, 0.004226097837090492, 0.002718291012570262, 0.6290271282196045, 0.002734620124101639, 0.0, 0.0, 0.0], [0.32448968291282654, 0.006444623693823814, 0.00689838407561183, 0.6235154867172241, 0.01871589757502079, 0.01993584632873535, 0.0, 0.0], [0.4629456102848053, 0.0032510687597095966, 0.014064027927815914, 0.4026210904121399, 0.02085249312222004, 0.09097586572170258, 0.005289798602461815, 0.0], [0.3320491313934326, 0.013050862587988377, 0.005245376378297806, 0.18377892673015594, 0.1272207498550415, 0.23113471269607544, 0.04794900491833687, 0.05957120656967163]], [[1.0, 0.0, 0.0, 0.0, 0.0, 0.0, 0.0, 0.0], [0.9729976654052734, 0.027002355083823204, 0.0, 0.0, 0.0, 0.0, 0.0, 0.0], [0.9305701851844788, 0.0595872662961483, 0.009842591360211372, 0.0, 0.0, 0.0, 0.0, 0.0], [0.9153701663017273, 0.04403388127684593, 0.008137526921927929, 0.03245836868882179, 0.0, 0.0, 0.0, 0.0], [0.9490233063697815, 0.019628671929240227, 0.0026408671401441097, 0.021453022956848145, 0.007254200056195259, 0.0, 0.0, 0.0], [0.9200422167778015, 0.020097173750400543, 0.0018466300098225474, 0.021635627374053, 0.00808488205075264, 0.028293514624238014, 0.0, 0.0], [0.8227663636207581, 0.03375893086194992, 0.008701895363628864, 0.03174757584929466, 0.015381206758320332, 0.04214820638298988, 0.04549584537744522, 0.0], [0.8884838819503784, 0.031302276998758316, 0.005660207010805607, 0.01897059753537178, 0.01171648409217596, 0.016720179468393326, 0.017277788370847702, 0.009868573397397995]], [[1.0, 0.0, 0.0, 0.0, 0.0, 0.0, 0.0, 0.0], [0.891133725643158, 0.10886623710393906, 0.0, 0.0, 0.0, 0.0, 0.0, 0.0], [0.7140336036682129, 0.23790572583675385, 0.04806068539619446, 0.0, 0.0, 0.0, 0.0, 0.0], [0.45898327231407166, 0.19144202768802643, 0.29041728377342224, 0.059157442301511765, 0.0, 0.0, 0.0, 0.0], [0.6632300615310669, 0.25232169032096863, 0.0075718010775744915, 0.01309129036962986, 0.06378516554832458, 0.0, 0.0, 0.0], [0.69748455286026, 0.1901291459798813, 0.007171248085796833, 0.013948558829724789, 0.0711437240242958, 0.020122746005654335, 0.0, 0.0], [0.4157925546169281, 0.2904658317565918, 0.012996450997889042, 0.05355415865778923, 0.10717353224754333, 0.08650475740432739, 0.03351278975605965, 0.0], [0.17759239673614502, 0.02187083475291729, 0.6958509087562561, 0.018836764618754387, 0.02337930165231228, 0.0030999905429780483, 0.017763033509254456, 0.04160672798752785]], [[1.0, 0.0, 0.0, 0.0, 0.0, 0.0, 0.0, 0.0], [0.9791968464851379, 0.02080315537750721, 0.0, 0.0, 0.0, 0.0, 0.0, 0.0], [0.5159242153167725, 0.36716553568840027, 0.11691029369831085, 0.0, 0.0, 0.0, 0.0, 0.0], [0.6128412485122681, 0.20632536709308624, 0.11974319815635681, 0.06109021604061127, 0.0, 0.0, 0.0, 0.0], [0.8678417801856995, 0.05134591460227966, 0.01245882362127304, 0.0316455215215683, 0.036707907915115356, 0.0, 0.0, 0.0], [0.7926083207130432, 0.02737288363277912, 0.007415274158120155, 0.025354202836751938, 0.10921568423509598, 0.03803364187479019, 0.0, 0.0], [0.829631507396698, 0.010627051815390587, 0.0018869354389607906, 0.00783711951225996, 0.04277432709932327, 0.07105452567338943, 0.03618853539228439, 0.0], [0.7960485219955444, 0.018910866230726242, 0.014876540750265121, 0.01695641689002514, 0.008687383495271206, 0.029238229617476463, 0.055055711418390274, 0.06022632494568825]], [[1.0, 0.0, 0.0, 0.0, 0.0, 0.0, 0.0, 0.0], [0.9475740790367126, 0.052425965666770935, 0.0, 0.0, 0.0, 0.0, 0.0, 0.0], [0.677277684211731, 0.18936441838741302, 0.13335780799388885, 0.0, 0.0, 0.0, 0.0, 0.0], [0.5650413036346436, 0.12364561855792999, 0.2665845453739166, 0.04472850635647774, 0.0, 0.0, 0.0, 0.0], [0.9191775918006897, 0.02348998561501503, 0.016390550881624222, 0.01857117749750614, 0.02237067185342312, 0.0, 0.0, 0.0], [0.9367244243621826, 0.020318152382969856, 0.003639310598373413, 0.013577871024608612, 0.02265012450516224, 0.003090046811848879, 0.0, 0.0], [0.780555009841919, 0.018162721768021584, 0.011788653209805489, 0.03376112878322601, 0.07159312814474106, 0.05590282753109932, 0.0282365120947361, 0.0], [0.846634030342102, 0.006198509130626917, 0.0027569637168198824, 0.030920658260583878, 0.00851867999881506, 0.010256094858050346, 0.07245088368654251, 0.02226424403488636]], [[1.0, 0.0, 0.0, 0.0, 0.0, 0.0, 0.0, 0.0], [0.9777981042861938, 0.022201882675290108, 0.0, 0.0, 0.0, 0.0, 0.0, 0.0], [0.8721441030502319, 0.09745345264673233, 0.030402449890971184, 0.0, 0.0, 0.0, 0.0, 0.0], [0.6411840319633484, 0.1259807050228119, 0.12590128183364868, 0.10693399608135223, 0.0, 0.0, 0.0, 0.0], [0.42268213629722595, 0.15926258265972137, 0.1899481564760208, 0.17574089765548706, 0.05236627534031868, 0.0, 0.0, 0.0], [0.6474716067314148, 0.10207198560237885, 0.06220265105366707, 0.13294072449207306, 0.039020199328660965, 0.016292789950966835, 0.0, 0.0], [0.5555832386016846, 0.11707755923271179, 0.05075614154338837, 0.08819358795881271, 0.06251667439937592, 0.05131236091256142, 0.07456042617559433, 0.0], [0.5966725945472717, 0.04164198040962219, 0.03975535184144974, 0.04236158728599548, 0.04539664462208748, 0.056791823357343674, 0.14764949679374695, 0.02973056212067604]], [[1.0, 0.0, 0.0, 0.0, 0.0, 0.0, 0.0, 0.0], [0.9702153205871582, 0.029784630984067917, 0.0, 0.0, 0.0, 0.0, 0.0, 0.0], [0.6516075730323792, 0.09371355921030045, 0.2546789348125458, 0.0, 0.0, 0.0, 0.0, 0.0], [0.19949398934841156, 0.053170233964920044, 0.10489218682050705, 0.6424435973167419, 0.0, 0.0, 0.0, 0.0], [0.25761207938194275, 0.018617086112499237, 0.0058077238500118256, 0.1732167750597, 0.5447463393211365, 0.0, 0.0, 0.0], [0.2691156566143036, 0.025508416816592216, 0.012009807862341404, 0.07597175985574722, 0.1060006394982338, 0.5113937258720398, 0.0, 0.0], [0.2480330914258957, 0.022265182808041573, 0.004142228979617357, 0.028531963005661964, 0.020961808040738106, 0.11121466010808945, 0.5648510456085205, 0.0], [0.3446885943412781, 0.01431314554065466, 0.04782629385590553, 0.012607228010892868, 0.009165830910205841, 0.025451669469475746, 0.20889084041118622, 0.33705639839172363]], [[1.0, 0.0, 0.0, 0.0, 0.0, 0.0, 0.0, 0.0], [0.9870781898498535, 0.012921811081469059, 0.0, 0.0, 0.0, 0.0, 0.0, 0.0], [0.9477061033248901, 0.008221552707254887, 0.044072363525629044, 0.0, 0.0, 0.0, 0.0, 0.0], [0.8624253869056702, 0.014113463461399078, 0.04821327328681946, 0.07524792850017548, 0.0, 0.0, 0.0, 0.0], [0.8729094862937927, 0.020710758864879608, 0.03326801955699921, 0.06654413044452667, 0.006567607168108225, 0.0, 0.0, 0.0], [0.7614678740501404, 0.03884067386388779, 0.056159086525440216, 0.09071479737758636, 0.014821167103946209, 0.03799643740057945, 0.0, 0.0], [0.7877408266067505, 0.02376985363662243, 0.03212110325694084, 0.06988495588302612, 0.010035226121544838, 0.026130948215723038, 0.05031702667474747, 0.0], [0.8271820545196533, 0.010995276272296906, 0.015343808569014072, 0.03197966888546944, 0.01410586666315794, 0.042834244668483734, 0.0445915162563324, 0.012967622838914394]], [[1.0, 0.0, 0.0, 0.0, 0.0, 0.0, 0.0, 0.0], [0.9388473629951477, 0.061152614653110504, 0.0, 0.0, 0.0, 0.0, 0.0, 0.0], [0.7354770302772522, 0.23320887982845306, 0.0313141755759716, 0.0, 0.0, 0.0, 0.0, 0.0], [0.33589109778404236, 0.565418004989624, 0.08349381387233734, 0.015197018161416054, 0.0, 0.0, 0.0, 0.0], [0.29237499833106995, 0.5924487113952637, 0.08197003602981567, 0.027534447610378265, 0.005671793594956398, 0.0, 0.0, 0.0], [0.6241764426231384, 0.21203859150409698, 0.035078246146440506, 0.03485671803355217, 0.05239684507250786, 0.041453227400779724, 0.0, 0.0], [0.3556337058544159, 0.13186275959014893, 0.024532996118068695, 0.03706054016947746, 0.07083496451377869, 0.2601863741874695, 0.11988861858844757, 0.0], [0.4087008237838745, 0.0764600858092308, 0.015928182750940323, 0.016389770433306694, 0.041302863508462906, 0.12875862419605255, 0.2841080129146576, 0.028351621702313423]], [[1.0, 0.0, 0.0, 0.0, 0.0, 0.0, 0.0, 0.0], [0.983817458152771, 0.01618250645697117, 0.0, 0.0, 0.0, 0.0, 0.0, 0.0], [0.960272490978241, 0.010869638994336128, 0.028857924044132233, 0.0, 0.0, 0.0, 0.0, 0.0], [0.9326755404472351, 0.01600460708141327, 0.006135862786322832, 0.045183952897787094, 0.0, 0.0, 0.0, 0.0], [0.9409830570220947, 0.007373312022536993, 0.011392086744308472, 0.028006695210933685, 0.012244878336787224, 0.0, 0.0, 0.0], [0.9001497626304626, 0.0182413961738348, 0.011314669623970985, 0.03033301793038845, 0.013483182527124882, 0.026477985084056854, 0.0, 0.0], [0.9017692804336548, 0.013384283520281315, 0.024499954655766487, 0.02371932938694954, 0.010242648422718048, 0.010313546285033226, 0.016070900484919548, 0.0], [0.9219683408737183, 0.007698684465140104, 0.003314448520541191, 0.013879031874239445, 0.008455479517579079, 0.00854224432259798, 0.018909450620412827, 0.01723230443894863]], [[1.0, 0.0, 0.0, 0.0, 0.0, 0.0, 0.0, 0.0], [0.9999998807907104, 1.329784851122895e-07, 0.0, 0.0, 0.0, 0.0, 0.0, 0.0], [1.929259997268673e-05, 0.999920129776001, 6.054246114217676e-05, 0.0, 0.0, 0.0, 0.0, 0.0], [6.807487351601083e-10, 1.4141352266960894e-07, 0.9999984502792358, 1.386545932291483e-06, 0.0, 0.0, 0.0, 0.0], [2.407492445399839e-07, 5.711294067886619e-13, 3.538156096230538e-13, 0.9999977350234985, 2.011411652347306e-06, 0.0, 0.0, 0.0], [7.925937239861014e-09, 2.15147366589008e-09, 8.916384883032868e-13, 1.4665160961158108e-05, 0.999962329864502, 2.3031372620607726e-05, 0.0, 0.0], [4.281814486306601e-12, 3.3839355877965036e-14, 1.2921395586521205e-18, 1.8720717684383992e-11, 4.976745458407095e-06, 0.9999876022338867, 7.44182489142986e-06, 0.0], [4.553872001711312e-10, 2.853318969986418e-10, 3.562823864058928e-14, 1.0165179245222311e-12, 6.016149356469214e-09, 1.6452274564926483e-07, 0.9998238682746887, 0.00017599925922695547]]], [[[1.0, 0.0, 0.0, 0.0, 0.0, 0.0, 0.0, 0.0], [0.9883437156677246, 0.011656222864985466, 0.0, 0.0, 0.0, 0.0, 0.0, 0.0], [0.9119867086410522, 0.0028738793917000294, 0.0851394534111023, 0.0, 0.0, 0.0, 0.0, 0.0], [0.8209803700447083, 0.005354344844818115, 0.044940266758203506, 0.1287250816822052, 0.0, 0.0, 0.0, 0.0], [0.7614665627479553, 0.007693235296756029, 0.14257588982582092, 0.07973798364400864, 0.00852633360773325, 0.0, 0.0, 0.0], [0.7439278960227966, 0.008215097710490227, 0.12457064539194107, 0.0910068228840828, 0.002742173383012414, 0.029537400230765343, 0.0, 0.0], [0.7579426765441895, 0.0014706635847687721, 0.13147644698619843, 0.06317874044179916, 0.0005722896312363446, 0.005093939136713743, 0.040265146642923355, 0.0], [0.7774293422698975, 0.002610066207125783, 0.0038088245783001184, 0.07140160351991653, 0.0038254093378782272, 0.002277418738231063, 0.09944591671228409, 0.03920139744877815]], [[1.0, 0.0, 0.0, 0.0, 0.0, 0.0, 0.0, 0.0], [0.9999773502349854, 2.2693940991302952e-05, 0.0, 0.0, 0.0, 0.0, 0.0, 0.0], [0.9981936812400818, 3.4487154607631965e-06, 0.0018029320053756237, 0.0, 0.0, 0.0, 0.0, 0.0], [0.9995645880699158, 1.092713137040846e-05, 9.183424845105037e-05, 0.0003326550649944693, 0.0, 0.0, 0.0, 0.0], [0.9986602067947388, 1.7521304471301846e-05, 0.0005147684132680297, 6.309528998826863e-06, 0.000801224319729954, 0.0, 0.0, 0.0], [0.9991064667701721, 2.8297861717874184e-05, 3.447447625148925e-06, 7.169580129584574e-08, 7.835463293304201e-06, 0.0008538709953427315, 0.0, 0.0], [0.9997428059577942, 2.3613149551238166e-06, 6.0838108765892684e-05, 8.508304460974614e-08, 1.0729529549280414e-06, 7.766110684315208e-06, 0.00018505685147829354, 0.0], [0.9975985884666443, 0.0001898801128845662, 1.2909064025734551e-05, 0.0008740080520510674, 3.82093003281625e-06, 3.844916591333458e-06, 7.828254456399009e-05, 0.0012387172318995]], [[1.0, 0.0, 0.0, 0.0, 0.0, 0.0, 0.0, 0.0], [0.8400338292121887, 0.15996617078781128, 0.0, 0.0, 0.0, 0.0, 0.0, 0.0], [0.5289528965950012, 0.4047304689884186, 0.06631659716367722, 0.0, 0.0, 0.0, 0.0, 0.0], [0.3074357807636261, 0.36432260274887085, 0.3107866644859314, 0.017454935237765312, 0.0, 0.0, 0.0, 0.0], [0.20445260405540466, 0.7488086223602295, 0.03382385894656181, 0.00754028744995594, 0.005374663043767214, 0.0, 0.0, 0.0], [0.3430209457874298, 0.4415092170238495, 0.032327018678188324, 0.019367201253771782, 0.1187283843755722, 0.045047327876091, 0.0, 0.0], [0.4931681752204895, 0.13462841510772705, 0.04188676178455353, 0.040362399071455, 0.07123357057571411, 0.20269864797592163, 0.016022032126784325, 0.0], [0.6657036542892456, 0.06926295161247253, 0.015865912660956383, 0.011990438215434551, 0.04426278918981552, 0.07456684112548828, 0.10031461715698242, 0.018032830208539963]], [[1.0, 0.0, 0.0, 0.0, 0.0, 0.0, 0.0, 0.0], [0.9224395155906677, 0.07756049931049347, 0.0, 0.0, 0.0, 0.0, 0.0, 0.0], [0.6016652584075928, 0.34982365369796753, 0.04851110279560089, 0.0, 0.0, 0.0, 0.0, 0.0], [0.6225685477256775, 0.29266056418418884, 0.05587733909487724, 0.028893547132611275, 0.0, 0.0, 0.0, 0.0], [0.5790672302246094, 0.1782020777463913, 0.0599210262298584, 0.13675960898399353, 0.04604994133114815, 0.0, 0.0, 0.0], [0.6070881485939026, 0.1107318252325058, 0.0735432356595993, 0.1101936623454094, 0.07173746079206467, 0.02670564316213131, 0.0, 0.0], [0.47060951590538025, 0.08303359150886536, 0.06620854884386063, 0.13626739382743835, 0.12947653234004974, 0.0806996300816536, 0.033704739063978195, 0.0], [0.4410495460033417, 0.08325690031051636, 0.02522868663072586, 0.03425629436969757, 0.11759847402572632, 0.1874174326658249, 0.09542492777109146, 0.015767740085721016]], [[1.0, 0.0, 0.0, 0.0, 0.0, 0.0, 0.0, 0.0], [0.9084139466285706, 0.09158598631620407, 0.0, 0.0, 0.0, 0.0, 0.0, 0.0], [0.4954010546207428, 0.42516255378723145, 0.07943636178970337, 0.0, 0.0, 0.0, 0.0, 0.0], [0.48049959540367126, 0.16227389872074127, 0.30730533599853516, 0.049921195954084396, 0.0, 0.0, 0.0, 0.0], [0.5387548804283142, 0.09908083826303482, 0.0953504741191864, 0.1603156477212906, 0.10649816691875458, 0.0, 0.0, 0.0], [0.48848533630371094, 0.0802927166223526, 0.08455121517181396, 0.14770153164863586, 0.16281935572624207, 0.03614988178014755, 0.0, 0.0], [0.5087634325027466, 0.026597291231155396, 0.04003056511282921, 0.16065523028373718, 0.07445155829191208, 0.13013513386249542, 0.05936682969331741, 0.0], [0.29289403557777405, 0.03837529942393303, 0.017627660185098648, 0.03849855810403824, 0.05026603490114212, 0.06300988048315048, 0.4592422842979431, 0.04008623957633972]], [[1.0, 0.0, 0.0, 0.0, 0.0, 0.0, 0.0, 0.0], [0.9963020086288452, 0.003698002314195037, 0.0, 0.0, 0.0, 0.0, 0.0, 0.0], [0.8685659170150757, 0.002024857560172677, 0.12940925359725952, 0.0, 0.0, 0.0, 0.0, 0.0], [0.9393293261528015, 0.010149803012609482, 0.025791751220822334, 0.024729179218411446, 0.0, 0.0, 0.0, 0.0], [0.8926799297332764, 0.04050666093826294, 0.04719933867454529, 0.0035757815930992365, 0.016038376837968826, 0.0, 0.0, 0.0], [0.9346873760223389, 0.035320527851581573, 0.006974455900490284, 0.0011772452853620052, 0.008044620975852013, 0.01379572693258524, 0.0, 0.0], [0.9791498780250549, 0.0026645103935152292, 0.010215266607701778, 0.0003546247025951743, 0.002438488183543086, 0.0014385934919118881, 0.0037386941257864237, 0.0], [0.8774856328964233, 0.014467567205429077, 0.0122459027916193, 0.04342211037874222, 0.0361890010535717, 0.006083665415644646, 0.0032847237307578325, 0.006821512244641781]], [[1.0, 0.0, 0.0, 0.0, 0.0, 0.0, 0.0, 0.0], [0.9402899742126465, 0.05971004068851471, 0.0, 0.0, 0.0, 0.0, 0.0, 0.0], [0.7357557415962219, 0.22901394963264465, 0.03523034229874611, 0.0, 0.0, 0.0, 0.0, 0.0], [0.2272084504365921, 0.013569344766438007, 0.7349735498428345, 0.024248629808425903, 0.0, 0.0, 0.0, 0.0], [0.8108817338943481, 0.015943458303809166, 0.017375953495502472, 0.1510319709777832, 0.004766886588186026, 0.0, 0.0, 0.0], [0.7018921375274658, 0.034486323595047, 0.01069268025457859, 0.0405755415558815, 0.14510804414749146, 0.0672452375292778, 0.0, 0.0], [0.8883737921714783, 0.005905179772526026, 0.0002745221136137843, 0.0015122464392334223, 0.008057910948991776, 0.08467187732458115, 0.011204427108168602, 0.0], [0.7165874242782593, 0.015458502806723118, 0.003025394631549716, 0.003217581193894148, 0.0006379677797667682, 0.006698140408843756, 0.17242491245269775, 0.08195009082555771]], [[1.0, 0.0, 0.0, 0.0, 0.0, 0.0, 0.0, 0.0], [0.9253801703453064, 0.0746198296546936, 0.0, 0.0, 0.0, 0.0, 0.0, 0.0], [0.8582033514976501, 0.12105057388544083, 0.02074609324336052, 0.0, 0.0, 0.0, 0.0, 0.0], [0.8826674818992615, 0.05504665896296501, 0.043740611523389816, 0.01854521594941616, 0.0, 0.0, 0.0, 0.0], [0.9583739638328552, 0.014343331567943096, 0.008008517324924469, 0.013013167306780815, 0.006261093076318502, 0.0, 0.0, 0.0], [0.9468095898628235, 0.008036020211875439, 0.004326500464230776, 0.013821713626384735, 0.009243009611964226, 0.0177631638944149, 0.0, 0.0], [0.7067810893058777, 0.024107467383146286, 0.012309376150369644, 0.05088311806321144, 0.015538688749074936, 0.06706813722848892, 0.12331213057041168, 0.0], [0.22738918662071228, 0.03320244699716568, 0.013736112974584103, 0.018348123878240585, 0.05355042591691017, 0.11274673044681549, 0.500715970993042, 0.04031100869178772]], [[1.0, 0.0, 0.0, 0.0, 0.0, 0.0, 0.0, 0.0], [0.9915755391120911, 0.008424485102295876, 0.0, 0.0, 0.0, 0.0, 0.0, 0.0], [0.7673806548118591, 0.010226819664239883, 0.22239257395267487, 0.0, 0.0, 0.0, 0.0, 0.0], [0.7466697692871094, 0.05335025116801262, 0.1610352247953415, 0.038944702595472336, 0.0, 0.0, 0.0, 0.0], [0.4884016513824463, 0.06709366291761398, 0.4113425016403198, 0.02031610533595085, 0.012846030294895172, 0.0, 0.0, 0.0], [0.5403395891189575, 0.14853321015834808, 0.24197159707546234, 0.05833747610449791, 0.005247184075415134, 0.005570921115577221, 0.0, 0.0], [0.8044437766075134, 0.009702573530375957, 0.1083325669169426, 0.05488624423742294, 0.0031352131627500057, 0.006560798734426498, 0.012938781641423702, 0.0], [0.6426627039909363, 0.023571614176034927, 0.040681079030036926, 0.2034585028886795, 0.038082532584667206, 0.021882465109229088, 0.017425719648599625, 0.012235439382493496]], [[1.0, 0.0, 0.0, 0.0, 0.0, 0.0, 0.0, 0.0], [0.9908885955810547, 0.009111415594816208, 0.0, 0.0, 0.0, 0.0, 0.0, 0.0], [0.9763392210006714, 0.017139151692390442, 0.006521634291857481, 0.0, 0.0, 0.0, 0.0, 0.0], [0.9597461819648743, 0.01655951328575611, 0.01101119164377451, 0.012683028355240822, 0.0, 0.0, 0.0, 0.0], [0.8410684466362, 0.060785818845033646, 0.03391743451356888, 0.023741163313388824, 0.04048716649413109, 0.0, 0.0, 0.0], [0.8311489224433899, 0.06445494294166565, 0.021276982501149178, 0.014697795733809471, 0.05037599802017212, 0.01804540492594242, 0.0, 0.0], [0.8911536931991577, 0.02188354730606079, 0.014662845060229301, 0.011642009019851685, 0.03862375393509865, 0.02011374570429325, 0.001920465612784028, 0.0], [0.829716145992279, 0.05936424806714058, 0.03628974035382271, 0.027040846645832062, 0.024319574236869812, 0.005010673776268959, 0.016795756295323372, 0.001463010790757835]], [[1.0, 0.0, 0.0, 0.0, 0.0, 0.0, 0.0, 0.0], [0.9563316106796265, 0.043668340891599655, 0.0, 0.0, 0.0, 0.0, 0.0, 0.0], [0.8798208832740784, 0.07231359928846359, 0.04786556959152222, 0.0, 0.0, 0.0, 0.0, 0.0], [0.7317049503326416, 0.11369161307811737, 0.11401776224374771, 0.040585681796073914, 0.0, 0.0, 0.0, 0.0], [0.5351675748825073, 0.3348637819290161, 0.02298450469970703, 0.011481010355055332, 0.09550314396619797, 0.0, 0.0, 0.0], [0.5425176024436951, 0.2421845644712448, 0.03667188808321953, 0.009253758005797863, 0.13936655223369598, 0.03000570274889469, 0.0, 0.0], [0.5351633429527283, 0.2492457628250122, 0.03049904853105545, 0.014986149035394192, 0.06994584947824478, 0.03707066923379898, 0.06308919936418533, 0.0], [0.238247349858284, 0.028658946976065636, 0.4287353754043579, 0.20004326105117798, 0.006618883460760117, 0.006127403117716312, 0.0023573676589876413, 0.08921143412590027]], [[1.0, 0.0, 0.0, 0.0, 0.0, 0.0, 0.0, 0.0], [0.9558066129684448, 0.04419337213039398, 0.0, 0.0, 0.0, 0.0, 0.0, 0.0], [0.6687332391738892, 0.21796204149723053, 0.11330468952655792, 0.0, 0.0, 0.0, 0.0, 0.0], [0.6904460787773132, 0.037849001586437225, 0.06500594317913055, 0.20669898390769958, 0.0, 0.0, 0.0, 0.0], [0.7169848084449768, 0.04370959475636482, 0.020362427458167076, 0.08813043683767319, 0.13081282377243042, 0.0, 0.0, 0.0], [0.7118615508079529, 0.04251299053430557, 0.011426839977502823, 0.061014749109745026, 0.0362904891371727, 0.1368934065103531, 0.0, 0.0], [0.8618237376213074, 0.017801690846681595, 0.010211629793047905, 0.058216746896505356, 0.016276530921459198, 0.010518042370676994, 0.025151710957288742, 0.0], [0.7108434438705444, 0.013306733220815659, 0.02191443368792534, 0.01997801475226879, 0.007216534111648798, 0.007216747384518385, 0.0313703790307045, 0.1881537288427353]]], [[[1.0, 0.0, 0.0, 0.0, 0.0, 0.0, 0.0, 0.0], [0.9013723134994507, 0.09862764179706573, 0.0, 0.0, 0.0, 0.0, 0.0, 0.0], [0.41562071442604065, 0.5078044533729553, 0.07657483220100403, 0.0, 0.0, 0.0, 0.0, 0.0], [0.3310224413871765, 0.6200457215309143, 0.0455002523958683, 0.0034316221717745066, 0.0, 0.0, 0.0, 0.0], [0.6025620698928833, 0.3682132065296173, 0.006236365530639887, 0.0045359013602137566, 0.018452471122145653, 0.0, 0.0, 0.0], [0.19172970950603485, 0.6951732635498047, 0.004372097551822662, 0.0022914609871804714, 0.09969370067119598, 0.006739745382219553, 0.0, 0.0], [0.32024842500686646, 0.22926445305347443, 0.014350960962474346, 0.021803615614771843, 0.2277681976556778, 0.1436741054058075, 0.042890168726444244, 0.0], [0.4872216284275055, 0.034782856702804565, 0.3400900661945343, 0.05565503239631653, 0.01131302397698164, 0.008408484980463982, 0.01999708078801632, 0.04253176227211952]], [[1.0, 0.0, 0.0, 0.0, 0.0, 0.0, 0.0, 0.0], [0.9714844822883606, 0.028515534475445747, 0.0, 0.0, 0.0, 0.0, 0.0, 0.0], [0.9113733768463135, 0.029379678890109062, 0.05924687162041664, 0.0, 0.0, 0.0, 0.0, 0.0], [0.05034125968813896, 0.2848122715950012, 0.6386025547981262, 0.026243897154927254, 0.0, 0.0, 0.0, 0.0], [0.650482714176178, 0.24994690716266632, 0.06912588328123093, 0.024896372109651566, 0.005548110231757164, 0.0, 0.0, 0.0], [0.5375129580497742, 0.366278737783432, 0.03870526701211929, 0.024316318333148956, 0.02226923406124115, 0.01091750431805849, 0.0, 0.0], [0.800559937953949, 0.033439286053180695, 0.09177709370851517, 0.02686643972992897, 0.002245616400614381, 0.015723401680588722, 0.02938818372786045, 0.0], [0.9562320709228516, 0.013226649723947048, 0.009205416776239872, 0.008037787862122059, 0.0015022766310721636, 0.00415021600201726, 0.004057684913277626, 0.003587934421375394]], [[1.0, 0.0, 0.0, 0.0, 0.0, 0.0, 0.0, 0.0], [0.9794714450836182, 0.02052849717438221, 0.0, 0.0, 0.0, 0.0, 0.0, 0.0], [0.948935866355896, 0.02682548575103283, 0.024238690733909607, 0.0, 0.0, 0.0, 0.0, 0.0], [0.9046460390090942, 0.01767750456929207, 0.012348917312920094, 0.06532754749059677, 0.0, 0.0, 0.0, 0.0], [0.8385328650474548, 0.019759351387619972, 0.01683567650616169, 0.08508295565843582, 0.03978913277387619, 0.0, 0.0, 0.0], [0.8375669121742249, 0.018971586599946022, 0.02044042758643627, 0.0637369453907013, 0.031386300921440125, 0.027897769585251808, 0.0, 0.0], [0.6743947863578796, 0.05932344123721123, 0.015811819583177567, 0.1080387681722641, 0.07406406849622726, 0.054214660078287125, 0.014152430929243565, 0.0], [0.7737107872962952, 0.03161616623401642, 0.01836533658206463, 0.07112730294466019, 0.054876163601875305, 0.03361927345395088, 0.01179961021989584, 0.0048853387124836445]], [[1.0, 0.0, 0.0, 0.0, 0.0, 0.0, 0.0, 0.0], [0.9543253779411316, 0.04567456617951393, 0.0, 0.0, 0.0, 0.0, 0.0, 0.0], [0.8698403239250183, 0.1016959622502327, 0.028463780879974365, 0.0, 0.0, 0.0, 0.0, 0.0], [0.6239690184593201, 0.19767528772354126, 0.11184746772050858, 0.06650827825069427, 0.0, 0.0, 0.0, 0.0], [0.6570802330970764, 0.07558216899633408, 0.1261281669139862, 0.11574669927358627, 0.025462722405791283, 0.0, 0.0, 0.0], [0.544683039188385, 0.07955441623926163, 0.124031662940979, 0.1935974806547165, 0.040297120809555054, 0.01783628948032856, 0.0, 0.0], [0.5821008086204529, 0.045671164989471436, 0.0930393785238266, 0.20989003777503967, 0.020289402455091476, 0.011752582155168056, 0.0372566357254982, 0.0], [0.6406988501548767, 0.054128751158714294, 0.04824194684624672, 0.11689561605453491, 0.056284498423337936, 0.015232556499540806, 0.03929013013839722, 0.02922758273780346]], [[1.0, 0.0, 0.0, 0.0, 0.0, 0.0, 0.0, 0.0], [0.8840867877006531, 0.11591321229934692, 0.0, 0.0, 0.0, 0.0, 0.0, 0.0], [0.8831420540809631, 0.07143481820821762, 0.04542311653494835, 0.0, 0.0, 0.0, 0.0, 0.0], [0.8490735292434692, 0.05218948796391487, 0.04656269773840904, 0.05217433720827103, 0.0, 0.0, 0.0, 0.0], [0.6565245389938354, 0.09288205206394196, 0.10473279654979706, 0.0991349145770073, 0.046725668013095856, 0.0, 0.0, 0.0], [0.5897371768951416, 0.10915561020374298, 0.07569355517625809, 0.0966869592666626, 0.048611368983983994, 0.08011524379253387, 0.0, 0.0], [0.2844923436641693, 0.19088643789291382, 0.1286245882511139, 0.11387297511100769, 0.06794480979442596, 0.09622292220592499, 0.1179560050368309, 0.0], [0.5213983654975891, 0.07665388286113739, 0.060194022953510284, 0.039509452879428864, 0.04083778336644173, 0.036247916519641876, 0.1662827581167221, 0.058875828981399536]], [[1.0, 0.0, 0.0, 0.0, 0.0, 0.0, 0.0, 0.0], [0.9742199778556824, 0.025779951363801956, 0.0, 0.0, 0.0, 0.0, 0.0, 0.0], [0.8854314088821411, 0.04513942822813988, 0.06942907720804214, 0.0, 0.0, 0.0, 0.0, 0.0], [0.7981809973716736, 0.054304879158735275, 0.08834006637334824, 0.05917404592037201, 0.0, 0.0, 0.0, 0.0], [0.8470652103424072, 0.03151238337159157, 0.03519769385457039, 0.04166242852807045, 0.044562168419361115, 0.0, 0.0, 0.0], [0.799831748008728, 0.038990650326013565, 0.03254362568259239, 0.03747406229376793, 0.041777558624744415, 0.049382369965314865, 0.0, 0.0], [0.7625577449798584, 0.015090933069586754, 0.03114367090165615, 0.03418188542127609, 0.03844642639160156, 0.05319869518280029, 0.06538064777851105, 0.0], [0.710949718952179, 0.009575216099619865, 0.013298924081027508, 0.03682669624686241, 0.044702786952257156, 0.06987886130809784, 0.07685648649930954, 0.037911366671323776]], [[1.0, 0.0, 0.0, 0.0, 0.0, 0.0, 0.0, 0.0], [0.9631091952323914, 0.03689078241586685, 0.0, 0.0, 0.0, 0.0, 0.0, 0.0], [0.9128815531730652, 0.03653562813997269, 0.05058295279741287, 0.0, 0.0, 0.0, 0.0, 0.0], [0.8711621165275574, 0.035645101219415665, 0.0408388189971447, 0.05235398933291435, 0.0, 0.0, 0.0, 0.0], [0.8430333733558655, 0.03381653130054474, 0.013478972017765045, 0.009292001836001873, 0.10037898272275925, 0.0, 0.0, 0.0], [0.8452622294425964, 0.018199175596237183, 0.008318858221173286, 0.010215244255959988, 0.04265252873301506, 0.07535195350646973, 0.0, 0.0], [0.890339732170105, 0.019706018269062042, 0.0061640129424631596, 0.005735861603170633, 0.02176627330482006, 0.013942551799118519, 0.04234560579061508, 0.0], [0.8909978270530701, 0.007218940649181604, 0.008958172053098679, 0.003943840507417917, 0.0064274161122739315, 0.008011585101485252, 0.009240913204848766, 0.06520132720470428]], [[1.0, 0.0, 0.0, 0.0, 0.0, 0.0, 0.0, 0.0], [0.8661651015281677, 0.1338348686695099, 0.0, 0.0, 0.0, 0.0, 0.0, 0.0], [0.7132275104522705, 0.1552363634109497, 0.1315361112356186, 0.0, 0.0, 0.0, 0.0, 0.0], [0.5635513067245483, 0.09130647778511047, 0.2835524380207062, 0.061589743942022324, 0.0, 0.0, 0.0, 0.0], [0.4376671016216278, 0.07165642827749252, 0.3374312222003937, 0.13653478026390076, 0.016710489988327026, 0.0, 0.0, 0.0], [0.32152611017227173, 0.10156908631324768, 0.32223063707351685, 0.2060648649930954, 0.037469133734703064, 0.011140137910842896, 0.0, 0.0], [0.3494108319282532, 0.08909706026315689, 0.3395617604255676, 0.10615753382444382, 0.02653244324028492, 0.03613210842013359, 0.053108248859643936, 0.0], [0.6218814253807068, 0.057433973997831345, 0.13655011355876923, 0.07039504498243332, 0.021069277077913284, 0.007985682226717472, 0.05344294011592865, 0.031241632997989655]], [[1.0, 0.0, 0.0, 0.0, 0.0, 0.0, 0.0, 0.0], [0.9836993217468262, 0.016300728544592857, 0.0, 0.0, 0.0, 0.0, 0.0, 0.0], [0.7724723815917969, 0.16284117102622986, 0.06468646228313446, 0.0, 0.0, 0.0, 0.0, 0.0], [0.3057810664176941, 0.09111221879720688, 0.5796824097633362, 0.023424329236149788, 0.0, 0.0, 0.0, 0.0], [0.7256165742874146, 0.04716753587126732, 0.06541669368743896, 0.1439894139766693, 0.01780977100133896, 0.0, 0.0, 0.0], [0.3559515178203583, 0.06608744710683823, 0.028975622728466988, 0.1938515603542328, 0.33410951495170593, 0.021024391055107117, 0.0, 0.0], [0.2880226671695709, 0.029364073649048805, 0.018230298534035683, 0.08224307000637054, 0.3322671949863434, 0.2242964655160904, 0.025576213374733925, 0.0], [0.16358813643455505, 0.01674528978765011, 0.004477217793464661, 0.019782908260822296, 0.15661928057670593, 0.06713713705539703, 0.5632641315460205, 0.008385838009417057]], [[1.0, 0.0, 0.0, 0.0, 0.0, 0.0, 0.0, 0.0], [0.9996968507766724, 0.00030317335040308535, 0.0, 0.0, 0.0, 0.0, 0.0, 0.0], [0.9779346585273743, 0.0006166329840198159, 0.021448800340294838, 0.0, 0.0, 0.0, 0.0, 0.0], [0.991321861743927, 0.0006477460847236216, 0.003838462056592107, 0.004192007705569267, 0.0, 0.0, 0.0, 0.0], [0.9918482303619385, 0.0010005710646510124, 0.0070303999818861485, 4.386938030620513e-07, 0.00012041121226502582, 0.0, 0.0, 0.0], [0.9962722063064575, 0.001974880462512374, 0.00053027318790555, 2.0075121938134544e-06, 4.6538822061847895e-05, 0.0011740924092009664, 0.0, 0.0], [0.99062180519104, 0.0003504921915009618, 0.007289049681276083, 9.789749810806825e-07, 7.124667899915949e-05, 0.00017800046771299094, 0.001488415291532874, 0.0], [0.9906132221221924, 0.0012632961152121425, 0.0008772275177761912, 0.0011361027136445045, 5.6495078752050176e-05, 0.0007868780521675944, 0.0027273783925920725, 0.002539475215598941]], [[1.0, 0.0, 0.0, 0.0, 0.0, 0.0, 0.0, 0.0], [0.9827073216438293, 0.017292670905590057, 0.0, 0.0, 0.0, 0.0, 0.0, 0.0], [0.8888439536094666, 0.01106918603181839, 0.10008686780929565, 0.0, 0.0, 0.0, 0.0, 0.0], [0.9141993522644043, 0.00888584740459919, 0.04377470910549164, 0.03314003720879555, 0.0, 0.0, 0.0, 0.0], [0.8821272253990173, 0.0065300422720611095, 0.04700540006160736, 0.026455236598849297, 0.037882085889577866, 0.0, 0.0, 0.0], [0.8886630535125732, 0.005467607174068689, 0.03972434997558594, 0.02995145507156849, 0.015889430418610573, 0.020304065197706223, 0.0, 0.0], [0.8012141585350037, 0.008981219492852688, 0.03319486603140831, 0.0650944709777832, 0.032353565096855164, 0.01675749011337757, 0.04240413382649422, 0.0], [0.934139609336853, 0.004399494733661413, 0.006521643605083227, 0.012002061121165752, 0.00974254310131073, 0.005398991517722607, 0.011553381569683552, 0.016242381185293198]], [[1.0, 0.0, 0.0, 0.0, 0.0, 0.0, 0.0, 0.0], [0.9582817554473877, 0.04171822965145111, 0.0, 0.0, 0.0, 0.0, 0.0, 0.0], [0.534665584564209, 0.3647664785385132, 0.10056792199611664, 0.0, 0.0, 0.0, 0.0, 0.0], [0.665575385093689, 0.2214512825012207, 0.10195408016443253, 0.011019205674529076, 0.0, 0.0, 0.0, 0.0], [0.8224150538444519, 0.012640120461583138, 0.04343947023153305, 0.10018318146467209, 0.021322187036275864, 0.0, 0.0, 0.0], [0.724458634853363, 0.04011235758662224, 0.06591170281171799, 0.09519758820533752, 0.049674008041620255, 0.024645671248435974, 0.0, 0.0], [0.6897352337837219, 0.03642672672867775, 0.026788786053657532, 0.050274744629859924, 0.033480651676654816, 0.10915917158126831, 0.054134659469127655, 0.0], [0.3837150037288666, 0.0614139549434185, 0.028359906747937202, 0.028271380811929703, 0.04823416471481323, 0.14510153234004974, 0.2709546685218811, 0.033949341624975204]]], [[[1.0, 0.0, 0.0, 0.0, 0.0, 0.0, 0.0, 0.0], [0.9368640780448914, 0.06313589960336685, 0.0, 0.0, 0.0, 0.0, 0.0, 0.0], [0.5672319531440735, 0.3984616994857788, 0.03430634364485741, 0.0, 0.0, 0.0, 0.0, 0.0], [0.2795417606830597, 0.0654270127415657, 0.6435873508453369, 0.0114439083263278, 0.0, 0.0, 0.0, 0.0], [0.8180686235427856, 0.009663576260209084, 0.05952509492635727, 0.09730270504951477, 0.015439980663359165, 0.0, 0.0, 0.0], [0.6962770819664001, 0.023150090128183365, 0.016691718250513077, 0.07326562702655792, 0.15794076025485992, 0.03267462179064751, 0.0, 0.0], [0.7411640882492065, 0.004038778133690357, 0.002790516009554267, 0.027316037565469742, 0.03020429238677025, 0.13623954355716705, 0.05824678763747215, 0.0], [0.638133704662323, 0.01142201665788889, 0.0005814249743707478, 0.0035739669110625982, 0.011232448741793633, 0.018276503309607506, 0.3058408200740814, 0.010939092375338078]], [[1.0, 0.0, 0.0, 0.0, 0.0, 0.0, 0.0, 0.0], [0.9885522127151489, 0.01144774816930294, 0.0, 0.0, 0.0, 0.0, 0.0, 0.0], [0.9711111783981323, 0.006029515992850065, 0.022859252989292145, 0.0, 0.0, 0.0, 0.0, 0.0], [0.7813068628311157, 0.01359588373452425, 0.12555885314941406, 0.07953843474388123, 0.0, 0.0, 0.0, 0.0], [0.7821028232574463, 0.08979954570531845, 0.0836273804306984, 0.02135278470814228, 0.023117469623684883, 0.0, 0.0, 0.0], [0.7809401154518127, 0.11178769171237946, 0.03849319741129875, 0.014854064211249352, 0.03754549100995064, 0.016379324719309807, 0.0, 0.0], [0.9270771741867065, 0.005684218369424343, 0.03941979631781578, 0.0044805132783949375, 0.0027972126845270395, 0.0006282894755713642, 0.019912855699658394, 0.0], [0.9016523361206055, 0.005672060884535313, 0.012565076351165771, 0.005804687738418579, 0.001209931098856032, 0.0007122157840058208, 0.004761422984302044, 0.06762225180864334]], [[1.0, 0.0, 0.0, 0.0, 0.0, 0.0, 0.0, 0.0], [0.9986141920089722, 0.0013858242891728878, 0.0, 0.0, 0.0, 0.0, 0.0, 0.0], [0.9807064533233643, 0.0003148032119497657, 0.01897868886590004, 0.0, 0.0, 0.0, 0.0, 0.0], [0.9859876036643982, 0.00045898373355157673, 0.011676352471113205, 0.0018770582973957062, 0.0, 0.0, 0.0, 0.0], [0.9165164828300476, 0.0013473067665472627, 0.07834797352552414, 0.0002650091191753745, 0.0035232261288911104, 0.0, 0.0, 0.0], [0.9844356179237366, 0.0014720014296472073, 0.0038583013229072094, 6.948956433916464e-05, 0.0031746088061481714, 0.006989959627389908, 0.0, 0.0], [0.9885410666465759, 9.527607471682131e-05, 0.006907080300152302, 2.154926914954558e-05, 4.9586604291107506e-05, 0.00021265647956170142, 0.004172733053565025, 0.0], [0.9930100440979004, 0.00047306856140494347, 0.0007172542973421514, 0.0016884268261492252, 0.00012264538963790983, 0.0007328583742491901, 0.0017464645206928253, 0.0015092648100107908]], [[1.0, 0.0, 0.0, 0.0, 0.0, 0.0, 0.0, 0.0], [0.9107965230941772, 0.08920349180698395, 0.0, 0.0, 0.0, 0.0, 0.0, 0.0], [0.833954393863678, 0.10611247271299362, 0.05993308126926422, 0.0, 0.0, 0.0, 0.0, 0.0], [0.5843328237533569, 0.17683637142181396, 0.1737099140882492, 0.06512093544006348, 0.0, 0.0, 0.0, 0.0], [0.7277174592018127, 0.07802153378725052, 0.07506855577230453, 0.09599356353282928, 0.023198867216706276, 0.0, 0.0, 0.0], [0.48494479060173035, 0.1647895723581314, 0.1005580723285675, 0.13191047310829163, 0.06800122559070587, 0.049795880913734436, 0.0, 0.0], [0.6001531481742859, 0.06819487363100052, 0.03278963640332222, 0.06966444104909897, 0.06529991328716278, 0.09814848005771637, 0.06574956327676773, 0.0], [0.3822448253631592, 0.05279384180903435, 0.041859906166791916, 0.10964017361402512, 0.08864254504442215, 0.11040067672729492, 0.14794933795928955, 0.06646863371133804]], [[1.0, 0.0, 0.0, 0.0, 0.0, 0.0, 0.0, 0.0], [0.9756990671157837, 0.024300912395119667, 0.0, 0.0, 0.0, 0.0, 0.0, 0.0], [0.8560820817947388, 0.11937249451875687, 0.024545425549149513, 0.0, 0.0, 0.0, 0.0, 0.0], [0.696365237236023, 0.2283799946308136, 0.05847669020295143, 0.016778048127889633, 0.0, 0.0, 0.0, 0.0], [0.8666763305664062, 0.03814687952399254, 0.030868133530020714, 0.05217728763818741, 0.012131307274103165, 0.0, 0.0, 0.0], [0.8448078036308289, 0.057251449674367905, 0.03308502584695816, 0.03225639462471008, 0.024605469778180122, 0.007993804290890694, 0.0, 0.0], [0.6933677196502686, 0.06307438015937805, 0.06640728563070297, 0.10157228261232376, 0.029940418899059296, 0.03143830969929695, 0.014199630357325077, 0.0], [0.434859037399292, 0.12458529323339462, 0.033869389444589615, 0.15210087597370148, 0.05881866440176964, 0.07800668478012085, 0.10468120872974396, 0.013078788295388222]], [[1.0, 0.0, 0.0, 0.0, 0.0, 0.0, 0.0, 0.0], [0.8969604969024658, 0.10303949564695358, 0.0, 0.0, 0.0, 0.0, 0.0, 0.0], [0.8439676761627197, 0.12766170501708984, 0.02837064117193222, 0.0, 0.0, 0.0, 0.0, 0.0], [0.5725346803665161, 0.25692522525787354, 0.08505736291408539, 0.08548275381326675, 0.0, 0.0, 0.0, 0.0], [0.6956275701522827, 0.07153023034334183, 0.020415594801306725, 0.1852809637784958, 0.027145639061927795, 0.0, 0.0, 0.0], [0.7112306952476501, 0.07232450693845749, 0.004510422702878714, 0.11697643250226974, 0.04743068665266037, 0.047527313232421875, 0.0, 0.0], [0.7192625403404236, 0.02862464264035225, 0.009790929034352303, 0.13356399536132812, 0.013885043561458588, 0.0223710760474205, 0.07250180095434189, 0.0], [0.8401608467102051, 0.012636031024158001, 0.004061003215610981, 0.023161936551332474, 0.01141578983515501, 0.018833745270967484, 0.06814336031675339, 0.021587282419204712]], [[1.0, 0.0, 0.0, 0.0, 0.0, 0.0, 0.0, 0.0], [0.9668612480163574, 0.03313880041241646, 0.0, 0.0, 0.0, 0.0, 0.0, 0.0], [0.9079772233963013, 0.03459787741303444, 0.05742495879530907, 0.0, 0.0, 0.0, 0.0, 0.0], [0.7559472918510437, 0.04887048900127411, 0.1164146214723587, 0.07876760512590408, 0.0, 0.0, 0.0, 0.0], [0.6715904474258423, 0.04333893582224846, 0.16874854266643524, 0.07091230154037476, 0.04540965333580971, 0.0, 0.0, 0.0], [0.6524932384490967, 0.05111364275217056, 0.12581707537174225, 0.06306630373001099, 0.05071571469306946, 0.05679405480623245, 0.0, 0.0], [0.7888692021369934, 0.013037112541496754, 0.0729089081287384, 0.05678563937544823, 0.017318062484264374, 0.024648377671837807, 0.026432666927576065, 0.0], [0.8781368136405945, 0.010492355562746525, 0.032802339643239975, 0.03309353068470955, 0.005670234095305204, 0.01567150093615055, 0.016531256958842278, 0.007601974066346884]], [[1.0, 0.0, 0.0, 0.0, 0.0, 0.0, 0.0, 0.0], [0.9514630436897278, 0.048536933958530426, 0.0, 0.0, 0.0, 0.0, 0.0, 0.0], [0.9173341393470764, 0.0415954664349556, 0.04107034578919411, 0.0, 0.0, 0.0, 0.0, 0.0], [0.4987598955631256, 0.0742151290178299, 0.2518995702266693, 0.1751253455877304, 0.0, 0.0, 0.0, 0.0], [0.452404648065567, 0.027639377862215042, 0.23939146101474762, 0.23657077550888062, 0.043993864208459854, 0.0, 0.0, 0.0], [0.4042694866657257, 0.023117640987038612, 0.23524974286556244, 0.2233045995235443, 0.051299840211868286, 0.06275859475135803, 0.0, 0.0], [0.7563169002532959, 0.015928028151392937, 0.07169562578201294, 0.10872311890125275, 0.018420735374093056, 0.018580462783575058, 0.010335082188248634, 0.0], [0.9451975226402283, 0.008156955242156982, 0.004907858557999134, 0.0028866673819720745, 0.008542829193174839, 0.007623280398547649, 0.01244030985981226, 0.010244582779705524]], [[1.0, 0.0, 0.0, 0.0, 0.0, 0.0, 0.0, 0.0], [0.9576159119606018, 0.04238412529230118, 0.0, 0.0, 0.0, 0.0, 0.0, 0.0], [0.7935709357261658, 0.15532124042510986, 0.05110786855220795, 0.0, 0.0, 0.0, 0.0, 0.0], [0.7214205265045166, 0.15787526965141296, 0.1111367866396904, 0.00956735946238041, 0.0, 0.0, 0.0, 0.0], [0.7656949162483215, 0.0984148234128952, 0.03907028213143349, 0.05684930831193924, 0.03997074440121651, 0.0, 0.0, 0.0], [0.46396419405937195, 0.16845455765724182, 0.06691482663154602, 0.07078887522220612, 0.17347151041030884, 0.05640605092048645, 0.0, 0.0], [0.5233627557754517, 0.032006360590457916, 0.10958921164274216, 0.19310680031776428, 0.04388437792658806, 0.0664600059390068, 0.03159051761031151, 0.0], [0.3442308008670807, 0.038416922092437744, 0.37760594487190247, 0.07959751039743423, 0.02793310396373272, 0.004252456594258547, 0.07800855487585068, 0.049954768270254135]], [[1.0, 0.0, 0.0, 0.0, 0.0, 0.0, 0.0, 0.0], [0.9647418856620789, 0.03525818511843681, 0.0, 0.0, 0.0, 0.0, 0.0, 0.0], [0.8673158884048462, 0.10553143918514252, 0.027152687311172485, 0.0, 0.0, 0.0, 0.0, 0.0], [0.6952553391456604, 0.12465473264455795, 0.13480566442012787, 0.04528422653675079, 0.0, 0.0, 0.0, 0.0], [0.5454502701759338, 0.03883805125951767, 0.09557665884494781, 0.2840256094932556, 0.036109473556280136, 0.0, 0.0, 0.0], [0.5682093501091003, 0.07665812969207764, 0.08508611470460892, 0.15271799266338348, 0.09119504690170288, 0.026133352890610695, 0.0, 0.0], [0.4765779674053192, 0.026401445269584656, 0.06742159277200699, 0.22959642112255096, 0.06787649542093277, 0.08039659261703491, 0.051729582250118256, 0.0], [0.2654644548892975, 0.032624244689941406, 0.0118367038667202, 0.14474578201770782, 0.1126519963145256, 0.21804489195346832, 0.17459797859191895, 0.04003392904996872]], [[1.0, 0.0, 0.0, 0.0, 0.0, 0.0, 0.0, 0.0], [0.9975960850715637, 0.002403915161266923, 0.0, 0.0, 0.0, 0.0, 0.0, 0.0], [0.9697934985160828, 0.0010721635771915317, 0.029134340584278107, 0.0, 0.0, 0.0, 0.0, 0.0], [0.9625771045684814, 0.004421762656420469, 0.025471139699220657, 0.00753001170232892, 0.0, 0.0, 0.0, 0.0], [0.9315828084945679, 0.027705397456884384, 0.0349971279501915, 0.0019232099875807762, 0.003791449824348092, 0.0, 0.0, 0.0], [0.8680787682533264, 0.08648853749036789, 0.011556541547179222, 0.002187934471294284, 0.01039965357631445, 0.021288597956299782, 0.0, 0.0], [0.9313873052597046, 0.0020949470344930887, 0.05469192937016487, 0.00011086252925451845, 0.0006164961960166693, 0.002382464474067092, 0.008715844713151455, 0.0], [0.9492007493972778, 0.0037896130234003067, 0.020524052903056145, 0.006647655274719, 0.0003649730351753533, 0.00293127098120749, 0.001830215915106237, 0.014711493626236916]], [[1.0, 0.0, 0.0, 0.0, 0.0, 0.0, 0.0, 0.0], [0.9881420731544495, 0.011857947334647179, 0.0, 0.0, 0.0, 0.0, 0.0, 0.0], [0.946743369102478, 0.025449279695749283, 0.027807345613837242, 0.0, 0.0, 0.0, 0.0, 0.0], [0.9552509784698486, 0.015778755769133568, 0.025943893939256668, 0.0030264658853411674, 0.0, 0.0, 0.0, 0.0], [0.870208203792572, 0.016153432428836823, 0.10347428917884827, 0.006823564413934946, 0.003340529976412654, 0.0, 0.0, 0.0], [0.9290491938591003, 0.023922372609376907, 0.02652302198112011, 0.0017625386826694012, 0.0030578337609767914, 0.01568501628935337, 0.0, 0.0], [0.9009867310523987, 0.005626649595797062, 0.07041224837303162, 0.004300933796912432, 0.004727252293378115, 0.008074559271335602, 0.0058716838248074055, 0.0], [0.9129599928855896, 0.010950860567390919, 0.008912713266909122, 0.03564611077308655, 0.001136109814979136, 0.01716112717986107, 0.011128404177725315, 0.0021046765614300966]]], [[[1.0, 0.0, 0.0, 0.0, 0.0, 0.0, 0.0, 0.0], [0.9537515044212341, 0.04624848812818527, 0.0, 0.0, 0.0, 0.0, 0.0, 0.0], [0.9241613745689392, 0.045274797827005386, 0.030563825741410255, 0.0, 0.0, 0.0, 0.0, 0.0], [0.8570243120193481, 0.052748147398233414, 0.030744148418307304, 0.05948339030146599, 0.0, 0.0, 0.0, 0.0], [0.8598230481147766, 0.04396028816699982, 0.02332552708685398, 0.05216524004936218, 0.020725922659039497, 0.0, 0.0, 0.0], [0.8158055543899536, 0.02125607244670391, 0.011995418928563595, 0.04761858657002449, 0.03270264342427254, 0.07062175124883652, 0.0, 0.0], [0.8002525568008423, 0.027975289151072502, 0.0067169032990932465, 0.04709572717547417, 0.017099566757678986, 0.06813117861747742, 0.03272886201739311, 0.0], [0.873010516166687, 0.020053759217262268, 0.0148940933868289, 0.024384845048189163, 0.006035767495632172, 0.020325569435954094, 0.014608098194003105, 0.02668738178908825]], [[1.0, 0.0, 0.0, 0.0, 0.0, 0.0, 0.0, 0.0], [0.9862831234931946, 0.013716894201934338, 0.0, 0.0, 0.0, 0.0, 0.0, 0.0], [0.9386304616928101, 0.01811083033680916, 0.0432586669921875, 0.0, 0.0, 0.0, 0.0, 0.0], [0.8386369943618774, 0.053226031363010406, 0.08598918467760086, 0.02214781939983368, 0.0, 0.0, 0.0, 0.0], [0.8730047345161438, 0.02239927649497986, 0.09783060103654861, 0.004337473772466183, 0.0024278315249830484, 0.0, 0.0, 0.0], [0.914254903793335, 0.03131662681698799, 0.029100285843014717, 0.004691882990300655, 0.007893088273704052, 0.012743191793560982, 0.0, 0.0], [0.8330866098403931, 0.005489058792591095, 0.13228259980678558, 0.006576817948371172, 0.003331643994897604, 0.004782052244991064, 0.014451327733695507, 0.0], [0.9082250595092773, 0.008916684426367283, 0.009065531194210052, 0.04204270616173744, 0.0010263965232297778, 0.00132273742929101, 0.005713430233299732, 0.023687494918704033]], [[1.0, 0.0, 0.0, 0.0, 0.0, 0.0, 0.0, 0.0], [0.9341225028038025, 0.06587749719619751, 0.0, 0.0, 0.0, 0.0, 0.0, 0.0], [0.9051975011825562, 0.05116879567503929, 0.04363379254937172, 0.0, 0.0, 0.0, 0.0, 0.0], [0.847299337387085, 0.05979938805103302, 0.07002166658639908, 0.02287960611283779, 0.0, 0.0, 0.0, 0.0], [0.8284323811531067, 0.04851807653903961, 0.05562658980488777, 0.04722363501787186, 0.020199300721287727, 0.0, 0.0, 0.0], [0.7699155807495117, 0.04965546727180481, 0.05760616064071655, 0.028364645317196846, 0.02230122871696949, 0.07215698063373566, 0.0, 0.0], [0.6996623873710632, 0.056831635534763336, 0.0558537021279335, 0.04884658753871918, 0.015194106847047806, 0.09254319965839386, 0.031068313866853714, 0.0], [0.7222633957862854, 0.025045273825526237, 0.031236954033374786, 0.07313413918018341, 0.007095858920365572, 0.10819686949253082, 0.01692904159426689, 0.016098523512482643]], [[1.0, 0.0, 0.0, 0.0, 0.0, 0.0, 0.0, 0.0], [0.9393409490585327, 0.06065896525979042, 0.0, 0.0, 0.0, 0.0, 0.0, 0.0], [0.9419981241226196, 0.038507044315338135, 0.019494805485010147, 0.0, 0.0, 0.0, 0.0, 0.0], [0.9005725383758545, 0.07328347861766815, 0.016902104020118713, 0.009241926483809948, 0.0, 0.0, 0.0, 0.0], [0.8401730060577393, 0.03825569152832031, 0.05439909175038338, 0.041057735681533813, 0.02611447684466839, 0.0, 0.0, 0.0], [0.894159734249115, 0.021205171942710876, 0.038565490394830704, 0.029028479009866714, 0.007667143829166889, 0.009373947978019714, 0.0, 0.0], [0.717811107635498, 0.016669830307364464, 0.1706038862466812, 0.0782085731625557, 0.01294629741460085, 0.001970569370314479, 0.0017898386577144265, 0.0], [0.642810046672821, 0.04016374424099922, 0.1494075357913971, 0.0591888353228569, 0.00923935417085886, 0.006600059103220701, 0.004435306414961815, 0.088155098259449]], [[1.0, 0.0, 0.0, 0.0, 0.0, 0.0, 0.0, 0.0], [0.8695672154426575, 0.13043281435966492, 0.0, 0.0, 0.0, 0.0, 0.0, 0.0], [0.7639128565788269, 0.1543586254119873, 0.08172857761383057, 0.0, 0.0, 0.0, 0.0, 0.0], [0.6852385401725769, 0.11830637603998184, 0.1504824459552765, 0.04597260057926178, 0.0, 0.0, 0.0, 0.0], [0.6222217082977295, 0.029084017500281334, 0.0803731307387352, 0.24752575159072876, 0.02079533413052559, 0.0, 0.0, 0.0], [0.737037181854248, 0.03062119521200657, 0.039558470249176025, 0.03742033988237381, 0.05452575162053108, 0.10083702206611633, 0.0, 0.0], [0.812035858631134, 0.008266177028417587, 0.0086811613291502, 0.03482680022716522, 0.010600856505334377, 0.08068664371967316, 0.044902555644512177, 0.0], [0.6309418678283691, 0.021453699097037315, 0.016420235857367516, 0.04376900568604469, 0.0037416163831949234, 0.03819645568728447, 0.21324695646762848, 0.032230194658041]], [[1.0, 0.0, 0.0, 0.0, 0.0, 0.0, 0.0, 0.0], [0.907505989074707, 0.09249404072761536, 0.0, 0.0, 0.0, 0.0, 0.0, 0.0], [0.6388400793075562, 0.28595006465911865, 0.07520978152751923, 0.0, 0.0, 0.0, 0.0, 0.0], [0.634235680103302, 0.23353177309036255, 0.07817165553569794, 0.05406088009476662, 0.0, 0.0, 0.0, 0.0], [0.36251142621040344, 0.059911392629146576, 0.0613931268453598, 0.4713507294654846, 0.044833406805992126, 0.0, 0.0, 0.0], [0.3216296434402466, 0.08646134287118912, 0.08552435040473938, 0.3422195315361023, 0.1390746384859085, 0.025090565904974937, 0.0, 0.0], [0.19539524614810944, 0.04262375459074974, 0.05116936191916466, 0.40188831090927124, 0.12187202274799347, 0.14544694125652313, 0.04160435497760773, 0.0], [0.2008824348449707, 0.15581180155277252, 0.08917184174060822, 0.1516774743795395, 0.08507189154624939, 0.12754157185554504, 0.16214290261268616, 0.027700064703822136]], [[1.0, 0.0, 0.0, 0.0, 0.0, 0.0, 0.0, 0.0], [0.9816117882728577, 0.01838815025985241, 0.0, 0.0, 0.0, 0.0, 0.0, 0.0], [0.9316774010658264, 0.022603506222367287, 0.04571911692619324, 0.0, 0.0, 0.0, 0.0, 0.0], [0.07236083596944809, 0.24995535612106323, 0.6266021728515625, 0.051081687211990356, 0.0, 0.0, 0.0, 0.0], [0.3954947888851166, 0.02863381803035736, 0.24678410589694977, 0.3126121163368225, 0.016475170850753784, 0.0, 0.0, 0.0], [0.44815343618392944, 0.1472562998533249, 0.1995881199836731, 0.12789243459701538, 0.02606598101556301, 0.05104363337159157, 0.0, 0.0], [0.7530325651168823, 0.005556656047701836, 0.1814010739326477, 0.0547490268945694, 0.0007297949050553143, 0.0025123152881860733, 0.00201854994520545, 0.0], [0.9552397727966309, 0.006391281262040138, 0.008169394917786121, 0.025172650814056396, 0.0003217120247427374, 0.0009776384104043245, 0.0016173210460692644, 0.0021102093160152435]], [[1.0, 0.0, 0.0, 0.0, 0.0, 0.0, 0.0, 0.0], [0.8458076119422913, 0.15419237315654755, 0.0, 0.0, 0.0, 0.0, 0.0, 0.0], [0.5911601781845093, 0.37462300062179565, 0.03421679511666298, 0.0, 0.0, 0.0, 0.0, 0.0], [0.5564975738525391, 0.16852760314941406, 0.2603685259819031, 0.014606358483433723, 0.0, 0.0, 0.0, 0.0], [0.899493396282196, 0.010824366472661495, 0.023764658719301224, 0.043218936771154404, 0.02269863709807396, 0.0, 0.0, 0.0], [0.8238192796707153, 0.024089276790618896, 0.022622613236308098, 0.037505604326725006, 0.06825011968612671, 0.023713132366538048, 0.0, 0.0], [0.7130223512649536, 0.013234010897576809, 0.0181992556899786, 0.0434456504881382, 0.024561932310461998, 0.09549251198768616, 0.09204428642988205, 0.0], [0.6114618182182312, 0.011308560147881508, 0.003912301268428564, 0.009277993813157082, 0.004777040798217058, 0.01953185722231865, 0.3002867102622986, 0.03944370150566101]], [[1.0, 0.0, 0.0, 0.0, 0.0, 0.0, 0.0, 0.0], [0.9185262322425842, 0.08147378265857697, 0.0, 0.0, 0.0, 0.0, 0.0, 0.0], [0.8256714940071106, 0.0819268450140953, 0.0924016609787941, 0.0, 0.0, 0.0, 0.0, 0.0], [0.6304340958595276, 0.08020919561386108, 0.17277081310749054, 0.11658583581447601, 0.0, 0.0, 0.0, 0.0], [0.6216297149658203, 0.037816837430000305, 0.07859577238559723, 0.2388361096382141, 0.023121578618884087, 0.0, 0.0, 0.0], [0.2784252464771271, 0.10874377936124802, 0.10595684498548508, 0.44481340050697327, 0.040537286549806595, 0.021523378789424896, 0.0, 0.0], [0.3813079595565796, 0.11300238966941833, 0.21172232925891876, 0.19540764391422272, 0.05405819043517113, 0.012772873975336552, 0.031728651374578476, 0.0], [0.380927711725235, 0.14359089732170105, 0.09823570400476456, 0.13339067995548248, 0.040645744651556015, 0.02142386883497238, 0.0648176372051239, 0.11696776747703552]], [[1.0, 0.0, 0.0, 0.0, 0.0, 0.0, 0.0, 0.0], [0.9392428398132324, 0.06075715646147728, 0.0, 0.0, 0.0, 0.0, 0.0, 0.0], [0.8143534660339355, 0.07214633375406265, 0.1135002002120018, 0.0, 0.0, 0.0, 0.0, 0.0], [0.7143165469169617, 0.05425215885043144, 0.13230499625205994, 0.09912627935409546, 0.0, 0.0, 0.0, 0.0], [0.547188937664032, 0.0436166450381279, 0.12325305491685867, 0.17371287941932678, 0.1122284010052681, 0.0, 0.0, 0.0], [0.6482568979263306, 0.04263951629400253, 0.10155567526817322, 0.0912599265575409, 0.08368293941020966, 0.03260499984025955, 0.0, 0.0], [0.783014178276062, 0.020171919837594032, 0.06601859629154205, 0.07099150121212006, 0.032673340290784836, 0.016728756949305534, 0.010401722975075245, 0.0], [0.74224853515625, 0.045653413981199265, 0.06589876860380173, 0.054851170629262924, 0.03205222636461258, 0.009418788366019726, 0.01483447290956974, 0.0350426584482193]], [[1.0, 0.0, 0.0, 0.0, 0.0, 0.0, 0.0, 0.0], [0.9462665915489197, 0.05373344197869301, 0.0, 0.0, 0.0, 0.0, 0.0, 0.0], [0.9154186248779297, 0.03576633706688881, 0.048815082758665085, 0.0, 0.0, 0.0, 0.0, 0.0], [0.6781989932060242, 0.09962484240531921, 0.14711003005504608, 0.07506616413593292, 0.0, 0.0, 0.0, 0.0], [0.6236348748207092, 0.04433373734354973, 0.16377319395542145, 0.1046614944934845, 0.0635966807603836, 0.0, 0.0, 0.0], [0.6778796911239624, 0.07783035933971405, 0.08698082715272903, 0.07330738753080368, 0.03509001061320305, 0.04891173169016838, 0.0, 0.0], [0.5996063947677612, 0.04336810111999512, 0.17980347573757172, 0.10086708515882492, 0.02436545491218567, 0.02819582261145115, 0.0237936582416296, 0.0], [0.5758775472640991, 0.03752297908067703, 0.12338171899318695, 0.0935550257563591, 0.01343372743576765, 0.03094867244362831, 0.017670350149273872, 0.10761004686355591]], [[1.0, 0.0, 0.0, 0.0, 0.0, 0.0, 0.0, 0.0], [0.9616725444793701, 0.038327477872371674, 0.0, 0.0, 0.0, 0.0, 0.0, 0.0], [0.938067615032196, 0.04314007982611656, 0.018792318180203438, 0.0, 0.0, 0.0, 0.0, 0.0], [0.9112993478775024, 0.03243820369243622, 0.04652024060487747, 0.00974215380847454, 0.0, 0.0, 0.0, 0.0], [0.8194599151611328, 0.053770266473293304, 0.06691032648086548, 0.03303668275475502, 0.026822900399565697, 0.0, 0.0, 0.0], [0.8904300332069397, 0.03967151418328285, 0.029126908630132675, 0.01311852689832449, 0.019390922039747238, 0.008262145332992077, 0.0, 0.0], [0.6748746037483215, 0.06089568883180618, 0.174126997590065, 0.024380341172218323, 0.04115760326385498, 0.014967379160225391, 0.00959740113466978, 0.0], [0.7706613540649414, 0.07993344962596893, 0.057693999260663986, 0.03107479028403759, 0.02412847988307476, 0.01516158040612936, 0.006582559086382389, 0.014763783663511276]]], [[[1.0, 0.0, 0.0, 0.0, 0.0, 0.0, 0.0, 0.0], [0.9488793611526489, 0.051120609045028687, 0.0, 0.0, 0.0, 0.0, 0.0, 0.0], [0.894203245639801, 0.08168457448482513, 0.024112192913889885, 0.0, 0.0, 0.0, 0.0, 0.0], [0.9565564393997192, 0.03575059026479721, 0.00674503855407238, 0.000947945867665112, 0.0, 0.0, 0.0, 0.0], [0.9547250866889954, 0.023334428668022156, 0.009312290698289871, 0.001953782746568322, 0.010674349963665009, 0.0, 0.0, 0.0], [0.8614906072616577, 0.04282300919294357, 0.021466130390763283, 0.003137531690299511, 0.03393281623721123, 0.03714977949857712, 0.0, 0.0], [0.7131223082542419, 0.09179014712572098, 0.14660237729549408, 0.0026871608570218086, 0.018927782773971558, 0.008439520373940468, 0.018430713564157486, 0.0], [0.803895115852356, 0.047215890139341354, 0.08977780491113663, 0.004168560728430748, 0.0037439572624862194, 0.0027534246910363436, 0.011198955588042736, 0.037246208637952805]], [[1.0, 0.0, 0.0, 0.0, 0.0, 0.0, 0.0, 0.0], [0.9905338287353516, 0.009466162882745266, 0.0, 0.0, 0.0, 0.0, 0.0, 0.0], [0.9922963976860046, 0.004872548393905163, 0.0028310774359852076, 0.0, 0.0, 0.0, 0.0, 0.0], [0.9168341755867004, 0.030756892636418343, 0.022632179781794548, 0.029776787385344505, 0.0, 0.0, 0.0, 0.0], [0.8818903565406799, 0.01454888004809618, 0.044018395245075226, 0.03952273353934288, 0.02001969888806343, 0.0, 0.0, 0.0], [0.9583665132522583, 0.013665313832461834, 0.005336335860192776, 0.0013055173913016915, 0.004458289127796888, 0.01686803810298443, 0.0, 0.0], [0.8904940485954285, 0.006380636710673571, 0.032905369997024536, 0.003748363582417369, 0.002020941348746419, 0.03021026961505413, 0.03424029424786568, 0.0], [0.9518089294433594, 0.004722115118056536, 0.0018293290631845593, 0.005058927461504936, 0.0005215106648392975, 0.008000630885362625, 0.011349305510520935, 0.01670929230749607]], [[1.0, 0.0, 0.0, 0.0, 0.0, 0.0, 0.0, 0.0], [0.9593026041984558, 0.0406973771750927, 0.0, 0.0, 0.0, 0.0, 0.0, 0.0], [0.8433597087860107, 0.0871107205748558, 0.06952963024377823, 0.0, 0.0, 0.0, 0.0, 0.0], [0.7705293893814087, 0.047264065593481064, 0.12775969505310059, 0.05444682389497757, 0.0, 0.0, 0.0, 0.0], [0.651063859462738, 0.05800251662731171, 0.1429058015346527, 0.11866044253110886, 0.029367435723543167, 0.0, 0.0, 0.0], [0.47295117378234863, 0.10696752369403839, 0.24512484669685364, 0.10395122319459915, 0.022504059597849846, 0.04850120097398758, 0.0, 0.0], [0.627666175365448, 0.03685355931520462, 0.17733654379844666, 0.11953363567590714, 0.005243096500635147, 0.01173435989767313, 0.021632591262459755, 0.0], [0.9010235667228699, 0.027076467871665955, 0.027462858706712723, 0.013754233717918396, 0.0010801038006320596, 0.002782254945486784, 0.00726615684106946, 0.019554348662495613]], [[1.0, 0.0, 0.0, 0.0, 0.0, 0.0, 0.0, 0.0], [0.9564796686172485, 0.04352026432752609, 0.0, 0.0, 0.0, 0.0, 0.0, 0.0], [0.5829522609710693, 0.31686168909072876, 0.10018599033355713, 0.0, 0.0, 0.0, 0.0, 0.0], [0.3545847237110138, 0.07486026734113693, 0.5557857155799866, 0.014769228175282478, 0.0, 0.0, 0.0, 0.0], [0.3381299078464508, 0.04136352986097336, 0.20732155442237854, 0.3819911479949951, 0.031193898990750313, 0.0, 0.0, 0.0], [0.4347638189792633, 0.058411095291376114, 0.2325727343559265, 0.12616275250911713, 0.047836244106292725, 0.10025332868099213, 0.0, 0.0], [0.2724941670894623, 0.028495488688349724, 0.0793619453907013, 0.10796710848808289, 0.03543975204229355, 0.3842824697494507, 0.09195903688669205, 0.0], [0.6932587623596191, 0.033588580787181854, 0.046078406274318695, 0.013879584148526192, 0.016981322318315506, 0.12129624933004379, 0.06214053928852081, 0.012776544317603111]], [[1.0, 0.0, 0.0, 0.0, 0.0, 0.0, 0.0, 0.0], [0.9240325689315796, 0.07596737146377563, 0.0, 0.0, 0.0, 0.0, 0.0, 0.0], [0.9326752424240112, 0.041722655296325684, 0.025602074339985847, 0.0, 0.0, 0.0, 0.0, 0.0], [0.799934983253479, 0.1103464663028717, 0.08400064706802368, 0.0057179294526577, 0.0, 0.0, 0.0, 0.0], [0.9663497805595398, 0.012535393238067627, 0.01474452018737793, 0.001978211337700486, 0.004392107017338276, 0.0, 0.0, 0.0], [0.9262912273406982, 0.02361864596605301, 0.02072112075984478, 0.004713715985417366, 0.009641076438128948, 0.015014184638857841, 0.0, 0.0], [0.7180084586143494, 0.10139236599206924, 0.13037246465682983, 0.007471900433301926, 0.004014417063444853, 0.006219201721251011, 0.03252117708325386, 0.0], [0.7029301524162292, 0.1705208420753479, 0.018303317949175835, 0.004314282443374395, 0.007382732350379229, 0.006735675036907196, 0.07611735910177231, 0.013695580884814262]], [[1.0, 0.0, 0.0, 0.0, 0.0, 0.0, 0.0, 0.0], [0.9350360035896301, 0.06496405601501465, 0.0, 0.0, 0.0, 0.0, 0.0, 0.0], [0.8815788626670837, 0.064266636967659, 0.05415456369519234, 0.0, 0.0, 0.0, 0.0, 0.0], [0.7879645228385925, 0.08113723248243332, 0.08335201442241669, 0.04754624515771866, 0.0, 0.0, 0.0, 0.0], [0.8350886106491089, 0.06692811846733093, 0.04459209367632866, 0.020919153466820717, 0.03247198835015297, 0.0, 0.0, 0.0], [0.840510904788971, 0.05476231500506401, 0.04249267280101776, 0.015204786323010921, 0.014583779498934746, 0.032445523887872696, 0.0, 0.0], [0.7055707573890686, 0.08621122688055038, 0.06724639236927032, 0.01926806941628456, 0.020728692412376404, 0.05680176243185997, 0.04417313635349274, 0.0], [0.8419461846351624, 0.019711032509803772, 0.041616521775722504, 0.025246234610676765, 0.007789209950715303, 0.01947568543255329, 0.016640761867165565, 0.027574317529797554]], [[1.0, 0.0, 0.0, 0.0, 0.0, 0.0, 0.0, 0.0], [0.9929989576339722, 0.007001023273915052, 0.0, 0.0, 0.0, 0.0, 0.0, 0.0], [0.9779242873191833, 0.007371263112872839, 0.014704480767250061, 0.0, 0.0, 0.0, 0.0, 0.0], [0.9554868340492249, 0.0074570137076079845, 0.02856290712952614, 0.008493231609463692, 0.0, 0.0, 0.0, 0.0], [0.9595440030097961, 0.010024279356002808, 0.0235051978379488, 0.0018981249304488301, 0.0050284466706216335, 0.0, 0.0, 0.0], [0.9260209202766418, 0.04761185869574547, 0.010880938731133938, 0.0019992515444755554, 0.0063111986964941025, 0.0071757473051548, 0.0, 0.0], [0.9206974506378174, 0.007586671505123377, 0.05817602202296257, 0.002130742883309722, 0.0007519663195125759, 0.002329904353246093, 0.008327268995344639, 0.0], [0.9564195871353149, 0.014024069532752037, 0.009514831937849522, 0.006262301933020353, 0.0003629070124588907, 0.002169600687921047, 0.00601226557046175, 0.005234400741755962]], [[1.0, 0.0, 0.0, 0.0, 0.0, 0.0, 0.0, 0.0], [0.9453680515289307, 0.05463190749287605, 0.0, 0.0, 0.0, 0.0, 0.0, 0.0], [0.753892719745636, 0.19597956538200378, 0.05012767016887665, 0.0, 0.0, 0.0, 0.0, 0.0], [0.39292582869529724, 0.33620214462280273, 0.2578616142272949, 0.013010422699153423, 0.0, 0.0, 0.0, 0.0], [0.6113709807395935, 0.13248036801815033, 0.22841840982437134, 0.01585027202963829, 0.01187990978360176, 0.0, 0.0, 0.0], [0.45077529549598694, 0.22397373616695404, 0.19895103573799133, 0.02817138098180294, 0.08368652313947678, 0.014442024752497673, 0.0, 0.0], [0.30295971035957336, 0.13196821510791779, 0.49540647864341736, 0.030143748968839645, 0.019937071949243546, 0.012076075188815594, 0.0075086066499352455, 0.0], [0.3761514723300934, 0.3898755609989166, 0.06315372884273529, 0.035732656717300415, 0.07565176486968994, 0.04164190590381622, 0.012149582616984844, 0.005643256474286318]], [[1.0, 0.0, 0.0, 0.0, 0.0, 0.0, 0.0, 0.0], [0.9605481028556824, 0.039451878517866135, 0.0, 0.0, 0.0, 0.0, 0.0, 0.0], [0.9501181244850159, 0.03653672710061073, 0.013345167972147465, 0.0, 0.0, 0.0, 0.0, 0.0], [0.9088496565818787, 0.04437622055411339, 0.02217642217874527, 0.024597620591521263, 0.0, 0.0, 0.0, 0.0], [0.8556289672851562, 0.02972295694053173, 0.02919711172580719, 0.07540662586688995, 0.010044306516647339, 0.0, 0.0, 0.0], [0.9248053431510925, 0.033027444034814835, 0.018461283296346664, 0.013809895142912865, 0.0042920843698084354, 0.005603966303169727, 0.0, 0.0], [0.6977169513702393, 0.11514696478843689, 0.09258152544498444, 0.027466345578432083, 0.005089333280920982, 0.01975776068866253, 0.042241115123033524, 0.0], [0.8897170424461365, 0.04324783384799957, 0.012864626944065094, 0.019322210922837257, 0.0037885704077780247, 0.011776890605688095, 0.015910709276795387, 0.0033721798099577427]], [[1.0, 0.0, 0.0, 0.0, 0.0, 0.0, 0.0, 0.0], [0.9920509457588196, 0.007949132472276688, 0.0, 0.0, 0.0, 0.0, 0.0, 0.0], [0.9634370803833008, 0.010929745621979237, 0.025633221492171288, 0.0, 0.0, 0.0, 0.0, 0.0], [0.9702152609825134, 0.007133238483220339, 0.017666436731815338, 0.004985165316611528, 0.0, 0.0, 0.0, 0.0], [0.95164954662323, 0.015474360436201096, 0.02434615232050419, 0.0015274633187800646, 0.0070023732259869576, 0.0, 0.0, 0.0], [0.9281273484230042, 0.035278335213661194, 0.010855519212782383, 0.0009274733602069318, 0.01049365196377039, 0.014317694120109081, 0.0, 0.0], [0.9014322757720947, 0.013724700547754765, 0.06569287180900574, 0.0016381441382691264, 0.0015173230785876513, 0.004721435252577066, 0.011273250915110111, 0.0], [0.9275696873664856, 0.016706980764865875, 0.011006257496774197, 0.013822255656123161, 0.0006941575556993484, 0.005706933327019215, 0.009119096212089062, 0.015374724753201008]], [[1.0, 0.0, 0.0, 0.0, 0.0, 0.0, 0.0, 0.0], [0.9389489889144897, 0.061051033437252045, 0.0, 0.0, 0.0, 0.0, 0.0, 0.0], [0.7261175513267517, 0.20577141642570496, 0.06811097264289856, 0.0, 0.0, 0.0, 0.0, 0.0], [0.734309732913971, 0.07668832689523697, 0.0958036482334137, 0.09319832921028137, 0.0, 0.0, 0.0, 0.0], [0.5197117924690247, 0.007230510003864765, 0.021886484697461128, 0.4264419376850128, 0.024729333817958832, 0.0, 0.0, 0.0], [0.7433203458786011, 0.015901848673820496, 0.01610472798347473, 0.04645795375108719, 0.023884806782007217, 0.1543302983045578, 0.0, 0.0], [0.8509596586227417, 0.004655937664210796, 0.007058875635266304, 0.0377047173678875, 0.007205125410109758, 0.05838897451758385, 0.034026626497507095, 0.0], [0.355430006980896, 0.041012607514858246, 0.036678507924079895, 0.008405234664678574, 0.01901496760547161, 0.13706086575984955, 0.37493619322776794, 0.027461539953947067]], [[1.0, 0.0, 0.0, 0.0, 0.0, 0.0, 0.0, 0.0], [0.9929713606834412, 0.007028681691735983, 0.0, 0.0, 0.0, 0.0, 0.0, 0.0], [0.979300320148468, 0.0057433112524449825, 0.014956331811845303, 0.0, 0.0, 0.0, 0.0, 0.0], [0.9712157249450684, 0.004985839128494263, 0.0186502393335104, 0.005148175172507763, 0.0, 0.0, 0.0, 0.0], [0.9862356781959534, 0.0037359779234975576, 0.006160208489745855, 0.0031038476154208183, 0.0007642843993380666, 0.0, 0.0, 0.0], [0.9867255687713623, 0.004322375636547804, 0.002487192628905177, 0.001250650966539979, 0.0006571075064130127, 0.004557167179882526, 0.0, 0.0], [0.980773389339447, 0.0019481388153508306, 0.008616223931312561, 0.003314638277515769, 0.0004073376767337322, 0.004362169653177261, 0.0005780567298643291, 0.0], [0.9776992797851562, 0.004551508463919163, 0.001941378810442984, 0.006393175106495619, 0.00048782574594952166, 0.006227503065019846, 0.0010074421297758818, 0.00169180438388139]]], [[[1.0, 0.0, 0.0, 0.0, 0.0, 0.0, 0.0, 0.0], [0.9161417484283447, 0.08385825902223587, 0.0, 0.0, 0.0, 0.0, 0.0, 0.0], [0.923988938331604, 0.04461006820201874, 0.031401049345731735, 0.0, 0.0, 0.0, 0.0, 0.0], [0.8598094582557678, 0.0636734589934349, 0.0493759848177433, 0.027141109108924866, 0.0, 0.0, 0.0, 0.0], [0.8409954905509949, 0.06338950246572495, 0.057839758694171906, 0.017138367518782616, 0.020636873319745064, 0.0, 0.0, 0.0], [0.6092883944511414, 0.12765580415725708, 0.06262759864330292, 0.05747361481189728, 0.029719656333327293, 0.11323493719100952, 0.0, 0.0], [0.7323872447013855, 0.07484040409326553, 0.07324546575546265, 0.02347867749631405, 0.010957196354866028, 0.04994151368737221, 0.03514956682920456, 0.0], [0.8527573347091675, 0.10225607454776764, 0.0273416917771101, 0.0038383775390684605, 0.00183595169801265, 0.006790314335376024, 0.002991698682308197, 0.0021885877940803766]], [[1.0, 0.0, 0.0, 0.0, 0.0, 0.0, 0.0, 0.0], [0.9778515696525574, 0.022148432210087776, 0.0, 0.0, 0.0, 0.0, 0.0, 0.0], [0.9572457671165466, 0.014047225005924702, 0.028706993907690048, 0.0, 0.0, 0.0, 0.0, 0.0], [0.8900034427642822, 0.028984634205698967, 0.06578121334314346, 0.015230702236294746, 0.0, 0.0, 0.0, 0.0], [0.8982365727424622, 0.018704243004322052, 0.06031685695052147, 0.0035423855297267437, 0.019199836999177933, 0.0, 0.0, 0.0], [0.9174734354019165, 0.03623281419277191, 0.012981675565242767, 0.006189984269440174, 0.008433625102043152, 0.018688460811972618, 0.0, 0.0], [0.8292292356491089, 0.018814919516444206, 0.11045534163713455, 0.003519801888614893, 0.0029658719431608915, 0.004112989641726017, 0.030901838093996048, 0.0], [0.9035601615905762, 0.03471262753009796, 0.019963376224040985, 0.008389455266296864, 0.002133966190740466, 0.007778411731123924, 0.010237906128168106, 0.01322415005415678]], [[1.0, 0.0, 0.0, 0.0, 0.0, 0.0, 0.0, 0.0], [0.964526891708374, 0.035473164170980453, 0.0, 0.0, 0.0, 0.0, 0.0, 0.0], [0.94557124376297, 0.025834614410996437, 0.028594182804226875, 0.0, 0.0, 0.0, 0.0, 0.0], [0.9444863796234131, 0.021024515852332115, 0.027515126392245293, 0.0069739255122840405, 0.0, 0.0, 0.0, 0.0], [0.9420247673988342, 0.011658189818263054, 0.029727844521403313, 0.005923047661781311, 0.0106660770252347, 0.0, 0.0, 0.0], [0.8871063590049744, 0.04088582843542099, 0.009358796291053295, 0.003964242059737444, 0.025736482813954353, 0.03294828534126282, 0.0, 0.0], [0.9495339393615723, 0.006808402482420206, 0.024271449074149132, 0.0035239900462329388, 0.00362129183486104, 0.006748702842742205, 0.005492316093295813, 0.0], [0.9061922430992126, 0.01980903372168541, 0.017947962507605553, 0.01952468231320381, 0.005558609031140804, 0.015465008094906807, 0.007741601672023535, 0.007760866079479456]], [[1.0, 0.0, 0.0, 0.0, 0.0, 0.0, 0.0, 0.0], [0.9550502896308899, 0.04494963213801384, 0.0, 0.0, 0.0, 0.0, 0.0, 0.0], [0.9005215167999268, 0.053841982036828995, 0.04563657566905022, 0.0, 0.0, 0.0, 0.0, 0.0], [0.9141243100166321, 0.03124847076833248, 0.027261385694146156, 0.027365833520889282, 0.0, 0.0, 0.0, 0.0], [0.8539279103279114, 0.03438215330243111, 0.08135148137807846, 0.01767806150019169, 0.012660365551710129, 0.0, 0.0, 0.0], [0.8527783155441284, 0.05368143692612648, 0.014211934059858322, 0.02076300047338009, 0.022684630006551743, 0.03588065505027771, 0.0, 0.0], [0.8727505803108215, 0.02595975436270237, 0.053068630397319794, 0.01489957980811596, 0.005818930920213461, 0.009261485189199448, 0.018240945413708687, 0.0], [0.8082550764083862, 0.06717056781053543, 0.030915120616555214, 0.03103531338274479, 0.012094561941921711, 0.031163237988948822, 0.007720930501818657, 0.011645144782960415]], [[1.0, 0.0, 0.0, 0.0, 0.0, 0.0, 0.0, 0.0], [0.9482812881469727, 0.051718682050704956, 0.0, 0.0, 0.0, 0.0, 0.0, 0.0], [0.8982752561569214, 0.06758345663547516, 0.034141309559345245, 0.0, 0.0, 0.0, 0.0, 0.0], [0.21636918187141418, 0.30689799785614014, 0.4588756859302521, 0.017857208847999573, 0.0, 0.0, 0.0, 0.0], [0.4919402301311493, 0.1529853790998459, 0.25358548760414124, 0.04238561913371086, 0.0591033399105072, 0.0, 0.0, 0.0], [0.5188828110694885, 0.22896982729434967, 0.09437109529972076, 0.025105366483330727, 0.05973997712135315, 0.07293090224266052, 0.0, 0.0], [0.5992589592933655, 0.07643728703260422, 0.1508539915084839, 0.020262569189071655, 0.02443474531173706, 0.05775173008441925, 0.07100072503089905, 0.0], [0.940980076789856, 0.026972375810146332, 0.010834632441401482, 0.008102075196802616, 0.0026326521765440702, 0.0066251689568161964, 0.0025921780616045, 0.0012608629185706377]], [[1.0, 0.0, 0.0, 0.0, 0.0, 0.0, 0.0, 0.0], [0.936421811580658, 0.06357821077108383, 0.0, 0.0, 0.0, 0.0, 0.0, 0.0], [0.831523597240448, 0.11657212674617767, 0.05190434679389, 0.0, 0.0, 0.0, 0.0, 0.0], [0.9097463488578796, 0.0388602688908577, 0.031015222892165184, 0.020378127694129944, 0.0, 0.0, 0.0, 0.0], [0.9120171666145325, 0.011987478472292423, 0.017855709418654442, 0.045356445014476776, 0.012783315032720566, 0.0, 0.0, 0.0], [0.9174680113792419, 0.014688021503388882, 0.010755321942269802, 0.013317856006324291, 0.020719140768051147, 0.023051656782627106, 0.0, 0.0], [0.9149406552314758, 0.014123938046395779, 0.0077542029321193695, 0.0061114090494811535, 0.012316574342548847, 0.03444313257932663, 0.010310088284313679, 0.0], [0.271080881357193, 0.11583905667066574, 0.11222552508115768, 0.03741332143545151, 0.05846812203526497, 0.1935662180185318, 0.171579971909523, 0.03982693701982498]], [[1.0, 0.0, 0.0, 0.0, 0.0, 0.0, 0.0, 0.0], [0.9912931323051453, 0.00870686024427414, 0.0, 0.0, 0.0, 0.0, 0.0, 0.0], [0.9669666886329651, 0.010021112859249115, 0.023012196645140648, 0.0, 0.0, 0.0, 0.0, 0.0], [0.9131983518600464, 0.02466450445353985, 0.04545575752854347, 0.016681374981999397, 0.0, 0.0, 0.0, 0.0], [0.9225157499313354, 0.011429493315517902, 0.04064575582742691, 0.004326862283051014, 0.02108224667608738, 0.0, 0.0, 0.0], [0.8641323447227478, 0.029767632484436035, 0.024162881076335907, 0.009424551390111446, 0.04628748446702957, 0.02622518129646778, 0.0, 0.0], [0.893303632736206, 0.011593328788876534, 0.06017401069402695, 0.005074448883533478, 0.005697034299373627, 0.009016270749270916, 0.015141301788389683, 0.0], [0.9422515034675598, 0.020043496042490005, 0.017396345734596252, 0.004564998671412468, 0.006945096421986818, 0.0044334651902318, 0.0026608488988131285, 0.0017041966784745455]], [[1.0, 0.0, 0.0, 0.0, 0.0, 0.0, 0.0, 0.0], [0.9354175925254822, 0.0645824447274208, 0.0, 0.0, 0.0, 0.0, 0.0, 0.0], [0.8990580439567566, 0.0469185933470726, 0.05402342975139618, 0.0, 0.0, 0.0, 0.0, 0.0], [0.31942737102508545, 0.3214791417121887, 0.335906445980072, 0.023187007755041122, 0.0, 0.0, 0.0, 0.0], [0.6013995409011841, 0.06793049722909927, 0.24345864355564117, 0.04722064360976219, 0.039990637451410294, 0.0, 0.0, 0.0], [0.504315972328186, 0.3547402024269104, 0.038127779960632324, 0.023515820503234863, 0.052609093487262726, 0.026691189035773277, 0.0, 0.0], [0.6337764263153076, 0.10579349100589752, 0.16110773384571075, 0.031170392408967018, 0.016427386552095413, 0.01104583777487278, 0.04067876562476158, 0.0], [0.7725223898887634, 0.09577983617782593, 0.024434229359030724, 0.022766759619116783, 0.013944371603429317, 0.01405798178166151, 0.026792360469698906, 0.029702147468924522]], [[1.0, 0.0, 0.0, 0.0, 0.0, 0.0, 0.0, 0.0], [0.971989631652832, 0.02801034227013588, 0.0, 0.0, 0.0, 0.0, 0.0, 0.0], [0.9779075980186462, 0.010669159702956676, 0.011423284187912941, 0.0, 0.0, 0.0, 0.0, 0.0], [0.9726606011390686, 0.0077049266546964645, 0.010335464030504227, 0.009298999793827534, 0.0, 0.0, 0.0, 0.0], [0.9749886393547058, 0.004222785588353872, 0.006629950366914272, 0.005878265481442213, 0.008280450478196144, 0.0, 0.0, 0.0], [0.9572420716285706, 0.009194739162921906, 0.0038056927733123302, 0.0033090361393988132, 0.00926950667053461, 0.017178967595100403, 0.0, 0.0], [0.9588508009910583, 0.002924407599493861, 0.00620731757953763, 0.007741278503090143, 0.005110542755573988, 0.010070725344121456, 0.00909486785531044, 0.0], [0.9239988923072815, 0.007059492636471987, 0.0022570432629436255, 0.049826882779598236, 0.0011611684458330274, 0.007346782833337784, 0.0019575031474232674, 0.006392240058630705]], [[1.0, 0.0, 0.0, 0.0, 0.0, 0.0, 0.0, 0.0], [0.9056073427200317, 0.09439264237880707, 0.0, 0.0, 0.0, 0.0, 0.0, 0.0], [0.5862946510314941, 0.2801254093647003, 0.13357993960380554, 0.0, 0.0, 0.0, 0.0, 0.0], [0.8434184789657593, 0.07967688143253326, 0.026692626997828484, 0.05021204799413681, 0.0, 0.0, 0.0, 0.0], [0.6683325171470642, 0.07361260801553726, 0.09271103143692017, 0.07816464453935623, 0.08717917650938034, 0.0, 0.0, 0.0], [0.8382673263549805, 0.028790978714823723, 0.02559112012386322, 0.028652913868427277, 0.032512418925762177, 0.046185288578271866, 0.0, 0.0], [0.6708682179450989, 0.03564945608377457, 0.18867063522338867, 0.04076297953724861, 0.01060773991048336, 0.018488958477973938, 0.03495210036635399, 0.0], [0.6841076016426086, 0.05963324010372162, 0.05933189392089844, 0.023453760892152786, 0.02878049947321415, 0.06433717161417007, 0.04973810538649559, 0.030617784708738327]], [[1.0, 0.0, 0.0, 0.0, 0.0, 0.0, 0.0, 0.0], [0.9831220507621765, 0.016877906396985054, 0.0, 0.0, 0.0, 0.0, 0.0, 0.0], [0.98105388879776, 0.010528413578867912, 0.008417767472565174, 0.0, 0.0, 0.0, 0.0, 0.0], [0.9506674408912659, 0.02390550822019577, 0.020768623799085617, 0.004658388439565897, 0.0, 0.0, 0.0, 0.0], [0.9313295483589172, 0.024901840835809708, 0.028283772990107536, 0.005853639449924231, 0.009631160646677017, 0.0, 0.0, 0.0], [0.9127002358436584, 0.03939378634095192, 0.00801172200590372, 0.007563833612948656, 0.012874609790742397, 0.01945575326681137, 0.0, 0.0], [0.9621920585632324, 0.009101388044655323, 0.01652109995484352, 0.0012066283961758018, 0.0016496626194566488, 0.0026632635854184628, 0.0066658309660851955, 0.0], [0.9151212573051453, 0.045061588287353516, 0.009913620539009571, 0.009453266859054565, 0.0032451320439577103, 0.00787064153701067, 0.004814065061509609, 0.004520390648394823]], [[1.0, 0.0, 0.0, 0.0, 0.0, 0.0, 0.0, 0.0], [0.9004510045051575, 0.09954900294542313, 0.0, 0.0, 0.0, 0.0, 0.0, 0.0], [0.8218376040458679, 0.1345416158437729, 0.04362080991268158, 0.0, 0.0, 0.0, 0.0, 0.0], [0.4129556715488434, 0.17677587270736694, 0.37827828526496887, 0.03199014440178871, 0.0, 0.0, 0.0, 0.0], [0.6462764739990234, 0.021062206476926804, 0.04931788519024849, 0.004674824886023998, 0.2786686420440674, 0.0, 0.0, 0.0], [0.8398048281669617, 0.036048151552677155, 0.014516754075884819, 0.01588158868253231, 0.06811293214559555, 0.025635723024606705, 0.0, 0.0], [0.8619558811187744, 0.009259588085114956, 0.03288925066590309, 0.004875587299466133, 0.004131574183702469, 0.021811969578266144, 0.06507608294487, 0.0], [0.9790680408477783, 0.008965936489403248, 0.003245589090511203, 0.00040185294346883893, 0.0008661046740598977, 0.0008080994011834264, 0.005141856148838997, 0.001502537401393056]]], [[[1.0, 0.0, 0.0, 0.0, 0.0, 0.0, 0.0, 0.0], [0.624366044998169, 0.37563398480415344, 0.0, 0.0, 0.0, 0.0, 0.0, 0.0], [0.5015326142311096, 0.21566976606845856, 0.282797634601593, 0.0, 0.0, 0.0, 0.0, 0.0], [0.4282151460647583, 0.23139098286628723, 0.23251226544380188, 0.10788160562515259, 0.0, 0.0, 0.0, 0.0], [0.36928385496139526, 0.18876829743385315, 0.18022388219833374, 0.14236897230148315, 0.11935493350028992, 0.0, 0.0, 0.0], [0.357663631439209, 0.16959652304649353, 0.16563187539577484, 0.09070955216884613, 0.071587473154068, 0.14481090009212494, 0.0, 0.0], [0.14011311531066895, 0.16306327283382416, 0.22405855357646942, 0.15742553770542145, 0.07606912404298782, 0.12847204506397247, 0.11079835146665573, 0.0], [0.1717762053012848, 0.1655256748199463, 0.2487884759902954, 0.0876443088054657, 0.025577671825885773, 0.17608048021793365, 0.03139522299170494, 0.09321197122335434]], [[1.0, 0.0, 0.0, 0.0, 0.0, 0.0, 0.0, 0.0], [0.9441167712211609, 0.055883172899484634, 0.0, 0.0, 0.0, 0.0, 0.0, 0.0], [0.9448627829551697, 0.04263094812631607, 0.012506234459578991, 0.0, 0.0, 0.0, 0.0, 0.0], [0.9317104816436768, 0.036162298172712326, 0.014355707913637161, 0.01777150109410286, 0.0, 0.0, 0.0, 0.0], [0.9050933718681335, 0.02453755959868431, 0.01668190024793148, 0.02776922844350338, 0.025917934253811836, 0.0, 0.0, 0.0], [0.9242986440658569, 0.031047839671373367, 0.005262397695332766, 0.01077175885438919, 0.011333062313497066, 0.017286267131567, 0.0, 0.0], [0.7946324348449707, 0.036721620708703995, 0.030861016362905502, 0.030923908576369286, 0.020257042720913887, 0.05055655911564827, 0.03604740649461746, 0.0], [0.7337627410888672, 0.06798827648162842, 0.019246414303779602, 0.04620875045657158, 0.017097238451242447, 0.08319731056690216, 0.019753998145461082, 0.01274534035474062]], [[1.0, 0.0, 0.0, 0.0, 0.0, 0.0, 0.0, 0.0], [0.924770712852478, 0.07522927969694138, 0.0, 0.0, 0.0, 0.0, 0.0, 0.0], [0.8894685506820679, 0.07784809917211533, 0.03268332779407501, 0.0, 0.0, 0.0, 0.0, 0.0], [0.8842734694480896, 0.06961610168218613, 0.03064175695180893, 0.0154686588793993, 0.0, 0.0, 0.0, 0.0], [0.8854755163192749, 0.06880571693181992, 0.029233645647764206, 0.009147696197032928, 0.007337342947721481, 0.0, 0.0, 0.0], [0.9075279235839844, 0.07136543840169907, 0.00589192658662796, 0.004631270654499531, 0.00535298977047205, 0.005230482202023268, 0.0, 0.0], [0.874818742275238, 0.05122506991028786, 0.032977309077978134, 0.008863197639584541, 0.004106982611119747, 0.006464346311986446, 0.021544311195611954, 0.0], [0.8314568996429443, 0.10397504270076752, 0.021742207929491997, 0.010203697718679905, 0.005300858058035374, 0.012184081599116325, 0.010434660129249096, 0.004702467005699873]], [[1.0, 0.0, 0.0, 0.0, 0.0, 0.0, 0.0, 0.0], [0.8774200081825256, 0.12258001416921616, 0.0, 0.0, 0.0, 0.0, 0.0, 0.0], [0.7794781923294067, 0.15356828272342682, 0.06695351749658585, 0.0, 0.0, 0.0, 0.0, 0.0], [0.7058490514755249, 0.1294313669204712, 0.0672127977013588, 0.0975068062543869, 0.0, 0.0, 0.0, 0.0], [0.6011292934417725, 0.04817008972167969, 0.046101368963718414, 0.1957739293575287, 0.10882523655891418, 0.0, 0.0, 0.0], [0.6633802652359009, 0.0753866657614708, 0.0573517307639122, 0.07816767692565918, 0.08313696086406708, 0.04257659614086151, 0.0, 0.0], [0.43138808012008667, 0.09387536346912384, 0.11490324884653091, 0.08232766389846802, 0.06571898609399796, 0.045484576374292374, 0.1663021296262741, 0.0], [0.7393844723701477, 0.054792728275060654, 0.04642868787050247, 0.03556821495294571, 0.026503346860408783, 0.018387313932180405, 0.06505557894706726, 0.013879670761525631]], [[1.0, 0.0, 0.0, 0.0, 0.0, 0.0, 0.0, 0.0], [0.8503890037536621, 0.14961093664169312, 0.0, 0.0, 0.0, 0.0, 0.0, 0.0], [0.7837322354316711, 0.17779061198234558, 0.03847719728946686, 0.0, 0.0, 0.0, 0.0, 0.0], [0.7601446509361267, 0.1592741310596466, 0.04319014772772789, 0.03739108890295029, 0.0, 0.0, 0.0, 0.0], [0.786089301109314, 0.10097841173410416, 0.03200962021946907, 0.03148460388183594, 0.04943801090121269, 0.0, 0.0, 0.0], [0.6724511981010437, 0.13972057402133942, 0.028712831437587738, 0.03796154633164406, 0.08891890197992325, 0.03223496675491333, 0.0, 0.0], [0.6106588244438171, 0.07753157615661621, 0.05729867145419121, 0.05385851860046387, 0.08111035078763962, 0.04488639160990715, 0.07465572655200958, 0.0], [0.6411225199699402, 0.11242271959781647, 0.03298615664243698, 0.07259983569383621, 0.027815554291009903, 0.049580033868551254, 0.04030824452638626, 0.023164931684732437]], [[1.0, 0.0, 0.0, 0.0, 0.0, 0.0, 0.0, 0.0], [0.9671087265014648, 0.03289130702614784, 0.0, 0.0, 0.0, 0.0, 0.0, 0.0], [0.9466164112091064, 0.028300734236836433, 0.025082867592573166, 0.0, 0.0, 0.0, 0.0, 0.0], [0.9248678684234619, 0.03515584394335747, 0.018824059516191483, 0.02115226536989212, 0.0, 0.0, 0.0, 0.0], [0.9206821918487549, 0.022735217586159706, 0.030761128291487694, 0.009083089418709278, 0.01673838123679161, 0.0, 0.0, 0.0], [0.8563274145126343, 0.03537759929895401, 0.01006845198571682, 0.018538422882556915, 0.02448510378599167, 0.05520303174853325, 0.0, 0.0], [0.8531598448753357, 0.03025342896580696, 0.033098410815000534, 0.012413686141371727, 0.024527164176106453, 0.02854393608868122, 0.018003588542342186, 0.0], [0.7776707410812378, 0.05173072591423988, 0.02270282804965973, 0.019772838801145554, 0.023032426834106445, 0.07715310901403427, 0.011950119398534298, 0.015987230464816093]], [[1.0, 0.0, 0.0, 0.0, 0.0, 0.0, 0.0, 0.0], [0.9735031127929688, 0.026496894657611847, 0.0, 0.0, 0.0, 0.0, 0.0, 0.0], [0.9709547162055969, 0.020825626328587532, 0.008219652809202671, 0.0, 0.0, 0.0, 0.0, 0.0], [0.9616153240203857, 0.020449424162507057, 0.0123274652287364, 0.0056078252382576466, 0.0, 0.0, 0.0, 0.0], [0.9492146968841553, 0.02133985608816147, 0.01651311106979847, 0.00660767313092947, 0.0063247368671, 0.0, 0.0, 0.0], [0.9478417634963989, 0.03157108649611473, 0.005209722090512514, 0.0040329149924218655, 0.006110529415309429, 0.005233974661678076, 0.0, 0.0], [0.9315301775932312, 0.023309187963604927, 0.016905007883906364, 0.004466300830245018, 0.004531164653599262, 0.005512673407793045, 0.013745522126555443, 0.0], [0.8302663564682007, 0.07760747522115707, 0.01924046501517296, 0.018293751403689384, 0.009861810132861137, 0.022427406162023544, 0.014864567667245865, 0.0074381520971655846]], [[1.0, 0.0, 0.0, 0.0, 0.0, 0.0, 0.0, 0.0], [0.881016731262207, 0.11898326128721237, 0.0, 0.0, 0.0, 0.0, 0.0, 0.0], [0.6647887825965881, 0.23741494119167328, 0.09779631346464157, 0.0, 0.0, 0.0, 0.0, 0.0], [0.8339461088180542, 0.06270884722471237, 0.07820750772953033, 0.02513755112886429, 0.0, 0.0, 0.0, 0.0], [0.7789407968521118, 0.058425139635801315, 0.07631896436214447, 0.018491124734282494, 0.06782392412424088, 0.0, 0.0, 0.0], [0.9466537833213806, 0.024439115077257156, 0.016537511721253395, 0.003286233637481928, 0.0024999810848385096, 0.006583420559763908, 0.0, 0.0], [0.6514813303947449, 0.05522323399782181, 0.15425540506839752, 0.027287252247333527, 0.013128665275871754, 0.03397897630929947, 0.06464521586894989, 0.0], [0.5334070324897766, 0.20498882234096527, 0.05211023613810539, 0.03297879174351692, 0.02188904397189617, 0.08935212343931198, 0.046158336102962494, 0.019115587696433067]], [[1.0, 0.0, 0.0, 0.0, 0.0, 0.0, 0.0, 0.0], [0.000300120678730309, 0.9996999502182007, 0.0, 0.0, 0.0, 0.0, 0.0, 0.0], [0.00014340471534524113, 0.7691034078598022, 0.23075319826602936, 0.0, 0.0, 0.0, 0.0, 0.0], [0.0001725408510537818, 0.33542999625205994, 0.24208451807498932, 0.4223129451274872, 0.0, 0.0, 0.0, 0.0], [0.0001275438698939979, 0.2245011180639267, 0.23031187057495117, 0.38371771574020386, 0.16134178638458252, 0.0, 0.0, 0.0], [0.00010079642379423603, 0.13852323591709137, 0.115373395383358, 0.2884599268436432, 0.11592242121696472, 0.3416202664375305, 0.0, 0.0], [0.00013324715837370604, 0.10479000955820084, 0.08452832698822021, 0.14569120109081268, 0.09729564189910889, 0.32889556884765625, 0.23866595327854156, 0.0], [0.00012075553240720183, 0.24642278254032135, 0.4242505729198456, 0.03780209645628929, 0.04442514851689339, 0.10405557602643967, 0.10303497314453125, 0.03988815099000931]], [[1.0, 0.0, 0.0, 0.0, 0.0, 0.0, 0.0, 0.0], [0.9805485010147095, 0.019451530650258064, 0.0, 0.0, 0.0, 0.0, 0.0, 0.0], [0.9591151475906372, 0.020274166017770767, 0.020610716193914413, 0.0, 0.0, 0.0, 0.0, 0.0], [0.945321798324585, 0.023902980610728264, 0.01688850112259388, 0.013886758126318455, 0.0, 0.0, 0.0, 0.0], [0.9453259706497192, 0.021642770618200302, 0.0196269229054451, 0.00481432257220149, 0.008589999750256538, 0.0, 0.0, 0.0], [0.9008122682571411, 0.031147118657827377, 0.005793759599328041, 0.020672116428613663, 0.011107295751571655, 0.03046748787164688, 0.0, 0.0], [0.9149129390716553, 0.02412666194140911, 0.03102910704910755, 0.0038265848997980356, 0.0030948491767048836, 0.0040676952339708805, 0.018942169845104218, 0.0], [0.8664358258247375, 0.041331298649311066, 0.033507660031318665, 0.009273186326026917, 0.003647738369181752, 0.017054352909326553, 0.01870003528892994, 0.010049973614513874]], [[1.0, 0.0, 0.0, 0.0, 0.0, 0.0, 0.0, 0.0], [0.8312188982963562, 0.168781116604805, 0.0, 0.0, 0.0, 0.0, 0.0, 0.0], [0.6319054365158081, 0.2359733283519745, 0.1321212202310562, 0.0, 0.0, 0.0, 0.0, 0.0], [0.43146222829818726, 0.2558361887931824, 0.188175231218338, 0.1245262622833252, 0.0, 0.0, 0.0, 0.0], [0.7029043436050415, 0.0901264101266861, 0.0924072414636612, 0.06804878264665604, 0.04651327058672905, 0.0, 0.0, 0.0], [0.5210747122764587, 0.14502336084842682, 0.049842264503240585, 0.0479813814163208, 0.11959175020456314, 0.11648645997047424, 0.0, 0.0], [0.5153648257255554, 0.1272713989019394, 0.10585733503103256, 0.05654183775186539, 0.029113462194800377, 0.025349127128720284, 0.14050190150737762, 0.0], [0.5305065512657166, 0.1583794355392456, 0.05518900975584984, 0.038113370537757874, 0.023767197504639626, 0.031606245785951614, 0.12283314764499664, 0.03960501775145531]], [[1.0, 0.0, 0.0, 0.0, 0.0, 0.0, 0.0, 0.0], [0.871509850025177, 0.1284901648759842, 0.0, 0.0, 0.0, 0.0, 0.0, 0.0], [0.7206234931945801, 0.23755885660648346, 0.04181765392422676, 0.0, 0.0, 0.0, 0.0, 0.0], [0.863555908203125, 0.07377757132053375, 0.022351093590259552, 0.04031549021601677, 0.0, 0.0, 0.0, 0.0], [0.8037095069885254, 0.05896950513124466, 0.05152643099427223, 0.044484201818704605, 0.041310299187898636, 0.0, 0.0, 0.0], [0.7569873332977295, 0.06652460247278214, 0.046099379658699036, 0.04067857190966606, 0.03128769248723984, 0.05842248350381851, 0.0, 0.0], [0.7081369757652283, 0.0672113448381424, 0.04539615660905838, 0.029543500393629074, 0.018354667350649834, 0.0314558744430542, 0.09990154951810837, 0.0], [0.5559120178222656, 0.10323677211999893, 0.02002236619591713, 0.05951928347349167, 0.01777849718928337, 0.0318484902381897, 0.11051154136657715, 0.1011710837483406]]]], \"left_text\": [\"Man\", \" ate\", \" food\", \" and\", \" did\", \" not\", \" like\", \" it\"], \"right_text\": [\"Man\", \" ate\", \" food\", \" and\", \" did\", \" not\", \" like\", \" it\"]}], \"default_filter\": \"0\", \"display_mode\": \"dark\", \"root_div_id\": \"bertviz-4125815df8934f2f95ad1ff4c0a06b98\", \"include_layers\": [0, 1, 2, 3, 4, 5, 6, 7, 8, 9, 10, 11], \"include_heads\": [0, 1, 2, 3, 4, 5, 6, 7, 8, 9, 10, 11], \"total_heads\": 12} is a template marker that is replaced by actual params.\n",
       "        const config = {};\n",
       "\n",
       "        const MIN_X = 0;\n",
       "        const MIN_Y = 0;\n",
       "        const DIV_WIDTH = 970;\n",
       "        const THUMBNAIL_PADDING = 5;\n",
       "        const DETAIL_WIDTH = 300;\n",
       "        const DETAIL_ATTENTION_WIDTH = 140;\n",
       "        const DETAIL_BOX_WIDTH = 80;\n",
       "        const DETAIL_BOX_HEIGHT = 18;\n",
       "        const DETAIL_PADDING = 15;\n",
       "        const ATTN_PADDING = 0;\n",
       "        const DETAIL_HEADING_HEIGHT = 25;\n",
       "        const HEADING_TEXT_SIZE = 15;\n",
       "        const HEADING_PADDING = 5;\n",
       "        const TEXT_SIZE = 13;\n",
       "        const TEXT_PADDING = 5;\n",
       "        const LAYER_COLORS = d3.schemeCategory10;\n",
       "        const PALETTE = {\n",
       "            'light': {\n",
       "                'text': 'black',\n",
       "                'background': 'white',\n",
       "                'highlight': '#F5F5F5'\n",
       "            },\n",
       "            'dark': {\n",
       "                'text': '#ccc',\n",
       "                'background': 'black',\n",
       "                'highlight': '#222'\n",
       "            }\n",
       "        }\n",
       "\n",
       "        function render() {\n",
       "\n",
       "            // Set global state variables\n",
       "\n",
       "            var attData = config.attention[config.filter];\n",
       "            config.leftText = attData.left_text;\n",
       "            config.rightText = attData.right_text;\n",
       "            config.attn = attData.attn;\n",
       "            config.numLayers = config.attn.length;\n",
       "            config.numHeads = config.attn[0].length;\n",
       "            config.thumbnailBoxHeight = 7 * (12 / config.totalHeads);\n",
       "            const axisSize = HEADING_TEXT_SIZE + HEADING_PADDING + TEXT_SIZE + TEXT_PADDING;\n",
       "            config.thumbnailHeight = Math.max(config.leftText.length, config.rightText.length) * config.thumbnailBoxHeight + 2 * THUMBNAIL_PADDING;\n",
       "            config.thumbnailWidth = (DIV_WIDTH - axisSize) / config.totalHeads;\n",
       "            config.detailHeight = Math.max(config.leftText.length, config.rightText.length) * DETAIL_BOX_HEIGHT + 2 * DETAIL_PADDING + DETAIL_HEADING_HEIGHT;\n",
       "            config.divHeight = Math.max(config.numLayers * config.thumbnailHeight + axisSize, config.detailHeight);\n",
       "\n",
       "            const vis = $(`#${config.rootDivId} #vis`)\n",
       "            vis.empty();\n",
       "            vis.attr(\"height\", config.divHeight);\n",
       "            config.svg = d3.select(`#${config.rootDivId} #vis`)\n",
       "                .append('svg')\n",
       "                .attr(\"width\", DIV_WIDTH)\n",
       "                .attr(\"height\", config.divHeight)\n",
       "                .attr(\"fill\", getBackgroundColor());\n",
       "\n",
       "            renderAxisLabels();\n",
       "\n",
       "            var i;\n",
       "            var j;\n",
       "            for (i = 0; i < config.numLayers; i++) {\n",
       "                for (j = 0; j < config.numHeads; j++) {\n",
       "                    renderThumbnail(i, j);\n",
       "                }\n",
       "            }\n",
       "        }\n",
       "\n",
       "        function renderAxisLabels() {\n",
       "            const axisSize = HEADING_TEXT_SIZE + HEADING_PADDING + TEXT_SIZE + TEXT_PADDING;\n",
       "            const tableWidth = config.thumbnailWidth * config.heads.length;\n",
       "            config.svg.append(\"text\")\n",
       "                .text(\"Heads\")\n",
       "                .attr(\"fill\", \"black\")\n",
       "                .attr(\"font-weight\", \"bold\")\n",
       "                .attr(\"font-size\", HEADING_TEXT_SIZE + \"px\")\n",
       "                .attr(\"x\", axisSize + tableWidth / 2)\n",
       "                .attr(\"text-anchor\", \"middle\")\n",
       "                .attr(\"y\", 0)\n",
       "                .attr(\"dy\", HEADING_TEXT_SIZE);\n",
       "            for (let i = 0; i < config.numHeads; i++) {\n",
       "                config.svg.append(\"text\")\n",
       "                    .text(config.heads[i])\n",
       "                    .attr(\"fill\", \"black\")\n",
       "                    .attr(\"font-size\", TEXT_SIZE + \"px\")\n",
       "                    .attr(\"x\", axisSize + (i + .5) * config.thumbnailWidth)\n",
       "                    .attr(\"text-anchor\", \"middle\")\n",
       "                    .attr(\"y\", HEADING_TEXT_SIZE + HEADING_PADDING)\n",
       "                    .attr(\"dy\", TEXT_SIZE);\n",
       "            }\n",
       "            let x = 0;\n",
       "            let y = axisSize + config.thumbnailHeight * config.layers.length / 2;\n",
       "            console.log(\"x\", x, y)\n",
       "            config.svg.append(\"text\")\n",
       "                .text(\"Layers\")\n",
       "                .attr(\"fill\", \"black\")\n",
       "                .attr(\"font-weight\", \"bold\")\n",
       "                .attr(\"transform\", \"rotate(270, \" + x  + \", \" + y + \")\")\n",
       "                .attr(\"font-size\", HEADING_TEXT_SIZE + \"px\")\n",
       "                .attr(\"x\", x)\n",
       "                .attr(\"text-anchor\", \"middle\")\n",
       "                .attr(\"y\", y)\n",
       "                .attr(\"dy\", HEADING_TEXT_SIZE);\n",
       "            for (let i = 0; i < config.numLayers; i++) {\n",
       "                x = HEADING_TEXT_SIZE + HEADING_PADDING + TEXT_SIZE; // HACK\n",
       "                y = axisSize + (i + .5) * config.thumbnailHeight;\n",
       "                config.svg.append(\"text\")\n",
       "                    .text(config.layers[i])\n",
       "                    .attr(\"fill\", \"black\")\n",
       "                    .attr(\"font-size\", TEXT_SIZE + \"px\")\n",
       "                    .attr(\"x\", x)\n",
       "                    .attr(\"text-anchor\", \"end\")\n",
       "                    .attr(\"y\", y)\n",
       "                    .attr(\"dy\", TEXT_SIZE / 2);\n",
       "            }\n",
       "        }\n",
       "\n",
       "\n",
       "        function renderThumbnail(layerIndex, headIndex) {\n",
       "            const axisSize = HEADING_TEXT_SIZE + HEADING_PADDING + TEXT_SIZE + TEXT_PADDING\n",
       "            const x = headIndex * config.thumbnailWidth + axisSize;\n",
       "            const y = layerIndex * config.thumbnailHeight + axisSize;\n",
       "            renderThumbnailAttn(x, y, config.attn[layerIndex][headIndex], layerIndex, headIndex);\n",
       "        }\n",
       "\n",
       "        function renderDetail(att, layerIndex, headIndex) {\n",
       "            const axisSize = TEXT_SIZE + HEADING_PADDING + TEXT_SIZE + TEXT_PADDING;\n",
       "            var xOffset = .8 * config.thumbnailWidth;\n",
       "            var maxX = DIV_WIDTH;\n",
       "            var maxY = config.divHeight - 3;\n",
       "            var leftPos = axisSize + headIndex * config.thumbnailWidth;\n",
       "            var x = leftPos + THUMBNAIL_PADDING + xOffset;\n",
       "            if (x < MIN_X) {\n",
       "                x = MIN_X;\n",
       "            } else if (x + DETAIL_WIDTH > maxX) {\n",
       "                x = leftPos + THUMBNAIL_PADDING - DETAIL_WIDTH + 8;\n",
       "            }\n",
       "            var posLeftText = x;\n",
       "            var posAttention = posLeftText + DETAIL_BOX_WIDTH;\n",
       "            var posRightText = posAttention + DETAIL_ATTENTION_WIDTH;\n",
       "            var thumbnailHeight = Math.max(config.leftText.length, config.rightText.length) * config.thumbnailBoxHeight + 2 * THUMBNAIL_PADDING;\n",
       "            var yOffset = 20;\n",
       "            var y = layerIndex * thumbnailHeight + THUMBNAIL_PADDING + yOffset;\n",
       "            if (y < MIN_Y) {\n",
       "                y = MIN_Y;\n",
       "            } else if (y + config.detailHeight > maxY) {\n",
       "                y = maxY - config.detailHeight;\n",
       "            }\n",
       "            renderDetailFrame(x, y, layerIndex);\n",
       "            y = y + DETAIL_PADDING;\n",
       "            renderDetailHeading(x, y, layerIndex, headIndex);\n",
       "            y = y + DETAIL_HEADING_HEIGHT;\n",
       "            renderDetailText(config.leftText, \"leftText\", posLeftText, y , layerIndex);\n",
       "            renderDetailAttn(posAttention, y, att, layerIndex, headIndex);\n",
       "            renderDetailText(config.rightText, \"rightText\", posRightText, y, layerIndex);\n",
       "        }\n",
       "\n",
       "        function renderDetailHeading(x, y, layerIndex, headIndex) {\n",
       "            var fillColor = getTextColor();\n",
       "            config.svg.append(\"text\")\n",
       "                .classed(\"detail\", true)\n",
       "                .text('Layer ' + config.layers[layerIndex] + \", Head \" + config.heads[headIndex])\n",
       "                .attr(\"font-size\", TEXT_SIZE + \"px\")\n",
       "                .attr(\"font-weight\", \"bold\")\n",
       "                .style(\"cursor\", \"default\")\n",
       "                .style(\"-webkit-user-select\", \"none\")\n",
       "                .attr(\"fill\", fillColor)\n",
       "                .attr(\"x\", x + DETAIL_WIDTH / 2)\n",
       "                .attr(\"text-anchor\", \"middle\")\n",
       "                .attr(\"y\", y)\n",
       "                .attr(\"height\", DETAIL_HEADING_HEIGHT)\n",
       "                .attr(\"width\", DETAIL_WIDTH)\n",
       "                .attr(\"dy\", HEADING_TEXT_SIZE);\n",
       "        }\n",
       "\n",
       "        function renderDetailText(text, id, x, y, layerIndex) {\n",
       "            var tokenContainer = config.svg.append(\"svg:g\")\n",
       "                .classed(\"detail\", true)\n",
       "                .selectAll(\"g\")\n",
       "                .data(text)\n",
       "                .enter()\n",
       "                .append(\"g\");\n",
       "\n",
       "            var fillColor = getTextColor();\n",
       "\n",
       "            tokenContainer.append(\"rect\")\n",
       "                .classed(\"highlight\", true)\n",
       "                .attr(\"fill\", fillColor)\n",
       "                .style(\"opacity\", 0.0)\n",
       "                .attr(\"height\", DETAIL_BOX_HEIGHT)\n",
       "                .attr(\"width\", DETAIL_BOX_WIDTH)\n",
       "                .attr(\"x\", x)\n",
       "                .attr(\"y\", function (d, i) {\n",
       "                    return y + i * DETAIL_BOX_HEIGHT;\n",
       "                });\n",
       "\n",
       "            var textContainer = tokenContainer.append(\"text\")\n",
       "                .classed(\"token\", true)\n",
       "                .text(function (d) {\n",
       "                    return d;\n",
       "                })\n",
       "                .attr(\"font-size\", TEXT_SIZE + \"px\")\n",
       "                .style(\"cursor\", \"default\")\n",
       "                .style(\"-webkit-user-select\", \"none\")\n",
       "                .attr(\"fill\", fillColor)\n",
       "                .attr(\"x\", x)\n",
       "                .attr(\"y\", function (d, i) {\n",
       "                    return i * DETAIL_BOX_HEIGHT + y;\n",
       "                })\n",
       "                .attr(\"height\", DETAIL_BOX_HEIGHT)\n",
       "                .attr(\"width\", DETAIL_BOX_WIDTH)\n",
       "                .attr(\"dy\", TEXT_SIZE);\n",
       "\n",
       "            if (id == \"leftText\") {\n",
       "                textContainer.style(\"text-anchor\", \"end\")\n",
       "                    .attr(\"dx\", DETAIL_BOX_WIDTH - 2);\n",
       "                tokenContainer.on(\"mouseover\", function (d, index) {\n",
       "                    highlightSelection(index);\n",
       "                });\n",
       "                tokenContainer.on(\"mouseleave\", function () {\n",
       "                    unhighlightSelection();\n",
       "                });\n",
       "            }\n",
       "        }\n",
       "\n",
       "        function highlightSelection(index) {\n",
       "            config.svg.select(\"#leftText\")\n",
       "                .selectAll(\".highlight\")\n",
       "                .style(\"opacity\", function (d, i) {\n",
       "                    return i == index ? 1.0 : 0.0;\n",
       "                });\n",
       "            config.svg.selectAll(\".attn-line-group\")\n",
       "                .style(\"opacity\", function (d, i) {\n",
       "                    return i == index ? 1.0 : 0.0;\n",
       "                });\n",
       "        }\n",
       "\n",
       "        function unhighlightSelection() {\n",
       "            config.svg.select(\"#leftText\")\n",
       "                .selectAll(\".highlight\")\n",
       "                .style(\"opacity\", 0.0);\n",
       "            config.svg.selectAll(\".attn-line-group\")\n",
       "                .style(\"opacity\", 1);\n",
       "        }\n",
       "\n",
       "        function renderThumbnailAttn(x, y, att, layerIndex, headIndex) {\n",
       "\n",
       "            var attnContainer = config.svg.append(\"svg:g\");\n",
       "\n",
       "            var attnBackground = attnContainer.append(\"rect\")\n",
       "                .attr(\"id\", 'attn_background_' + layerIndex + \"_\" + headIndex)\n",
       "                .classed(\"attn_background\", true)\n",
       "                .attr(\"x\", x)\n",
       "                .attr(\"y\", y)\n",
       "                .attr(\"height\", config.thumbnailHeight)\n",
       "                .attr(\"width\", config.thumbnailWidth)\n",
       "                .attr(\"stroke-width\", 2)\n",
       "                .attr(\"stroke\", getLayerColor(layerIndex))\n",
       "                .attr(\"stroke-opacity\", 0)\n",
       "                .attr(\"fill\", getBackgroundColor());\n",
       "            var x1 = x + THUMBNAIL_PADDING;\n",
       "            var x2 = x1 + config.thumbnailWidth - 14;\n",
       "            var y1 = y + THUMBNAIL_PADDING;\n",
       "\n",
       "            attnContainer.selectAll(\"g\")\n",
       "                .data(att)\n",
       "                .enter()\n",
       "                .append(\"g\") // Add group for each source token\n",
       "                .attr(\"source-index\", function (d, i) { // Save index of source token\n",
       "                    return i;\n",
       "                })\n",
       "                .selectAll(\"line\")\n",
       "                .data(function (d) { // Loop over all target tokens\n",
       "                    return d;\n",
       "                })\n",
       "                .enter() // When entering\n",
       "                .append(\"line\")\n",
       "                .attr(\"x1\", x1)\n",
       "                .attr(\"y1\", function (d) {\n",
       "                    var sourceIndex = +this.parentNode.getAttribute(\"source-index\");\n",
       "                    return y1 + (sourceIndex + .5) * config.thumbnailBoxHeight;\n",
       "                })\n",
       "                .attr(\"x2\", x2)\n",
       "                .attr(\"y2\", function (d, targetIndex) {\n",
       "                    return y1 + (targetIndex + .5) * config.thumbnailBoxHeight;\n",
       "                })\n",
       "                .attr(\"stroke-width\", 2.2)\n",
       "                .attr(\"stroke\", getLayerColor(layerIndex))\n",
       "                .attr(\"stroke-opacity\", function (d) {\n",
       "                    return d;\n",
       "                });\n",
       "\n",
       "            var clickRegion = attnContainer.append(\"rect\")\n",
       "                .attr(\"x\", x)\n",
       "                .attr(\"y\", y)\n",
       "                .attr(\"height\", config.thumbnailHeight)\n",
       "                .attr(\"width\", config.thumbnailWidth)\n",
       "                .style(\"opacity\", 0);\n",
       "\n",
       "            clickRegion.on(\"click\", function (d, index) {\n",
       "                var attnBackgroundOther = config.svg.selectAll(\".attn_background\");\n",
       "                attnBackgroundOther.attr(\"fill\", getBackgroundColor());\n",
       "                attnBackgroundOther.attr(\"stroke-opacity\", 0);\n",
       "\n",
       "                config.svg.selectAll(\".detail\").remove();\n",
       "                if (config.detail_layer != layerIndex || config.detail_head != headIndex) {\n",
       "                    renderDetail(att, layerIndex, headIndex);\n",
       "                    config.detail_layer = layerIndex;\n",
       "                    config.detail_head = headIndex;\n",
       "                    attnBackground.attr(\"fill\", getHighlightColor());\n",
       "                    attnBackground.attr(\"stroke-opacity\", .8);\n",
       "                } else {\n",
       "                    config.detail_layer = null;\n",
       "                    config.detail_head = null;\n",
       "                    attnBackground.attr(\"fill\", getBackgroundColor());\n",
       "                    attnBackground.attr(\"stroke-opacity\", 0);\n",
       "                }\n",
       "            });\n",
       "\n",
       "            clickRegion.on(\"mouseover\", function (d) {\n",
       "                d3.select(this).style(\"cursor\", \"pointer\");\n",
       "            });\n",
       "        }\n",
       "\n",
       "        function renderDetailFrame(x, y, layerIndex) {\n",
       "            var detailFrame = config.svg.append(\"rect\")\n",
       "                .classed(\"detail\", true)\n",
       "                .attr(\"x\", x)\n",
       "                .attr(\"y\", y)\n",
       "                .attr(\"height\", config.detailHeight)\n",
       "                .attr(\"width\", DETAIL_WIDTH)\n",
       "                .style(\"opacity\", 1)\n",
       "                .attr(\"stroke-width\", 1.5)\n",
       "                .attr(\"stroke-opacity\", 0.7)\n",
       "                .attr(\"stroke\", getLayerColor(layerIndex));\n",
       "        }\n",
       "\n",
       "        function renderDetailAttn(x, y, att, layerIndex) {\n",
       "            var attnContainer = config.svg.append(\"svg:g\")\n",
       "                .classed(\"detail\", true)\n",
       "                .attr(\"pointer-events\", \"none\");\n",
       "            attnContainer.selectAll(\"g\")\n",
       "                .data(att)\n",
       "                .enter()\n",
       "                .append(\"g\") // Add group for each source token\n",
       "                .classed('attn-line-group', true)\n",
       "                .attr(\"source-index\", function (d, i) { // Save index of source token\n",
       "                    return i;\n",
       "                })\n",
       "                .selectAll(\"line\")\n",
       "                .data(function (d) { // Loop over all target tokens\n",
       "                    return d;\n",
       "                })\n",
       "                .enter()\n",
       "                .append(\"line\")\n",
       "                .attr(\"x1\", x + ATTN_PADDING)\n",
       "                .attr(\"y1\", function (d) {\n",
       "                    var sourceIndex = +this.parentNode.getAttribute(\"source-index\");\n",
       "                    return y + (sourceIndex + .5) * DETAIL_BOX_HEIGHT;\n",
       "                })\n",
       "                .attr(\"x2\", x + DETAIL_ATTENTION_WIDTH - ATTN_PADDING)\n",
       "                .attr(\"y2\", function (d, targetIndex) {\n",
       "                    return y + (targetIndex + .5) * DETAIL_BOX_HEIGHT;\n",
       "                })\n",
       "                .attr(\"stroke-width\", 2.2)\n",
       "                .attr(\"stroke\", getLayerColor(layerIndex))\n",
       "                .attr(\"stroke-opacity\", function (d) {\n",
       "                    return d;\n",
       "                });\n",
       "        }\n",
       "\n",
       "        function getLayerColor(layer) {\n",
       "          return LAYER_COLORS[config.layers[layer] % 10];\n",
       "        }\n",
       "\n",
       "        function getTextColor() {\n",
       "            return PALETTE[config.mode]['text']\n",
       "        }\n",
       "\n",
       "        function getBackgroundColor() {\n",
       "           return PALETTE[config.mode]['background']\n",
       "        }\n",
       "\n",
       "        function getHighlightColor() {\n",
       "           return PALETTE[config.mode]['highlight']\n",
       "        }\n",
       "\n",
       "        function initialize() {\n",
       "            config.attention = params['attention'];\n",
       "            config.filter = params['default_filter'];\n",
       "            config.mode = params['display_mode'];\n",
       "            config.layers = params['include_layers']\n",
       "            config.heads = params['include_heads']\n",
       "            config.totalHeads = params['total_heads']\n",
       "            config.rootDivId = params['root_div_id'];\n",
       "            $(`#${config.rootDivId} #filter`).on('change', function (e) {\n",
       "                config.filter = e.currentTarget.value;\n",
       "                render();\n",
       "            });\n",
       "        }\n",
       "\n",
       "        initialize();\n",
       "        render();\n",
       "\n",
       "    });"
      ],
      "text/plain": [
       "<IPython.core.display.Javascript object>"
      ]
     },
     "metadata": {},
     "output_type": "display_data"
    }
   ],
   "source": [
    "from transformers import AutoTokenizer, AutoModel, utils, AutoModelForCausalLM\n",
    "\n",
    "from bertviz import model_view\n",
    "utils.logging.set_verbosity_error()  # Suppress standard warnings\n",
    "\n",
    "model_name = 'openai-community/gpt2'\n",
    "input_text = \"Man ate food and did not like it\"  \n",
    "model = AutoModelForCausalLM.from_pretrained(model_name, output_attentions=True)\n",
    "tokenizer = AutoTokenizer.from_pretrained(model_name)\n",
    "inputs = tokenizer.encode(input_text, return_tensors='pt')  # Tokenize input text\n",
    "outputs = model(inputs)  # Run model\n",
    "attention = outputs[-1]  # Retrieve attention from model outputs\n",
    "tokens = tokenizer.convert_ids_to_tokens(inputs[0])  # Convert input ids to token strings\n",
    "model_view(attention, tokens)  # Display model view"
   ]
  },
  {
   "cell_type": "markdown",
   "metadata": {},
   "source": [
    "## Positional encoding"
   ]
  },
  {
   "cell_type": "markdown",
   "metadata": {
    "id": "IFq78-kjbrWp"
   },
   "source": [
    "Last week, Carlo discussed token embedding, which is when words are encoded into a vocabulary. Now, we just discussed attention mechanisms which account for context between words. Another question we should ask is how do we account for the order of words in an input sentence\n",
    "\n",
    "Consider the following two sentences to see why this is important:\n",
    "\n",
    "``The man ate the sandwich.``\n",
    "\n",
    "``The sandwich ate the man.``\n",
    "\n",
    "Clearly, these are two vastly different situations even though they have the same words. The Transformer can \n",
    "\n",
    "Transformers differentiate between these situations by adding a **Positional encoding** vector to each input embedding. These vectors follow a specific pattern that the model learns, which helps it determine the position of each word."
   ]
  },
  {
   "cell_type": "markdown",
   "metadata": {},
   "source": [
    "<img src=\"images/positional_encoding.png\" alt=\"Drawing\" style=\"width: 500px;\"/>\n",
    "Image credit: https://medium.com/@xuer.chen.human/llm-study-notes-positional-encoding-0639a1002ec0"
   ]
  },
  {
   "cell_type": "markdown",
   "metadata": {},
   "source": [
    "We set up positional encoding similarly as token embedding using the ``nn.Embedding`` tool. We use a simple embedding here but there are more complex positional encodings used such as sinusoidal. \n",
    "\n",
    "For an explanation of different positional encodings, refer to this post: https://machinelearningmastery.com/a-gentle-introduction-to-positional-encoding-in-transformer-models-part-1/"
   ]
  },
  {
   "cell_type": "code",
   "execution_count": 17,
   "metadata": {},
   "outputs": [],
   "source": [
    "vocab_size = 65\n",
    "n_embd = 64\n",
    "\n",
    "token_embedding_table = nn.Embedding(vocab_size, n_embd)\n",
    "block_size = 32 # what is the maximum context length for predictions?\n",
    "position_embedding_table = nn.Embedding(block_size, n_embd)"
   ]
  },
  {
   "cell_type": "markdown",
   "metadata": {},
   "source": [
    "You will notice the positional encoding size is `(block_size, n_embed)` because it encodes for the postion of a token within the sequence of size `block_size`"
   ]
  },
  {
   "cell_type": "markdown",
   "metadata": {},
   "source": [
    "Then, the position embedding used is simply added to the token embedding to apply positional embedding."
   ]
  },
  {
   "cell_type": "markdown",
   "metadata": {},
   "source": [
    "Let's look at token embedding alone:"
   ]
  },
  {
   "cell_type": "code",
   "execution_count": 18,
   "metadata": {
    "tags": []
   },
   "outputs": [
    {
     "name": "stdout",
     "output_type": "stream",
     "text": [
      "tensor([ 0.0209, -1.7682, -0.8371,  1.4741,  0.1822, -1.1246,  0.5214,  0.4307,\n",
      "        -0.5095,  0.0578, -0.2435, -0.1725,  1.4082, -0.0358,  0.5063, -0.3310,\n",
      "        -0.3217,  0.2813,  0.5190,  1.9600, -1.1671, -0.4123, -0.9383,  0.7341,\n",
      "        -0.3647, -0.2700, -0.1315, -0.5401, -1.3840, -0.2618, -0.5330,  0.1752,\n",
      "        -0.5670, -0.7357, -0.3975,  0.0024,  0.8297, -0.0693,  0.0814,  0.3029,\n",
      "         1.5788,  0.9825,  0.3128, -1.2270,  1.3738,  0.3210,  1.2865,  0.3029,\n",
      "         0.2494, -0.5963, -0.0980, -1.1422,  0.4033,  1.5568,  0.3391,  0.2090,\n",
      "        -0.1737,  0.3226,  2.0895, -0.2133, -0.6963, -1.2819, -0.1992, -0.0812],\n",
      "       grad_fn=<SelectBackward0>)\n"
     ]
    }
   ],
   "source": [
    "x = torch.tensor([1,3,15,4,7,1,4,9])\n",
    "x = token_embedding_table(x)\n",
    "print(x[0])"
   ]
  },
  {
   "cell_type": "markdown",
   "metadata": {},
   "source": [
    "And token + positional embeddings:"
   ]
  },
  {
   "cell_type": "code",
   "execution_count": 19,
   "metadata": {},
   "outputs": [
    {
     "name": "stdout",
     "output_type": "stream",
     "text": [
      "tensor([-0.2810, -1.4722, -2.2299,  1.6475,  1.3565, -0.9256,  2.4856,  0.2069,\n",
      "        -0.2609, -0.3565,  0.0635, -1.1774, -0.0575, -0.4031,  0.2914, -2.4729,\n",
      "        -2.2593, -0.0174, -0.8034, -0.4074, -1.6785, -0.1383, -0.1127,  0.9938,\n",
      "        -0.8097,  2.0401, -1.2122,  0.7216, -2.2286, -0.3575, -1.1597,  1.5935,\n",
      "         1.1154, -0.3424, -1.6119, -0.7034,  2.9627,  0.0289,  0.0723,  0.8510,\n",
      "         2.8053,  3.3901, -0.1665, -0.9317,  0.5116,  0.6824,  0.5049,  1.1396,\n",
      "        -0.0159,  0.1578, -1.4116, -0.5018,  0.6363,  1.2846, -1.0201,  2.2206,\n",
      "        -1.4822,  0.7494,  3.5203, -0.7137, -0.1568, -0.3388, -0.9169, -2.7117],\n",
      "       grad_fn=<SelectBackward0>)\n"
     ]
    }
   ],
   "source": [
    "x = torch.tensor([1,3,15,4,7,1,4,9])\n",
    "x= position_embedding_table(x) + token_embedding_table(x)\n",
    "print(x[0])"
   ]
  },
  {
   "cell_type": "markdown",
   "metadata": {},
   "source": [
    "You can see a clear offset between these two embeddings."
   ]
  },
  {
   "cell_type": "markdown",
   "metadata": {},
   "source": [
    "During the training process, these embeddings will be learned to best encode the token and positional embeddings of the sequences."
   ]
  },
  {
   "cell_type": "markdown",
   "metadata": {
    "id": "iF1HzH9xNJ7S"
   },
   "source": [
    "## Output layers\n",
    "\n",
    "At the end of our Transformer model, we are left with a vector, so how do we turn this into a word?\n",
    "\n",
    "<img src=\"images/transformer-decoder-intro.png\" alt=\"Drawing\" style=\"width: 400px;\"/>\n",
    "\n",
    "Using a final Linear layer and a Softmax Layer.\n",
    "The Linear layer projects the vector produced by the stack of decoders, into a larger vector called a logits vector.\n",
    "\n",
    "If our model knows 10,000 unique English words learned from its training dataset the logits vector is 10,000 cells wide – each cell corresponds to the score of a unique word.\n",
    "\n",
    "The softmax layer turns those scores into probabilities. The cell with the highest probability is chosen, and the word associated with it is produced as the output for this time step."
   ]
  },
  {
   "cell_type": "markdown",
   "metadata": {},
   "source": [
    "<img src=\"images/transformer_decoder_output_softmax.png\" alt=\"Drawing\" style=\"width: 450px;\"/>"
   ]
  },
  {
   "cell_type": "markdown",
   "metadata": {
    "id": "HS6r-z8dN_RV"
   },
   "source": [
    "Image credit: https://jalammar.github.io/illustrated-transformer/"
   ]
  },
  {
   "cell_type": "markdown",
   "metadata": {
    "id": "XK8q67P03yr4"
   },
   "source": [
    "## Training\n",
    "\n",
    "How does an LLM improve over time?\n",
    "We want to compare the probabilitiy distribution for each token generated by our model to the ground truths. \n",
    "Our model produces a probability distribution for each token. We want to compare these probability distributions to the ground truths. \n",
    "For example, when translating the sentence: “je suis étudiant” into “i am a student” as can be seen in the example:"
   ]
  },
  {
   "cell_type": "markdown",
   "metadata": {},
   "source": [
    "<img src=\"images/output_target_probability_distributions.png\" alt=\"Drawing\" style=\"width: 500px;\"/>"
   ]
  },
  {
   "cell_type": "markdown",
   "metadata": {
    "id": "HS6r-z8dN_RV"
   },
   "source": [
    "Image credit: https://jalammar.github.io/illustrated-transformer/"
   ]
  },
  {
   "cell_type": "markdown",
   "metadata": {},
   "source": [
    "The model can calculate the loss between the vector it generates and the ground truth vector seen in this example. A commonly used loss function is cross entropy loss:\n",
    "\n",
    "$CE = -\\sum_{x \\in X} p(x) log q(x)$\n",
    "\n",
    "where p(x) represents the true distribution and q(x) represents the predicted distribution."
   ]
  },
  {
   "cell_type": "code",
   "execution_count": 20,
   "metadata": {
    "scrolled": true
   },
   "outputs": [
    {
     "name": "stdout",
     "output_type": "stream",
     "text": [
      "tensor(0.9119)\n"
     ]
    }
   ],
   "source": [
    "from torch.nn import functional as F\n",
    "logits = torch.tensor([0.5, 0.1, 0.3])\n",
    "targets = torch.tensor([1.0, 0.0, 0.0])\n",
    "loss = F.cross_entropy(logits, targets)\n",
    "print(loss)"
   ]
  },
  {
   "cell_type": "markdown",
   "metadata": {},
   "source": [
    "Another important metric commonly used in LLMs is **perplexity**.\n",
    "\n",
    "Intuitively, perplexity means to be surprised. We measure how much the model is surprised by seeing new data. The lower the perplexity, the better the training is."
   ]
  },
  {
   "cell_type": "markdown",
   "metadata": {},
   "source": [
    "Mathematically, perplexity is just the exponent of the negative cross entropy loss:\n",
    "\n",
    "$\\text{perplexity} = exp(\\text{CE})$"
   ]
  },
  {
   "cell_type": "code",
   "execution_count": 21,
   "metadata": {},
   "outputs": [
    {
     "name": "stdout",
     "output_type": "stream",
     "text": [
      "tensor(2.4891)\n"
     ]
    }
   ],
   "source": [
    "perplexity = torch.exp(loss)\n",
    "print(perplexity)"
   ]
  },
  {
   "cell_type": "markdown",
   "metadata": {},
   "source": [
    "In this example, we are using cross entropy loss."
   ]
  },
  {
   "cell_type": "markdown",
   "metadata": {},
   "source": [
    "## Let's train a mini-LLM from scratch"
   ]
  },
  {
   "cell_type": "markdown",
   "metadata": {},
   "source": [
    "### Set up hyperparameters:"
   ]
  },
  {
   "cell_type": "code",
   "execution_count": 22,
   "metadata": {},
   "outputs": [],
   "source": [
    "# hyperparameters\n",
    "batch_size = 16 # how many independent sequences will we process in parallel?\n",
    "block_size = 32 # what is the maximum context length for predictions?\n",
    "max_iters = 5000\n",
    "eval_interval = 10\n",
    "learning_rate = 1e-3\n",
    "device = 'cuda' if torch.cuda.is_available() else 'cpu'\n",
    "eval_iters = 200\n",
    "n_embd = 64\n",
    "n_head = 4 ## so head_size = 16\n",
    "n_layer = 4\n",
    "dropout = 0.0\n",
    "# ------------"
   ]
  },
  {
   "cell_type": "markdown",
   "metadata": {},
   "source": [
    "### Load in data and create train and test datasets"
   ]
  },
  {
   "cell_type": "markdown",
   "metadata": {},
   "source": [
    "We're going to be using the tiny Shakespeare dataset. \n",
    "Data is tokenized according to a simple character based tokenizer.\n",
    "Data is split into a train and test set so we have something to test after performing training (9:1 split)."
   ]
  },
  {
   "cell_type": "code",
   "execution_count": 37,
   "metadata": {},
   "outputs": [],
   "source": [
    "with open('dataset/input.txt', 'r', encoding='utf-8') as f:\n",
    "    text = f.read()\n",
    "\n",
    "# here are all the unique characters that occur in this text\n",
    "chars = sorted(list(set(text)))\n",
    "vocab_size = len(chars)\n",
    "# create a mapping from characters to integers\n",
    "stoi = { ch:i for i,ch in enumerate(chars) }\n",
    "itos = { i:ch for i,ch in enumerate(chars) }\n",
    "encode = lambda s: [stoi[c] for c in s] # encoder: take a string, output a list of integers\n",
    "decode = lambda l: ''.join([itos[i] for i in l]) # decoder: take a list of integers, output a string\n",
    "\n",
    "# Train and test splits\n",
    "data = torch.tensor(encode(text), dtype=torch.long)\n",
    "n = int(0.9*len(data)) # first 90% will be train, rest val\n",
    "train_data = data[:n]\n",
    "val_data = data[n:]\n",
    "\n",
    "# data loading\n",
    "def get_batch(split):\n",
    "    # generate a small batch of data of inputs x and targets y\n",
    "    data = train_data if split == 'train' else val_data\n",
    "    ix = torch.randint(len(data) - block_size, (batch_size,))\n",
    "    x = torch.stack([data[i:i+block_size] for i in ix])\n",
    "    y = torch.stack([data[i+1:i+block_size+1] for i in ix])\n",
    "    x, y = x.to(device), y.to(device)\n",
    "    return x, y"
   ]
  },
  {
   "cell_type": "code",
   "execution_count": null,
   "metadata": {},
   "outputs": [],
   "source": []
  },
  {
   "cell_type": "markdown",
   "metadata": {},
   "source": [
    "### Set up the components of the Decoder block: \n",
    "* MultiHeadAttention\n",
    "* FeedForward Network"
   ]
  },
  {
   "cell_type": "code",
   "execution_count": 38,
   "metadata": {},
   "outputs": [],
   "source": [
    "class Head(nn.Module):\n",
    "    \"\"\" one head of self-attention \"\"\"\n",
    "\n",
    "    def __init__(self, head_size):\n",
    "        super().__init__()\n",
    "        self.key = nn.Linear(n_embd, head_size, bias=False)\n",
    "        self.query = nn.Linear(n_embd, head_size, bias=False)\n",
    "        self.value = nn.Linear(n_embd, head_size, bias=False)\n",
    "        self.register_buffer('tril', torch.tril(torch.ones(block_size, block_size)))\n",
    "\n",
    "        self.dropout = nn.Dropout(dropout)\n",
    "\n",
    "    def forward(self, x):\n",
    "        B,T,C = x.shape\n",
    "        k = self.key(x)   # (B,T,C) 16,32,16\n",
    "        q = self.query(x) # (B,T,C)\n",
    "        # compute attention scores (\"affinities\")\n",
    "        wei = q @ k.transpose(-2,-1) * C**-0.5 # (B, T, C) @ (B, C, T) -> (B, T, T)\n",
    "        wei = wei.masked_fill(self.tril[:T, :T] == 0, float('-inf')) # (B, T, T)\n",
    "        wei = F.softmax(wei, dim=-1) # (B, T, T)\n",
    "        wei = self.dropout(wei)\n",
    "        # perform the weighted aggregation of the values\n",
    "        v = self.value(x) # (B,T,C)\n",
    "        out = wei @ v # (B, T, T) @ (B, T, C) -> (B, T, C)\n",
    "        return out\n",
    "\n",
    "class MultiHeadAttention(nn.Module):\n",
    "    \"\"\" multiple heads of self-attention in parallel \"\"\"\n",
    "\n",
    "    def __init__(self, num_heads, head_size):\n",
    "        super().__init__()\n",
    "        self.heads = nn.ModuleList([Head(head_size) for _ in range(num_heads)])\n",
    "        self.proj = nn.Linear(n_embd, n_embd)\n",
    "        self.dropout = nn.Dropout(dropout)\n",
    "\n",
    "    def forward(self, x):\n",
    "        out = torch.cat([h(x) for h in self.heads], dim=-1)\n",
    "        out = self.dropout(self.proj(out))\n",
    "        return out\n",
    "\n",
    "class FeedFoward(nn.Module):\n",
    "    \"\"\" a simple linear layer followed by a non-linearity \"\"\"\n",
    "\n",
    "    def __init__(self, n_embd):\n",
    "        super().__init__()\n",
    "        self.net = nn.Sequential(\n",
    "            nn.Linear(n_embd, 4 * n_embd),\n",
    "            nn.ReLU(),\n",
    "            nn.Linear(4 * n_embd, n_embd), # Projection layer going back into the residual pathway\n",
    "            nn.Dropout(dropout),\n",
    "        )\n",
    "\n",
    "    def forward(self, x):\n",
    "        return self.net(x)\n"
   ]
  },
  {
   "cell_type": "markdown",
   "metadata": {},
   "source": [
    "### Combine components into the Decoder block"
   ]
  },
  {
   "cell_type": "code",
   "execution_count": 39,
   "metadata": {},
   "outputs": [],
   "source": [
    "class Block(nn.Module):\n",
    "    \"\"\" Transformer block: communication followed by computation \"\"\"\n",
    "\n",
    "    def __init__(self, n_embd, n_head):\n",
    "        # n_embd: embedding dimension, n_head: the number of heads we'd like\n",
    "        super().__init__()\n",
    "        head_size = n_embd // n_head\n",
    "        self.sa = MultiHeadAttention(n_head, head_size)\n",
    "        self.ffwd = FeedFoward(n_embd)\n",
    "        self.ln1 = nn.LayerNorm(n_embd)\n",
    "        self.ln2 = nn.LayerNorm(n_embd)\n",
    "\n",
    "    def forward(self, x):\n",
    "        x = x + self.sa(self.ln1(x))    # Communication\n",
    "        x = x + self.ffwd(self.ln2(x))  # Computation\n",
    "        return x"
   ]
  },
  {
   "cell_type": "markdown",
   "metadata": {},
   "source": [
    "### Set up the full Transformer model \n",
    "This is a combination of the Token embeddings, Positional embeddings, a stack of Transformer blocks and an output block."
   ]
  },
  {
   "cell_type": "code",
   "execution_count": 40,
   "metadata": {},
   "outputs": [],
   "source": [
    "# super simple language model\n",
    "class LanguageModel(nn.Module):\n",
    "\n",
    "    def __init__(self):\n",
    "        super().__init__()\n",
    "        # each token directly reads off the logits for the next token from a lookup table\n",
    "        self.token_embedding_table = nn.Embedding(vocab_size, n_embd)\n",
    "        self.position_embedding_table = nn.Embedding(block_size, n_embd)\n",
    "        self.blocks = nn.Sequential(*[Block(n_embd, n_head=n_head) for _ in range(n_layer)])\n",
    "        self.ln_f = nn.LayerNorm(n_embd) # final layer norm\n",
    "        self.lm_head = nn.Linear(n_embd, vocab_size)\n",
    "\n",
    "    def forward(self, idx, targets=None):\n",
    "        B, T = idx.shape\n",
    "\n",
    "        # idx and targets are both (B,T) tensor of integers\n",
    "        tok_emb = self.token_embedding_table(idx) # (B,T,C)\n",
    "        pos_emb = self.position_embedding_table(torch.arange(T, device=device)) # (T,C)\n",
    "        x = tok_emb + pos_emb # (B,T,C)\n",
    "        x = self.blocks(x) # (B,T,C)\n",
    "        x = self.ln_f(x) # (B,T,C)\n",
    "        logits = self.lm_head(x) # (B,T,vocab_size)\n",
    "\n",
    "        if targets is None:\n",
    "            loss = None\n",
    "        else:\n",
    "            B, T, C = logits.shape\n",
    "            logits = logits.view(B*T, C)\n",
    "            targets = targets.view(B*T)\n",
    "            loss = F.cross_entropy(logits, targets)\n",
    "\n",
    "        return logits, loss\n",
    "\n",
    "    def generate(self, idx, max_new_tokens):\n",
    "        # idx is (B, T) array of indices in the current context\n",
    "        for _ in range(max_new_tokens):\n",
    "            # crop idx to the last block_size tokens\n",
    "            idx_cond = idx[:, -block_size:]\n",
    "            # get the predictions\n",
    "            logits, loss = self(idx_cond)\n",
    "            # focus only on the last time step\n",
    "            logits = logits[:, -1, :] # becomes (B, C)\n",
    "            # apply softmax to get probabilities\n",
    "            probs = F.softmax(logits, dim=-1) # (B, C)\n",
    "            # sample from the distribution\n",
    "            idx_next = torch.multinomial(probs, num_samples=1) # (B, 1)\n",
    "            # append sampled index to the running sequence\n",
    "            idx = torch.cat((idx, idx_next), dim=1) # (B, T+1)\n",
    "        return idx\n",
    "\n"
   ]
  },
  {
   "cell_type": "markdown",
   "metadata": {},
   "source": [
    "We will be training a larger LLM on distributed resources in session 6."
   ]
  },
  {
   "cell_type": "markdown",
   "metadata": {},
   "source": [
    "## Homework\n",
    "\n",
    "1. In this notebook, we learned the various components of an LLM. \n",
    "    Your homework this week is to take the mini LLM we created from scratch and run your own training loop. Show how the training and validation perplexity change over the steps.\n",
    "      \n",
    "    Hint: this function might be useful for you:"
   ]
  },
  {
   "cell_type": "code",
   "execution_count": 41,
   "metadata": {},
   "outputs": [],
   "source": [
    "@torch.no_grad()\n",
    "def estimate_loss():\n",
    "    out = {}\n",
    "    model.eval()\n",
    "    for split in ['train', 'val']:\n",
    "        losses = torch.zeros(eval_iters)\n",
    "        for k in range(eval_iters):\n",
    "            X, Y = get_batch(split)\n",
    "            logits, loss = model(X, Y)\n",
    "            losses[k] = loss.item()\n",
    "        out[split] = losses.mean()\n",
    "    model.train()\n",
    "    return out"
   ]
  },
  {
   "cell_type": "code",
   "execution_count": 47,
   "metadata": {},
   "outputs": [
    {
     "name": "stdout",
     "output_type": "stream",
     "text": [
      "Epoch:  0\n",
      "Train\n",
      "Running loss: 43.42185163497925\n",
      "Validation\n",
      "Running loss train: 4.332744598388672 loss val: 4.330019950866699\n",
      "Perplexity [train]: 76.15300750732422.\n",
      "Perplexity [val]: 75.94580078125.\n",
      "\n",
      "Epoch:  1\n",
      "Train\n",
      "Running loss: 43.42564392089844\n",
      "Validation\n",
      "Running loss train: 4.334318161010742 loss val: 4.329228401184082\n",
      "Perplexity [train]: 76.27293395996094.\n",
      "Perplexity [val]: 75.88571166992188.\n",
      "\n",
      "Epoch:  2\n",
      "Train\n",
      "Running loss: 43.35308361053467\n",
      "Validation\n",
      "Running loss train: 4.334333419799805 loss val: 4.330001354217529\n",
      "Perplexity [train]: 76.27410125732422.\n",
      "Perplexity [val]: 75.94438934326172.\n",
      "\n",
      "Epoch:  3\n",
      "Train\n",
      "Running loss: 43.36887788772583\n",
      "Validation\n",
      "Running loss train: 4.335965633392334 loss val: 4.326993465423584\n",
      "Perplexity [train]: 76.39869689941406.\n",
      "Perplexity [val]: 75.71630096435547.\n",
      "\n",
      "Epoch:  4\n",
      "Train\n",
      "Running loss: 43.271625995635986\n",
      "Validation\n",
      "Running loss train: 4.338141441345215 loss val: 4.325259208679199\n",
      "Perplexity [train]: 76.56510925292969.\n",
      "Perplexity [val]: 75.5851058959961.\n",
      "\n"
     ]
    }
   ],
   "source": [
    "model = LanguageModel()\n",
    "model.train()\n",
    "model = model.to(device)\n",
    "\n",
    "\n",
    "for epoch in range(5):\n",
    "    print('Epoch: ', epoch)\n",
    "    running_loss = 0.\n",
    "    print(\"Train\")\n",
    "    for batch in range(10):\n",
    "        X, Y = get_batch('train')\n",
    "        logits, loss = model(X, Y)\n",
    "        loss.backward()\n",
    "        running_loss += loss.item()\n",
    "    print(f\"Running loss: {running_loss}\")\n",
    "    print(\"Validation\")\n",
    "    loss_dict = estimate_loss()\n",
    "    print(f\"Running loss train: {loss_dict['train']} loss val: {loss_dict['val']}\")\n",
    "    perplexity = torch.exp(loss_dict['train'])\n",
    "    print(f\"Perplexity [train]: {perplexity}.\")\n",
    "    perplexity = torch.exp(loss_dict['val'])\n",
    "    print(f\"Perplexity [val]: {perplexity}.\\n\")\n",
    "    \n"
   ]
  },
  {
   "cell_type": "markdown",
   "metadata": {},
   "source": [
    "2. Run the same training loop but modify one of the hyperparameters from this list: "
   ]
  },
  {
   "cell_type": "code",
   "execution_count": 28,
   "metadata": {},
   "outputs": [],
   "source": [
    "# hyperparameters\n",
    "n_embd = 64\n",
    "n_head = 4 ## so head_size = 16\n",
    "n_layer = 4"
   ]
  },
  {
   "cell_type": "markdown",
   "metadata": {},
   "source": [
    "Run this at least 4 times with a different value and plot each perplexity over training step. Write a sentence on how the perplexity changed."
   ]
  },
  {
   "cell_type": "markdown",
   "metadata": {},
   "source": [
    "Bonus 1: output some generated text from each model you trained. Did the output make more sense with some hyperparameters than others? "
   ]
  },
  {
   "cell_type": "markdown",
   "metadata": {},
   "source": [
    "Bonus 2: We saw a cool visualization of attention mechanisms with BertViz. Take a more complicated model than GPT2 such as \"meta-llama/Llama-2-7b-chat-hf\" and see how the attention mechanisms are different "
   ]
  },
  {
   "cell_type": "markdown",
   "metadata": {
    "id": "nDXLTusqxXHf"
   },
   "source": [
    "## References"
   ]
  },
  {
   "cell_type": "markdown",
   "metadata": {},
   "source": [
    "Here are some recommendations for further reading and additional code for review.\n",
    "\n",
    "* \"The Illustrated Transformer\" by Jay Alammar\n",
    "* \"Visualizing A Neural Machine Translation Model (Mechanics of Seq2seq Models With Attention)\"\n",
    "* \"The Illustrated GPT-2 (Visualizing Transformer Language Models)\"\n",
    "* \"A gentle introduction to positional encoding\"\n",
    "* \"LLM Tutorial Workshop (Argonne National Laboratory)\"\n",
    "* \"LLM Tutorial Workshop Part 2 (Argonne National Laboratory)\""
   ]
  },
  {
   "cell_type": "code",
   "execution_count": null,
   "metadata": {},
   "outputs": [],
   "source": []
  }
 ],
 "metadata": {
  "colab": {
   "provenance": []
  },
  "kernelspec": {
   "display_name": "datascience/conda-2023-10-04",
   "language": "python",
   "name": "conda-2023-10-03"
  },
  "language_info": {
   "codemirror_mode": {
    "name": "ipython",
    "version": 3
   },
   "file_extension": ".py",
   "mimetype": "text/x-python",
   "name": "python",
   "nbconvert_exporter": "python",
   "pygments_lexer": "ipython3",
   "version": "3.10.12"
  }
 },
 "nbformat": 4,
 "nbformat_minor": 4
}
